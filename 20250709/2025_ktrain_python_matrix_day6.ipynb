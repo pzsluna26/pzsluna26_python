{
  "nbformat": 4,
  "nbformat_minor": 0,
  "metadata": {
    "colab": {
      "provenance": []
    },
    "kernelspec": {
      "name": "python3",
      "display_name": "Python 3"
    },
    "language_info": {
      "name": "python"
    }
  },
  "cells": [
    {
      "cell_type": "markdown",
      "source": [
        "## 실습 문제: 행렬 곱셈 구현하기\n",
        "\n",
        "**설명**: 행렬 곱셈은 선형 대수학의 기본적인 연산으로, 한 행렬의 행과 다른 행렬의 열 사이에 점곱(dot product)을 계산하여 새로운 행렬을 만듭니다. 이번 실습의 목표는 외부 라이브러리 없이 순수 파이썬의 중첩 반복문(nested loops)만을 사용하여 두 행렬을 곱하는 함수를 직접 구현하는 것입니다.\n",
        "\n",
        "$$C_{ij} = \\sum_{k=1}^{n} A_{ik} B_{kj}$$\n",
        "\n",
        "**요구사항**:\n",
        "\n",
        "  - `mat_mul` 함수를 완성하여 두 행렬 `A`와 `B`의 곱셈 결과를 반환하도록 구현하세요.\n",
        "  - 행렬 `A`의 각 행과 행렬 `B`의 각 열을 순회하며 곱셈과 덧셈 연산을 수행해야 합니다.\n",
        "  - 함수를 호출하여 반환된 결과를 출력하고, 예상 결과 `[[19, 22], [43, 50]]`와 일치하는지 확인하세요.\n"
      ],
      "metadata": {
        "id": "slpGqRZweAt-"
      }
    },
    {
      "cell_type": "code",
      "execution_count": null,
      "metadata": {
        "id": "O-LCF7aLd-65"
      },
      "outputs": [],
      "source": [
        "def mat_mul(A: list[list[int]], B: list[list[int]]) -> list[list[int]]:\n",
        "    \"\"\"\n",
        "    두 개의 행렬 A와 B를 곱한 결과를 반환합니다.\n",
        "\n",
        "    Args:\n",
        "        A (list[list[int]]): 첫 번째 행렬.\n",
        "        B (list[list[int]]): 두 번째 행렬.\n",
        "\n",
        "    Returns:\n",
        "        list[list[int]]: 곱셈 결과 행렬.\n",
        "    \"\"\"\n",
        "\n",
        "    pass\n"
      ]
    },
    {
      "cell_type": "code",
      "source": [
        "A = [[1, 2, 3],\n",
        "            [4, 5, 6]]\n",
        "\n",
        "B = [[7, 8],\n",
        "     [9, 10],\n",
        "     [11, 12]]\n",
        "\n",
        "result = mat_mul(A, B)\n",
        "print(f\"행렬 곱셈 결과: {result}\")"
      ],
      "metadata": {
        "id": "c7I7TagNeM_i"
      },
      "execution_count": null,
      "outputs": []
    },
    {
      "cell_type": "markdown",
      "source": [
        "## 실습 문제: 행렬 전치(Transpose) 구현하기\n",
        "\n",
        "**설명**: 행렬 전치는 행렬의 행과 열을 서로 맞바꾸는 연산입니다. 즉, 원본 행렬의 첫 번째 행은 전치 행렬의 첫 번째 열이 되고, 두 번째 행은 두 번째 열이 되는 식입니다. 이번 실습에서는 순수 파이썬을 사용하여 주어진 행렬을 전치하는 함수를 구현합니다. 📐\n",
        "\n",
        "$$(A^T)_{ij} = A_{ji}$$\n",
        "\n",
        "**요구사항**:\n",
        "\n",
        "  - `transpose` 함수를 완성하여 인자로 받은 `matrix`의 행과 열을 뒤바꾼 새로운 행렬을 반환하세요.\n",
        "  - 원본 행렬의 `i`번째 행, `j`번째 열의 요소는 새 행렬의 `j`번째 행, `i`번째 열에 위치해야 합니다.\n",
        "  - 함수를 호출하여 원본 행렬과 전치된 행렬을 모두 출력하여 결과가 올바른지 확인하세요.\n"
      ],
      "metadata": {
        "id": "gsi3KiCcee18"
      }
    },
    {
      "cell_type": "code",
      "source": [
        "def transpose(matrix: list[list[int]]) -> list[list[int]]:\n",
        "    \"\"\"\n",
        "    주어진 행렬의 행과 열을 뒤바꾼 전치 행렬을 반환합니다.\n",
        "\n",
        "    Args:\n",
        "        matrix (list[list[int]]): 전치할 2차원 리스트 형태의 행렬.\n",
        "\n",
        "    Returns:\n",
        "        list[list[int]]: 전치된 새로운 행렬.\n",
        "    \"\"\"\n",
        "\n",
        "    pass\n"
      ],
      "metadata": {
        "id": "w93TqqJxehh2"
      },
      "execution_count": null,
      "outputs": []
    },
    {
      "cell_type": "code",
      "source": [
        "A = [[1, 2, 3],\n",
        "      [4, 5, 6]]\n",
        "\n",
        "A_t = transpose(A)\n",
        "print(f\"원본 행렬: {A}\")\n",
        "print(f\"전치 행렬: {A_t}\")"
      ],
      "metadata": {
        "id": "E8qHQB2_ekMQ"
      },
      "execution_count": null,
      "outputs": []
    },
    {
      "cell_type": "markdown",
      "source": [
        "## 실습 문제: CSV 파일 읽고 2차원 리스트 생성하기\n",
        "\n",
        "**설명**: 데이터 분석의 첫 단계는 데이터를 프로그램으로 불러오는 것입니다. 이번 실습에서는 붓꽃(Iris) 품종 데이터가 담긴 CSV 파일을 파이썬의 내장 `csv` 모듈을 사용해 읽어 들여, 헤더(header) 행과 마지막 'variety' 열(레이블)을 제외하고, 순수한 숫자 특성 데이터만 추출하여 2차원 리스트로 저장합니다.\n",
        "\n",
        "**요구사항**:\n",
        "\n",
        "  - 아래 URL에서 `iris.csv` 파일을 다운로드하여 파이썬 스크립트와 동일한 디렉토리에 저장하세요.\n",
        "      - **URL**: `https://gist.githubusercontent.com/netj/8836201/raw/6f9306ad21398ea43cba4f7d537619d0e07d5ae3/iris.csv`\n",
        "  - `import csv`를 사용하여 `csv` 모듈을 가져옵니다.\n",
        "  - `with open(...)` 구문을 사용해 `iris.csv` 파일을 열고, `csv.reader`로 파일의 내용을 읽어오세요.\n",
        "   - `csv.reader`를 사용해 파일을 읽어온 후, `next()` 함수를 이용해 첫 번째 **헤더 행을 건너뛰세요.**\n",
        "  - 파일을 한 줄씩 읽으면서, 각 행(row)에서 마지막 레이블 열(`variety`)을 제외한 **앞의 4개 특성 데이터만 선택**하세요.\n",
        "  - 선택된 4개의 특성 데이터(문자열)를 각각 **실수형(float)으로 변환**한 후, 새로운 리스트에 추가하여 2차원 리스트를 완성하세요.\n",
        "  - 최종적으로 `iris_data` 리스트의 첫 5개 행을 출력하여 데이터가 올바르게 로드되었는지 확인합니다.\n",
        "\n"
      ],
      "metadata": {
        "id": "uk_zVUfYm-OC"
      }
    },
    {
      "cell_type": "code",
      "source": [
        "\n",
        "import csv\n",
        "\n",
        "def load_data(file_name: str) -> list[list[str]]:\n",
        "  # 1. 'iris.csv' 파일을 열고 읽기 위한 reader 객체를 생성하세요.\n",
        "  # 2. for 반복문을 사용해 reader 객체의 각 행을 iris_data 리스트에 추가하세요.\n",
        "  pass\n",
        "\n",
        "\n",
        "iris_data = load_data('iris.csv')\n",
        "\n",
        "for row in iris_data[:5]:\n",
        "    print(row)\n"
      ],
      "metadata": {
        "id": "DBqOBujKnAU4"
      },
      "execution_count": null,
      "outputs": []
    },
    {
      "cell_type": "markdown",
      "source": [
        "## 실습 문제: Dense 레이어 클래스 구현하기\n",
        "\n",
        "**설명**:\n",
        "인공 신경망의 핵심 구성 요소인 \\*\\*Dense 레이어(완전 연결 계층)\\*\\*는 입력 데이터에 대해 선형 변환(가중치 곱셈 및 편향 덧셈)을 수행합니다. 이번 실습에서는 이전에 작성한 `mat_mul`와 `transpose` 함수를 활용하여, Dense 레이어의 동작을 캡슐화하는 파이썬 클래스를 구현합니다. 이 클래스는 가중치와 편향을 내부 상태로 가지며, 순전파(forward pass) 메서드를 통해 출력을 계산합니다.\n",
        "\n",
        "$$\\text{output} = \\text{input} \\cdot W^T + \\text{bias}$$\n",
        "\n",
        "**요구사항**:\n",
        "\n",
        "  - 주어진 `mat_mul`와 `transpose` 함수를 코드에 포함하세요.\n",
        "  - `Dense` 클래스의 `__init__` 메서드를 완성하세요. 가중치 행렬 `self.weights`는 `(output_size, input_size)` 크기를 가지며 1로, 편향 `self.bias`는 `output_size` 길이를 가지며 0.1로 초기화합니다.\n",
        "  - `Dense` 클래스의 `forward` 메서드를 완성하세요.\n",
        "    1.  `transpose` 함수를 사용해 `self.weights`를 전치시킵니다.\n",
        "    2.  `mat_mul` 함수를 사용해 입력 `inputs`와 전치된 가중치 행렬을 곱합니다.\n",
        "    3.  곱셈 결과의 각 행에 편향(`self.bias`) 벡터를 더합니다.\n",
        "  - `Dense` 클래스의 인스턴스를 생성하고 `forward` 메서드를 호출하여 출력을 계산하고, 결과를 확인하세요.\n"
      ],
      "metadata": {
        "id": "fUm6fdMfokc4"
      }
    },
    {
      "cell_type": "code",
      "source": [
        "class Dense:\n",
        "    def __init__(self, input_size: int, output_size: int):\n",
        "        \"\"\"\n",
        "        가중치와 편향을 초기화합니다.\n",
        "        가중치(self.weights)는 (output_size, input_size) 크기의 1로 채워진 행렬입니다.\n",
        "        편향(self.bias)은 output_size 크기의 0.1로 채워진 벡터입니다.\n",
        "        \"\"\"\n",
        "        pass\n",
        "\n",
        "    def forward(self, inputs: list[list[float]]) -> list[list[float]]:\n",
        "        \"\"\"\n",
        "        입력 데이터에 대한 순전파를 수행합니다.\n",
        "        \"\"\"\n",
        "        # 1. 가중치 행렬을 전치하세요.\n",
        "        # 2. 입력과 전치된 가중치를 곱하세요.\n",
        "        # 3. 곱셈 결과의 각 행에 편향을 더하세요.\n",
        "        #    (힌트: 중첩 반복문 사용)\n",
        "\n",
        "        pass\n"
      ],
      "metadata": {
        "id": "HAGFNbP5osxh"
      },
      "execution_count": null,
      "outputs": []
    },
    {
      "cell_type": "code",
      "source": [
        "input_data = np.random.randn(150, 4)\n",
        "dense_layer = Dense(input_size=4, output_size=3)\n",
        "output_data = dense_layer.forward(input_data)\n",
        "print(f\"Dense 레이어 출력: {np.array(output_data).shape}\")"
      ],
      "metadata": {
        "id": "3oMui6EwouX4"
      },
      "execution_count": null,
      "outputs": []
    },
    {
      "cell_type": "code",
      "source": [],
      "metadata": {
        "id": "zEipcHoHpROZ"
      },
      "execution_count": null,
      "outputs": []
    }
  ]
}