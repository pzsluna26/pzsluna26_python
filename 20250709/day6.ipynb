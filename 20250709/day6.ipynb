{
 "cells": [
  {
   "cell_type": "code",
   "execution_count": 37,
   "id": "822f507f",
   "metadata": {},
   "outputs": [
    {
     "name": "stdout",
     "output_type": "stream",
     "text": [
      "{'STATION': 'USW00025333', 'NAME': 'SITKA AIRPORT, AK US', 'DATE': '2021-01-01', 'TAVG': '', 'TMAX': '44', 'TMIN': '40'}\n",
      "dict_keys(['STATION', 'NAME', 'DATE', 'TAVG', 'TMAX', 'TMIN'])\n",
      "<class 'str'> 2021-01-02\n",
      "변환된 날짜 타입: <class 'datetime.datetime'> 2021-01-02 00:00:00\n"
     ]
    }
   ],
   "source": [
    "import csv\n",
    "import datetime as dt\n",
    "\n",
    "file_path = 'weather_data/sitka_weather_2021_simple.csv'\n",
    "\n",
    "# 결과 저장용 딕셔너리 (각 열 별로 리스트 생성)\n",
    "result = {\n",
    "    'STATION': [],\n",
    "    'NAME': [],\n",
    "    'DATE': [],\n",
    "    'TAVG': [],\n",
    "    'TMAX': [],\n",
    "    'TMIN': []\n",
    "}\n",
    "\n",
    "with open(file_path, 'r') as f:\n",
    "    reader = csv.DictReader(f)\n",
    "    header = next(reader)\n",
    "    for line in reader:\n",
    "        result['STATION'].append(line['STATION'])\n",
    "        result['NAME'].append(line['NAME'])\n",
    "\n",
    "        # 문자열 날짜 → datetime 객체로 변환\n",
    "        date_obj = dt.datetime.strptime(line['DATE'], \"%Y-%m-%d\")\n",
    "        result['DATE'].append(date_obj)\n",
    "\n",
    "        result['TAVG'].append(line['TAVG'])\n",
    "        result['TMAX'].append(line['TMAX'])\n",
    "        result['TMIN'].append(line['TMIN'])\n",
    "\n",
    "        # 한 줄만 출력 후 종료 (테스트용)\n",
    "        print(header)\n",
    "        print(line.keys())\n",
    "        print(type(line['DATE']), line['DATE'])\n",
    "        print(\"변환된 날짜 타입:\", type(date_obj), date_obj)\n",
    "        break\n"
   ]
  },
  {
   "cell_type": "code",
   "execution_count": null,
   "id": "b463cab7",
   "metadata": {},
   "outputs": [],
   "source": [
    "from collections import defaultdict\n",
    "\n"
   ]
  },
  {
   "cell_type": "code",
   "execution_count": 26,
   "id": "4c6ff7d7",
   "metadata": {},
   "outputs": [
    {
     "data": {
      "text/plain": [
       "[<matplotlib.lines.Line2D at 0x296e41c2e50>]"
      ]
     },
     "execution_count": 26,
     "metadata": {},
     "output_type": "execute_result"
    },
    {
     "data": {
      "image/png": "[encoded data removed]",
      "text/plain": [
       "<Figure size 640x480 with 1 Axes>"
      ]
     },
     "metadata": {},
     "output_type": "display_data"
    }
   ],
   "source": [
    "import matplotlib.pyplot as plt\n",
    "x=range(len(result))\n",
    "y=[r[3]for r in result]\n",
    "plt.plot(x, y)"
   ]
  },
  {
   "cell_type": "code",
   "execution_count": 27,
   "id": "72fcdc70",
   "metadata": {},
   "outputs": [
    {
     "name": "stdout",
     "output_type": "stream",
     "text": [
      "Requirement already satisfied: pandas in c:\\users\\user\\appdata\\local\\programs\\python\\python39\\lib\\site-packages (2.3.0)\n",
      "Requirement already satisfied: tzdata>=2022.7 in c:\\users\\user\\appdata\\local\\programs\\python\\python39\\lib\\site-packages (from pandas) (2025.2)\n",
      "Requirement already satisfied: python-dateutil>=2.8.2 in c:\\users\\user\\appdata\\roaming\\python\\python39\\site-packages (from pandas) (2.9.0.post0)\n",
      "Requirement already satisfied: pytz>=2020.1 in c:\\users\\user\\appdata\\local\\programs\\python\\python39\\lib\\site-packages (from pandas) (2025.2)\n",
      "Requirement already satisfied: numpy>=1.22.4 in c:\\users\\user\\appdata\\local\\programs\\python\\python39\\lib\\site-packages (from pandas) (2.0.2)\n",
      "Requirement already satisfied: six>=1.5 in c:\\users\\user\\appdata\\roaming\\python\\python39\\site-packages (from python-dateutil>=2.8.2->pandas) (1.17.0)\n"
     ]
    },
    {
     "name": "stderr",
     "output_type": "stream",
     "text": [
      "WARNING: You are using pip version 22.0.4; however, version 25.1.1 is available.\n",
      "You should consider upgrading via the 'C:\\Users\\user\\AppData\\Local\\Programs\\Python\\Python39\\python.exe -m pip install --upgrade pip' command.\n"
     ]
    }
   ],
   "source": [
    "!pip install pandas"
   ]
  },
  {
   "cell_type": "code",
   "execution_count": 14,
   "id": "ea1eb7d6",
   "metadata": {},
   "outputs": [],
   "source": [
    "import pandas as pd\n",
    "import matplotlib.pyplot as m\n"
   ]
  },
  {
   "cell_type": "code",
   "execution_count": 15,
   "id": "7f9b3fe4",
   "metadata": {},
   "outputs": [
    {
     "data": {
      "text/html": [
       "<div>\n",
       "<style scoped>\n",
       "    .dataframe tbody tr th:only-of-type {\n",
       "        vertical-align: middle;\n",
       "    }\n",
       "\n",
       "    .dataframe tbody tr th {\n",
       "        vertical-align: top;\n",
       "    }\n",
       "\n",
       "    .dataframe thead th {\n",
       "        text-align: right;\n",
       "    }\n",
       "</style>\n",
       "<table border=\"1\" class=\"dataframe\">\n",
       "  <thead>\n",
       "    <tr style=\"text-align: right;\">\n",
       "      <th></th>\n",
       "      <th>STATION</th>\n",
       "      <th>NAME</th>\n",
       "      <th>DATE</th>\n",
       "      <th>TAVG</th>\n",
       "      <th>TMAX</th>\n",
       "      <th>TMIN</th>\n",
       "    </tr>\n",
       "  </thead>\n",
       "  <tbody>\n",
       "    <tr>\n",
       "      <th>0</th>\n",
       "      <td>USW00025333</td>\n",
       "      <td>SITKA AIRPORT, AK US</td>\n",
       "      <td>2021-01-01</td>\n",
       "      <td>NaN</td>\n",
       "      <td>44</td>\n",
       "      <td>40</td>\n",
       "    </tr>\n",
       "    <tr>\n",
       "      <th>1</th>\n",
       "      <td>USW00025333</td>\n",
       "      <td>SITKA AIRPORT, AK US</td>\n",
       "      <td>2021-01-02</td>\n",
       "      <td>NaN</td>\n",
       "      <td>44</td>\n",
       "      <td>35</td>\n",
       "    </tr>\n",
       "    <tr>\n",
       "      <th>2</th>\n",
       "      <td>USW00025333</td>\n",
       "      <td>SITKA AIRPORT, AK US</td>\n",
       "      <td>2021-01-03</td>\n",
       "      <td>NaN</td>\n",
       "      <td>43</td>\n",
       "      <td>36</td>\n",
       "    </tr>\n",
       "    <tr>\n",
       "      <th>3</th>\n",
       "      <td>USW00025333</td>\n",
       "      <td>SITKA AIRPORT, AK US</td>\n",
       "      <td>2021-01-04</td>\n",
       "      <td>NaN</td>\n",
       "      <td>45</td>\n",
       "      <td>39</td>\n",
       "    </tr>\n",
       "    <tr>\n",
       "      <th>4</th>\n",
       "      <td>USW00025333</td>\n",
       "      <td>SITKA AIRPORT, AK US</td>\n",
       "      <td>2021-01-05</td>\n",
       "      <td>NaN</td>\n",
       "      <td>45</td>\n",
       "      <td>40</td>\n",
       "    </tr>\n",
       "  </tbody>\n",
       "</table>\n",
       "</div>"
      ],
      "text/plain": [
       "       STATION                  NAME        DATE  TAVG  TMAX  TMIN\n",
       "0  USW00025333  SITKA AIRPORT, AK US  2021-01-01   NaN    44    40\n",
       "1  USW00025333  SITKA AIRPORT, AK US  2021-01-02   NaN    44    35\n",
       "2  USW00025333  SITKA AIRPORT, AK US  2021-01-03   NaN    43    36\n",
       "3  USW00025333  SITKA AIRPORT, AK US  2021-01-04   NaN    45    39\n",
       "4  USW00025333  SITKA AIRPORT, AK US  2021-01-05   NaN    45    40"
      ]
     },
     "execution_count": 15,
     "metadata": {},
     "output_type": "execute_result"
    }
   ],
   "source": [
    "df = pd.read_csv(file_path)\n",
    "df.head()\n"
   ]
  },
  {
   "cell_type": "code",
   "execution_count": 17,
   "id": "b49f2c22",
   "metadata": {},
   "outputs": [
    {
     "ename": "NameError",
     "evalue": "name 'plt' is not defined",
     "output_type": "error",
     "traceback": [
      "\u001b[1;31m---------------------------------------------------------------------------\u001b[0m",
      "\u001b[1;31mNameError\u001b[0m                                 Traceback (most recent call last)",
      "Cell \u001b[1;32mIn[17], line 1\u001b[0m\n\u001b[1;32m----> 1\u001b[0m \u001b[43mplt\u001b[49m\u001b[38;5;241m.\u001b[39mplot(df[\u001b[38;5;124m'\u001b[39m\u001b[38;5;124mTMAX\u001b[39m\u001b[38;5;124m'\u001b[39m])\n",
      "\u001b[1;31mNameError\u001b[0m: name 'plt' is not defined"
     ]
    }
   ],
   "source": [
    "plt.plot(df['TMAX'])"
   ]
  },
  {
   "cell_type": "code",
   "execution_count": 20,
   "id": "20983ef6",
   "metadata": {},
   "outputs": [],
   "source": [
    "import datetime as dt"
   ]
  },
  {
   "cell_type": "code",
   "execution_count": 22,
   "id": "5a2fb136",
   "metadata": {},
   "outputs": [
    {
     "data": {
      "text/plain": [
       "datetime.date"
      ]
     },
     "execution_count": 22,
     "metadata": {},
     "output_type": "execute_result"
    }
   ],
   "source": [
    "d=dt.date(2025, 7, 9)\n",
    "type(d)"
   ]
  },
  {
   "cell_type": "code",
   "execution_count": 24,
   "id": "7c36149c",
   "metadata": {},
   "outputs": [
    {
     "name": "stdout",
     "output_type": "stream",
     "text": [
      "2025-07-09 00:00:00\n"
     ]
    }
   ],
   "source": [
    "import datetime as dt\n",
    "\n",
    "date_obj = dt.datetime.strptime('2025-07-09', \"%Y-%m-%d\")\n",
    "print(date_obj)\n"
   ]
  },
  {
   "cell_type": "code",
   "execution_count": 28,
   "id": "105821d9",
   "metadata": {},
   "outputs": [
    {
     "name": "stdout",
     "output_type": "stream",
     "text": [
      "['STATION', 'NAME', 'DATE', 'TAVG', 'TMAX', 'TMIN']\n"
     ]
    }
   ],
   "source": [
    "from pathlib import Path\n",
    "import csv\n",
    "\n",
    "path = Path('weather_data/sitka_weather_07-2021_simple.csv')\n",
    "lines = path.read_text().splitlines()\n",
    "\n",
    "reader = csv.reader(lines)\n",
    "header_row = next(reader)\n",
    "print(header_row)"
   ]
  },
  {
   "cell_type": "code",
   "execution_count": 30,
   "id": "7e198b6d",
   "metadata": {},
   "outputs": [
    {
     "name": "stdout",
     "output_type": "stream",
     "text": [
      "0 STATION\n",
      "1 NAME\n",
      "2 DATE\n",
      "3 TAVG\n",
      "4 TMAX\n",
      "5 TMIN\n"
     ]
    }
   ],
   "source": [
    "reader = csv.reader(lines)\n",
    "header_row = next(reader)\n",
    "\n",
    "for index, column_header in enumerate(header_row):\n",
    "    print(index, column_header)"
   ]
  },
  {
   "cell_type": "code",
   "execution_count": 33,
   "id": "aa60c912",
   "metadata": {},
   "outputs": [
    {
     "name": "stdout",
     "output_type": "stream",
     "text": [
      "[61, 60, 66, 60, 65, 59, 58, 58, 57, 60, 60, 60, 57, 58, 60, 61, 63, 63, 70, 64, 59, 63, 61, 58, 59, 64, 62, 70, 70, 73, 66]\n"
     ]
    }
   ],
   "source": [
    "reader = csv.reader(lines)\n",
    "header_row = next(reader)\n",
    "\n",
    "highs=[]\n",
    "for row in reader:\n",
    "    high = int(row[4])\n",
    "    highs.append(high)\n",
    "print(highs)"
   ]
  },
  {
   "cell_type": "code",
   "execution_count": 35,
   "id": "b6ea0eea",
   "metadata": {},
   "outputs": [
    {
     "data": {
      "image/png": "[encoded data removed]",
      "text/plain": [
       "<Figure size 800x550 with 1 Axes>"
      ]
     },
     "metadata": {},
     "output_type": "display_data"
    }
   ],
   "source": [
    "from pathlib import Path\n",
    "import csv\n",
    "\n",
    "import matplotlib.pyplot as plt\n",
    "\n",
    "path = Path('weather_data/sitka_weather_07-2021_simple.csv')\n",
    "lines = path.read_text().splitlines()\n",
    "\n",
    "plt.style.use('seaborn-v0_8')\n",
    "fig, ax = plt.subplots()\n",
    "ax.plot(highs, color = 'red')\n",
    "\n",
    "ax.set_title(\"Daily High Temperatures, July 2021\", fontsize=24)\n",
    "ax.set_xlabel('',fontsize=16)\n",
    "ax.set_ylabel(\"Temperature(F)\", fontsize=16)\n",
    "ax.tick_params(labelsize=16)\n",
    "\n",
    "plt.show()\n",
    "\n"
   ]
  },
  {
   "cell_type": "code",
   "execution_count": 39,
   "id": "3b32cde5",
   "metadata": {},
   "outputs": [
    {
     "name": "stdout",
     "output_type": "stream",
     "text": [
      "header {'STATION': 'USW00025333', 'NAME': 'SITKA AIRPORT, AK US', 'DATE': '2021-01-01', 'TAVG': '', 'TMAX': '44', 'TMIN': '40'}\n"
     ]
    }
   ],
   "source": [
    "import csv\n",
    "file_path = 'weather_data/sitka_weather_2021_simple.csv'\n",
    "with open(file_path, 'r') as f:\n",
    "    reader = csv.DictReader(f)\n",
    "    header = next(reader)\n",
    "    print('header',header)"
   ]
  },
  {
   "cell_type": "code",
   "execution_count": 51,
   "id": "9d64ba02",
   "metadata": {},
   "outputs": [
    {
     "data": {
      "text/plain": [
       "dict"
      ]
     },
     "execution_count": 51,
     "metadata": {},
     "output_type": "execute_result"
    }
   ],
   "source": [
    "import datetime as dt\n",
    "data = {\n",
    "    'STATION': 'USW00025333',\n",
    "    'NAME': 'SITKA AIRPORT, AK US',\n",
    "    'DATE': '2021-01-01', \n",
    "    'TAVG': 70,\n",
    "    'TMAX': 44, \n",
    "    'TMIN': 40\n",
    "}\n",
    "type(data)"
   ]
  },
  {
   "cell_type": "code",
   "execution_count": null,
   "id": "d6990097",
   "metadata": {},
   "outputs": [
    {
     "data": {
      "text/plain": [
       "str"
      ]
     },
     "execution_count": 49,
     "metadata": {},
     "output_type": "execute_result"
    }
   ],
   "source": [
    "import json\n",
    "\n",
    "dumped_data = json.dumps(data)\n",
    "type(dumped_data)"
   ]
  },
  {
   "cell_type": "code",
   "execution_count": 50,
   "id": "c22d4f93",
   "metadata": {},
   "outputs": [
    {
     "data": {
      "text/plain": [
       "{'STATION': 'USW00025333',\n",
       " 'NAME': 'SITKA AIRPORT, AK US',\n",
       " 'DATE': '2021-01-01',\n",
       " 'TAVG': '',\n",
       " 'TMAX': '44',\n",
       " 'TMIN': '40'}"
      ]
     },
     "execution_count": 50,
     "metadata": {},
     "output_type": "execute_result"
    }
   ],
   "source": [
    "json.loads(dumped_data)"
   ]
  },
  {
   "cell_type": "code",
   "execution_count": null,
   "id": "703f91fc",
   "metadata": {},
   "outputs": [
    {
     "data": {
      "text/plain": [
       "datetime.datetime(2021, 1, 1, 0, 0)"
      ]
     },
     "execution_count": 42,
     "metadata": {},
     "output_type": "execute_result"
    }
   ],
   "source": [
    "str(dt.date(2021, 1,1))"
   ]
  },
  {
   "cell_type": "code",
   "execution_count": 43,
   "id": "ae6ad48f",
   "metadata": {},
   "outputs": [],
   "source": [
    "import json\n",
    "with open('weather.json', 'w') as f:\n",
    "    json.dump(data, f)"
   ]
  },
  {
   "cell_type": "code",
   "execution_count": 44,
   "id": "2dc0d649",
   "metadata": {},
   "outputs": [
    {
     "data": {
      "text/plain": [
       "dict"
      ]
     },
     "execution_count": 44,
     "metadata": {},
     "output_type": "execute_result"
    }
   ],
   "source": [
    "with open('weather.json', 'r') as f:\n",
    "    data2 = json.load(f)\n",
    "type(data2)"
   ]
  },
  {
   "cell_type": "code",
   "execution_count": 47,
   "id": "1b74c560",
   "metadata": {},
   "outputs": [
    {
     "data": {
      "text/plain": [
       "{'STATION': 'USW00025333',\n",
       " 'NAME': 'SITKA AIRPORT, AK US',\n",
       " 'DATE': '2021-01-01',\n",
       " 'TAVG': '',\n",
       " 'TMAX': '44',\n",
       " 'TMIN': '40',\n",
       " 'DATE2': datetime.datetime(2021, 1, 1, 0, 0)}"
      ]
     },
     "execution_count": 47,
     "metadata": {},
     "output_type": "execute_result"
    }
   ],
   "source": [
    "data2['DATE2'] = dt.datetime.strptime(data2['DATE'],'%Y-%m-%d')\n",
    "\n",
    "data2"
   ]
  },
  {
   "cell_type": "code",
   "execution_count": 55,
   "id": "663c779b",
   "metadata": {},
   "outputs": [],
   "source": [
    "import json"
   ]
  },
  {
   "cell_type": "code",
   "execution_count": 57,
   "id": "2b40dd8f",
   "metadata": {},
   "outputs": [
    {
     "name": "stdout",
     "output_type": "stream",
     "text": [
      "dict_keys(['type', 'metadata', 'features', 'bbox'])\n"
     ]
    }
   ],
   "source": [
    "import json\n",
    "\n",
    "file_path = 'eq_data/eq_data_1_day_m1.geojson'\n",
    "\n",
    "# UTF-8로 열기 (대부분의 JSON/GeoJSON은 UTF-8 인코딩)\n",
    "with open(file_path, 'r', encoding='utf-8') as f:\n",
    "    data = json.load(f)\n",
    "\n",
    "print(data.keys())\n"
   ]
  },
  {
   "cell_type": "code",
   "execution_count": null,
   "id": "612e2701",
   "metadata": {},
   "outputs": [
    {
     "data": {
      "text/plain": [
       "{'generated': 1649052296000,\n",
       " 'url': 'https://earthquake.usgs.gov/earthquakes/feed/v1.0/summary/1.0_day.geojson',\n",
       " 'title': 'USGS Magnitude 1.0+ Earthquakes, Past Day',\n",
       " 'status': 200,\n",
       " 'api': '1.10.3',\n",
       " 'count': 160}"
      ]
     },
     "execution_count": 59,
     "metadata": {},
     "output_type": "execute_result"
    }
   ],
   "source": [
    "data['metadata']\n",
    "type(data['features'], len['features'])"
   ]
  },
  {
   "cell_type": "code",
   "execution_count": 65,
   "id": "d16e845f",
   "metadata": {},
   "outputs": [
    {
     "data": {
      "text/plain": [
       "{'type': 'Point', 'coordinates': [-150.7585, 61.7591, 56.3]}"
      ]
     },
     "execution_count": 65,
     "metadata": {},
     "output_type": "execute_result"
    }
   ],
   "source": [
    "data['bbox']\n",
    "data['features'][0]['geometry']"
   ]
  },
  {
   "cell_type": "code",
   "execution_count": 74,
   "id": "e224027a",
   "metadata": {},
   "outputs": [
    {
     "ename": "NameError",
     "evalue": "name 'defaultdict' is not defined",
     "output_type": "error",
     "traceback": [
      "\u001b[1;31m---------------------------------------------------------------------------\u001b[0m",
      "\u001b[1;31mNameError\u001b[0m                                 Traceback (most recent call last)",
      "Cell \u001b[1;32mIn[74], line 14\u001b[0m\n\u001b[0;32m     11\u001b[0m lons \u001b[38;5;241m=\u001b[39m{}\n\u001b[0;32m     12\u001b[0m lats \u001b[38;5;241m=\u001b[39m {}\n\u001b[1;32m---> 14\u001b[0m result\u001b[38;5;241m=\u001b[39m \u001b[43mdefaultdict\u001b[49m(\u001b[38;5;28mlist\u001b[39m)\n\u001b[0;32m     16\u001b[0m \u001b[38;5;28;01mfor\u001b[39;00m f \u001b[38;5;129;01min\u001b[39;00m data[\u001b[38;5;124m'\u001b[39m\u001b[38;5;124mfeatures\u001b[39m\u001b[38;5;124m'\u001b[39m]:\n\u001b[0;32m     17\u001b[0m     \u001b[38;5;66;03m# print(f)\u001b[39;00m\n\u001b[0;32m     18\u001b[0m     \u001b[38;5;28mprint\u001b[39m(\u001b[38;5;124m'\u001b[39m\u001b[38;5;124mmag\u001b[39m\u001b[38;5;124m'\u001b[39m,f[\u001b[38;5;124m'\u001b[39m\u001b[38;5;124mproperties\u001b[39m\u001b[38;5;124m'\u001b[39m],[\u001b[38;5;124m'\u001b[39m\u001b[38;5;124mmag\u001b[39m\u001b[38;5;124m'\u001b[39m])\n",
      "\u001b[1;31mNameError\u001b[0m: name 'defaultdict' is not defined"
     ]
    }
   ],
   "source": [
    "import json\n",
    "\n",
    "file_path = 'eq_data/eq_data_1_day_m1.geojson'\n",
    "\n",
    "with open(file_path, 'r', encoding='utf-8') as f:\n",
    "    data = json.load(f)\n",
    "    mags =[]\n",
    "    lons = []\n",
    "    lats = []\n",
    "    mags = {}\n",
    "    lons ={}\n",
    "    lats = {}\n",
    "     \n",
    "    result= defaultdict(list)\n",
    "    \n",
    "    for f in data['features']:\n",
    "        # print(f)\n",
    "        print('mag',f['properties'],['mag'])\n",
    "        print('lon', f['geometry'],['coordinates'][0])\n",
    "        print('lat', f['geometry'],['coordinates'][1])\n",
    "        break\n",
    "        # for f in fc['features'] :\n",
    "        #     break\n",
    "        # break\n"
   ]
  },
  {
   "cell_type": "code",
   "execution_count": 77,
   "id": "efd72b91",
   "metadata": {},
   "outputs": [
    {
     "ename": "UnicodeDecodeError",
     "evalue": "'cp949' codec can't decode byte 0xe2 in position 57934: illegal multibyte sequence",
     "output_type": "error",
     "traceback": [
      "\u001b[1;31m---------------------------------------------------------------------------\u001b[0m",
      "\u001b[1;31mUnicodeDecodeError\u001b[0m                        Traceback (most recent call last)",
      "Cell \u001b[1;32mIn[77], line 5\u001b[0m\n\u001b[0;32m      3\u001b[0m \u001b[38;5;28;01mimport\u001b[39;00m\u001b[38;5;250m \u001b[39m\u001b[38;5;21;01mjson\u001b[39;00m\n\u001b[0;32m      4\u001b[0m path \u001b[38;5;241m=\u001b[39m Path(\u001b[38;5;124m'\u001b[39m\u001b[38;5;124meq_data/eq_data_1_day_m1.geojson\u001b[39m\u001b[38;5;124m'\u001b[39m)\n\u001b[1;32m----> 5\u001b[0m contents \u001b[38;5;241m=\u001b[39m \u001b[43mpath\u001b[49m\u001b[38;5;241;43m.\u001b[39;49m\u001b[43mread_text\u001b[49m\u001b[43m(\u001b[49m\u001b[43m)\u001b[49m\n\u001b[0;32m      6\u001b[0m all_eq_data \u001b[38;5;241m=\u001b[39m json\u001b[38;5;241m.\u001b[39mloads(contents)\n\u001b[0;32m      8\u001b[0m path \u001b[38;5;241m=\u001b[39m Path(\u001b[38;5;124m'\u001b[39m\u001b[38;5;124meq_data/readable_eq_data.geojson\u001b[39m\u001b[38;5;124m'\u001b[39m)\n",
      "File \u001b[1;32mc:\\Users\\user\\AppData\\Local\\Programs\\Python\\Python39\\lib\\pathlib.py:1267\u001b[0m, in \u001b[0;36mPath.read_text\u001b[1;34m(self, encoding, errors)\u001b[0m\n\u001b[0;32m   1263\u001b[0m \u001b[38;5;250m\u001b[39m\u001b[38;5;124;03m\"\"\"\u001b[39;00m\n\u001b[0;32m   1264\u001b[0m \u001b[38;5;124;03mOpen the file in text mode, read it, and close the file.\u001b[39;00m\n\u001b[0;32m   1265\u001b[0m \u001b[38;5;124;03m\"\"\"\u001b[39;00m\n\u001b[0;32m   1266\u001b[0m \u001b[38;5;28;01mwith\u001b[39;00m \u001b[38;5;28mself\u001b[39m\u001b[38;5;241m.\u001b[39mopen(mode\u001b[38;5;241m=\u001b[39m\u001b[38;5;124m'\u001b[39m\u001b[38;5;124mr\u001b[39m\u001b[38;5;124m'\u001b[39m, encoding\u001b[38;5;241m=\u001b[39mencoding, errors\u001b[38;5;241m=\u001b[39merrors) \u001b[38;5;28;01mas\u001b[39;00m f:\n\u001b[1;32m-> 1267\u001b[0m     \u001b[38;5;28;01mreturn\u001b[39;00m \u001b[43mf\u001b[49m\u001b[38;5;241;43m.\u001b[39;49m\u001b[43mread\u001b[49m\u001b[43m(\u001b[49m\u001b[43m)\u001b[49m\n",
      "\u001b[1;31mUnicodeDecodeError\u001b[0m: 'cp949' codec can't decode byte 0xe2 in position 57934: illegal multibyte sequence"
     ]
    }
   ],
   "source": [
    "from pathlib import Path\n",
    "import matplotlib.pyplot as plt\n",
    "import json\n",
    "path = Path('eq_data/eq_data_1_day_m1.geojson')\n",
    "contents = path.read_text()\n",
    "all_eq_data = json.loads(contents)\n",
    "\n",
    "path = Path('eq_data/readable_eq_data.geojson')\n",
    "readable_contents = json.dumps(all_eq_data, indent=4)\n",
    "path.write_text(readable_contents)\n"
   ]
  },
  {
   "cell_type": "code",
   "execution_count": 81,
   "id": "c73814e9",
   "metadata": {},
   "outputs": [
    {
     "name": "stdout",
     "output_type": "stream",
     "text": [
      "160\n"
     ]
    }
   ],
   "source": [
    "from pathlib import Path\n",
    "import json\n",
    "\n",
    "path = Path('eq_data/eq_data_1_day_m1.geojson')\n",
    "contents = path.read_text(encoding='utf-8')\n",
    "all_eq_data = json.loads(contents)\n",
    "\n",
    "all_eq_dicts = all_eq_data['features']\n",
    "print(len(all_eq_dicts))"
   ]
  },
  {
   "cell_type": "code",
   "execution_count": 92,
   "id": "8364f396",
   "metadata": {},
   "outputs": [
    {
     "name": "stdout",
     "output_type": "stream",
     "text": [
      "[1.6, 1.6, 2.2, 3.7, 2.92000008, 1.4, 4.6, 4.5, 1.9, 1.8]\n"
     ]
    }
   ],
   "source": [
    "all_eq_dicts = all_eq_data['features']\n",
    "mags = []\n",
    "for eq_dict in all_eq_dicts:\n",
    "    mag = eq_dict['properties']['mag']\n",
    "    mags.append(mag)\n",
    "print(mags[:10])"
   ]
  },
  {
   "cell_type": "code",
   "execution_count": 97,
   "id": "a45b9b10",
   "metadata": {},
   "outputs": [
    {
     "name": "stdout",
     "output_type": "stream",
     "text": [
      "[1.6, 1.6, 2.2, 3.7, 2.92000008, 1.4, 4.6, 4.5, 1.9, 1.8]\n",
      "[1.6, 1.6, 2.2, 3.7, 2.92000008]\n",
      "[1.6, 1.6, 2.2, 3.7, 2.92000008]\n"
     ]
    }
   ],
   "source": [
    "all_eq_dicts = all_eq_data['features']\n",
    "mags, lons, lats = [], [], []\n",
    "for eq_dict in all_eq_dicts:\n",
    "    mag = eq_dict['properties']['mag']\n",
    "    lon = eq_dict['geometry']['coordinates'][0]\n",
    "    lat = eq_dict['geometry']['coordinates'][1]\n",
    "    mags.append(mag)\n",
    "print(mags[:10])\n",
    "print(mags[:5])\n",
    "print(mags[:5])"
   ]
  },
  {
   "cell_type": "code",
   "execution_count": 85,
   "id": "5d6bff13",
   "metadata": {},
   "outputs": [
    {
     "name": "stdout",
     "output_type": "stream",
     "text": [
      "Requirement already satisfied: plotly in c:\\users\\user\\appdata\\local\\programs\\python\\python39\\lib\\site-packages (6.2.0)\n",
      "Requirement already satisfied: packaging in c:\\users\\user\\appdata\\roaming\\python\\python39\\site-packages (from plotly) (25.0)\n",
      "Requirement already satisfied: narwhals>=1.15.1 in c:\\users\\user\\appdata\\local\\programs\\python\\python39\\lib\\site-packages (from plotly) (1.46.0)\n"
     ]
    },
    {
     "name": "stderr",
     "output_type": "stream",
     "text": [
      "WARNING: You are using pip version 22.0.4; however, version 25.1.1 is available.\n",
      "You should consider upgrading via the 'C:\\Users\\user\\AppData\\Local\\Programs\\Python\\Python39\\python.exe -m pip install --upgrade pip' command.\n"
     ]
    }
   ],
   "source": [
    "!pip install plotly"
   ]
  },
  {
   "cell_type": "code",
   "execution_count": 87,
   "id": "a0bebdb3",
   "metadata": {},
   "outputs": [
    {
     "name": "stdout",
     "output_type": "stream",
     "text": [
      "Collecting nbformat\n",
      "  Downloading nbformat-5.10.4-py3-none-any.whl (78 kB)\n",
      "     ---------------------------------------- 78.5/78.5 KB 4.3 MB/s eta 0:00:00\n",
      "Requirement already satisfied: jupyter-core!=5.0.*,>=4.12 in c:\\users\\user\\appdata\\roaming\\python\\python39\\site-packages (from nbformat) (5.8.1)\n",
      "Collecting jsonschema>=2.6\n",
      "  Downloading jsonschema-4.24.0-py3-none-any.whl (88 kB)\n",
      "     ---------------------------------------- 88.7/88.7 KB 5.2 MB/s eta 0:00:00\n",
      "Collecting fastjsonschema>=2.15\n",
      "  Downloading fastjsonschema-2.21.1-py3-none-any.whl (23 kB)\n",
      "Requirement already satisfied: traitlets>=5.1 in c:\\users\\user\\appdata\\roaming\\python\\python39\\site-packages (from nbformat) (5.14.3)\n",
      "Collecting jsonschema-specifications>=2023.03.6\n",
      "  Downloading jsonschema_specifications-2025.4.1-py3-none-any.whl (18 kB)\n",
      "Collecting referencing>=0.28.4\n",
      "  Downloading referencing-0.36.2-py3-none-any.whl (26 kB)\n",
      "Collecting attrs>=22.2.0\n",
      "  Downloading attrs-25.3.0-py3-none-any.whl (63 kB)\n",
      "     ---------------------------------------- 63.8/63.8 KB ? eta 0:00:00\n",
      "Collecting rpds-py>=0.7.1\n",
      "  Downloading rpds_py-0.26.0-cp39-cp39-win_amd64.whl (231 kB)\n",
      "     -------------------------------------- 231.6/231.6 KB 4.7 MB/s eta 0:00:00\n",
      "Requirement already satisfied: platformdirs>=2.5 in c:\\users\\user\\appdata\\roaming\\python\\python39\\site-packages (from jupyter-core!=5.0.*,>=4.12->nbformat) (4.3.8)\n",
      "Requirement already satisfied: pywin32>=300 in c:\\users\\user\\appdata\\roaming\\python\\python39\\site-packages (from jupyter-core!=5.0.*,>=4.12->nbformat) (310)\n",
      "Requirement already satisfied: typing-extensions>=4.4.0 in c:\\users\\user\\appdata\\roaming\\python\\python39\\site-packages (from referencing>=0.28.4->jsonschema>=2.6->nbformat) (4.14.0)\n",
      "Installing collected packages: fastjsonschema, rpds-py, attrs, referencing, jsonschema-specifications, jsonschema, nbformat\n",
      "Successfully installed attrs-25.3.0 fastjsonschema-2.21.1 jsonschema-4.24.0 jsonschema-specifications-2025.4.1 nbformat-5.10.4 referencing-0.36.2 rpds-py-0.26.0\n"
     ]
    },
    {
     "name": "stderr",
     "output_type": "stream",
     "text": [
      "WARNING: You are using pip version 22.0.4; however, version 25.1.1 is available.\n",
      "You should consider upgrading via the 'C:\\Users\\user\\AppData\\Local\\Programs\\Python\\Python39\\python.exe -m pip install --upgrade pip' command.\n"
     ]
    }
   ],
   "source": [
    "!pip install nbformat --upgrade"
   ]
  },
  {
   "cell_type": "code",
   "execution_count": null,
   "id": "2efd8c4a",
   "metadata": {},
   "outputs": [
    {
     "ename": "ValueError",
     "evalue": "Mime type rendering requires nbformat>=4.2.0 but it is not installed",
     "output_type": "error",
     "traceback": [
      "\u001b[1;31m---------------------------------------------------------------------------\u001b[0m",
      "\u001b[1;31mValueError\u001b[0m                                Traceback (most recent call last)",
      "Cell \u001b[1;32mIn[105], line 9\u001b[0m\n\u001b[0;32m      6\u001b[0m     title \u001b[38;5;241m=\u001b[39m \u001b[38;5;124m'\u001b[39m\u001b[38;5;124mGlobal Earthquakes\u001b[39m\u001b[38;5;124m'\u001b[39m\n\u001b[0;32m      7\u001b[0m     fig \u001b[38;5;241m=\u001b[39m px\u001b[38;5;241m.\u001b[39mscatter_geo(lat\u001b[38;5;241m=\u001b[39mlats,lon\u001b[38;5;241m=\u001b[39mlons,title\u001b[38;5;241m=\u001b[39mtitle)\n\u001b[1;32m----> 9\u001b[0m \u001b[43mfig\u001b[49m\u001b[38;5;241;43m.\u001b[39;49m\u001b[43mshow\u001b[49m\u001b[43m(\u001b[49m\u001b[43m)\u001b[49m\n",
      "File \u001b[1;32mc:\\Users\\user\\AppData\\Local\\Programs\\Python\\Python39\\lib\\site-packages\\plotly\\basedatatypes.py:3420\u001b[0m, in \u001b[0;36mBaseFigure.show\u001b[1;34m(self, *args, **kwargs)\u001b[0m\n\u001b[0;32m   3387\u001b[0m \u001b[38;5;250m\u001b[39m\u001b[38;5;124;03m\"\"\"\u001b[39;00m\n\u001b[0;32m   3388\u001b[0m \u001b[38;5;124;03mShow a figure using either the default renderer(s) or the renderer(s)\u001b[39;00m\n\u001b[0;32m   3389\u001b[0m \u001b[38;5;124;03mspecified by the renderer argument\u001b[39;00m\n\u001b[1;32m   (...)\u001b[0m\n\u001b[0;32m   3416\u001b[0m \u001b[38;5;124;03mNone\u001b[39;00m\n\u001b[0;32m   3417\u001b[0m \u001b[38;5;124;03m\"\"\"\u001b[39;00m\n\u001b[0;32m   3418\u001b[0m \u001b[38;5;28;01mimport\u001b[39;00m\u001b[38;5;250m \u001b[39m\u001b[38;5;21;01mplotly\u001b[39;00m\u001b[38;5;21;01m.\u001b[39;00m\u001b[38;5;21;01mio\u001b[39;00m\u001b[38;5;250m \u001b[39m\u001b[38;5;28;01mas\u001b[39;00m\u001b[38;5;250m \u001b[39m\u001b[38;5;21;01mpio\u001b[39;00m\n\u001b[1;32m-> 3420\u001b[0m \u001b[38;5;28;01mreturn\u001b[39;00m pio\u001b[38;5;241m.\u001b[39mshow(\u001b[38;5;28mself\u001b[39m, \u001b[38;5;241m*\u001b[39margs, \u001b[38;5;241m*\u001b[39m\u001b[38;5;241m*\u001b[39mkwargs)\n",
      "File \u001b[1;32mc:\\Users\\user\\AppData\\Local\\Programs\\Python\\Python39\\lib\\site-packages\\plotly\\io\\_renderers.py:415\u001b[0m, in \u001b[0;36mshow\u001b[1;34m(fig, renderer, validate, **kwargs)\u001b[0m\n\u001b[0;32m    410\u001b[0m     \u001b[38;5;28;01mraise\u001b[39;00m \u001b[38;5;167;01mValueError\u001b[39;00m(\n\u001b[0;32m    411\u001b[0m         \u001b[38;5;124m\"\u001b[39m\u001b[38;5;124mMime type rendering requires ipython but it is not installed\u001b[39m\u001b[38;5;124m\"\u001b[39m\n\u001b[0;32m    412\u001b[0m     )\n\u001b[0;32m    414\u001b[0m \u001b[38;5;28;01mif\u001b[39;00m \u001b[38;5;129;01mnot\u001b[39;00m nbformat \u001b[38;5;129;01mor\u001b[39;00m Version(nbformat\u001b[38;5;241m.\u001b[39m__version__) \u001b[38;5;241m<\u001b[39m Version(\u001b[38;5;124m\"\u001b[39m\u001b[38;5;124m4.2.0\u001b[39m\u001b[38;5;124m\"\u001b[39m):\n\u001b[1;32m--> 415\u001b[0m     \u001b[38;5;28;01mraise\u001b[39;00m \u001b[38;5;167;01mValueError\u001b[39;00m(\n\u001b[0;32m    416\u001b[0m         \u001b[38;5;124m\"\u001b[39m\u001b[38;5;124mMime type rendering requires nbformat>=4.2.0 but it is not installed\u001b[39m\u001b[38;5;124m\"\u001b[39m\n\u001b[0;32m    417\u001b[0m     )\n\u001b[0;32m    419\u001b[0m display_jupyter_version_warnings()\n\u001b[0;32m    421\u001b[0m ipython_display\u001b[38;5;241m.\u001b[39mdisplay(bundle, raw\u001b[38;5;241m=\u001b[39m\u001b[38;5;28;01mTrue\u001b[39;00m)\n",
      "\u001b[1;31mValueError\u001b[0m: Mime type rendering requires nbformat>=4.2.0 but it is not installed"
     ]
    }
   ],
   "source": [
    "from pathlib import Path\n",
    "import json\n",
    "import plotly.express as px\n",
    "\n",
    "for eq_dict in all_eq_dicts:\n",
    "    title = 'Global Earthquakes'\n",
    "    fig = px.scatter_geo(lat=lats,lon=lons,title=title)\n",
    "    fig.show()"
   ]
  },
  {
   "cell_type": "code",
   "execution_count": 106,
   "id": "5e311a3e",
   "metadata": {},
   "outputs": [
    {
     "ename": "ValueError",
     "evalue": "Mime type rendering requires nbformat>=4.2.0 but it is not installed",
     "output_type": "error",
     "traceback": [
      "\u001b[1;31m---------------------------------------------------------------------------\u001b[0m",
      "\u001b[1;31mValueError\u001b[0m                                Traceback (most recent call last)",
      "Cell \u001b[1;32mIn[106], line 7\u001b[0m\n\u001b[0;32m      5\u001b[0m title \u001b[38;5;241m=\u001b[39m \u001b[38;5;124m'\u001b[39m\u001b[38;5;124mGlobal Earthquakes\u001b[39m\u001b[38;5;124m'\u001b[39m\n\u001b[0;32m      6\u001b[0m fig \u001b[38;5;241m=\u001b[39m px\u001b[38;5;241m.\u001b[39mscatter_geo(lat\u001b[38;5;241m=\u001b[39mlats, lon\u001b[38;5;241m=\u001b[39mlons, title\u001b[38;5;241m=\u001b[39mtitle)\n\u001b[1;32m----> 7\u001b[0m \u001b[43mfig\u001b[49m\u001b[38;5;241;43m.\u001b[39;49m\u001b[43mshow\u001b[49m\u001b[43m(\u001b[49m\u001b[43m)\u001b[49m\n",
      "File \u001b[1;32mc:\\Users\\user\\AppData\\Local\\Programs\\Python\\Python39\\lib\\site-packages\\plotly\\basedatatypes.py:3420\u001b[0m, in \u001b[0;36mBaseFigure.show\u001b[1;34m(self, *args, **kwargs)\u001b[0m\n\u001b[0;32m   3387\u001b[0m \u001b[38;5;250m\u001b[39m\u001b[38;5;124;03m\"\"\"\u001b[39;00m\n\u001b[0;32m   3388\u001b[0m \u001b[38;5;124;03mShow a figure using either the default renderer(s) or the renderer(s)\u001b[39;00m\n\u001b[0;32m   3389\u001b[0m \u001b[38;5;124;03mspecified by the renderer argument\u001b[39;00m\n\u001b[1;32m   (...)\u001b[0m\n\u001b[0;32m   3416\u001b[0m \u001b[38;5;124;03mNone\u001b[39;00m\n\u001b[0;32m   3417\u001b[0m \u001b[38;5;124;03m\"\"\"\u001b[39;00m\n\u001b[0;32m   3418\u001b[0m \u001b[38;5;28;01mimport\u001b[39;00m\u001b[38;5;250m \u001b[39m\u001b[38;5;21;01mplotly\u001b[39;00m\u001b[38;5;21;01m.\u001b[39;00m\u001b[38;5;21;01mio\u001b[39;00m\u001b[38;5;250m \u001b[39m\u001b[38;5;28;01mas\u001b[39;00m\u001b[38;5;250m \u001b[39m\u001b[38;5;21;01mpio\u001b[39;00m\n\u001b[1;32m-> 3420\u001b[0m \u001b[38;5;28;01mreturn\u001b[39;00m pio\u001b[38;5;241m.\u001b[39mshow(\u001b[38;5;28mself\u001b[39m, \u001b[38;5;241m*\u001b[39margs, \u001b[38;5;241m*\u001b[39m\u001b[38;5;241m*\u001b[39mkwargs)\n",
      "File \u001b[1;32mc:\\Users\\user\\AppData\\Local\\Programs\\Python\\Python39\\lib\\site-packages\\plotly\\io\\_renderers.py:415\u001b[0m, in \u001b[0;36mshow\u001b[1;34m(fig, renderer, validate, **kwargs)\u001b[0m\n\u001b[0;32m    410\u001b[0m     \u001b[38;5;28;01mraise\u001b[39;00m \u001b[38;5;167;01mValueError\u001b[39;00m(\n\u001b[0;32m    411\u001b[0m         \u001b[38;5;124m\"\u001b[39m\u001b[38;5;124mMime type rendering requires ipython but it is not installed\u001b[39m\u001b[38;5;124m\"\u001b[39m\n\u001b[0;32m    412\u001b[0m     )\n\u001b[0;32m    414\u001b[0m \u001b[38;5;28;01mif\u001b[39;00m \u001b[38;5;129;01mnot\u001b[39;00m nbformat \u001b[38;5;129;01mor\u001b[39;00m Version(nbformat\u001b[38;5;241m.\u001b[39m__version__) \u001b[38;5;241m<\u001b[39m Version(\u001b[38;5;124m\"\u001b[39m\u001b[38;5;124m4.2.0\u001b[39m\u001b[38;5;124m\"\u001b[39m):\n\u001b[1;32m--> 415\u001b[0m     \u001b[38;5;28;01mraise\u001b[39;00m \u001b[38;5;167;01mValueError\u001b[39;00m(\n\u001b[0;32m    416\u001b[0m         \u001b[38;5;124m\"\u001b[39m\u001b[38;5;124mMime type rendering requires nbformat>=4.2.0 but it is not installed\u001b[39m\u001b[38;5;124m\"\u001b[39m\n\u001b[0;32m    417\u001b[0m     )\n\u001b[0;32m    419\u001b[0m display_jupyter_version_warnings()\n\u001b[0;32m    421\u001b[0m ipython_display\u001b[38;5;241m.\u001b[39mdisplay(bundle, raw\u001b[38;5;241m=\u001b[39m\u001b[38;5;28;01mTrue\u001b[39;00m)\n",
      "\u001b[1;31mValueError\u001b[0m: Mime type rendering requires nbformat>=4.2.0 but it is not installed"
     ]
    }
   ],
   "source": [
    "# 먼저 lats, lons 리스트를 채우는 코드가 있어야 합니다.\n",
    "lats = [eq_dict['geometry']['coordinates'][1] for eq_dict in all_eq_dicts]\n",
    "lons = [eq_dict['geometry']['coordinates'][0] for eq_dict in all_eq_dicts]\n",
    "\n",
    "title = 'Global Earthquakes'\n",
    "fig = px.scatter_geo(lat=lats, lon=lons, title=title)\n",
    "fig.show()\n"
   ]
  },
  {
   "cell_type": "code",
   "execution_count": 99,
   "id": "e78a8b05",
   "metadata": {},
   "outputs": [
    {
     "name": "stdout",
     "output_type": "stream",
     "text": [
      "Requirement already satisfied: nbformat in c:\\users\\user\\appdata\\local\\programs\\python\\python39\\lib\\site-packages (5.10.4)\n",
      "Requirement already satisfied: jupyter-core!=5.0.*,>=4.12 in c:\\users\\user\\appdata\\roaming\\python\\python39\\site-packages (from nbformat) (5.8.1)\n",
      "Requirement already satisfied: jsonschema>=2.6 in c:\\users\\user\\appdata\\local\\programs\\python\\python39\\lib\\site-packages (from nbformat) (4.24.0)\n",
      "Requirement already satisfied: traitlets>=5.1 in c:\\users\\user\\appdata\\roaming\\python\\python39\\site-packages (from nbformat) (5.14.3)\n",
      "Requirement already satisfied: fastjsonschema>=2.15 in c:\\users\\user\\appdata\\local\\programs\\python\\python39\\lib\\site-packages (from nbformat) (2.21.1)\n",
      "Requirement already satisfied: rpds-py>=0.7.1 in c:\\users\\user\\appdata\\local\\programs\\python\\python39\\lib\\site-packages (from jsonschema>=2.6->nbformat) (0.26.0)\n",
      "Requirement already satisfied: jsonschema-specifications>=2023.03.6 in c:\\users\\user\\appdata\\local\\programs\\python\\python39\\lib\\site-packages (from jsonschema>=2.6->nbformat) (2025.4.1)\n",
      "Requirement already satisfied: referencing>=0.28.4 in c:\\users\\user\\appdata\\local\\programs\\python\\python39\\lib\\site-packages (from jsonschema>=2.6->nbformat) (0.36.2)\n",
      "Requirement already satisfied: attrs>=22.2.0 in c:\\users\\user\\appdata\\local\\programs\\python\\python39\\lib\\site-packages (from jsonschema>=2.6->nbformat) (25.3.0)\n",
      "Requirement already satisfied: pywin32>=300 in c:\\users\\user\\appdata\\roaming\\python\\python39\\site-packages (from jupyter-core!=5.0.*,>=4.12->nbformat) (310)\n",
      "Requirement already satisfied: platformdirs>=2.5 in c:\\users\\user\\appdata\\roaming\\python\\python39\\site-packages (from jupyter-core!=5.0.*,>=4.12->nbformat) (4.3.8)\n",
      "Requirement already satisfied: typing-extensions>=4.4.0 in c:\\users\\user\\appdata\\roaming\\python\\python39\\site-packages (from referencing>=0.28.4->jsonschema>=2.6->nbformat) (4.14.0)\n"
     ]
    },
    {
     "name": "stderr",
     "output_type": "stream",
     "text": [
      "WARNING: You are using pip version 22.0.4; however, version 25.1.1 is available.\n",
      "You should consider upgrading via the 'C:\\Users\\user\\AppData\\Local\\Programs\\Python\\Python39\\python.exe -m pip install --upgrade pip' command.\n"
     ]
    }
   ],
   "source": [
    "!pip install --upgrade nbformat"
   ]
  },
  {
   "cell_type": "code",
   "execution_count": 98,
   "id": "69ba2bf5",
   "metadata": {},
   "outputs": [
    {
     "ename": "ValueError",
     "evalue": "Mime type rendering requires nbformat>=4.2.0 but it is not installed",
     "output_type": "error",
     "traceback": [
      "\u001b[1;31m---------------------------------------------------------------------------\u001b[0m",
      "\u001b[1;31mValueError\u001b[0m                                Traceback (most recent call last)",
      "Cell \u001b[1;32mIn[98], line 23\u001b[0m\n\u001b[0;32m     21\u001b[0m title \u001b[38;5;241m=\u001b[39m \u001b[38;5;124m'\u001b[39m\u001b[38;5;124mGlobal Earthquakes\u001b[39m\u001b[38;5;124m'\u001b[39m\n\u001b[0;32m     22\u001b[0m fig \u001b[38;5;241m=\u001b[39m px\u001b[38;5;241m.\u001b[39mscatter_geo(lat\u001b[38;5;241m=\u001b[39mlats, lon\u001b[38;5;241m=\u001b[39mlons, title\u001b[38;5;241m=\u001b[39mtitle)\n\u001b[1;32m---> 23\u001b[0m \u001b[43mfig\u001b[49m\u001b[38;5;241;43m.\u001b[39;49m\u001b[43mshow\u001b[49m\u001b[43m(\u001b[49m\u001b[43m)\u001b[49m\n",
      "File \u001b[1;32mc:\\Users\\user\\AppData\\Local\\Programs\\Python\\Python39\\lib\\site-packages\\plotly\\basedatatypes.py:3420\u001b[0m, in \u001b[0;36mBaseFigure.show\u001b[1;34m(self, *args, **kwargs)\u001b[0m\n\u001b[0;32m   3387\u001b[0m \u001b[38;5;250m\u001b[39m\u001b[38;5;124;03m\"\"\"\u001b[39;00m\n\u001b[0;32m   3388\u001b[0m \u001b[38;5;124;03mShow a figure using either the default renderer(s) or the renderer(s)\u001b[39;00m\n\u001b[0;32m   3389\u001b[0m \u001b[38;5;124;03mspecified by the renderer argument\u001b[39;00m\n\u001b[1;32m   (...)\u001b[0m\n\u001b[0;32m   3416\u001b[0m \u001b[38;5;124;03mNone\u001b[39;00m\n\u001b[0;32m   3417\u001b[0m \u001b[38;5;124;03m\"\"\"\u001b[39;00m\n\u001b[0;32m   3418\u001b[0m \u001b[38;5;28;01mimport\u001b[39;00m\u001b[38;5;250m \u001b[39m\u001b[38;5;21;01mplotly\u001b[39;00m\u001b[38;5;21;01m.\u001b[39;00m\u001b[38;5;21;01mio\u001b[39;00m\u001b[38;5;250m \u001b[39m\u001b[38;5;28;01mas\u001b[39;00m\u001b[38;5;250m \u001b[39m\u001b[38;5;21;01mpio\u001b[39;00m\n\u001b[1;32m-> 3420\u001b[0m \u001b[38;5;28;01mreturn\u001b[39;00m pio\u001b[38;5;241m.\u001b[39mshow(\u001b[38;5;28mself\u001b[39m, \u001b[38;5;241m*\u001b[39margs, \u001b[38;5;241m*\u001b[39m\u001b[38;5;241m*\u001b[39mkwargs)\n",
      "File \u001b[1;32mc:\\Users\\user\\AppData\\Local\\Programs\\Python\\Python39\\lib\\site-packages\\plotly\\io\\_renderers.py:415\u001b[0m, in \u001b[0;36mshow\u001b[1;34m(fig, renderer, validate, **kwargs)\u001b[0m\n\u001b[0;32m    410\u001b[0m     \u001b[38;5;28;01mraise\u001b[39;00m \u001b[38;5;167;01mValueError\u001b[39;00m(\n\u001b[0;32m    411\u001b[0m         \u001b[38;5;124m\"\u001b[39m\u001b[38;5;124mMime type rendering requires ipython but it is not installed\u001b[39m\u001b[38;5;124m\"\u001b[39m\n\u001b[0;32m    412\u001b[0m     )\n\u001b[0;32m    414\u001b[0m \u001b[38;5;28;01mif\u001b[39;00m \u001b[38;5;129;01mnot\u001b[39;00m nbformat \u001b[38;5;129;01mor\u001b[39;00m Version(nbformat\u001b[38;5;241m.\u001b[39m__version__) \u001b[38;5;241m<\u001b[39m Version(\u001b[38;5;124m\"\u001b[39m\u001b[38;5;124m4.2.0\u001b[39m\u001b[38;5;124m\"\u001b[39m):\n\u001b[1;32m--> 415\u001b[0m     \u001b[38;5;28;01mraise\u001b[39;00m \u001b[38;5;167;01mValueError\u001b[39;00m(\n\u001b[0;32m    416\u001b[0m         \u001b[38;5;124m\"\u001b[39m\u001b[38;5;124mMime type rendering requires nbformat>=4.2.0 but it is not installed\u001b[39m\u001b[38;5;124m\"\u001b[39m\n\u001b[0;32m    417\u001b[0m     )\n\u001b[0;32m    419\u001b[0m display_jupyter_version_warnings()\n\u001b[0;32m    421\u001b[0m ipython_display\u001b[38;5;241m.\u001b[39mdisplay(bundle, raw\u001b[38;5;241m=\u001b[39m\u001b[38;5;28;01mTrue\u001b[39;00m)\n",
      "\u001b[1;31mValueError\u001b[0m: Mime type rendering requires nbformat>=4.2.0 but it is not installed"
     ]
    }
   ],
   "source": [
    "from pathlib import Path\n",
    "import json\n",
    "import plotly.express as px\n",
    "\n",
    "# 1. 파일 읽기\n",
    "path = Path('eq_data/eq_data_1_day_m1.geojson')\n",
    "contents = path.read_text(encoding='utf-8')\n",
    "all_eq_data = json.loads(contents)\n",
    "\n",
    "# 2. 지진 리스트 가져오기\n",
    "all_eq_dicts = all_eq_data['features']\n",
    "\n",
    "# 3. 위도/경도 추출\n",
    "lats, lons = [], []\n",
    "for eq_dict in all_eq_dicts:\n",
    "    coords = eq_dict['geometry']['coordinates']\n",
    "    lons.append(coords[0])\n",
    "    lats.append(coords[1])\n",
    "\n",
    "# 4. 시각화\n",
    "title = 'Global Earthquakes'\n",
    "fig = px.scatter_geo(lat=lats, lon=lons, title=title)\n",
    "fig.show()\n"
   ]
  }
 ],
 "metadata": {
  "kernelspec": {
   "display_name": "Python 3",
   "language": "python",
   "name": "python3"
  },
  "language_info": {
   "codemirror_mode": {
    "name": "ipython",
    "version": 3
   },
   "file_extension": ".py",
   "mimetype": "text/x-python",
   "name": "python",
   "nbconvert_exporter": "python",
   "pygments_lexer": "ipython3",
   "version": "3.9.13"
  }
 },
 "nbformat": 4,
 "nbformat_minor": 5
}
