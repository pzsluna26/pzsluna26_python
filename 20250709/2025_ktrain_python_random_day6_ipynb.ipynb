{
  "cells": [
    {
      "cell_type": "markdown",
      "metadata": {
        "id": "kYyWMwvRQlaz"
      },
      "source": [
        "## 실습 문제: 균등 분포 난수 생성 및 비교\n",
        "\n",
        "**설명**: Python의 기본 `random` 모듈과 `NumPy` 라이브러리는 모두 [0, 1) 범위의 균등 분포 난수를 생성하는 기능을 제공합니다. 이 실습의 목표는 `random.uniform()` 함수와 `np.random.rand()` 함수를 각각 사용하여 난수를 생성하고, Matplotlib을 이용해 두 결과의 분포를 히스토그램으로 시각화하여 두 함수가 실제로 유사한 균등 분포를 따르는지 눈으로 확인하는 것입니다.\n",
        "\n",
        "**요구사항**:\n",
        "- `random.uniform(0, 1)`을 1000번 반복 호출하여 1000개의 난수가 담긴 리스트를 생성하세요.\n",
        "- `np.random.rand(1000)`을 호출하여 1000개의 난수로 이루어진 NumPy 배열을 생성하세요.\n",
        "- Matplotlib의 `subplot` 기능을 사용하여 두 개의 히스토그램을 나란히 그리고, 각 히스토그램에 어떤 함수로 생성된 데이터인지 명시하는 제목을 설정하세요.\n",
        "- 두 히스토그램의 모양이 특정 구간에 치우치지 않고 전반적으로 평평하게 나타나는지 비교하여 확인하세요."
      ]
    },
    {
      "cell_type": "code",
      "execution_count": 5,
      "metadata": {
        "id": "u0l4dyABQbXR"
      },
      "outputs": [
        {
          "data": {
            "image/png": "[encoded data removed]",
            "text/plain": [
              "<Figure size 1200x500 with 2 Axes>"
            ]
          },
          "metadata": {},
          "output_type": "display_data"
        }
      ],
      "source": [
        "import random\n",
        "import numpy as np\n",
        "import matplotlib.pyplot as plt\n",
        "\n",
        "# 1. random.uniform(0, 1)을 1000번 호출하여 리스트 생성\n",
        "random_uniform_data = [random.uniform(0, 1) for _ in range(1000)]\n",
        "\n",
        "# 2. np.random.rand(1000)을 사용하여 NumPy 배열 생성\n",
        "numpy_random_data = np.random.rand(1000)\n",
        "\n",
        "# 3. 1행 2열 subplot을 한 번에 생성\n",
        "fig, axes = plt.subplots(1, 2, figsize=(12, 5))\n",
        "\n",
        "# 왼쪽: random.uniform\n",
        "axes[0].hist(random_uniform_data, bins=20, color='skyblue', edgecolor='black')\n",
        "axes[0].set_title('random.uniform(0, 1)')\n",
        "\n",
        "# 오른쪽: np.random.rand\n",
        "axes[1].hist(numpy_random_data, bins=20, color='lightgreen', edgecolor='black')\n",
        "axes[1].set_title('np.random.rand(1000)')\n",
        "\n",
        "# 전체 레이아웃 정리\n",
        "plt.tight_layout()\n",
        "plt.show()\n"
      ]
    },
    {
      "cell_type": "markdown",
      "metadata": {
        "id": "FVFcsg4Rs0g6"
      },
      "source": [
        "\n",
        "\n",
        "## 실습 문제: 정규분포 확률 밀도 함수(PDF) 구현\n",
        "\n",
        "**설명**: NumPy와 같은 라이브러리는 정규분포 샘플링을 위한 편리한 함수를 제공하지만, 그 근간이 되는 확률 밀도 함수(PDF, Probability Density Function)를 직접 구현해보는 것은 개념을 이해하는 데 큰 도움이 됩니다. 이 실습에서는 정규분포의 PDF 공식을 코드로 직접 작성하고, 이 함수의 그래프가 실제 데이터 샘플의 분포와 일치하는지 시각적으로 확인합니다.\n",
        "\n",
        "$$f(x) = \\frac{1}{\\sigma\\sqrt{2\\pi}} \\exp\\!\\Bigl(-\\frac{(x-\\mu)^2}{2\\sigma^2}\\Bigr)$$\n",
        "\n",
        "  - $\\\\mu$ : 평균 (mean)\n",
        "  - $ \\\\sigma\\\\ $: 표준편차 (standard deviation)\n",
        "\n",
        "**요구사항**:\n",
        "\n",
        "  - 주어진 정규분포 PDF 공식을 파이썬 코드로 변환하여 `f(x, mu, sigma)` 함수를 완성하세요. `np.pi`와 `np.exp`를 활용하면 편리합니다.\n",
        "  - 평균(`μ`) 0, 표준편차(`σ`) 1인 표준 정규분포의 PDF를 계산하도록 함수를 호출하세요.\n",
        "  - `np.random.normal`로 생성한 샘플 데이터의 히스토그램과 직접 구현한 `f(x)` 함수의 그래프를 함께 그려, 두 결과가 일치하는지 확인합니다."
      ]
    },
    {
      "cell_type": "code",
      "execution_count": null,
      "metadata": {
        "id": "5KlO9u_UOpPs"
      },
      "outputs": [],
      "source": [
        "import numpy as np\n",
        "import matplotlib.pyplot as plt\n",
        "\n",
        "def normal_pdf(x, mu, sigma):\n",
        "term1 = 1/ (sigama*np.sqrt(2*np))\n",
        "\n",
        "\n",
        "mu, sigma = 0, 1\n",
        "x = np.linspace(-4, 4, 1000)\n",
        "y = f(x, mu, sigma)\n",
        "\n",
        "plt.plot(x, y)"
      ]
    },
    {
      "cell_type": "code",
      "execution_count": null,
      "metadata": {
        "id": "J5cL-oUoZeFN"
      },
      "outputs": [],
      "source": [
        "samples = np.random.normal(mu, sigma, 1000)\n",
        "plt.hist(samples, density=True)"
      ]
    },
    {
      "cell_type": "markdown",
      "metadata": {
        "id": "WPuUm4ffQfbW"
      },
      "source": [
        "## 실습 문제: 정규 분포 난수 시각화\n",
        "\n",
        "**설명**: NumPy의 `np.random.randn()` 함수는 머신러닝과 통계에서 매우 중요한 표준 정규 분포(평균 0, 표준편차 1)를 따르는 난수를 생성합니다. 이 실습에서는 이 함수를 사용하여 데이터를 생성하고, Matplotlib 히스토그램으로 시각화하여 정규 분포의 특징적인 '종 모양' 곡선을 직접 확인하는 것을 목표로 합니다.\n",
        "\n",
        "$$f(x) = \\frac{1}{\\sqrt{2\\pi}} e^{-\\frac{1}{2}x^2}$$\n",
        "\n",
        "**요구사항**:\n",
        "- `np.random.randn(1000)`을 호출하여 표준 정규 분포를 따르는 난수 1000개가 담긴 NumPy 배열을 생성하세요.\n",
        "- Matplotlib을 사용하여 생성된 데이터의 히스토그램을 그리고, 그래프의 제목을 \"Standard Normal Distribution\"으로 설정하세요.\n",
        "- 히스토그램이 데이터의 평균인 0을 중심으로 대칭적인 종 모양(bell shape)을 형성하는지 확인하고, 이전에 만들었던 균등 분포 히스토그램과 어떻게 다른지 생각해 보세요."
      ]
    },
    {
      "cell_type": "code",
      "execution_count": null,
      "metadata": {
        "id": "OR0gQfrdQiYG"
      },
      "outputs": [],
      "source": [
        "data = "
      ]
    },
    {
      "cell_type": "markdown",
      "metadata": {
        "id": "6Ak7FH_dnxeI"
      },
      "source": [
        "## 실습 문제: 3차 함수에 노이즈 추가 및 시각화\n",
        "\n",
        "**설명**: 머신러닝 모델을 훈련할 때, 실제 데이터는 종종 이상적인 함수 관계에 무작위적인 노이즈가 더해진 형태로 나타납니다. 이 실습에서는 3차 함수 $f(x) = x^3 - x^2 + 3$ 라는 '참' 함수를 정의하고, 여기에 정규 분포 노이즈를 추가하여 실제 데이터와 유사한 형태를 만듭니다. 목표는 Matplotlib을 사용하여 원본 함수(선)와 노이즈가 포함된 데이터 포인트(산점도)를 함께 시각화하여 둘의 관계를 파악하는 것입니다.\n",
        "\n",
        "$$y = x^3 - x^2 + 3$$\n",
        "\n",
        "**요구사항**:\n",
        "- `np.linspace`를 사용하여 -5부터 5까지의 범위에서 100개의 균일한 간격의 점으로 `x` 배열을 생성하세요.\n",
        "- 생성된 `x` 값을 사용하여 3차 함수 $y = x^3 - x^2 + 3$를 계산하여 `y` 배열을 만드세요.\n",
        "- `np.random.normal` 함수를 사용하여 평균 0, 표준편차 10인 정규 분포 노이즈를 100개 생성하고, 이를 `y` 배열에 더하여 노이즈가 추가된 데이터를 만드세요.\n",
        "- Matplotlib을 사용하여 원본 $(x, y)$ 데이터는 선 그래프(`plt.plot`)로, 노이즈가 추가된 데이터는 산점도(`plt.scatter`)로 한 플롯에 함께 그리세요. 이를 통해 부드러운 원본 함수와 그 주변에 흩어진 데이터 포인트를 시각적으로 확인할 수 있습니다."
      ]
    },
    {
      "cell_type": "code",
      "execution_count": null,
      "metadata": {
        "id": "R2bZ301L6hIC"
      },
      "outputs": [],
      "source": []
    }
  ],
  "metadata": {
    "colab": {
      "provenance": []
    },
    "kernelspec": {
      "display_name": "Python 3",
      "name": "python3"
    },
    "language_info": {
      "codemirror_mode": {
        "name": "ipython",
        "version": 3
      },
      "file_extension": ".py",
      "mimetype": "text/x-python",
      "name": "python",
      "nbconvert_exporter": "python",
      "pygments_lexer": "ipython3",
      "version": "3.9.13"
    }
  },
  "nbformat": 4,
  "nbformat_minor": 0
}
