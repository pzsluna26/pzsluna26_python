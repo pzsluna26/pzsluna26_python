{
  "cells": [
    {
      "cell_type": "markdown",
      "metadata": {
        "id": "ZYJeA4fpcGNk"
      },
      "source": [
        "# Lab"
      ]
    },
    {
      "cell_type": "code",
      "execution_count": null,
      "metadata": {
        "colab": {
          "base_uri": "https://localhost:8080/"
        },
        "id": "5WdoL9Tkfzgi",
        "outputId": "701d1782-4881-42f3-a3f9-6a18a111730d"
      },
      "outputs": [
        {
          "name": "stdout",
          "output_type": "stream",
          "text": [
            "1\n",
            "2\n"
          ]
        },
        {
          "data": {
            "text/plain": [
              "(None, None)"
            ]
          },
          "execution_count": 20,
          "metadata": {},
          "output_type": "execute_result"
        }
      ],
      "source": [
        "# public class Number{\n",
        "# int n;\n",
        "#  Number(int n)    {\n",
        "#    this.n = n\n",
        "#  }\n",
        "#  Number(int a, int b, int c) {\n",
        "\n",
        "#  }\n",
        "#}\n",
        "\n",
        "\n",
        "class Number:\n",
        "  def __init__(self, a, b=0, c=0):\n",
        "    self.a = a\n",
        "    self.b = b\n",
        "    self.c = c\n",
        "\n",
        "  def is_even_or_odd(self):\n",
        "    return \"Even\" if self.a % 2 ==0 else: \"Odd\"\n",
        "\n",
        "\n",
        "num1 = Number(1)\n",
        "num2 = Number(2)\n",
        "\n",
        "num1.is_even_or_odd(), num2.is_even_or_odd()"
      ]
    },
    {
      "cell_type": "markdown",
      "metadata": {
        "id": "AL3MoBZO5NpL"
      },
      "source": [
        "## 1. 정수를 입력받아 해당 숫자가 짝수인지 홀수인지를 판단하는 Number 클래스를 작성하세요. is_even_or_odd() 메서드를 구현하여 입력받은 정수를 판별해야 합니다. 객체를 생성할 때 정수를 입력받아야 합니다."
      ]
    },
    {
      "cell_type": "code",
      "execution_count": null,
      "metadata": {
        "id": "SBUQ1WRTc1Nz"
      },
      "outputs": [
        {
          "name": "stdout",
          "output_type": "stream",
          "text": [
            "Odd\n",
            "Even\n"
          ]
        }
      ],
      "source": [
        "class Number:\n",
        "    def __init__(self,n):\n",
        "        self.n=n\n",
        "    def is_even_or_odd(self):\n",
        "        if self.n % 2 == 0:\n",
        "            return \"Even\"\n",
        "        else:\n",
        "            return \"Odd\"\n",
        "    # def __call__(self, *arg, *)\n",
        "num = Number(7)\n",
        "print(num.is_even_or_odd())\n",
        "\n",
        "num2 = Number(12)\n",
        "print(num2.is_even_or_odd())"
      ]
    },
    {
      "cell_type": "code",
      "execution_count": null,
      "metadata": {
        "id": "AopfhDbwfEK-"
      },
      "outputs": [],
      "source": [
        "input_data_even_odd = [5, 2, -3, -4, 0]\n",
        "output_data_even_odd = [\"Odd\", \"Even\", \"Odd\", \"Even\", \"Even\"]\n",
        "\n",
        "for i, o in zip(input_data_even_odd, output_data_even_odd):\n",
        "    num = Number(i)\n",
        "    result = num.is_even_or_odd()\n",
        "    assert result == o"
      ]
    },
    {
      "cell_type": "markdown",
      "metadata": {
        "id": "mGbPfQJEc5pl"
      },
      "source": [
        "## 2. Number 클래스를 확장하여 largest_of_three() 메서드를 추가하세요. 이 메서드는 세 개의 숫자를 입력받아 가장 큰 수를 반환해야 합니다. 인스턴스를 생성할 때 세 개의 숫자를 입력받아야 합니다."
      ]
    },
    {
      "cell_type": "code",
      "execution_count": 9,
      "metadata": {
        "id": "mGAC-9rSc7Qd"
      },
      "outputs": [
        {
          "name": "stdout",
          "output_type": "stream",
          "text": [
            "가장 큰 수: 25\n"
          ]
        }
      ],
      "source": [
        "class Number:\n",
        "    def __init__(self, a, b=0, c=0):\n",
        "      self.a=a\n",
        "      self.b=b\n",
        "      self.c=c\n",
        "    def largest_of_three(self):\n",
        "       return max(self.a, self.b, self.c)\n",
        "\n",
        "num = Number(10,25,7)\n",
        "print(\"가장 큰 수:\", num.largest_of_three())"
      ]
    },
    {
      "cell_type": "code",
      "execution_count": null,
      "metadata": {
        "id": "p3T2cNTyh_c5"
      },
      "outputs": [],
      "source": [
        "input_data_even_odd = [5, 2, -3, -4, 0]\n",
        "output_data_even_odd = [\"Odd\", \"Even\", \"Odd\", \"Even\", \"Even\"]\n",
        "\n",
        "for i, o in zip(input_data_even_odd, output_data_even_odd):\n",
        "    num = Number(i)\n",
        "    result = num.is_even_or_odd()\n",
        "    assert result == o\n",
        "\n",
        "input_data_largest_of_three = [(2, 4, 1), (1, 1, 1), (2, 2, 5), (-1, 0, -2)]\n",
        "output_data_largest_of_three = [4, 1, 5, 0]\n",
        "\n",
        "for i, o in zip(input_data_largest_of_three, output_data_largest_of_three):\n",
        "    num = Number(*i)\n",
        "    result = num.largest_of_three()\n",
        "    assert result == o"
      ]
    },
    {
      "cell_type": "markdown",
      "metadata": {
        "id": "INqFk2K5c7ks"
      },
      "source": [
        "## 3. Number 클래스를 상속받는 SpecialNumber 서브클래스를 작성하고, is_multiple_of_3_and_5() 메서드를 추가하세요. 이 메서드는 입력된 숫자가 3과 5의 배수인지 여부를 확인해야 합니다.\n",
        "\n"
      ]
    },
    {
      "cell_type": "code",
      "execution_count": null,
      "metadata": {
        "id": "B2c46qWfc8z0"
      },
      "outputs": [
        {
          "ename": "SyntaxError",
          "evalue": "invalid syntax (2156952827.py, line 2)",
          "output_type": "error",
          "traceback": [
            "\u001b[1;36m  Cell \u001b[1;32mIn[10], line 2\u001b[1;36m\u001b[0m\n\u001b[1;33m    def __init__()\u001b[0m\n\u001b[1;37m                  ^\u001b[0m\n\u001b[1;31mSyntaxError\u001b[0m\u001b[1;31m:\u001b[0m invalid syntax\n"
          ]
        }
      ],
      "source": [
        "class SpecialNumber(Number):\n",
        "    def __init__():\n",
        "        \n",
        "    def is_multiple_of_3_and_5():\n"
      ]
    },
    {
      "cell_type": "code",
      "execution_count": null,
      "metadata": {
        "id": "ht0-VlpeiAaE"
      },
      "outputs": [],
      "source": [
        "input_data_even_odd = [5, 2, -3, -4, 0]\n",
        "output_data_even_odd = [\"Odd\", \"Even\", \"Odd\", \"Even\", \"Even\"]\n",
        "\n",
        "for i, o in zip(input_data_even_odd, output_data_even_odd):\n",
        "    num = SpecialNumber(i)\n",
        "    result = num.is_even_or_odd()\n",
        "    assert result == o\n",
        "\n",
        "input_data_largest_of_three = [(2, 4, 1), (1, 1, 1), (2, 2, 5), (-1, 0, -2)]\n",
        "output_data_largest_of_three = [4, 1, 5, 0]\n",
        "\n",
        "for i, o in zip(input_data_largest_of_three, output_data_largest_of_three):\n",
        "    num = Number(*i)\n",
        "    result = num.largest_of_three()\n",
        "    assert result == o\n",
        "\n",
        "input_data_multiple_3_5 = [15, 3, 5, 30, 0, -15]\n",
        "output_data_multiple_3_5 = [True, False, False, True, True, True]\n",
        "\n",
        "for i, o in zip(input_data_multiple_3_5, output_data_multiple_3_5):\n",
        "    num = SpecialNumber(i)\n",
        "    result = num.is_multiple_of_3_and_5()\n",
        "    assert result == o"
      ]
    },
    {
      "cell_type": "markdown",
      "metadata": {
        "id": "jAEoPcBXc9kM"
      },
      "source": [
        "## 4. 클래스 MathUtils에 static 메서드 is_pythagorean_triple()을 작성하세요. 이 메서드는 세 숫자를 입력으로 받아, private 메서드 __is_valid()를 사용하여 변의 길이가 유효한지 확인한 후, 그 숫자들이 피타고라스 삼각형을 이루는지 판단합니다.\n",
        "\n",
        "> A Pythagorean triple consists of three positive integers a, b, and c such that:\n",
        "$$ a^2 + b^2 = c^2, (0 < a \\leq b \\leq c \\leq N) $$\n"
      ]
    },
    {
      "cell_type": "code",
      "execution_count": null,
      "metadata": {
        "id": "nJN7nZ1Nc-ad"
      },
      "outputs": [],
      "source": [
        "class MathUtils:\n",
        "    @staticmethod\n",
        "    pass\n"
      ]
    },
    {
      "cell_type": "code",
      "execution_count": null,
      "metadata": {
        "id": "40DTZh8NYE6X"
      },
      "outputs": [],
      "source": [
        "input_data_pythagorean_triple = [(3, 4, 5), (5, 12, 13), (6, 8, 10), (7, 24, 25), (2, 3, 4), (0, 4, 4)]\n",
        "output_data_pythagorean_triple = [True, True, True, True, False, False]\n",
        "\n",
        "for input_values, output_value in zip(input_data_pythagorean_triple, output_data_pythagorean_triple):\n",
        "    result = MathUtils.is_pythagorean_triple(*input_values)\n",
        "    assert result == output_value\n",
        "\n",
        "for input_values, output_value in zip(input_data_pythagorean_triple, output_data_pythagorean_triple):\n",
        "    math_utils = MathUtils()\n",
        "    result = math_utils.is_pythagorean_triple_instance(*input_values)\n",
        "    assert result == output_value"
      ]
    },
    {
      "cell_type": "markdown",
      "metadata": {
        "id": "EkRNBCyLctUY"
      },
      "source": [
        "## 5. Person 클래스를 작성하고 calculate_bmi() 메서드를 구현하세요. 이 메서드는 객체 생성 시 입력받은 체중(kg)과 키(m)를 바탕으로 BMI를 계산하고, 결과에 따라 BMI 카테고리(Underweight, Normal weight, Overweight)를 반환해야 합니다. 또한, 입력값이 유효한지 검증하는 is_valid() 메서드를 추가하고, 체중과 키가 양수인지 확인해야 합니다.\n",
        "\n",
        "### Class Methods\n",
        "\n",
        "* def is_valid(self) -> bool:\n",
        "\n",
        "* def calculate_bmi(self) -> str:\n",
        "\n",
        "### BMI calculation formula\n",
        "\n",
        "BMI = weight(kg) / (height(m)²)\n",
        "\n",
        "\n",
        "### Output\n",
        "\n",
        "* BMI < 18.5: Underweight\n",
        "\n",
        "* 18.5 <= BMI < 25.0: Normal weight\n",
        "\n",
        "* 25.0 <= BMI: Overweight\n",
        "\n",
        "\n",
        "### 유효성 검증\n",
        "\n",
        "체중과 키는 모두 양수여야 합니다.\n",
        "\n",
        "\n",
        "\n"
      ]
    },
    {
      "cell_type": "code",
      "execution_count": null,
      "metadata": {
        "id": "yujQNQOgZKnI"
      },
      "outputs": [],
      "source": [
        "class Person:\n",
        "    pass"
      ]
    },
    {
      "cell_type": "code",
      "execution_count": null,
      "metadata": {
        "id": "BxdeHEF_cB3C"
      },
      "outputs": [],
      "source": [
        "input_data_bmi_calculator = [(60, 1.7), (45, 1.6), (85, 1.8), (100, 2), (40, 1.5), (60, 0)]\n",
        "output_data_bmi_calculator = [\"Normal weight\", \"Underweight\", \"Overweight\", \"Overweight\", \"Underweight\", \"Invalid input\"]\n",
        "\n",
        "for input_values, output_value in zip(input_data_bmi_calculator, output_data_bmi_calculator):\n",
        "    person = Person(*input_values)\n",
        "    result = person.calculate_bmi()\n",
        "    assert result == output_value"
      ]
    },
    {
      "cell_type": "markdown",
      "metadata": {
        "id": "aTfwJbtWeNxR"
      },
      "source": [
        "## 6. 쇼핑카트를 나타내는 ShoppingCart 클래스를 작성하세요. 이 클래스는 아이템을 추가, 제거하고 전체 가격을 계산하는 기능을 가져야 합니다. 아이템은 딕셔너리로 저장하며, 딕셔너리의 키는 아이템 이름, 값은 가격과 수량을 포함하는 튜플입니다.\n",
        "\n",
        "#### Methods:\n",
        "\n",
        "* init(): 아이템 이름을 키로 하고 (가격, 수량) 튜플을 값으로 가지는 딕셔너리를 초기화합니다. ShoppingCart 인스턴스가 생성될 때, 카트는 비어 있는 상태로 시작합니다.\n",
        "\n",
        "* add_item(item_name: str, price: float, quantity: int): 이 메서드는 지정된 수량만큼 아이템을 카트에 추가합니다. 만약 이미 카트에 있는 아이템이라면, 해당 아이템의 수량을 증가시킵니다.\n",
        "\n",
        "* remove_item(item_name: str, quantity: int): 카트에서 지정된 수량만큼 아이템을 제거합니다. 제거할 수량이 현재 남아있는 수량보다 크거나 같으면, 해당 아이템을 카트에서 완전히 삭제합니다.\n",
        "\n",
        "* get_total_price(): 카트에 있는 모든 아이템을 순회하며 각 아이템의 가격과 수량을 곱해 총 비용을 계산합니다."
      ]
    },
    {
      "cell_type": "code",
      "execution_count": null,
      "metadata": {
        "id": "APNy8a6ZeO6l"
      },
      "outputs": [],
      "source": [
        "class ShoppingCart:\n",
        "    def __init__(self):\n",
        "        self.items = {}\n",
        "\n",
        "    def add_item(self, item_name: str, price: float, quantity: int):\n",
        "        pass\n",
        "\n",
        "    def remove_item(self, item_name: str, quantity: int):\n",
        "        pass\n",
        "\n",
        "    def get_total_price(self) -> float:\n",
        "        pass"
      ]
    },
    {
      "cell_type": "code",
      "execution_count": null,
      "metadata": {
        "id": "gs4TEi_LlyDs"
      },
      "outputs": [],
      "source": [
        "input_data_cart = [\n",
        "    [(\"add\", \"apple\", 1.5, 10), (\"add\", \"banana\", 0.5, 5), (\"add\", \"apple\", 1.5, 5)],  # Adding items, updating apple\n",
        "    [(\"remove\", \"banana\", None, 2), (\"remove\", \"apple\", None, 12), (\"add\", \"orange\", 2.0, 2)],  # Removing and adding more\n",
        "]\n",
        "\n",
        "expected_cart_states = [\n",
        "    {\"apple\": (1.5, 15), \"banana\": (0.5, 5)},\n",
        "    {\"orange\": (2.0, 2)}\n",
        "]\n",
        "\n",
        "expected_total_prices = [25.0, 4.0]\n",
        "\n",
        "for data_set, expected_cart, expected_total in zip(input_data_cart, expected_cart_states, expected_total_prices):\n",
        "    cart = ShoppingCart()\n",
        "\n",
        "    for action, item_name, price, quantity in data_set:\n",
        "        if action == \"add\":\n",
        "            cart.add_item(item_name, price, quantity)\n",
        "        elif action == \"remove\":\n",
        "            cart.remove_item(item_name, quantity)\n",
        "\n",
        "    assert cart.items == expected_cart\n",
        "\n",
        "    total_price = cart.get_total_price()\n",
        "    assert total_price == expected_total"
      ]
    },
    {
      "cell_type": "markdown",
      "metadata": {
        "id": "ltqSfnK5fW1V"
      },
      "source": [
        "## 7. list를 사용하여 스택(Stack)을 나타내는 Stack 클래스를 작성하세요. 이 클래스는 데이터를 추가(push), 제거(pop), 확인(peek)하고, 스택이 비어있는지 확인하는 등의 기본적인 스택 기능을 제공해야 합니다.\n",
        "\n",
        "### Methods:\n",
        "\n",
        "* __init__(): 아이템을 저장할 list를 초기화합니다. Stack 인스턴스가 생성될 때, 스택은 비어 있는 상태로 시작합니다.\n",
        "\n",
        "* push(item): 스택의 맨 위에 아이템을 추가합니다.\n",
        "\n",
        "* pop(): 스택의 맨 위에서 아이템을 제거하고 그 아이템을 반환합니다. 만약 스택이 비어있다면, None을 반환합니다.\n",
        "\n",
        "* peek(): 스택의 맨 위에 있는 아이템을 제거하지 않고 반환합니다. 만약 스택이 비어있다면, None을 반환합니다.\n",
        "\n",
        "* is_empty() -> bool: 스택이 비어 있으면 True를, 그렇지 않으면 False를 반환합니다.\n",
        "\n",
        "* size() -> int: 스택에 있는 아이템의 개수를 반환합니다."
      ]
    },
    {
      "cell_type": "code",
      "execution_count": null,
      "metadata": {
        "id": "17OjrH2VfYX7"
      },
      "outputs": [],
      "source": [
        "class Stack:\n",
        "    def __init__(self):\n",
        "        self.items = []\n",
        "\n",
        "    def push(self, item):\n",
        "        pass\n",
        "\n",
        "    def pop(self):\n",
        "        pass\n",
        "\n",
        "    def peek(self):\n",
        "        pass\n",
        "\n",
        "    def is_empty(self) -> bool:\n",
        "        pass\n",
        "\n",
        "    def size(self) -> int:\n",
        "        pass\n",
        "\n"
      ]
    },
    {
      "cell_type": "code",
      "execution_count": null,
      "metadata": {
        "id": "xEk8VZhNfhfT"
      },
      "outputs": [],
      "source": [
        "\n",
        "input_data_stack = [\n",
        "    [(\"push\", 10), (\"push\", 20), (\"peek\",), (\"pop\",), (\"pop\",), (\"pop\",)],\n",
        "    [(\"is_empty\",), (\"push\", \"a\"), (\"push\", \"b\"), (\"push\", \"c\"), (\"size\",), (\"pop\",), (\"peek\",)]\n",
        "]\n",
        "\n",
        "expected_stack_states = [\n",
        "    [],\n",
        "    ['a', 'b']\n",
        "]\n",
        "expected_outputs = [\n",
        "    [20, 20, 10, None],\n",
        "    [True, 3, 'c', 'b']\n",
        "]\n",
        "\n",
        "for i, data_set in enumerate(input_data_stack):\n",
        "    stack = Stack()\n",
        "    outputs = []\n",
        "\n",
        "    for operation in data_set:\n",
        "        action = operation[0]\n",
        "        if action == \"push\":\n",
        "            stack.push(operation[1])\n",
        "        elif action == \"pop\":\n",
        "            outputs.append(stack.pop())\n",
        "        elif action == \"peek\":\n",
        "            outputs.append(stack.peek())\n",
        "        elif action == \"is_empty\":\n",
        "            outputs.append(stack.is_empty())\n",
        "        elif action == \"size\":\n",
        "            outputs.append(stack.size())\n",
        "\n",
        "    assert stack.items == expected_stack_states[i], f\"Test Case {i+1} Failed: stack state mismatch\"\n",
        "    assert outputs == expected_outputs[i], f\"Test Case {i+1} Failed: outputs mismatch\"\n",
        "\n",
        "    print(f\"Test Case {i+1} Passed!\")"
      ]
    },
    {
      "cell_type": "markdown",
      "metadata": {
        "id": "MMFsFfLXgO83"
      },
      "source": [
        "## 8. 다항식을 나타내는 Polynomial 클래스를 작성하세요. 이 클래스는 특정 값 x에 대한 다항식의 값을 계산하고(callable 객체), 특정 차수의 계수를 조회하는 기능을 가져야 합니다.\n",
        "\n",
        "### Methods:\n",
        "\n",
        "* __init__(self, coef): 계수들을 리스트로 받아 초기화합니다. 리스트의 인덱스는 해당 항의 차수를 의미합니다. 예를 들어, [4, 0, -1, 2]는 다항식 $ 4 - x^2 + 2x^3 $  을 나타냅니다.\n",
        "\n",
        "* __call__(self, x): p(x)와 같이 객체를 함수처럼 호출했을 때, 주어진 x 값에 대한 다항식의 결과값을 반환합니다.\n",
        "\n",
        "* __getitem__(self, n): p[n]과 같이 인덱싱을 사용할 때, $x^n$ 항의 계수를 반환합니다. 만약 해당 차수의 항이 없다면 0을 반환해야 합니다."
      ]
    },
    {
      "cell_type": "code",
      "execution_count": null,
      "metadata": {
        "id": "FhwdbDu2f31H"
      },
      "outputs": [],
      "source": [
        "class Polynomial:\n",
        "    def __init__(self, coef: list[float]):\n",
        "        self.coef = coef\n",
        "\n",
        "    def __call__(self, x: float) -> float:\n",
        "        pass\n",
        "\n",
        "    def __getitem__(self, n: int) -> float:\n",
        "        pass\n",
        "\n"
      ]
    },
    {
      "cell_type": "code",
      "execution_count": null,
      "metadata": {
        "id": "i_DdZ0Gsgynu"
      },
      "outputs": [],
      "source": [
        "\n",
        "polynomials_coeffs = [\n",
        "    [1, 2, 3],  # P1(x) = 1 + 2x + 3x^2\n",
        "    [10, 0, -1, 5] # P2(x) = 10 - x^2 + 5x^3\n",
        "]\n",
        "\n",
        "operations = [\n",
        "    (2, 1),   # P1(2) 계산, P1[1] 조회\n",
        "    (3, 3)    # P2(3) 계산, P2[3] 조회\n",
        "]\n",
        "\n",
        "expected_results = [\n",
        "    (17, 2),\n",
        "    (136, 5)\n",
        "]\n",
        "\n",
        "for i, coeffs in enumerate(polynomials_coeffs):\n",
        "    poly = Polynomial(coeffs)\n",
        "    call_x, getitem_n = operations[i]\n",
        "\n",
        "    call_result = poly(call_x)\n",
        "    assert call_result == expected_results[i][0], f\"Test Case {i+1} (`__call__`) Failed: Expected {expected_results[i][0]}, Got {call_result}\"\n",
        "\n",
        "    getitem_result = poly[getitem_n]\n",
        "    assert getitem_result == expected_results[i][1], f\"Test Case {i+1} (`__getitem__`) Failed: Expected {expected_results[i][1]}, Got {getitem_result}\"\n",
        "\n",
        "    out_of_bounds_result = poly[len(coeffs) + 1]\n",
        "    assert out_of_bounds_result == 0, f\"Test Case {i+1} (out of bounds) Failed: Expected 0, Got {out_of_bounds_result}\"\n",
        "\n",
        "    print(f\"Test Case {i+1} Passed!\")"
      ]
    }
  ],
  "metadata": {
    "colab": {
      "provenance": []
    },
    "kernelspec": {
      "display_name": "Python 3",
      "name": "python3"
    },
    "language_info": {
      "codemirror_mode": {
        "name": "ipython",
        "version": 3
      },
      "file_extension": ".py",
      "mimetype": "text/x-python",
      "name": "python",
      "nbconvert_exporter": "python",
      "pygments_lexer": "ipython3",
      "version": "3.9.13"
    }
  },
  "nbformat": 4,
  "nbformat_minor": 0
}
