{
 "cells": [
  {
   "cell_type": "markdown",
   "id": "21049771",
   "metadata": {},
   "source": [
    "version"
   ]
  },
  {
   "cell_type": "code",
   "execution_count": null,
   "id": "1a183dbc",
   "metadata": {},
   "outputs": [
    {
     "name": "stdout",
     "output_type": "stream",
     "text": [
      "Python 3.9.13\n"
     ]
    }
   ],
   "source": [
    "!python --version"
   ]
  },
  {
   "cell_type": "markdown",
   "id": "b63ddc9f",
   "metadata": {},
   "source": [
    "숫자"
   ]
  },
  {
   "cell_type": "code",
   "execution_count": 2,
   "id": "990dcbac",
   "metadata": {},
   "outputs": [
    {
     "data": {
      "text/plain": [
       "(3, int)"
      ]
     },
     "execution_count": 2,
     "metadata": {},
     "output_type": "execute_result"
    }
   ],
   "source": [
    "a = 1+2\n",
    "a, type(a)"
   ]
  },
  {
   "cell_type": "code",
   "execution_count": 3,
   "id": "c0395c7d",
   "metadata": {},
   "outputs": [
    {
     "data": {
      "text/plain": [
       "(3.14, float)"
      ]
     },
     "execution_count": 3,
     "metadata": {},
     "output_type": "execute_result"
    }
   ],
   "source": [
    "b = 3.14\n",
    "b, type(b)"
   ]
  },
  {
   "cell_type": "code",
   "execution_count": 5,
   "id": "e30e68bd",
   "metadata": {},
   "outputs": [
    {
     "data": {
      "text/plain": [
       "('hello', str)"
      ]
     },
     "execution_count": 5,
     "metadata": {},
     "output_type": "execute_result"
    }
   ],
   "source": [
    "c = 'hello'\n",
    "c, type(c)"
   ]
  },
  {
   "cell_type": "code",
   "execution_count": 7,
   "id": "9128d3e5",
   "metadata": {},
   "outputs": [
    {
     "data": {
      "text/plain": [
       "(False, bool)"
      ]
     },
     "execution_count": 7,
     "metadata": {},
     "output_type": "execute_result"
    }
   ],
   "source": [
    "d = False\n",
    "d, type(d)"
   ]
  },
  {
   "cell_type": "code",
   "execution_count": 9,
   "id": "380ed345",
   "metadata": {},
   "outputs": [
    {
     "data": {
      "text/plain": [
       "({}, dict)"
      ]
     },
     "execution_count": 9,
     "metadata": {},
     "output_type": "execute_result"
    }
   ],
   "source": [
    "g = {}\n",
    "g, type(g)"
   ]
  },
  {
   "cell_type": "code",
   "execution_count": null,
   "id": "76d327b1",
   "metadata": {},
   "outputs": [],
   "source": [
    "1+2, 1-2, 1*2"
   ]
  },
  {
   "cell_type": "code",
   "execution_count": null,
   "id": "2dbe0576",
   "metadata": {},
   "outputs": [],
   "source": [
    "1/2"
   ]
  },
  {
   "cell_type": "code",
   "execution_count": 12,
   "id": "d9e14814",
   "metadata": {},
   "outputs": [
    {
     "data": {
      "text/plain": [
       "0.5555555555555556"
      ]
     },
     "execution_count": 12,
     "metadata": {},
     "output_type": "execute_result"
    }
   ],
   "source": [
    "5/9"
   ]
  },
  {
   "cell_type": "code",
   "execution_count": null,
   "id": "6cbeb66d",
   "metadata": {},
   "outputs": [
    {
     "data": {
      "text/plain": [
       "0"
      ]
     },
     "execution_count": 13,
     "metadata": {},
     "output_type": "execute_result"
    }
   ],
   "source": [
    "5//9\n",
    "# 정수나누기"
   ]
  },
  {
   "cell_type": "code",
   "execution_count": 17,
   "id": "c43f1220",
   "metadata": {},
   "outputs": [
    {
     "data": {
      "text/plain": [
       "1"
      ]
     },
     "execution_count": 17,
     "metadata": {},
     "output_type": "execute_result"
    }
   ],
   "source": [
    "5 % 2\n",
    "# 모듈러연산자 "
   ]
  },
  {
   "cell_type": "code",
   "execution_count": 18,
   "id": "6928fad0",
   "metadata": {},
   "outputs": [
    {
     "data": {
      "text/plain": [
       "7"
      ]
     },
     "execution_count": 18,
     "metadata": {},
     "output_type": "execute_result"
    }
   ],
   "source": [
    "537 % 10"
   ]
  },
  {
   "cell_type": "code",
   "execution_count": 19,
   "id": "19583d27",
   "metadata": {},
   "outputs": [
    {
     "data": {
      "text/plain": [
       "15"
      ]
     },
     "execution_count": 19,
     "metadata": {},
     "output_type": "execute_result"
    }
   ],
   "source": [
    "5+3+7"
   ]
  },
  {
   "cell_type": "code",
   "execution_count": null,
   "id": "18f3c79f",
   "metadata": {},
   "outputs": [],
   "source": [
    "def calc(a):\n",
    "    return"
   ]
  },
  {
   "cell_type": "markdown",
   "id": "a5f56229",
   "metadata": {},
   "source": [
    "float"
   ]
  },
  {
   "cell_type": "code",
   "execution_count": null,
   "id": "875a8189",
   "metadata": {},
   "outputs": [
    {
     "data": {
      "text/plain": [
       "125"
      ]
     },
     "execution_count": 27,
     "metadata": {},
     "output_type": "execute_result"
    }
   ],
   "source": [
    "\n",
    "a = 3.14 + 1\n",
    "a, type(a)\n",
    "5**3"
   ]
  },
  {
   "cell_type": "markdown",
   "id": "8e420d81",
   "metadata": {},
   "source": [
    "String "
   ]
  },
  {
   "cell_type": "code",
   "execution_count": null,
   "id": "abfd2dcd",
   "metadata": {},
   "outputs": [
    {
     "data": {
      "text/plain": [
       "'hellohellohellohellohello'"
      ]
     },
     "execution_count": 31,
     "metadata": {},
     "output_type": "execute_result"
    }
   ],
   "source": [
    "s='hello'\n",
    "s+ 'hi'\n",
    "s*5"
   ]
  },
  {
   "cell_type": "code",
   "execution_count": 32,
   "id": "f5913c6c",
   "metadata": {},
   "outputs": [
    {
     "data": {
      "text/plain": [
       "str"
      ]
     },
     "execution_count": 32,
     "metadata": {},
     "output_type": "execute_result"
    }
   ],
   "source": [
    "type(s)"
   ]
  },
  {
   "cell_type": "code",
   "execution_count": 33,
   "id": "c9472309",
   "metadata": {},
   "outputs": [
    {
     "data": {
      "text/plain": [
       "'Hello'"
      ]
     },
     "execution_count": 33,
     "metadata": {},
     "output_type": "execute_result"
    }
   ],
   "source": [
    "s.capitalize()"
   ]
  },
  {
   "cell_type": "code",
   "execution_count": 35,
   "id": "afd876ad",
   "metadata": {},
   "outputs": [
    {
     "data": {
      "text/plain": [
       "'Helloworld'"
      ]
     },
     "execution_count": 35,
     "metadata": {},
     "output_type": "execute_result"
    }
   ],
   "source": [
    "s1 = s + 'world'\n",
    "s1.title()"
   ]
  },
  {
   "cell_type": "code",
   "execution_count": 38,
   "id": "37e39bdb",
   "metadata": {},
   "outputs": [
    {
     "name": "stdout",
     "output_type": "stream",
     "text": [
      "1 1\n"
     ]
    }
   ],
   "source": [
    "print(1, '1')"
   ]
  },
  {
   "cell_type": "code",
   "execution_count": 39,
   "id": "0ecceae9",
   "metadata": {},
   "outputs": [
    {
     "data": {
      "text/plain": [
       "2"
      ]
     },
     "execution_count": 39,
     "metadata": {},
     "output_type": "execute_result"
    }
   ],
   "source": [
    "int('1') + 1"
   ]
  },
  {
   "cell_type": "code",
   "execution_count": 48,
   "id": "3534bb64",
   "metadata": {},
   "outputs": [
    {
     "name": "stdout",
     "output_type": "stream",
     "text": [
      "hello\n",
      "world!\n",
      "1\n",
      "4\n",
      "3.14"
     ]
    }
   ],
   "source": [
    "print('hello','world!',1,4,3.14, sep = '\\n', end='')"
   ]
  },
  {
   "cell_type": "code",
   "execution_count": null,
   "id": "6a2978ff",
   "metadata": {},
   "outputs": [
    {
     "name": "stdout",
     "output_type": "stream",
     "text": [
      "hello"
     ]
    },
    {
     "data": {
      "text/plain": [
       "15"
      ]
     },
     "execution_count": 53,
     "metadata": {},
     "output_type": "execute_result"
    }
   ],
   "source": [
    "\n",
    "# 문자로 된 숫자를 숫자로 바꿔서 함수 실행하기\n",
    "#'1 2 3 4 5'.split(). type('1 2 3 4 5'.split())\n",
    "\n",
    "print('hello',end='')\n",
    "inp = '1 2 3 4 5'\n",
    "def my_sum(nums) :\n",
    "    s = 0\n",
    "    for n in nums.split():\n",
    "        s= s+int(n)\n",
    "    return s\n",
    "my_sum(inp)\n"
   ]
  },
  {
   "cell_type": "code",
   "execution_count": 54,
   "id": "44b2aec4",
   "metadata": {},
   "outputs": [
    {
     "data": {
      "text/plain": [
       "15"
      ]
     },
     "execution_count": 54,
     "metadata": {},
     "output_type": "execute_result"
    }
   ],
   "source": [
    "sum(map(int, inp.split()))"
   ]
  },
  {
   "cell_type": "code",
   "execution_count": 75,
   "id": "afbd7a5d",
   "metadata": {},
   "outputs": [
    {
     "name": "stdout",
     "output_type": "stream",
     "text": [
      "a b a\n",
      "a\n"
     ]
    }
   ],
   "source": [
    "S = 'hello'\n",
    "print(s[0], s[1], s[2])\n",
    "print(s[-1])\n"
   ]
  },
  {
   "cell_type": "code",
   "execution_count": 73,
   "id": "ebb789ee",
   "metadata": {},
   "outputs": [
    {
     "data": {
      "text/plain": [
       "True"
      ]
     },
     "execution_count": 73,
     "metadata": {},
     "output_type": "execute_result"
    }
   ],
   "source": [
    "s[1:1], s[1:-1], s[1:len(s)] \n",
    "s[:2], s[2:]\n",
    "s[::-1], s[1:3]\n",
    "\n",
    "s = 'aba'\n",
    "s == s[::-1]"
   ]
  },
  {
   "cell_type": "code",
   "execution_count": 77,
   "id": "0c35d3d0",
   "metadata": {},
   "outputs": [
    {
     "name": "stdout",
     "output_type": "stream",
     "text": [
      "a <class 'str'>\n",
      "b <class 'str'>\n",
      "a <class 'str'>\n"
     ]
    }
   ],
   "source": [
    "for i in s[::-1]:\n",
    "    print(i, type(i))"
   ]
  },
  {
   "cell_type": "code",
   "execution_count": 85,
   "id": "fc03c482",
   "metadata": {},
   "outputs": [
    {
     "name": "stdout",
     "output_type": "stream",
     "text": [
      "hello\n"
     ]
    },
    {
     "data": {
      "text/plain": [
       "False"
      ]
     },
     "execution_count": 85,
     "metadata": {},
     "output_type": "execute_result"
    }
   ],
   "source": [
    "s = 'hello'\n",
    "s + ' world!'\n",
    "\n",
    "print(s)\n",
    "'e' in s\n",
    "# s안에 e있냐??\n",
    "'a' in s"
   ]
  },
  {
   "cell_type": "code",
   "execution_count": null,
   "id": "40530b48",
   "metadata": {},
   "outputs": [
    {
     "data": {
      "text/plain": [
       "2"
      ]
     },
     "execution_count": 84,
     "metadata": {},
     "output_type": "execute_result"
    }
   ],
   "source": [
    "def count_vowel(s):\n",
    "    count = 0\n",
    "    vowels = 'aeiou'\n",
    "    for i in s:\n",
    "       if i in vowels:\n",
    "           count += 1\n",
    "    return count\n",
    "count_vowel(s)"
   ]
  },
  {
   "cell_type": "markdown",
   "id": "0c0fe493",
   "metadata": {},
   "source": [
    "list"
   ]
  },
  {
   "cell_type": "code",
   "execution_count": null,
   "id": "5767a75e",
   "metadata": {},
   "outputs": [
    {
     "data": {
      "text/plain": [
       "(list, list)"
      ]
     },
     "execution_count": 88,
     "metadata": {},
     "output_type": "execute_result"
    }
   ],
   "source": [
    "a = []\n",
    "b = list()\n",
    "\n",
    "type(a), type(b)"
   ]
  },
  {
   "cell_type": "code",
   "execution_count": 104,
   "id": "ef3e5661",
   "metadata": {},
   "outputs": [
    {
     "data": {
      "text/plain": [
       "[1, 2, 3, 4, 5, 1, 2, 3, 4, 5, 1, 2, 3, 4, 5]"
      ]
     },
     "execution_count": 104,
     "metadata": {},
     "output_type": "execute_result"
    }
   ],
   "source": [
    "a=[1,2,3,4,5]\n",
    "a + [6]\n",
    "[6]*2\n",
    "a*3"
   ]
  },
  {
   "cell_type": "code",
   "execution_count": 90,
   "id": "c8d762eb",
   "metadata": {},
   "outputs": [
    {
     "data": {
      "text/plain": [
       "(15, 1, 5)"
      ]
     },
     "execution_count": 90,
     "metadata": {},
     "output_type": "execute_result"
    }
   ],
   "source": [
    "sum(a), min(a), max(a)"
   ]
  },
  {
   "cell_type": "code",
   "execution_count": 92,
   "id": "4a241df4",
   "metadata": {},
   "outputs": [
    {
     "data": {
      "text/plain": [
       "5"
      ]
     },
     "execution_count": 92,
     "metadata": {},
     "output_type": "execute_result"
    }
   ],
   "source": [
    "len(a)"
   ]
  },
  {
   "cell_type": "code",
   "execution_count": 93,
   "id": "01ea762e",
   "metadata": {},
   "outputs": [
    {
     "data": {
      "text/plain": [
       "('', [], 0, 0.0)"
      ]
     },
     "execution_count": 93,
     "metadata": {},
     "output_type": "execute_result"
    }
   ],
   "source": [
    "str(), list(), int(), float() "
   ]
  },
  {
   "cell_type": "code",
   "execution_count": 94,
   "id": "0de0dcaf",
   "metadata": {},
   "outputs": [
    {
     "data": {
      "text/plain": [
       "range(0, 5)"
      ]
     },
     "execution_count": 94,
     "metadata": {},
     "output_type": "execute_result"
    }
   ],
   "source": [
    "range(5)"
   ]
  },
  {
   "cell_type": "code",
   "execution_count": 100,
   "id": "258b0d7f",
   "metadata": {},
   "outputs": [
    {
     "data": {
      "text/plain": [
       "[1, 3, 5, 7, 9]"
      ]
     },
     "execution_count": 100,
     "metadata": {},
     "output_type": "execute_result"
    }
   ],
   "source": [
    "list(range(1,10,2))"
   ]
  },
  {
   "cell_type": "code",
   "execution_count": 109,
   "id": "3b753794",
   "metadata": {},
   "outputs": [
    {
     "name": "stdout",
     "output_type": "stream",
     "text": [
      "0\n",
      "1\n",
      "2\n"
     ]
    }
   ],
   "source": [
    "a=[1,2,3,4,5]\n",
    "a[1:3]\n",
    "a[:len(a)//2], a[2:]\n",
    "\n",
    "for i in range(3):\n",
    "    print(i)"
   ]
  },
  {
   "cell_type": "markdown",
   "id": "93364fac",
   "metadata": {},
   "source": [
    "crud for list"
   ]
  },
  {
   "cell_type": "code",
   "execution_count": 129,
   "id": "9b4182fb",
   "metadata": {},
   "outputs": [
    {
     "data": {
      "text/plain": [
       "[1, 2, 3]"
      ]
     },
     "execution_count": 129,
     "metadata": {},
     "output_type": "execute_result"
    }
   ],
   "source": [
    "stack = []\n",
    "\n",
    "def push(a) :\n",
    "    stack.append(a)\n",
    "\n",
    "push(1)\n",
    "push(2)\n",
    "push(3)\n",
    "\n",
    "stack"
   ]
  },
  {
   "cell_type": "code",
   "execution_count": 130,
   "id": "de1ec878",
   "metadata": {},
   "outputs": [
    {
     "data": {
      "text/plain": [
       "3"
      ]
     },
     "execution_count": 130,
     "metadata": {},
     "output_type": "execute_result"
    }
   ],
   "source": [
    "def pop():\n",
    "    return stack.pop()\n",
    "pop()"
   ]
  },
  {
   "cell_type": "code",
   "execution_count": 131,
   "id": "8f9799de",
   "metadata": {},
   "outputs": [
    {
     "data": {
      "text/plain": [
       "2"
      ]
     },
     "execution_count": 131,
     "metadata": {},
     "output_type": "execute_result"
    }
   ],
   "source": [
    "def top():\n",
    "    return stack[-1]\n",
    "top()"
   ]
  },
  {
   "cell_type": "code",
   "execution_count": 133,
   "id": "04f4b233",
   "metadata": {},
   "outputs": [
    {
     "data": {
      "text/plain": [
       "[3, 2, 1]"
      ]
     },
     "execution_count": 133,
     "metadata": {},
     "output_type": "execute_result"
    }
   ],
   "source": [
    "stack = []\n",
    "def push(e):\n",
    "    stack.insert(0,e)\n",
    "push(1)\n",
    "push(2)\n",
    "push(3)\n",
    "\n",
    "stack"
   ]
  },
  {
   "cell_type": "code",
   "execution_count": 136,
   "id": "0aa8e76b",
   "metadata": {},
   "outputs": [
    {
     "data": {
      "text/plain": [
       "3"
      ]
     },
     "execution_count": 136,
     "metadata": {},
     "output_type": "execute_result"
    }
   ],
   "source": [
    "def pop():\n",
    "    return stack.pop(0)\n",
    "pop()"
   ]
  },
  {
   "cell_type": "code",
   "execution_count": 138,
   "id": "ae53879a",
   "metadata": {},
   "outputs": [
    {
     "data": {
      "text/plain": [
       "2"
      ]
     },
     "execution_count": 138,
     "metadata": {},
     "output_type": "execute_result"
    }
   ],
   "source": [
    "def top():\n",
    "    return stack[0]\n",
    "top()"
   ]
  },
  {
   "cell_type": "markdown",
   "id": "994bd754",
   "metadata": {},
   "source": [
    "string format"
   ]
  },
  {
   "cell_type": "code",
   "execution_count": 132,
   "id": "98c98a43",
   "metadata": {},
   "outputs": [],
   "source": [
    "a = 5\n",
    "b = 3.14159\n",
    "# f'{a}, {b: .2f}', '{:},{:.wf}'.format(a,b)"
   ]
  },
  {
   "cell_type": "code",
   "execution_count": 121,
   "id": "fb9f5fc7",
   "metadata": {},
   "outputs": [
    {
     "data": {
      "text/plain": [
       "(1, 2)"
      ]
     },
     "execution_count": 121,
     "metadata": {},
     "output_type": "execute_result"
    }
   ],
   "source": [
    "a = 1\n",
    "b = 3\n",
    "a,b = b,a\n",
    "a,b\n",
    "\n",
    "a,b = [1,2]\n",
    "a,b\n",
    "\n",
    "def foo():\n",
    "    return 1,2\n",
    "a,b = foo()\n",
    "a,b"
   ]
  },
  {
   "cell_type": "markdown",
   "id": "15f38cee",
   "metadata": {},
   "source": [
    "update"
   ]
  },
  {
   "cell_type": "code",
   "execution_count": 140,
   "id": "c74d4ebe",
   "metadata": {},
   "outputs": [
    {
     "data": {
      "text/plain": [
       "[5]"
      ]
     },
     "execution_count": 140,
     "metadata": {},
     "output_type": "execute_result"
    }
   ],
   "source": [
    "stack[1] = 5\n",
    "stack.remove(2)\n",
    "stack"
   ]
  },
  {
   "cell_type": "code",
   "execution_count": 145,
   "id": "593124f4",
   "metadata": {},
   "outputs": [
    {
     "data": {
      "text/plain": [
       "1"
      ]
     },
     "execution_count": 145,
     "metadata": {},
     "output_type": "execute_result"
    }
   ],
   "source": [
    "stack = [3,2,2,2,1]\n",
    "stack.count(2)\n",
    "stack.index(2)\n"
   ]
  },
  {
   "cell_type": "markdown",
   "id": "2950964a",
   "metadata": {},
   "source": [
    "정렬"
   ]
  },
  {
   "cell_type": "code",
   "execution_count": 153,
   "id": "27f0cc20",
   "metadata": {},
   "outputs": [
    {
     "data": {
      "text/plain": [
       "[1, 2, 3, 4]"
      ]
     },
     "execution_count": 153,
     "metadata": {},
     "output_type": "execute_result"
    }
   ],
   "source": [
    "l = [1, 3, 2, 4]\n",
    "l.sort() #risky\n",
    "l2=sorted(l)\n",
    "l2\n",
    "\n"
   ]
  },
  {
   "cell_type": "markdown",
   "id": "855de335",
   "metadata": {},
   "source": [
    "버블소트"
   ]
  },
  {
   "cell_type": "code",
   "execution_count": 160,
   "id": "200ec0c0",
   "metadata": {},
   "outputs": [
    {
     "data": {
      "text/plain": [
       "[1, 2, 3, 4]"
      ]
     },
     "execution_count": 160,
     "metadata": {},
     "output_type": "execute_result"
    }
   ],
   "source": [
    "l = [3, 2, 4, 1]\n",
    "def my_sort(data):\n",
    "    cp_data = data[:]\n",
    "    for i in range(0,len(cp_data)):\n",
    "        for j in range(i, len(cp_data)):\n",
    "            if cp_data[i] > cp_data[j]:\n",
    "                cp_data[i], cp_data[j] = cp_data[j], cp_data[i]\n",
    "    return cp_data\n",
    "my_sort(l)"
   ]
  },
  {
   "cell_type": "markdown",
   "id": "885c94c9",
   "metadata": {},
   "source": [
    "튜플"
   ]
  },
  {
   "cell_type": "code",
   "execution_count": 163,
   "id": "4a1df0ba",
   "metadata": {},
   "outputs": [
    {
     "data": {
      "text/plain": [
       "tuple"
      ]
     },
     "execution_count": 163,
     "metadata": {},
     "output_type": "execute_result"
    }
   ],
   "source": [
    "t = (1,2,3)\n",
    "t\n",
    "type(t)"
   ]
  },
  {
   "cell_type": "code",
   "execution_count": 166,
   "id": "4683d00d",
   "metadata": {},
   "outputs": [
    {
     "data": {
      "text/plain": [
       "tuple"
      ]
     },
     "execution_count": 166,
     "metadata": {},
     "output_type": "execute_result"
    }
   ],
   "source": [
    "t = tuple()\n",
    "type(t)\n",
    "\n",
    "# t[1] = 5\n"
   ]
  },
  {
   "cell_type": "code",
   "execution_count": null,
   "id": "cda4f290",
   "metadata": {},
   "outputs": [
    {
     "data": {
      "text/plain": [
       "(1, 2)"
      ]
     },
     "execution_count": 170,
     "metadata": {},
     "output_type": "execute_result"
    }
   ],
   "source": [
    "def foo():\n",
    "    return 1,2\n",
    "\n",
    "a=foo()\n",
    "type(a)\n",
    "\n",
    "a,b =foo()\n",
    "a,b"
   ]
  },
  {
   "cell_type": "code",
   "execution_count": 168,
   "id": "1579d7a8",
   "metadata": {},
   "outputs": [
    {
     "data": {
      "text/plain": [
       "(1, 2)"
      ]
     },
     "execution_count": 168,
     "metadata": {},
     "output_type": "execute_result"
    }
   ],
   "source": [
    "a, b = (1, 2)\n",
    "a, b"
   ]
  },
  {
   "cell_type": "code",
   "execution_count": 175,
   "id": "ac804e4a",
   "metadata": {},
   "outputs": [
    {
     "data": {
      "text/plain": [
       "(1, 2, 3)"
      ]
     },
     "execution_count": 175,
     "metadata": {},
     "output_type": "execute_result"
    }
   ],
   "source": [
    "tuple(map(int,'1 2 3'.split()))\n",
    "int(a),int(b),int(c)"
   ]
  }
 ],
 "metadata": {
  "kernelspec": {
   "display_name": "Python 3",
   "language": "python",
   "name": "python3"
  },
  "language_info": {
   "codemirror_mode": {
    "name": "ipython",
    "version": 3
   },
   "file_extension": ".py",
   "mimetype": "text/x-python",
   "name": "python",
   "nbconvert_exporter": "python",
   "pygments_lexer": "ipython3",
   "version": "3.9.13"
  }
 },
 "nbformat": 4,
 "nbformat_minor": 5
}
