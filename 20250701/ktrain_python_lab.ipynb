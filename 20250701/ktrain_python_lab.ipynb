{
  "cells": [
    {
      "cell_type": "markdown",
      "metadata": {
        "id": "ZYJeA4fpcGNk"
      },
      "source": [
        "# Lab"
      ]
    },
    {
      "cell_type": "markdown",
      "metadata": {
        "id": "AL3MoBZO5NpL"
      },
      "source": [
        "## 1. 정수 n을 입력받아 짝수인지 홀수인지 판단하는 함수를 작성하세요.\n",
        "\n",
        "\n"
      ]
    },
    {
      "cell_type": "code",
      "execution_count": 8,
      "metadata": {
        "id": "SBUQ1WRTc1Nz"
      },
      "outputs": [
        {
          "name": "stdout",
          "output_type": "stream",
          "text": [
            "Odd Odd\n",
            "Even Even\n",
            "Odd Odd\n",
            "Even Even\n",
            "Even Even\n"
          ]
        }
      ],
      "source": [
        "def is_even_or_odd(n: int) -> str:\n",
        "  if n % 2 == 0:\n",
        "    return \"Even\"\n",
        "  else:\n",
        "    return \"Odd\"\n",
        "\n",
        "input_data_even_odd = [5, 2, -3, -4, 0]\n",
        "output_data_even_odd = [\"Odd\", \"Even\", \"Odd\", \"Even\", \"Even\"]\n",
        "for i, o in zip(input_data_even_odd, output_data_even_odd):\n",
        "    assert is_even_or_odd(i) == o\n",
        "    print(is_even_or_odd(i), o)"
      ]
    },
    {
      "cell_type": "markdown",
      "metadata": {
        "id": "mGbPfQJEc5pl"
      },
      "source": [
        "## 2. 세 개의 정수 a, b, c를 입력받아 가장 큰 수를 반환하는 함수를 작성하세요."
      ]
    },
    {
      "cell_type": "code",
      "execution_count": 9,
      "metadata": {
        "id": "mGAC-9rSc7Qd"
      },
      "outputs": [],
      "source": [
        "def largest_of_three(a: int, b: int, c: int) -> int:\n",
        "  return max(a,b,c)\n",
        "\n",
        "\n",
        "input_data_largest_of_three = [(2, 4, 1), (1, 1, 1), (2, 2, 5), (-1, 0, -2)]\n",
        "output_data_largest_of_three = [4, 1, 5, 0]\n",
        "\n",
        "for i, o in zip(input_data_largest_of_three, output_data_largest_of_three):\n",
        "    assert largest_of_three(*i) == o"
      ]
    },
    {
      "cell_type": "markdown",
      "metadata": {
        "id": "INqFk2K5c7ks"
      },
      "source": [
        "## 3. 정수 n을 입력받아 3의 배수이면서 동시에 5의 배수인지 여부를 판단하는 함수를 작성하세요.\n",
        "\n"
      ]
    },
    {
      "cell_type": "code",
      "execution_count": 10,
      "metadata": {
        "id": "B2c46qWfc8z0"
      },
      "outputs": [],
      "source": [
        "def is_multiple_of_3_and_5(n: int) -> bool:\n",
        "  return (n % 3 == 0) and (n % 5 == 0)\n",
        "\n",
        "\n",
        "input_data_multiple_3_5 = [15, 3, 5, 30, 0, -15]\n",
        "output_data_multiple_3_5 = [True, False, False, True, True, True]\n",
        "\n",
        "for input_value, output_value in zip(input_data_multiple_3_5, output_data_multiple_3_5):\n",
        "    assert is_multiple_of_3_and_5(input_value) == output_value\n"
      ]
    },
    {
      "cell_type": "markdown",
      "metadata": {
        "id": "jAEoPcBXc9kM"
      },
      "source": [
        "## 4. 세 정수 a, b, c를 입력받아 피타고라스 정리(직각삼각형의 성립 조건: a² + b² = c²)를 만족하는지 확인하는 함수를 작성하세요. (단, a<=b<=c)"
      ]
    },
    {
      "cell_type": "code",
      "execution_count": null,
      "metadata": {
        "id": "nJN7nZ1Nc-ad"
      },
      "outputs": [],
      "source": [
        "def is_pythagorean_triple(a: int, b: int, c: int) -> bool:\n",
        "  return a > 0 and b > 0 and c > 0 and (a**2 + b**2 == c**2)\n",
        "  \n",
        "  \n",
        "\n",
        "input_data_pythagorean_triple = [(3, 4, 5), (5, 12, 13), (6, 8, 10), (7, 24, 25), (2, 3, 4), (0, 4, 4)]\n",
        "output_data_pythagorean_triple = [True, True, True, True, False, False]\n",
        "\n",
        "for input_values, output_value in zip(input_data_pythagorean_triple, output_data_pythagorean_triple):\n",
        "    assert is_pythagorean_triple(*input_values) == output_value"
      ]
    },
    {
      "cell_type": "markdown",
      "metadata": {
        "id": "EkRNBCyLctUY"
      },
      "source": [
        "## 5. 사용자로부터 몸무게(kg)와 키(m)를 입력받아 BMI를 계산하고, 해당하는 BMI 카테고리를 반환하는 함수를 작성하세요.\n",
        "\n",
        "* BMI 계산 공식: BMI = 몸무게(kg) / (키(m)²)\n",
        "\n",
        "### output\n",
        "* BMI < 18.5 : underweight\n",
        "* 18.5 <= BMI < 24.9 normal weight\n",
        "* 25.0 <= BMI overweight\n",
        "\n",
        "\n",
        "\n",
        "\n"
      ]
    },
    {
      "cell_type": "code",
      "execution_count": 13,
      "metadata": {
        "id": "BxdeHEF_cB3C"
      },
      "outputs": [],
      "source": [
        "def calculate_bmi(weight: float, height: float) -> str:\n",
        "  if height <= 0:\n",
        "     return \"Invalid input\"\n",
        "  bmi = weight / height**2\n",
        "  if bmi < 18.5:\n",
        "     return \"Underweight\"\n",
        "  elif 18.5 <= bmi < 24.9:\n",
        "     return \"Normal weight\"\n",
        "  else:\n",
        "     return \"Overweight\"\n",
        "input_data_bmi_calculator = [(60, 1.7), (45, 1.6), (85, 1.8), (100, 2), (0, 1.5), (60, 0)]\n",
        "output_data_bmi_calculator = [\"Normal weight\", \"Underweight\", \"Overweight\", \"Overweight\", \"Underweight\", \"Invalid input\"]\n",
        "\n",
        "for input_values, output_value in zip(input_data_bmi_calculator, output_data_bmi_calculator):\n",
        "    assert calculate_bmi(*input_values) == output_value"
      ]
    },
    {
      "cell_type": "markdown",
      "metadata": {
        "id": "tdJa-fe6Lu_N"
      },
      "source": [
        "## 6. 문자열 s를 입력받아, 그 문자열이 회문인지 여부를 확인하는 함수를 작성하세요.\n",
        "\n",
        "> 회문(Palindrome)은 앞뒤가 똑같이 읽히는 문자열을 의미합니다. 예를 들어, \"racecar\"나 \"madam\"은 회문이지만, \"hello\"나 \"world\"는 아닙니다."
      ]
    },
    {
      "cell_type": "code",
      "execution_count": 14,
      "metadata": {
        "id": "4CuQ-rftL-3y"
      },
      "outputs": [],
      "source": [
        "def is_palindrome(s: str) -> bool:\n",
        "  return s == s[::-1]\n",
        "\n",
        "input_data_palindrome_checker = [\"racecar\", \"madam\", \"hello\", \"level\", \"world\", \"noon\", \"python\"]\n",
        "output_data_palindrome_checker = [True, True, False, True, False, True, False]\n",
        "for input_value, output_value in zip(input_data_palindrome_checker, output_data_palindrome_checker):\n",
        "    assert is_palindrome(input_value) == output_value\n"
      ]
    },
    {
      "cell_type": "markdown",
      "metadata": {
        "id": "dI9p5_rNec8G"
      },
      "source": [
        "## 7. 주어진 정수 limit와 divisor를 입력받아, 1부터 limit 사이의 숫자 중 divisor의 배수의 합을 반환하는 함수를 작성하세요. 이때, while 반복문을 사용하세요.\n"
      ]
    },
    {
      "cell_type": "code",
      "execution_count": 29,
      "metadata": {
        "id": "nvheaxJOedT9"
      },
      "outputs": [
        {
          "name": "stdout",
          "output_type": "stream",
          "text": [
            "735 735\n",
            "275 275\n",
            "63 63\n"
          ]
        }
      ],
      "source": [
        "def sum_of_multiples(limit: int, divisor: int) -> int:\n",
        "    s=0\n",
        "    for i in range(1, limit+1):\n",
        "        if i % divisor == 0:\n",
        "            s += i\n",
        "    return s\n",
        "    # i = 1\n",
        "    # total = 0\n",
        "    # while i <= limit:\n",
        "    #     if i % divisor == 0:\n",
        "    #         total += i\n",
        "    #     i += 1\n",
        "    # return total\n",
        "\n",
        "input_data_sum_of_multiples = [(100, 7), (50, 5), (20, 3)]\n",
        "output_data_sum_of_multiples = [735, 275, 63]\n",
        "\n",
        "for input_values, output_value in zip(input_data_sum_of_multiples, output_data_sum_of_multiples):\n",
        "    # assert sum_of_multiples(*input_values) == output_value\n",
        "    print(sum_of_multiples(*input_values), output_value)\n"
      ]
    },
    {
      "cell_type": "markdown",
      "metadata": {
        "id": "wDOVnwLTee8p"
      },
      "source": [
        "##8. 정수 n을 입력받아, 해당 숫자의 구구단을 출력하는 함수를 for 반복문을 사용하여 작성하세요."
      ]
    },
    {
      "cell_type": "code",
      "execution_count": null,
      "metadata": {
        "id": "YeC_cgT3ee8q"
      },
      "outputs": [
        {
          "name": "stdout",
          "output_type": "stream",
          "text": [
            "5x1=5\n",
            "5x2=10\n",
            "5x3=15\n",
            "5x4=20\n",
            "5x5=25\n",
            "5x6=30\n",
            "5x7=35\n",
            "5x8=40\n",
            "5x9=45 5 x 1 = 5\n",
            "5 x 2 = 10\n",
            "5 x 3 = 15\n",
            "5 x 4 = 20\n",
            "5 x 5 = 25\n",
            "5 x 6 = 30\n",
            "5 x 7 = 35\n",
            "5 x 8 = 40\n",
            "5 x 9 = 45\n",
            "7x1=7\n",
            "7x2=14\n",
            "7x3=21\n",
            "7x4=28\n",
            "7x5=35\n",
            "7x6=42\n",
            "7x7=49\n",
            "7x8=56\n",
            "7x9=63 7 x 1 = 7\n",
            "7 x 2 = 14\n",
            "7 x 3 = 21\n",
            "7 x 4 = 28\n",
            "7 x 5 = 35\n",
            "7 x 6 = 42\n",
            "7 x 7 = 49\n",
            "7 x 8 = 56\n",
            "7 x 9 = 63\n",
            "3x1=3\n",
            "3x2=6\n",
            "3x3=9\n",
            "3x4=12\n",
            "3x5=15\n",
            "3x6=18\n",
            "3x7=21\n",
            "3x8=24\n",
            "3x9=27 3 x 1 = 3\n",
            "3 x 2 = 6\n",
            "3 x 3 = 9\n",
            "3 x 4 = 12\n",
            "3 x 5 = 15\n",
            "3 x 6 = 18\n",
            "3 x 7 = 21\n",
            "3 x 8 = 24\n",
            "3 x 9 = 27\n",
            "10x1=10\n",
            "10x2=20\n",
            "10x3=30\n",
            "10x4=40\n",
            "10x5=50\n",
            "10x6=60\n",
            "10x7=70\n",
            "10x8=80\n",
            "10x9=90 10 x 1 = 10\n",
            "10 x 2 = 20\n",
            "10 x 3 = 30\n",
            "10 x 4 = 40\n",
            "10 x 5 = 50\n",
            "10 x 6 = 60\n",
            "10 x 7 = 70\n",
            "10 x 8 = 80\n",
            "10 x 9 = 90\n",
            "0x1=0\n",
            "0x2=0\n",
            "0x3=0\n",
            "0x4=0\n",
            "0x5=0\n",
            "0x6=0\n",
            "0x7=0\n",
            "0x8=0\n",
            "0x9=0 0 x 1 = 0\n",
            "0 x 2 = 0\n",
            "0 x 3 = 0\n",
            "0 x 4 = 0\n",
            "0 x 5 = 0\n",
            "0 x 6 = 0\n",
            "0 x 7 = 0\n",
            "0 x 8 = 0\n",
            "0 x 9 = 0\n",
            "-2x1=-2\n",
            "-2x2=-4\n",
            "-2x3=-6\n",
            "-2x4=-8\n",
            "-2x5=-10\n",
            "-2x6=-12\n",
            "-2x7=-14\n",
            "-2x8=-16\n",
            "-2x9=-18 -2 x 1 = -2\n",
            "-2 x 2 = -4\n",
            "-2 x 3 = -6\n",
            "-2 x 4 = -8\n",
            "-2 x 5 = -10\n",
            "-2 x 6 = -12\n",
            "-2 x 7 = -14\n",
            "-2 x 8 = -16\n",
            "-2 x 9 = -18\n"
          ]
        }
      ],
      "source": [
        "def multiplication_table(n: int) -> str:\n",
        "  result = str()\n",
        "    for i in range(1,10)\n",
        "      result += {n}x{i}={n*i}\n",
        "    return result[:-1]\n",
        "  # lines = []\n",
        "  # for i in range(1,10):\n",
        "  #    lines.append(f\"{n}x{i}={n*i}\")\n",
        "  # return \"\\n\".join(lines)\n",
        "\n",
        "\n",
        "\n",
        "\n",
        "input_data_multiplication_table = [5, 7, 3, 10, 0, -2]\n",
        "output_data_multiplication_table = [\n",
        "    \"5 x 1 = 5\\n5 x 2 = 10\\n5 x 3 = 15\\n5 x 4 = 20\\n5 x 5 = 25\\n5 x 6 = 30\\n5 x 7 = 35\\n5 x 8 = 40\\n5 x 9 = 45\",\n",
        "    \"7 x 1 = 7\\n7 x 2 = 14\\n7 x 3 = 21\\n7 x 4 = 28\\n7 x 5 = 35\\n7 x 6 = 42\\n7 x 7 = 49\\n7 x 8 = 56\\n7 x 9 = 63\",\n",
        "    \"3 x 1 = 3\\n3 x 2 = 6\\n3 x 3 = 9\\n3 x 4 = 12\\n3 x 5 = 15\\n3 x 6 = 18\\n3 x 7 = 21\\n3 x 8 = 24\\n3 x 9 = 27\",\n",
        "    \"10 x 1 = 10\\n10 x 2 = 20\\n10 x 3 = 30\\n10 x 4 = 40\\n10 x 5 = 50\\n10 x 6 = 60\\n10 x 7 = 70\\n10 x 8 = 80\\n10 x 9 = 90\",\n",
        "    \"0 x 1 = 0\\n0 x 2 = 0\\n0 x 3 = 0\\n0 x 4 = 0\\n0 x 5 = 0\\n0 x 6 = 0\\n0 x 7 = 0\\n0 x 8 = 0\\n0 x 9 = 0\",\n",
        "    \"-2 x 1 = -2\\n-2 x 2 = -4\\n-2 x 3 = -6\\n-2 x 4 = -8\\n-2 x 5 = -10\\n-2 x 6 = -12\\n-2 x 7 = -14\\n-2 x 8 = -16\\n-2 x 9 = -18\",\n",
        "]\n",
        "\n",
        "for input_value, output_value in zip(input_data_multiplication_table, output_data_multiplication_table):\n",
        "  print(multiplication_table(input_value) , output_value)\n"
      ]
    },
    {
      "cell_type": "markdown",
      "metadata": {
        "id": "J5zjEzX3efP0"
      },
      "source": [
        "## 9. 양의 정수 n을 입력받아 소수인지 여부를 확인하는 함수를 작성하세요. 이때, for 반복문을 사용하세요.\n",
        "1보다 큰 자연수 중 1과 자기 자신만을 약수로 가지는 수\n",
        "즉, n > 1이고 1 < i < n인 모든 i에 대해 n % i != 0이면 소수입니다.\n",
        "\n",
        "설명: \n",
        "n <= 1: 소수 아님\n",
        "range(2, √n + 1)까지 검사 → 효율적인 소수 판별\n",
        "한 번이라도 n % i == 0이면 소수 아님"
      ]
    },
    {
      "cell_type": "code",
      "execution_count": 30,
      "metadata": {
        "id": "Q7DxZNeGefP0"
      },
      "outputs": [
        {
          "ename": "AssertionError",
          "evalue": "",
          "output_type": "error",
          "traceback": [
            "\u001b[1;31m---------------------------------------------------------------------------\u001b[0m",
            "\u001b[1;31mAssertionError\u001b[0m                            Traceback (most recent call last)",
            "Cell \u001b[1;32mIn[30], line 12\u001b[0m\n\u001b[0;32m      9\u001b[0m output_data_prime_checker \u001b[38;5;241m=\u001b[39m [\u001b[38;5;28;01mTrue\u001b[39;00m, \u001b[38;5;28;01mFalse\u001b[39;00m, \u001b[38;5;28;01mTrue\u001b[39;00m, \u001b[38;5;28;01mTrue\u001b[39;00m, \u001b[38;5;28;01mFalse\u001b[39;00m, \u001b[38;5;28;01mFalse\u001b[39;00m, \u001b[38;5;28;01mFalse\u001b[39;00m, \u001b[38;5;28;01mFalse\u001b[39;00m]\n\u001b[0;32m     11\u001b[0m \u001b[38;5;28;01mfor\u001b[39;00m input_value, output_value \u001b[38;5;129;01min\u001b[39;00m \u001b[38;5;28mzip\u001b[39m(input_data_prime_checker, output_data_prime_checker):\n\u001b[1;32m---> 12\u001b[0m     \u001b[38;5;28;01massert\u001b[39;00m is_prime(input_value) \u001b[38;5;241m==\u001b[39m output_value\n",
            "\u001b[1;31mAssertionError\u001b[0m: "
          ]
        }
      ],
      "source": [
        "def is_prime(n: int) -> bool:\n",
        "    result = \"\"\n",
        "    for i in range(1, 10):\n",
        "        result += f\"{n} x {i} = {n * i}\\n\"\n",
        "    return result[:-1]\n",
        "\n",
        "\n",
        "input_data_prime_checker = [7, 12, 19, 2, 1, 0, -3, 20]\n",
        "output_data_prime_checker = [True, False, True, True, False, False, False, False]\n",
        "\n",
        "for input_value, output_value in zip(input_data_prime_checker, output_data_prime_checker):\n",
        "    assert is_prime(input_value) == output_value"
      ]
    },
    {
      "cell_type": "markdown",
      "metadata": {
        "id": "P5k8YQd9dmUT"
      },
      "source": [
        "## 10. 문자열 s를 입력받아, 해당 문자열을 뒤집고, 그 문자열에 포함된 모음(a, e, i, o, u)의 개수를 반환하는 두 가지 함수를 작성하세요.\n",
        "설명\n",
        "s[::-1]: 문자열 뒤집기\n",
        "s.lower(): 대소문자 구분 없이 검사하기 위해 모두 소문자로 변환\n",
        "if ch in vowels: 현재 문자가 모음이면 count += 1"
      ]
    },
    {
      "cell_type": "code",
      "execution_count": null,
      "metadata": {
        "id": "EBIwt03Kdnpp"
      },
      "outputs": [],
      "source": [
        "def reverse(s: str) -> str:\n",
        "  return s[::-1]\n",
        "\n",
        "def count_vowels(s :str) -> int:\n",
        "  count = 0\n",
        "  vowels = 'aeiou'\n",
        "  for i in s.lower():\n",
        "     if i in vowels:\n",
        "        count += 1\n",
        "  return count\n",
        "\n",
        "\n",
        "\n",
        "input_data_string_reversal_vowel_count = [\"hello\", \"world\", \"python\", \"aeiou\", \"empty\", \"hElLo\"]\n",
        "output_data_string_reversal_vowel_count = [(\"olleh\", 2), (\"dlrow\", 1), (\"nohtyp\", 1), (\"uoiea\", 5), (\"ytpme\", 1), (\"oLlEh\", 2)]\n",
        "\n",
        "for input_value, output_value in zip(input_data_string_reversal_vowel_count, output_data_string_reversal_vowel_count):\n",
        "    assert (reverse(input_value), count_vowels(input_value)) == output_value\n"
      ]
    },
    {
      "cell_type": "markdown",
      "metadata": {
        "id": "mPv8F8IDdsNB"
      },
      "source": [
        "## 11. 정수 n을 입력받아, 아래와 같은 패턴을 출력하는 함수를 작성하세요. 이때, 반복문을 사용하세요.\n",
        "\n",
        "n = 5\n",
        "```\n",
        "*****\n",
        " ****\n",
        "  ***\n",
        "   **\n",
        "    *\n",
        "```"
      ]
    },
    {
      "cell_type": "code",
      "execution_count": 35,
      "metadata": {
        "id": "tXDgAKGadyDx"
      },
      "outputs": [
        {
          "name": "stdout",
          "output_type": "stream",
          "text": [
            "*****\n",
            " ****\n",
            "  ***\n",
            "   **\n",
            "    * *****\n",
            " ****\n",
            "  ***\n",
            "   **\n",
            "    *\n",
            "***\n",
            " **\n",
            "  * ***\n",
            " **\n",
            "  *\n",
            "******\n",
            " *****\n",
            "  ****\n",
            "   ***\n",
            "    **\n",
            "     * ******\n",
            " *****\n",
            "  ****\n",
            "   ***\n",
            "    **\n",
            "     *\n",
            "* *\n"
          ]
        }
      ],
      "source": [
        "def gen_pattern(n: int) -> str:\n",
        "    result = \"\"\n",
        "    for i in range(n):\n",
        "        result += \" \" * i + \"*\" * (n - i) + \"\\n\"\n",
        "    return result.rstrip()\n",
        "\n",
        "\n",
        "input_data_gen_pattern = [5, 3, 6, 1]\n",
        "output_data_gen_pattern = [\"*****\\n ****\\n  ***\\n   **\\n    *\",\n",
        "                           \"***\\n **\\n  *\",\n",
        "                           \"******\\n *****\\n  ****\\n   ***\\n    **\\n     *\",\n",
        "                           \"*\"]\n",
        "\n",
        "for input_value, output_value in zip(input_data_gen_pattern, output_data_gen_pattern):\n",
        "    print(gen_pattern(input_value),output_value)"
      ]
    },
    {
      "cell_type": "markdown",
      "metadata": {
        "id": "aTfwJbtWeNxR"
      },
      "source": [
        "## 12. 다음의 메서드를 구현하세요:\n",
        "\n",
        "* add_item(item: str) -> None: 쇼핑 리스트에 항목 추가.\n",
        "* remove_item(item: str) -> None: 쇼핑 리스트에서 항목 제거.\n",
        "* display_list() -> List[str]: 현재 쇼핑 리스트 반환.\n",
        "quit() -> None: 쇼핑 리스트 종료.\n"
      ]
    },
    {
      "cell_type": "code",
      "execution_count": null,
      "metadata": {
        "id": "APNy8a6ZeO6l"
      },
      "outputs": [],
      "source": [
        "from typing import List, Dict, Callable, Any\n",
        "\n",
        "items = []\n",
        "\n",
        "def add_item(item: str) -> None:\n",
        "  #implement your code\n",
        "  pass\n",
        "\n",
        "def remove_item(item: str) -> None:\n",
        "  #implement your code\n",
        "  pass\n",
        "\n",
        "def display_list(item: str) -> List[str]:\n",
        "  #implement your code\n",
        "  pass\n",
        "\n",
        "def quit(item: str) -> None:\n",
        "  #implement your code\n",
        "  pass\n",
        "\n",
        "commands = {'add': add_item,\n",
        "            'remove': remove_item,\n",
        "            'display': display_list,\n",
        "            'exit': quit}\n",
        "\n",
        "input_data_shopping_list = [(\"add\", \"apple\"), (\"add\", \"banana\"),\n",
        "                            (\"add\", \"orange\"), (\"display\", ''),\n",
        "                            (\"remove\", \"banana\"), (\"display\", ''),\n",
        "                            (\"exit\", '')]\n",
        "\n",
        "output_data_shopping_list = [None, None,None,[\"apple\", \"banana\", \"orange\"], None,[\"apple\", \"orange\"],None]\n",
        "\n",
        "for (action, item), expected_output in zip(input_data_shopping_list, output_data_shopping_list):\n",
        "  assert commands[action](item) == expected_output\n"
      ]
    }
  ],
  "metadata": {
    "colab": {
      "provenance": []
    },
    "kernelspec": {
      "display_name": "Python 3",
      "name": "python3"
    },
    "language_info": {
      "codemirror_mode": {
        "name": "ipython",
        "version": 3
      },
      "file_extension": ".py",
      "mimetype": "text/x-python",
      "name": "python",
      "nbconvert_exporter": "python",
      "pygments_lexer": "ipython3",
      "version": "3.9.13"
    }
  },
  "nbformat": 4,
  "nbformat_minor": 0
}
