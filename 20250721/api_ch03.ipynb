{
 "cells": [
  {
   "cell_type": "markdown",
   "id": "838a541a",
   "metadata": {},
   "source": [
    "p.135~140"
   ]
  },
  {
   "cell_type": "code",
   "execution_count": 1,
   "id": "20cee239",
   "metadata": {},
   "outputs": [],
   "source": [
    "import numpy as np\n",
    "import pandas as pd"
   ]
  },
  {
   "cell_type": "code",
   "execution_count": 2,
   "id": "856de6b8",
   "metadata": {},
   "outputs": [
    {
     "data": {
      "text/plain": [
       "array([1, None, 2, 3], dtype=object)"
      ]
     },
     "execution_count": 2,
     "metadata": {},
     "output_type": "execute_result"
    }
   ],
   "source": [
    "vals1 = np.array([1, None, 2, 3])\n",
    "vals1"
   ]
  },
  {
   "cell_type": "code",
   "execution_count": 3,
   "id": "2fffd700",
   "metadata": {},
   "outputs": [
    {
     "ename": "TypeError",
     "evalue": "unsupported operand type(s) for +: 'int' and 'NoneType'",
     "output_type": "error",
     "traceback": [
      "\u001b[1;31m---------------------------------------------------------------------------\u001b[0m",
      "\u001b[1;31mTypeError\u001b[0m                                 Traceback (most recent call last)",
      "Cell \u001b[1;32mIn[3], line 1\u001b[0m\n\u001b[1;32m----> 1\u001b[0m \u001b[43mvals1\u001b[49m\u001b[38;5;241;43m.\u001b[39;49m\u001b[43msum\u001b[49m\u001b[43m(\u001b[49m\u001b[43m)\u001b[49m\n",
      "File \u001b[1;32mc:\\Users\\user\\miniconda3\\envs\\aip_39\\lib\\site-packages\\numpy\\_core\\_methods.py:52\u001b[0m, in \u001b[0;36m_sum\u001b[1;34m(a, axis, dtype, out, keepdims, initial, where)\u001b[0m\n\u001b[0;32m     50\u001b[0m \u001b[38;5;28;01mdef\u001b[39;00m\u001b[38;5;250m \u001b[39m\u001b[38;5;21m_sum\u001b[39m(a, axis\u001b[38;5;241m=\u001b[39m\u001b[38;5;28;01mNone\u001b[39;00m, dtype\u001b[38;5;241m=\u001b[39m\u001b[38;5;28;01mNone\u001b[39;00m, out\u001b[38;5;241m=\u001b[39m\u001b[38;5;28;01mNone\u001b[39;00m, keepdims\u001b[38;5;241m=\u001b[39m\u001b[38;5;28;01mFalse\u001b[39;00m,\n\u001b[0;32m     51\u001b[0m          initial\u001b[38;5;241m=\u001b[39m_NoValue, where\u001b[38;5;241m=\u001b[39m\u001b[38;5;28;01mTrue\u001b[39;00m):\n\u001b[1;32m---> 52\u001b[0m     \u001b[38;5;28;01mreturn\u001b[39;00m \u001b[43mumr_sum\u001b[49m\u001b[43m(\u001b[49m\u001b[43ma\u001b[49m\u001b[43m,\u001b[49m\u001b[43m \u001b[49m\u001b[43maxis\u001b[49m\u001b[43m,\u001b[49m\u001b[43m \u001b[49m\u001b[43mdtype\u001b[49m\u001b[43m,\u001b[49m\u001b[43m \u001b[49m\u001b[43mout\u001b[49m\u001b[43m,\u001b[49m\u001b[43m \u001b[49m\u001b[43mkeepdims\u001b[49m\u001b[43m,\u001b[49m\u001b[43m \u001b[49m\u001b[43minitial\u001b[49m\u001b[43m,\u001b[49m\u001b[43m \u001b[49m\u001b[43mwhere\u001b[49m\u001b[43m)\u001b[49m\n",
      "\u001b[1;31mTypeError\u001b[0m: unsupported operand type(s) for +: 'int' and 'NoneType'"
     ]
    }
   ],
   "source": [
    "vals1.sum()"
   ]
  },
  {
   "cell_type": "code",
   "execution_count": 5,
   "id": "e08e81ed",
   "metadata": {},
   "outputs": [
    {
     "data": {
      "text/plain": [
       "dtype('float64')"
      ]
     },
     "execution_count": 5,
     "metadata": {},
     "output_type": "execute_result"
    }
   ],
   "source": [
    "vals2 = np.array([1, np.nan, 3,4])\n",
    "vals2.dtype"
   ]
  },
  {
   "cell_type": "markdown",
   "id": "1828af7c",
   "metadata": {},
   "source": []
  },
  {
   "cell_type": "code",
   "execution_count": 7,
   "id": "7756424a",
   "metadata": {},
   "outputs": [
    {
     "data": {
      "text/plain": [
       "nan"
      ]
     },
     "execution_count": 7,
     "metadata": {},
     "output_type": "execute_result"
    }
   ],
   "source": [
    "1 + np.nan\n",
    "0 * np.nan"
   ]
  },
  {
   "cell_type": "code",
   "execution_count": 9,
   "id": "805ea065",
   "metadata": {},
   "outputs": [
    {
     "data": {
      "text/plain": [
       "(np.float64(nan), np.float64(nan), np.float64(nan))"
      ]
     },
     "execution_count": 9,
     "metadata": {},
     "output_type": "execute_result"
    }
   ],
   "source": [
    "vals2.sum(), vals2.min(), vals2.max()"
   ]
  },
  {
   "cell_type": "code",
   "execution_count": 10,
   "id": "f900d503",
   "metadata": {},
   "outputs": [
    {
     "data": {
      "text/plain": [
       "np.float64(8.0)"
      ]
     },
     "execution_count": 10,
     "metadata": {},
     "output_type": "execute_result"
    }
   ],
   "source": [
    "np.nansum(vals2)"
   ]
  },
  {
   "cell_type": "code",
   "execution_count": 11,
   "id": "44b3e482",
   "metadata": {},
   "outputs": [
    {
     "data": {
      "text/plain": [
       "0    1.0\n",
       "1    NaN\n",
       "2    2.0\n",
       "3    NaN\n",
       "dtype: float64"
      ]
     },
     "execution_count": 11,
     "metadata": {},
     "output_type": "execute_result"
    }
   ],
   "source": [
    "pd.Series([1, np.nan, 2, None])"
   ]
  },
  {
   "cell_type": "code",
   "execution_count": 12,
   "id": "8c0ca5fe",
   "metadata": {},
   "outputs": [
    {
     "data": {
      "text/plain": [
       "0    0\n",
       "1    1\n",
       "dtype: int64"
      ]
     },
     "execution_count": 12,
     "metadata": {},
     "output_type": "execute_result"
    }
   ],
   "source": [
    "x = pd.Series(range(2), dtype=int)\n",
    "x"
   ]
  },
  {
   "cell_type": "code",
   "execution_count": 14,
   "id": "4ff71e58",
   "metadata": {},
   "outputs": [
    {
     "data": {
      "text/plain": [
       "0    NaN\n",
       "1    1.0\n",
       "dtype: float64"
      ]
     },
     "execution_count": 14,
     "metadata": {},
     "output_type": "execute_result"
    }
   ],
   "source": [
    "x[0] = None\n",
    "x"
   ]
  },
  {
   "cell_type": "code",
   "execution_count": 15,
   "id": "a721aca3",
   "metadata": {},
   "outputs": [
    {
     "data": {
      "text/plain": [
       "0       1\n",
       "1    <NA>\n",
       "2       2\n",
       "3    <NA>\n",
       "4    <NA>\n",
       "dtype: Int32"
      ]
     },
     "execution_count": 15,
     "metadata": {},
     "output_type": "execute_result"
    }
   ],
   "source": [
    "pd.Series([1, np.nan, 2, None, pd.NA], dtype='Int32')"
   ]
  },
  {
   "cell_type": "code",
   "execution_count": 16,
   "id": "3be17d3a",
   "metadata": {},
   "outputs": [
    {
     "data": {
      "text/plain": [
       "0    False\n",
       "1     True\n",
       "2    False\n",
       "3     True\n",
       "dtype: bool"
      ]
     },
     "execution_count": 16,
     "metadata": {},
     "output_type": "execute_result"
    }
   ],
   "source": [
    "data = pd.Series([1,np.nan,'hello',None])\n",
    "data.isnull()"
   ]
  },
  {
   "cell_type": "code",
   "execution_count": 17,
   "id": "7361a81b",
   "metadata": {},
   "outputs": [
    {
     "data": {
      "text/plain": [
       "0        1\n",
       "2    hello\n",
       "dtype: object"
      ]
     },
     "execution_count": 17,
     "metadata": {},
     "output_type": "execute_result"
    }
   ],
   "source": [
    "data[data.notnull()]\n"
   ]
  },
  {
   "cell_type": "code",
   "execution_count": 18,
   "id": "6510ab56",
   "metadata": {},
   "outputs": [
    {
     "data": {
      "text/plain": [
       "0        1\n",
       "2    hello\n",
       "dtype: object"
      ]
     },
     "execution_count": 18,
     "metadata": {},
     "output_type": "execute_result"
    }
   ],
   "source": [
    "data.dropna()"
   ]
  },
  {
   "cell_type": "code",
   "execution_count": 19,
   "id": "46e2abe0",
   "metadata": {},
   "outputs": [
    {
     "data": {
      "text/html": [
       "<div>\n",
       "<style scoped>\n",
       "    .dataframe tbody tr th:only-of-type {\n",
       "        vertical-align: middle;\n",
       "    }\n",
       "\n",
       "    .dataframe tbody tr th {\n",
       "        vertical-align: top;\n",
       "    }\n",
       "\n",
       "    .dataframe thead th {\n",
       "        text-align: right;\n",
       "    }\n",
       "</style>\n",
       "<table border=\"1\" class=\"dataframe\">\n",
       "  <thead>\n",
       "    <tr style=\"text-align: right;\">\n",
       "      <th></th>\n",
       "      <th>0</th>\n",
       "      <th>1</th>\n",
       "      <th>2</th>\n",
       "    </tr>\n",
       "  </thead>\n",
       "  <tbody>\n",
       "    <tr>\n",
       "      <th>0</th>\n",
       "      <td>1.0</td>\n",
       "      <td>NaN</td>\n",
       "      <td>2</td>\n",
       "    </tr>\n",
       "    <tr>\n",
       "      <th>1</th>\n",
       "      <td>2.0</td>\n",
       "      <td>3.0</td>\n",
       "      <td>5</td>\n",
       "    </tr>\n",
       "    <tr>\n",
       "      <th>2</th>\n",
       "      <td>NaN</td>\n",
       "      <td>4.0</td>\n",
       "      <td>6</td>\n",
       "    </tr>\n",
       "  </tbody>\n",
       "</table>\n",
       "</div>"
      ],
      "text/plain": [
       "     0    1  2\n",
       "0  1.0  NaN  2\n",
       "1  2.0  3.0  5\n",
       "2  NaN  4.0  6"
      ]
     },
     "execution_count": 19,
     "metadata": {},
     "output_type": "execute_result"
    }
   ],
   "source": [
    "df = pd.DataFrame([[1, np.nan, 2],\n",
    "                   [2, 3, 5],\n",
    "                   [np.nan, 4,6]])\n",
    "df"
   ]
  },
  {
   "cell_type": "code",
   "execution_count": 20,
   "id": "0bcc1d4c",
   "metadata": {},
   "outputs": [
    {
     "data": {
      "text/html": [
       "<div>\n",
       "<style scoped>\n",
       "    .dataframe tbody tr th:only-of-type {\n",
       "        vertical-align: middle;\n",
       "    }\n",
       "\n",
       "    .dataframe tbody tr th {\n",
       "        vertical-align: top;\n",
       "    }\n",
       "\n",
       "    .dataframe thead th {\n",
       "        text-align: right;\n",
       "    }\n",
       "</style>\n",
       "<table border=\"1\" class=\"dataframe\">\n",
       "  <thead>\n",
       "    <tr style=\"text-align: right;\">\n",
       "      <th></th>\n",
       "      <th>0</th>\n",
       "      <th>1</th>\n",
       "      <th>2</th>\n",
       "    </tr>\n",
       "  </thead>\n",
       "  <tbody>\n",
       "    <tr>\n",
       "      <th>1</th>\n",
       "      <td>2.0</td>\n",
       "      <td>3.0</td>\n",
       "      <td>5</td>\n",
       "    </tr>\n",
       "  </tbody>\n",
       "</table>\n",
       "</div>"
      ],
      "text/plain": [
       "     0    1  2\n",
       "1  2.0  3.0  5"
      ]
     },
     "execution_count": 20,
     "metadata": {},
     "output_type": "execute_result"
    }
   ],
   "source": [
    "df.dropna()"
   ]
  },
  {
   "cell_type": "code",
   "execution_count": 21,
   "id": "b5636182",
   "metadata": {},
   "outputs": [
    {
     "data": {
      "text/html": [
       "<div>\n",
       "<style scoped>\n",
       "    .dataframe tbody tr th:only-of-type {\n",
       "        vertical-align: middle;\n",
       "    }\n",
       "\n",
       "    .dataframe tbody tr th {\n",
       "        vertical-align: top;\n",
       "    }\n",
       "\n",
       "    .dataframe thead th {\n",
       "        text-align: right;\n",
       "    }\n",
       "</style>\n",
       "<table border=\"1\" class=\"dataframe\">\n",
       "  <thead>\n",
       "    <tr style=\"text-align: right;\">\n",
       "      <th></th>\n",
       "      <th>2</th>\n",
       "    </tr>\n",
       "  </thead>\n",
       "  <tbody>\n",
       "    <tr>\n",
       "      <th>0</th>\n",
       "      <td>2</td>\n",
       "    </tr>\n",
       "    <tr>\n",
       "      <th>1</th>\n",
       "      <td>5</td>\n",
       "    </tr>\n",
       "    <tr>\n",
       "      <th>2</th>\n",
       "      <td>6</td>\n",
       "    </tr>\n",
       "  </tbody>\n",
       "</table>\n",
       "</div>"
      ],
      "text/plain": [
       "   2\n",
       "0  2\n",
       "1  5\n",
       "2  6"
      ]
     },
     "execution_count": 21,
     "metadata": {},
     "output_type": "execute_result"
    }
   ],
   "source": [
    "df.dropna(axis='columns')"
   ]
  },
  {
   "cell_type": "code",
   "execution_count": 23,
   "id": "5cc80067",
   "metadata": {},
   "outputs": [
    {
     "data": {
      "text/html": [
       "<div>\n",
       "<style scoped>\n",
       "    .dataframe tbody tr th:only-of-type {\n",
       "        vertical-align: middle;\n",
       "    }\n",
       "\n",
       "    .dataframe tbody tr th {\n",
       "        vertical-align: top;\n",
       "    }\n",
       "\n",
       "    .dataframe thead th {\n",
       "        text-align: right;\n",
       "    }\n",
       "</style>\n",
       "<table border=\"1\" class=\"dataframe\">\n",
       "  <thead>\n",
       "    <tr style=\"text-align: right;\">\n",
       "      <th></th>\n",
       "      <th>0</th>\n",
       "      <th>1</th>\n",
       "      <th>2</th>\n",
       "      <th>3</th>\n",
       "    </tr>\n",
       "  </thead>\n",
       "  <tbody>\n",
       "    <tr>\n",
       "      <th>0</th>\n",
       "      <td>1.0</td>\n",
       "      <td>NaN</td>\n",
       "      <td>2</td>\n",
       "      <td>NaN</td>\n",
       "    </tr>\n",
       "    <tr>\n",
       "      <th>1</th>\n",
       "      <td>2.0</td>\n",
       "      <td>3.0</td>\n",
       "      <td>5</td>\n",
       "      <td>NaN</td>\n",
       "    </tr>\n",
       "    <tr>\n",
       "      <th>2</th>\n",
       "      <td>NaN</td>\n",
       "      <td>4.0</td>\n",
       "      <td>6</td>\n",
       "      <td>NaN</td>\n",
       "    </tr>\n",
       "  </tbody>\n",
       "</table>\n",
       "</div>"
      ],
      "text/plain": [
       "     0    1  2   3\n",
       "0  1.0  NaN  2 NaN\n",
       "1  2.0  3.0  5 NaN\n",
       "2  NaN  4.0  6 NaN"
      ]
     },
     "execution_count": 23,
     "metadata": {},
     "output_type": "execute_result"
    }
   ],
   "source": [
    "df[3]=np.nan\n",
    "df"
   ]
  },
  {
   "cell_type": "code",
   "execution_count": 24,
   "id": "80660f51",
   "metadata": {},
   "outputs": [
    {
     "data": {
      "text/html": [
       "<div>\n",
       "<style scoped>\n",
       "    .dataframe tbody tr th:only-of-type {\n",
       "        vertical-align: middle;\n",
       "    }\n",
       "\n",
       "    .dataframe tbody tr th {\n",
       "        vertical-align: top;\n",
       "    }\n",
       "\n",
       "    .dataframe thead th {\n",
       "        text-align: right;\n",
       "    }\n",
       "</style>\n",
       "<table border=\"1\" class=\"dataframe\">\n",
       "  <thead>\n",
       "    <tr style=\"text-align: right;\">\n",
       "      <th></th>\n",
       "      <th>0</th>\n",
       "      <th>1</th>\n",
       "      <th>2</th>\n",
       "      <th>3</th>\n",
       "    </tr>\n",
       "  </thead>\n",
       "  <tbody>\n",
       "    <tr>\n",
       "      <th>1</th>\n",
       "      <td>2.0</td>\n",
       "      <td>3.0</td>\n",
       "      <td>5</td>\n",
       "      <td>NaN</td>\n",
       "    </tr>\n",
       "  </tbody>\n",
       "</table>\n",
       "</div>"
      ],
      "text/plain": [
       "     0    1  2   3\n",
       "1  2.0  3.0  5 NaN"
      ]
     },
     "execution_count": 24,
     "metadata": {},
     "output_type": "execute_result"
    }
   ],
   "source": [
    "df.dropna(axis='rows', thresh=3)"
   ]
  },
  {
   "cell_type": "code",
   "execution_count": 25,
   "id": "17d36f94",
   "metadata": {},
   "outputs": [
    {
     "data": {
      "text/plain": [
       "a    1.0\n",
       "b    NaN\n",
       "c    2.0\n",
       "d    NaN\n",
       "e    3.0\n",
       "dtype: float64"
      ]
     },
     "execution_count": 25,
     "metadata": {},
     "output_type": "execute_result"
    }
   ],
   "source": [
    "# 인덱스에 맞게 리스트랑 대입됨\n",
    "data= pd.Series([1, np.nan, 2, None,3], index=list('abcde'))\n",
    "data"
   ]
  },
  {
   "cell_type": "code",
   "execution_count": 26,
   "id": "3b24e551",
   "metadata": {},
   "outputs": [
    {
     "data": {
      "text/plain": [
       "a    1.0\n",
       "b    0.0\n",
       "c    2.0\n",
       "d    0.0\n",
       "e    3.0\n",
       "dtype: float64"
      ]
     },
     "execution_count": 26,
     "metadata": {},
     "output_type": "execute_result"
    }
   ],
   "source": [
    "data.fillna(0)"
   ]
  },
  {
   "cell_type": "code",
   "execution_count": 27,
   "id": "c5a57957",
   "metadata": {},
   "outputs": [
    {
     "name": "stderr",
     "output_type": "stream",
     "text": [
      "C:\\Users\\user\\AppData\\Local\\Temp\\ipykernel_12804\\1844443866.py:1: FutureWarning: Series.fillna with 'method' is deprecated and will raise in a future version. Use obj.ffill() or obj.bfill() instead.\n",
      "  data.fillna(method='ffill')\n"
     ]
    },
    {
     "data": {
      "text/plain": [
       "a    1.0\n",
       "b    1.0\n",
       "c    2.0\n",
       "d    2.0\n",
       "e    3.0\n",
       "dtype: float64"
      ]
     },
     "execution_count": 27,
     "metadata": {},
     "output_type": "execute_result"
    }
   ],
   "source": [
    "data.fillna(method='ffill')"
   ]
  },
  {
   "cell_type": "code",
   "execution_count": 28,
   "id": "4e7b6216",
   "metadata": {},
   "outputs": [
    {
     "name": "stdout",
     "output_type": "stream",
     "text": [
      "Collecting yfinance\n",
      "  Downloading yfinance-0.2.65-py2.py3-none-any.whl.metadata (5.8 kB)\n",
      "Requirement already satisfied: pandas>=1.3.0 in c:\\users\\user\\miniconda3\\envs\\aip_39\\lib\\site-packages (from yfinance) (2.3.1)\n",
      "Requirement already satisfied: numpy>=1.16.5 in c:\\users\\user\\miniconda3\\envs\\aip_39\\lib\\site-packages (from yfinance) (2.0.2)\n",
      "Collecting requests>=2.31 (from yfinance)\n",
      "  Downloading requests-2.32.4-py3-none-any.whl.metadata (4.9 kB)\n",
      "Collecting multitasking>=0.0.7 (from yfinance)\n",
      "  Downloading multitasking-0.0.12.tar.gz (19 kB)\n",
      "  Preparing metadata (setup.py): started\n",
      "  Preparing metadata (setup.py): finished with status 'done'\n",
      "Requirement already satisfied: platformdirs>=2.0.0 in c:\\users\\user\\appdata\\roaming\\python\\python39\\site-packages (from yfinance) (4.3.8)\n",
      "Requirement already satisfied: pytz>=2022.5 in c:\\users\\user\\miniconda3\\envs\\aip_39\\lib\\site-packages (from yfinance) (2025.2)\n",
      "Collecting frozendict>=2.3.4 (from yfinance)\n",
      "  Downloading frozendict-2.4.6-cp39-cp39-win_amd64.whl.metadata (23 kB)\n",
      "Collecting peewee>=3.16.2 (from yfinance)\n",
      "  Downloading peewee-3.18.2.tar.gz (949 kB)\n",
      "     ---------------------------------------- 0.0/949.2 kB ? eta -:--:--\n",
      "     ------------------------------------- 949.2/949.2 kB 22.2 MB/s eta 0:00:00\n",
      "  Installing build dependencies: started\n",
      "  Installing build dependencies: finished with status 'done'\n",
      "  Getting requirements to build wheel: started\n",
      "  Getting requirements to build wheel: finished with status 'done'\n",
      "  Preparing metadata (pyproject.toml): started\n",
      "  Preparing metadata (pyproject.toml): finished with status 'done'\n",
      "Collecting beautifulsoup4>=4.11.1 (from yfinance)\n",
      "  Downloading beautifulsoup4-4.13.4-py3-none-any.whl.metadata (3.8 kB)\n",
      "Collecting curl_cffi>=0.7 (from yfinance)\n",
      "  Downloading curl_cffi-0.12.0-cp39-abi3-win_amd64.whl.metadata (15 kB)\n",
      "Collecting protobuf>=3.19.0 (from yfinance)\n",
      "  Downloading protobuf-6.31.1-cp39-cp39-win_amd64.whl.metadata (593 bytes)\n",
      "Collecting websockets>=13.0 (from yfinance)\n",
      "  Downloading websockets-15.0.1-cp39-cp39-win_amd64.whl.metadata (7.0 kB)\n",
      "Collecting soupsieve>1.2 (from beautifulsoup4>=4.11.1->yfinance)\n",
      "  Downloading soupsieve-2.7-py3-none-any.whl.metadata (4.6 kB)\n",
      "Requirement already satisfied: typing-extensions>=4.0.0 in c:\\users\\user\\appdata\\roaming\\python\\python39\\site-packages (from beautifulsoup4>=4.11.1->yfinance) (4.14.0)\n",
      "Collecting cffi>=1.12.0 (from curl_cffi>=0.7->yfinance)\n",
      "  Downloading cffi-1.17.1-cp39-cp39-win_amd64.whl.metadata (1.6 kB)\n",
      "Collecting certifi>=2024.2.2 (from curl_cffi>=0.7->yfinance)\n",
      "  Downloading certifi-2025.7.14-py3-none-any.whl.metadata (2.4 kB)\n",
      "Collecting pycparser (from cffi>=1.12.0->curl_cffi>=0.7->yfinance)\n",
      "  Downloading pycparser-2.22-py3-none-any.whl.metadata (943 bytes)\n",
      "Requirement already satisfied: python-dateutil>=2.8.2 in c:\\users\\user\\appdata\\roaming\\python\\python39\\site-packages (from pandas>=1.3.0->yfinance) (2.9.0.post0)\n",
      "Requirement already satisfied: tzdata>=2022.7 in c:\\users\\user\\miniconda3\\envs\\aip_39\\lib\\site-packages (from pandas>=1.3.0->yfinance) (2025.2)\n",
      "Requirement already satisfied: six>=1.5 in c:\\users\\user\\appdata\\roaming\\python\\python39\\site-packages (from python-dateutil>=2.8.2->pandas>=1.3.0->yfinance) (1.17.0)\n",
      "Collecting charset_normalizer<4,>=2 (from requests>=2.31->yfinance)\n",
      "  Downloading charset_normalizer-3.4.2-cp39-cp39-win_amd64.whl.metadata (36 kB)\n",
      "Collecting idna<4,>=2.5 (from requests>=2.31->yfinance)\n",
      "  Downloading idna-3.10-py3-none-any.whl.metadata (10 kB)\n",
      "Collecting urllib3<3,>=1.21.1 (from requests>=2.31->yfinance)\n",
      "  Downloading urllib3-2.5.0-py3-none-any.whl.metadata (6.5 kB)\n",
      "Downloading yfinance-0.2.65-py2.py3-none-any.whl (119 kB)\n",
      "Downloading beautifulsoup4-4.13.4-py3-none-any.whl (187 kB)\n",
      "Downloading curl_cffi-0.12.0-cp39-abi3-win_amd64.whl (1.6 MB)\n",
      "   ---------------------------------------- 0.0/1.6 MB ? eta -:--:--\n",
      "   ---------------------------------------- 1.6/1.6 MB 29.3 MB/s eta 0:00:00\n",
      "Downloading certifi-2025.7.14-py3-none-any.whl (162 kB)\n",
      "Downloading cffi-1.17.1-cp39-cp39-win_amd64.whl (181 kB)\n",
      "Downloading frozendict-2.4.6-cp39-cp39-win_amd64.whl (37 kB)\n",
      "Downloading protobuf-6.31.1-cp39-cp39-win_amd64.whl (435 kB)\n",
      "Downloading requests-2.32.4-py3-none-any.whl (64 kB)\n",
      "Downloading charset_normalizer-3.4.2-cp39-cp39-win_amd64.whl (105 kB)\n",
      "Downloading idna-3.10-py3-none-any.whl (70 kB)\n",
      "Downloading urllib3-2.5.0-py3-none-any.whl (129 kB)\n",
      "Downloading soupsieve-2.7-py3-none-any.whl (36 kB)\n",
      "Downloading websockets-15.0.1-cp39-cp39-win_amd64.whl (176 kB)\n",
      "Downloading pycparser-2.22-py3-none-any.whl (117 kB)\n",
      "Building wheels for collected packages: multitasking, peewee\n",
      "  Building wheel for multitasking (setup.py): started\n",
      "  Building wheel for multitasking (setup.py): finished with status 'done'\n",
      "  Created wheel for multitasking: filename=multitasking-0.0.12-py3-none-any.whl size=15703 sha256=3e7f1181eb77c21c8c8ca2daae3427016925257fdd2d5ad9c164dffc6d4faf1d\n",
      "  Stored in directory: c:\\users\\user\\appdata\\local\\pip\\cache\\wheels\\98\\75\\bc\\9eaa3cdeaaca347bab26c7e83a7e2f365d82584d65a2d48e7a\n",
      "  Building wheel for peewee (pyproject.toml): started\n",
      "  Building wheel for peewee (pyproject.toml): finished with status 'done'\n",
      "  Created wheel for peewee: filename=peewee-3.18.2-py3-none-any.whl size=139153 sha256=34d47d37e36e10585599815205b443f885c06ce061cedc5bc8ef0e2da16fe0b6\n",
      "  Stored in directory: c:\\users\\user\\appdata\\local\\pip\\cache\\wheels\\90\\fe\\6b\\3ca19914342fba0fdef3ced789c96ce76e2665b502d838cc1f\n",
      "Successfully built multitasking peewee\n",
      "Installing collected packages: peewee, multitasking, websockets, urllib3, soupsieve, pycparser, protobuf, idna, frozendict, charset_normalizer, certifi, requests, cffi, beautifulsoup4, curl_cffi, yfinance\n",
      "\n",
      "   -- -------------------------------------  1/16 [multitasking]\n",
      "   ------- --------------------------------  3/16 [urllib3]\n",
      "   ------------ ---------------------------  5/16 [pycparser]\n",
      "   --------------- ------------------------  6/16 [protobuf]\n",
      "   ----------------- ----------------------  7/16 [idna]\n",
      "   ------------------------------ --------- 12/16 [cffi]\n",
      "   -------------------------------- ------- 13/16 [beautifulsoup4]\n",
      "   ------------------------------------- -- 15/16 [yfinance]\n",
      "   ---------------------------------------- 16/16 [yfinance]\n",
      "\n",
      "Successfully installed beautifulsoup4-4.13.4 certifi-2025.7.14 cffi-1.17.1 charset_normalizer-3.4.2 curl_cffi-0.12.0 frozendict-2.4.6 idna-3.10 multitasking-0.0.12 peewee-3.18.2 protobuf-6.31.1 pycparser-2.22 requests-2.32.4 soupsieve-2.7 urllib3-2.5.0 websockets-15.0.1 yfinance-0.2.65\n",
      "Note: you may need to restart the kernel to use updated packages.\n"
     ]
    },
    {
     "name": "stderr",
     "output_type": "stream",
     "text": [
      "  DEPRECATION: Building 'multitasking' using the legacy setup.py bdist_wheel mechanism, which will be removed in a future version. pip 25.3 will enforce this behaviour change. A possible replacement is to use the standardized build interface by setting the `--use-pep517` option, (possibly combined with `--no-build-isolation`), or adding a `pyproject.toml` file to the source tree of 'multitasking'. Discussion can be found at https://github.com/pypa/pip/issues/6334\n"
     ]
    }
   ],
   "source": [
    "pip install yfinance"
   ]
  },
  {
   "cell_type": "code",
   "execution_count": 30,
   "id": "0509a113",
   "metadata": {},
   "outputs": [
    {
     "data": {
      "text/plain": [
       "'0.2.65'"
      ]
     },
     "execution_count": 30,
     "metadata": {},
     "output_type": "execute_result"
    }
   ],
   "source": [
    "import yfinance as yf\n",
    "yf.__version__"
   ]
  },
  {
   "cell_type": "code",
   "execution_count": 31,
   "id": "3a65d335",
   "metadata": {},
   "outputs": [
    {
     "name": "stderr",
     "output_type": "stream",
     "text": [
      "C:\\Users\\user\\AppData\\Local\\Temp\\ipykernel_12804\\3974052729.py:1: FutureWarning: YF.download() has changed argument auto_adjust default to True\n",
      "  yf.download(['MSFT','AAPL','GOOG'], period='1mo')\n",
      "[*********************100%***********************]  3 of 3 completed\n"
     ]
    },
    {
     "data": {
      "text/html": [
       "<div>\n",
       "<style scoped>\n",
       "    .dataframe tbody tr th:only-of-type {\n",
       "        vertical-align: middle;\n",
       "    }\n",
       "\n",
       "    .dataframe tbody tr th {\n",
       "        vertical-align: top;\n",
       "    }\n",
       "\n",
       "    .dataframe thead tr th {\n",
       "        text-align: left;\n",
       "    }\n",
       "\n",
       "    .dataframe thead tr:last-of-type th {\n",
       "        text-align: right;\n",
       "    }\n",
       "</style>\n",
       "<table border=\"1\" class=\"dataframe\">\n",
       "  <thead>\n",
       "    <tr>\n",
       "      <th>Price</th>\n",
       "      <th colspan=\"3\" halign=\"left\">Close</th>\n",
       "      <th colspan=\"3\" halign=\"left\">High</th>\n",
       "      <th colspan=\"3\" halign=\"left\">Low</th>\n",
       "      <th colspan=\"3\" halign=\"left\">Open</th>\n",
       "      <th colspan=\"3\" halign=\"left\">Volume</th>\n",
       "    </tr>\n",
       "    <tr>\n",
       "      <th>Ticker</th>\n",
       "      <th>AAPL</th>\n",
       "      <th>GOOG</th>\n",
       "      <th>MSFT</th>\n",
       "      <th>AAPL</th>\n",
       "      <th>GOOG</th>\n",
       "      <th>MSFT</th>\n",
       "      <th>AAPL</th>\n",
       "      <th>GOOG</th>\n",
       "      <th>MSFT</th>\n",
       "      <th>AAPL</th>\n",
       "      <th>GOOG</th>\n",
       "      <th>MSFT</th>\n",
       "      <th>AAPL</th>\n",
       "      <th>GOOG</th>\n",
       "      <th>MSFT</th>\n",
       "    </tr>\n",
       "    <tr>\n",
       "      <th>Date</th>\n",
       "      <th></th>\n",
       "      <th></th>\n",
       "      <th></th>\n",
       "      <th></th>\n",
       "      <th></th>\n",
       "      <th></th>\n",
       "      <th></th>\n",
       "      <th></th>\n",
       "      <th></th>\n",
       "      <th></th>\n",
       "      <th></th>\n",
       "      <th></th>\n",
       "      <th></th>\n",
       "      <th></th>\n",
       "      <th></th>\n",
       "    </tr>\n",
       "  </thead>\n",
       "  <tbody>\n",
       "    <tr>\n",
       "      <th>2025-06-20</th>\n",
       "      <td>201.000000</td>\n",
       "      <td>167.729996</td>\n",
       "      <td>477.399994</td>\n",
       "      <td>201.699997</td>\n",
       "      <td>175.365005</td>\n",
       "      <td>483.459991</td>\n",
       "      <td>196.860001</td>\n",
       "      <td>166.270004</td>\n",
       "      <td>476.869995</td>\n",
       "      <td>198.240005</td>\n",
       "      <td>174.865005</td>\n",
       "      <td>482.230011</td>\n",
       "      <td>96813500</td>\n",
       "      <td>55402600</td>\n",
       "      <td>37576200</td>\n",
       "    </tr>\n",
       "    <tr>\n",
       "      <th>2025-06-23</th>\n",
       "      <td>201.500000</td>\n",
       "      <td>166.009995</td>\n",
       "      <td>486.000000</td>\n",
       "      <td>202.300003</td>\n",
       "      <td>168.479996</td>\n",
       "      <td>487.750000</td>\n",
       "      <td>198.960007</td>\n",
       "      <td>163.330002</td>\n",
       "      <td>472.510010</td>\n",
       "      <td>201.630005</td>\n",
       "      <td>167.320007</td>\n",
       "      <td>478.209991</td>\n",
       "      <td>55814300</td>\n",
       "      <td>36975600</td>\n",
       "      <td>24864000</td>\n",
       "    </tr>\n",
       "    <tr>\n",
       "      <th>2025-06-24</th>\n",
       "      <td>200.300003</td>\n",
       "      <td>167.740005</td>\n",
       "      <td>490.109985</td>\n",
       "      <td>203.440002</td>\n",
       "      <td>169.250000</td>\n",
       "      <td>491.850006</td>\n",
       "      <td>200.199997</td>\n",
       "      <td>166.910004</td>\n",
       "      <td>486.799988</td>\n",
       "      <td>202.589996</td>\n",
       "      <td>167.684998</td>\n",
       "      <td>488.950012</td>\n",
       "      <td>54064000</td>\n",
       "      <td>27310300</td>\n",
       "      <td>22305600</td>\n",
       "    </tr>\n",
       "    <tr>\n",
       "      <th>2025-06-25</th>\n",
       "      <td>201.559998</td>\n",
       "      <td>171.490005</td>\n",
       "      <td>492.269989</td>\n",
       "      <td>203.669998</td>\n",
       "      <td>173.360001</td>\n",
       "      <td>494.559998</td>\n",
       "      <td>200.619995</td>\n",
       "      <td>168.561005</td>\n",
       "      <td>489.390015</td>\n",
       "      <td>201.449997</td>\n",
       "      <td>168.649994</td>\n",
       "      <td>492.040009</td>\n",
       "      <td>39525700</td>\n",
       "      <td>23627400</td>\n",
       "      <td>17495100</td>\n",
       "    </tr>\n",
       "    <tr>\n",
       "      <th>2025-06-26</th>\n",
       "      <td>201.000000</td>\n",
       "      <td>174.429993</td>\n",
       "      <td>497.450012</td>\n",
       "      <td>202.639999</td>\n",
       "      <td>174.649994</td>\n",
       "      <td>498.040009</td>\n",
       "      <td>199.460007</td>\n",
       "      <td>170.860001</td>\n",
       "      <td>492.809998</td>\n",
       "      <td>201.429993</td>\n",
       "      <td>173.384995</td>\n",
       "      <td>492.980011</td>\n",
       "      <td>50799100</td>\n",
       "      <td>25909100</td>\n",
       "      <td>21578900</td>\n",
       "    </tr>\n",
       "    <tr>\n",
       "      <th>2025-06-27</th>\n",
       "      <td>201.080002</td>\n",
       "      <td>178.270004</td>\n",
       "      <td>495.940002</td>\n",
       "      <td>203.220001</td>\n",
       "      <td>178.839996</td>\n",
       "      <td>499.299988</td>\n",
       "      <td>200.000000</td>\n",
       "      <td>172.710007</td>\n",
       "      <td>493.029999</td>\n",
       "      <td>201.889999</td>\n",
       "      <td>174.630005</td>\n",
       "      <td>497.549988</td>\n",
       "      <td>73188600</td>\n",
       "      <td>74053100</td>\n",
       "      <td>34539200</td>\n",
       "    </tr>\n",
       "    <tr>\n",
       "      <th>2025-06-30</th>\n",
       "      <td>205.169998</td>\n",
       "      <td>177.389999</td>\n",
       "      <td>497.410004</td>\n",
       "      <td>207.389999</td>\n",
       "      <td>181.580002</td>\n",
       "      <td>500.760010</td>\n",
       "      <td>199.259995</td>\n",
       "      <td>175.500000</td>\n",
       "      <td>495.329987</td>\n",
       "      <td>202.009995</td>\n",
       "      <td>180.785004</td>\n",
       "      <td>497.040009</td>\n",
       "      <td>91912800</td>\n",
       "      <td>43964600</td>\n",
       "      <td>28369000</td>\n",
       "    </tr>\n",
       "    <tr>\n",
       "      <th>2025-07-01</th>\n",
       "      <td>207.820007</td>\n",
       "      <td>176.910004</td>\n",
       "      <td>492.049988</td>\n",
       "      <td>210.190002</td>\n",
       "      <td>177.220001</td>\n",
       "      <td>498.049988</td>\n",
       "      <td>206.139999</td>\n",
       "      <td>174.660004</td>\n",
       "      <td>490.980011</td>\n",
       "      <td>206.669998</td>\n",
       "      <td>176.804993</td>\n",
       "      <td>496.470001</td>\n",
       "      <td>78788900</td>\n",
       "      <td>25778500</td>\n",
       "      <td>19945400</td>\n",
       "    </tr>\n",
       "    <tr>\n",
       "      <th>2025-07-02</th>\n",
       "      <td>212.440002</td>\n",
       "      <td>179.759995</td>\n",
       "      <td>491.089996</td>\n",
       "      <td>213.339996</td>\n",
       "      <td>179.934998</td>\n",
       "      <td>493.500000</td>\n",
       "      <td>208.139999</td>\n",
       "      <td>176.089996</td>\n",
       "      <td>488.700012</td>\n",
       "      <td>208.910004</td>\n",
       "      <td>176.544998</td>\n",
       "      <td>489.989990</td>\n",
       "      <td>67941800</td>\n",
       "      <td>19325900</td>\n",
       "      <td>16319600</td>\n",
       "    </tr>\n",
       "    <tr>\n",
       "      <th>2025-07-03</th>\n",
       "      <td>213.550003</td>\n",
       "      <td>180.550003</td>\n",
       "      <td>498.839996</td>\n",
       "      <td>214.649994</td>\n",
       "      <td>180.770004</td>\n",
       "      <td>500.130005</td>\n",
       "      <td>211.809998</td>\n",
       "      <td>178.190002</td>\n",
       "      <td>493.440002</td>\n",
       "      <td>212.149994</td>\n",
       "      <td>179.820007</td>\n",
       "      <td>493.809998</td>\n",
       "      <td>34955800</td>\n",
       "      <td>13287400</td>\n",
       "      <td>13984800</td>\n",
       "    </tr>\n",
       "    <tr>\n",
       "      <th>2025-07-07</th>\n",
       "      <td>209.949997</td>\n",
       "      <td>177.559998</td>\n",
       "      <td>497.720001</td>\n",
       "      <td>216.229996</td>\n",
       "      <td>180.339996</td>\n",
       "      <td>498.750000</td>\n",
       "      <td>208.800003</td>\n",
       "      <td>176.639999</td>\n",
       "      <td>495.230011</td>\n",
       "      <td>212.679993</td>\n",
       "      <td>180.134995</td>\n",
       "      <td>497.380005</td>\n",
       "      <td>50229000</td>\n",
       "      <td>20991400</td>\n",
       "      <td>13981600</td>\n",
       "    </tr>\n",
       "    <tr>\n",
       "      <th>2025-07-08</th>\n",
       "      <td>210.009995</td>\n",
       "      <td>175.160004</td>\n",
       "      <td>496.619995</td>\n",
       "      <td>211.429993</td>\n",
       "      <td>178.789993</td>\n",
       "      <td>498.200012</td>\n",
       "      <td>208.449997</td>\n",
       "      <td>173.919998</td>\n",
       "      <td>494.109985</td>\n",
       "      <td>210.100006</td>\n",
       "      <td>178.779999</td>\n",
       "      <td>497.239990</td>\n",
       "      <td>42848900</td>\n",
       "      <td>24108600</td>\n",
       "      <td>11846600</td>\n",
       "    </tr>\n",
       "    <tr>\n",
       "      <th>2025-07-09</th>\n",
       "      <td>211.139999</td>\n",
       "      <td>177.660004</td>\n",
       "      <td>503.510010</td>\n",
       "      <td>211.330002</td>\n",
       "      <td>180.279999</td>\n",
       "      <td>506.779999</td>\n",
       "      <td>207.220001</td>\n",
       "      <td>173.880005</td>\n",
       "      <td>499.739990</td>\n",
       "      <td>209.529999</td>\n",
       "      <td>176.110001</td>\n",
       "      <td>500.299988</td>\n",
       "      <td>48749400</td>\n",
       "      <td>31288000</td>\n",
       "      <td>18659500</td>\n",
       "    </tr>\n",
       "    <tr>\n",
       "      <th>2025-07-10</th>\n",
       "      <td>212.410004</td>\n",
       "      <td>178.699997</td>\n",
       "      <td>501.480011</td>\n",
       "      <td>213.479996</td>\n",
       "      <td>179.589996</td>\n",
       "      <td>504.440002</td>\n",
       "      <td>210.029999</td>\n",
       "      <td>175.740005</td>\n",
       "      <td>497.750000</td>\n",
       "      <td>210.509995</td>\n",
       "      <td>176.669998</td>\n",
       "      <td>503.049988</td>\n",
       "      <td>44443600</td>\n",
       "      <td>24693700</td>\n",
       "      <td>16492100</td>\n",
       "    </tr>\n",
       "    <tr>\n",
       "      <th>2025-07-11</th>\n",
       "      <td>211.160004</td>\n",
       "      <td>181.309998</td>\n",
       "      <td>503.320007</td>\n",
       "      <td>212.130005</td>\n",
       "      <td>182.610001</td>\n",
       "      <td>505.029999</td>\n",
       "      <td>209.860001</td>\n",
       "      <td>177.541000</td>\n",
       "      <td>497.799988</td>\n",
       "      <td>210.570007</td>\n",
       "      <td>177.910004</td>\n",
       "      <td>498.470001</td>\n",
       "      <td>39765800</td>\n",
       "      <td>23975700</td>\n",
       "      <td>16459500</td>\n",
       "    </tr>\n",
       "    <tr>\n",
       "      <th>2025-07-14</th>\n",
       "      <td>208.619995</td>\n",
       "      <td>182.809998</td>\n",
       "      <td>503.019989</td>\n",
       "      <td>210.910004</td>\n",
       "      <td>184.729996</td>\n",
       "      <td>503.970001</td>\n",
       "      <td>207.539993</td>\n",
       "      <td>180.710999</td>\n",
       "      <td>501.029999</td>\n",
       "      <td>209.929993</td>\n",
       "      <td>182.070007</td>\n",
       "      <td>501.519989</td>\n",
       "      <td>38840100</td>\n",
       "      <td>20990400</td>\n",
       "      <td>12058800</td>\n",
       "    </tr>\n",
       "    <tr>\n",
       "      <th>2025-07-15</th>\n",
       "      <td>209.110001</td>\n",
       "      <td>183.100006</td>\n",
       "      <td>505.820007</td>\n",
       "      <td>211.889999</td>\n",
       "      <td>185.410004</td>\n",
       "      <td>508.299988</td>\n",
       "      <td>208.919998</td>\n",
       "      <td>182.389999</td>\n",
       "      <td>502.790009</td>\n",
       "      <td>209.220001</td>\n",
       "      <td>183.940002</td>\n",
       "      <td>503.019989</td>\n",
       "      <td>42296300</td>\n",
       "      <td>23911600</td>\n",
       "      <td>14927200</td>\n",
       "    </tr>\n",
       "    <tr>\n",
       "      <th>2025-07-16</th>\n",
       "      <td>210.160004</td>\n",
       "      <td>183.770004</td>\n",
       "      <td>505.619995</td>\n",
       "      <td>212.399994</td>\n",
       "      <td>185.335007</td>\n",
       "      <td>506.720001</td>\n",
       "      <td>208.639999</td>\n",
       "      <td>183.080002</td>\n",
       "      <td>501.890015</td>\n",
       "      <td>210.300003</td>\n",
       "      <td>184.320007</td>\n",
       "      <td>505.179993</td>\n",
       "      <td>47490500</td>\n",
       "      <td>21152600</td>\n",
       "      <td>15154400</td>\n",
       "    </tr>\n",
       "    <tr>\n",
       "      <th>2025-07-17</th>\n",
       "      <td>210.020004</td>\n",
       "      <td>184.699997</td>\n",
       "      <td>511.700012</td>\n",
       "      <td>211.800003</td>\n",
       "      <td>185.186996</td>\n",
       "      <td>513.369995</td>\n",
       "      <td>209.589996</td>\n",
       "      <td>181.500000</td>\n",
       "      <td>505.619995</td>\n",
       "      <td>210.570007</td>\n",
       "      <td>183.115005</td>\n",
       "      <td>505.679993</td>\n",
       "      <td>48068100</td>\n",
       "      <td>21654400</td>\n",
       "      <td>17503100</td>\n",
       "    </tr>\n",
       "    <tr>\n",
       "      <th>2025-07-18</th>\n",
       "      <td>211.179993</td>\n",
       "      <td>185.940002</td>\n",
       "      <td>510.049988</td>\n",
       "      <td>211.789993</td>\n",
       "      <td>187.360001</td>\n",
       "      <td>514.640015</td>\n",
       "      <td>209.699997</td>\n",
       "      <td>184.729996</td>\n",
       "      <td>507.429993</td>\n",
       "      <td>210.869995</td>\n",
       "      <td>186.619995</td>\n",
       "      <td>514.479980</td>\n",
       "      <td>48939500</td>\n",
       "      <td>21011300</td>\n",
       "      <td>21203400</td>\n",
       "    </tr>\n",
       "  </tbody>\n",
       "</table>\n",
       "</div>"
      ],
      "text/plain": [
       "Price            Close                                High              \\\n",
       "Ticker            AAPL        GOOG        MSFT        AAPL        GOOG   \n",
       "Date                                                                     \n",
       "2025-06-20  201.000000  167.729996  477.399994  201.699997  175.365005   \n",
       "2025-06-23  201.500000  166.009995  486.000000  202.300003  168.479996   \n",
       "2025-06-24  200.300003  167.740005  490.109985  203.440002  169.250000   \n",
       "2025-06-25  201.559998  171.490005  492.269989  203.669998  173.360001   \n",
       "2025-06-26  201.000000  174.429993  497.450012  202.639999  174.649994   \n",
       "2025-06-27  201.080002  178.270004  495.940002  203.220001  178.839996   \n",
       "2025-06-30  205.169998  177.389999  497.410004  207.389999  181.580002   \n",
       "2025-07-01  207.820007  176.910004  492.049988  210.190002  177.220001   \n",
       "2025-07-02  212.440002  179.759995  491.089996  213.339996  179.934998   \n",
       "2025-07-03  213.550003  180.550003  498.839996  214.649994  180.770004   \n",
       "2025-07-07  209.949997  177.559998  497.720001  216.229996  180.339996   \n",
       "2025-07-08  210.009995  175.160004  496.619995  211.429993  178.789993   \n",
       "2025-07-09  211.139999  177.660004  503.510010  211.330002  180.279999   \n",
       "2025-07-10  212.410004  178.699997  501.480011  213.479996  179.589996   \n",
       "2025-07-11  211.160004  181.309998  503.320007  212.130005  182.610001   \n",
       "2025-07-14  208.619995  182.809998  503.019989  210.910004  184.729996   \n",
       "2025-07-15  209.110001  183.100006  505.820007  211.889999  185.410004   \n",
       "2025-07-16  210.160004  183.770004  505.619995  212.399994  185.335007   \n",
       "2025-07-17  210.020004  184.699997  511.700012  211.800003  185.186996   \n",
       "2025-07-18  211.179993  185.940002  510.049988  211.789993  187.360001   \n",
       "\n",
       "Price                          Low                                Open  \\\n",
       "Ticker            MSFT        AAPL        GOOG        MSFT        AAPL   \n",
       "Date                                                                     \n",
       "2025-06-20  483.459991  196.860001  166.270004  476.869995  198.240005   \n",
       "2025-06-23  487.750000  198.960007  163.330002  472.510010  201.630005   \n",
       "2025-06-24  491.850006  200.199997  166.910004  486.799988  202.589996   \n",
       "2025-06-25  494.559998  200.619995  168.561005  489.390015  201.449997   \n",
       "2025-06-26  498.040009  199.460007  170.860001  492.809998  201.429993   \n",
       "2025-06-27  499.299988  200.000000  172.710007  493.029999  201.889999   \n",
       "2025-06-30  500.760010  199.259995  175.500000  495.329987  202.009995   \n",
       "2025-07-01  498.049988  206.139999  174.660004  490.980011  206.669998   \n",
       "2025-07-02  493.500000  208.139999  176.089996  488.700012  208.910004   \n",
       "2025-07-03  500.130005  211.809998  178.190002  493.440002  212.149994   \n",
       "2025-07-07  498.750000  208.800003  176.639999  495.230011  212.679993   \n",
       "2025-07-08  498.200012  208.449997  173.919998  494.109985  210.100006   \n",
       "2025-07-09  506.779999  207.220001  173.880005  499.739990  209.529999   \n",
       "2025-07-10  504.440002  210.029999  175.740005  497.750000  210.509995   \n",
       "2025-07-11  505.029999  209.860001  177.541000  497.799988  210.570007   \n",
       "2025-07-14  503.970001  207.539993  180.710999  501.029999  209.929993   \n",
       "2025-07-15  508.299988  208.919998  182.389999  502.790009  209.220001   \n",
       "2025-07-16  506.720001  208.639999  183.080002  501.890015  210.300003   \n",
       "2025-07-17  513.369995  209.589996  181.500000  505.619995  210.570007   \n",
       "2025-07-18  514.640015  209.699997  184.729996  507.429993  210.869995   \n",
       "\n",
       "Price                                 Volume                      \n",
       "Ticker            GOOG        MSFT      AAPL      GOOG      MSFT  \n",
       "Date                                                              \n",
       "2025-06-20  174.865005  482.230011  96813500  55402600  37576200  \n",
       "2025-06-23  167.320007  478.209991  55814300  36975600  24864000  \n",
       "2025-06-24  167.684998  488.950012  54064000  27310300  22305600  \n",
       "2025-06-25  168.649994  492.040009  39525700  23627400  17495100  \n",
       "2025-06-26  173.384995  492.980011  50799100  25909100  21578900  \n",
       "2025-06-27  174.630005  497.549988  73188600  74053100  34539200  \n",
       "2025-06-30  180.785004  497.040009  91912800  43964600  28369000  \n",
       "2025-07-01  176.804993  496.470001  78788900  25778500  19945400  \n",
       "2025-07-02  176.544998  489.989990  67941800  19325900  16319600  \n",
       "2025-07-03  179.820007  493.809998  34955800  13287400  13984800  \n",
       "2025-07-07  180.134995  497.380005  50229000  20991400  13981600  \n",
       "2025-07-08  178.779999  497.239990  42848900  24108600  11846600  \n",
       "2025-07-09  176.110001  500.299988  48749400  31288000  18659500  \n",
       "2025-07-10  176.669998  503.049988  44443600  24693700  16492100  \n",
       "2025-07-11  177.910004  498.470001  39765800  23975700  16459500  \n",
       "2025-07-14  182.070007  501.519989  38840100  20990400  12058800  \n",
       "2025-07-15  183.940002  503.019989  42296300  23911600  14927200  \n",
       "2025-07-16  184.320007  505.179993  47490500  21152600  15154400  \n",
       "2025-07-17  183.115005  505.679993  48068100  21654400  17503100  \n",
       "2025-07-18  186.619995  514.479980  48939500  21011300  21203400  "
      ]
     },
     "execution_count": 31,
     "metadata": {},
     "output_type": "execute_result"
    }
   ],
   "source": [
    "yf.download(['MSFT','AAPL','GOOG'], period='1mo')"
   ]
  },
  {
   "cell_type": "code",
   "execution_count": 35,
   "id": "7b868e82",
   "metadata": {},
   "outputs": [
    {
     "data": {
      "text/html": [
       "<div>\n",
       "<style scoped>\n",
       "    .dataframe tbody tr th:only-of-type {\n",
       "        vertical-align: middle;\n",
       "    }\n",
       "\n",
       "    .dataframe tbody tr th {\n",
       "        vertical-align: top;\n",
       "    }\n",
       "\n",
       "    .dataframe thead th {\n",
       "        text-align: right;\n",
       "    }\n",
       "</style>\n",
       "<table border=\"1\" class=\"dataframe\">\n",
       "  <thead>\n",
       "    <tr style=\"text-align: right;\">\n",
       "      <th></th>\n",
       "      <th>sepal.length</th>\n",
       "      <th>sepal.width</th>\n",
       "      <th>petal.length</th>\n",
       "      <th>petal.width</th>\n",
       "      <th>variety</th>\n",
       "    </tr>\n",
       "  </thead>\n",
       "  <tbody>\n",
       "    <tr>\n",
       "      <th>0</th>\n",
       "      <td>5.1</td>\n",
       "      <td>3.5</td>\n",
       "      <td>1.4</td>\n",
       "      <td>0.2</td>\n",
       "      <td>Setosa</td>\n",
       "    </tr>\n",
       "    <tr>\n",
       "      <th>1</th>\n",
       "      <td>4.9</td>\n",
       "      <td>3.0</td>\n",
       "      <td>1.4</td>\n",
       "      <td>0.2</td>\n",
       "      <td>Setosa</td>\n",
       "    </tr>\n",
       "    <tr>\n",
       "      <th>2</th>\n",
       "      <td>4.7</td>\n",
       "      <td>3.2</td>\n",
       "      <td>1.3</td>\n",
       "      <td>0.2</td>\n",
       "      <td>Setosa</td>\n",
       "    </tr>\n",
       "    <tr>\n",
       "      <th>3</th>\n",
       "      <td>4.6</td>\n",
       "      <td>3.1</td>\n",
       "      <td>1.5</td>\n",
       "      <td>0.2</td>\n",
       "      <td>Setosa</td>\n",
       "    </tr>\n",
       "    <tr>\n",
       "      <th>4</th>\n",
       "      <td>5.0</td>\n",
       "      <td>3.6</td>\n",
       "      <td>1.4</td>\n",
       "      <td>0.2</td>\n",
       "      <td>Setosa</td>\n",
       "    </tr>\n",
       "  </tbody>\n",
       "</table>\n",
       "</div>"
      ],
      "text/plain": [
       "   sepal.length  sepal.width  petal.length  petal.width variety\n",
       "0           5.1          3.5           1.4          0.2  Setosa\n",
       "1           4.9          3.0           1.4          0.2  Setosa\n",
       "2           4.7          3.2           1.3          0.2  Setosa\n",
       "3           4.6          3.1           1.5          0.2  Setosa\n",
       "4           5.0          3.6           1.4          0.2  Setosa"
      ]
     },
     "execution_count": 35,
     "metadata": {},
     "output_type": "execute_result"
    }
   ],
   "source": [
    "df = pd.read_csv('iris.csv')\n",
    "df.head()\n"
   ]
  },
  {
   "cell_type": "code",
   "execution_count": 37,
   "id": "8c9e557e",
   "metadata": {},
   "outputs": [
    {
     "data": {
      "text/plain": [
       "char  int\n",
       "a     1      0.297863\n",
       "      2      0.523999\n",
       "c     1      0.732999\n",
       "      2      0.094904\n",
       "b     1      0.099348\n",
       "      2      0.323590\n",
       "dtype: float64"
      ]
     },
     "execution_count": 37,
     "metadata": {},
     "output_type": "execute_result"
    }
   ],
   "source": [
    "index=pd.MultiIndex.from_product([['a','c','b'],\n",
    "                                  [1,2]])\n",
    "data = pd.Series(np.random.rand(6), index=index)\n",
    "data.index.names = ['char', 'int']\n",
    "data"
   ]
  },
  {
   "cell_type": "code",
   "execution_count": 38,
   "id": "636d1494",
   "metadata": {},
   "outputs": [],
   "source": [
    "import pandas as pd\n",
    "import numpy as np"
   ]
  },
  {
   "cell_type": "code",
   "execution_count": 40,
   "id": "6de13629",
   "metadata": {},
   "outputs": [
    {
     "data": {
      "text/html": [
       "<div>\n",
       "<style scoped>\n",
       "    .dataframe tbody tr th:only-of-type {\n",
       "        vertical-align: middle;\n",
       "    }\n",
       "\n",
       "    .dataframe tbody tr th {\n",
       "        vertical-align: top;\n",
       "    }\n",
       "\n",
       "    .dataframe thead th {\n",
       "        text-align: right;\n",
       "    }\n",
       "</style>\n",
       "<table border=\"1\" class=\"dataframe\">\n",
       "  <thead>\n",
       "    <tr style=\"text-align: right;\">\n",
       "      <th></th>\n",
       "      <th>A</th>\n",
       "      <th>B</th>\n",
       "      <th>C</th>\n",
       "    </tr>\n",
       "  </thead>\n",
       "  <tbody>\n",
       "    <tr>\n",
       "      <th>0</th>\n",
       "      <td>A0</td>\n",
       "      <td>B0</td>\n",
       "      <td>C0</td>\n",
       "    </tr>\n",
       "    <tr>\n",
       "      <th>1</th>\n",
       "      <td>A1</td>\n",
       "      <td>B1</td>\n",
       "      <td>C1</td>\n",
       "    </tr>\n",
       "    <tr>\n",
       "      <th>2</th>\n",
       "      <td>A2</td>\n",
       "      <td>B2</td>\n",
       "      <td>C2</td>\n",
       "    </tr>\n",
       "  </tbody>\n",
       "</table>\n",
       "</div>"
      ],
      "text/plain": [
       "    A   B   C\n",
       "0  A0  B0  C0\n",
       "1  A1  B1  C1\n",
       "2  A2  B2  C2"
      ]
     },
     "execution_count": 40,
     "metadata": {},
     "output_type": "execute_result"
    }
   ],
   "source": [
    "def make_df(cols, ind):\n",
    "    data = {c: [str(c)+str(i) for i in ind] for c in cols}\n",
    "    return pd.DataFrame(data, ind)\n",
    "\n",
    "make_df('ABC', range(3))"
   ]
  },
  {
   "cell_type": "markdown",
   "id": "4c641b06",
   "metadata": {},
   "source": [
    "p.161~167"
   ]
  },
  {
   "cell_type": "code",
   "execution_count": null,
   "id": "21d5b553",
   "metadata": {},
   "outputs": [],
   "source": []
  },
  {
   "cell_type": "code",
   "execution_count": 45,
   "id": "c9b232d4",
   "metadata": {},
   "outputs": [
    {
     "data": {
      "text/plain": [
       "array([1, 2, 3, 4, 5, 6, 7, 8, 9])"
      ]
     },
     "execution_count": 45,
     "metadata": {},
     "output_type": "execute_result"
    }
   ],
   "source": [
    "# numpy 배열 연결\n",
    "x = [1,2,3]\n",
    "y = [4,5,6]\n",
    "z = [7,8,9]\n",
    "np.concatenate([x,y,z])"
   ]
  },
  {
   "cell_type": "code",
   "execution_count": 46,
   "id": "6e55d8ef",
   "metadata": {},
   "outputs": [
    {
     "data": {
      "text/plain": [
       "array([[1, 2],\n",
       "       [3, 4],\n",
       "       [1, 2],\n",
       "       [3, 4]])"
      ]
     },
     "execution_count": 46,
     "metadata": {},
     "output_type": "execute_result"
    }
   ],
   "source": [
    "x=[[1,2],[3,4]]\n",
    "np.concatenate([x,x], axis=1)\n",
    "np.concatenate([x,x], axis=0)"
   ]
  },
  {
   "cell_type": "code",
   "execution_count": 47,
   "id": "5d9e1c98",
   "metadata": {},
   "outputs": [
    {
     "data": {
      "text/plain": [
       "1    A\n",
       "2    B\n",
       "3    C\n",
       "4    D\n",
       "5    E\n",
       "6    F\n",
       "dtype: object"
      ]
     },
     "execution_count": 47,
     "metadata": {},
     "output_type": "execute_result"
    }
   ],
   "source": [
    "ser1 = pd.Series(['A','B','C'], index=[1,2,3])\n",
    "ser2 = pd.Series(['D','E','F'], index=[4,5,6])\n",
    "pd.concat([ser1,ser2])"
   ]
  },
  {
   "cell_type": "code",
   "execution_count": 50,
   "id": "8850085e",
   "metadata": {},
   "outputs": [
    {
     "data": {
      "text/plain": [
       "(        state abbreviation\n",
       " 0     Alabama           AL\n",
       " 1      Alaska           AK\n",
       " 2     Arizona           AZ\n",
       " 3    Arkansas           AR\n",
       " 4  California           CA,\n",
       " (51, 2))"
      ]
     },
     "execution_count": 50,
     "metadata": {},
     "output_type": "execute_result"
    }
   ],
   "source": [
    "df_state = pd.read_csv('state-abbrevs.csv')\n",
    "df_state.head(), df_state.shape"
   ]
  },
  {
   "cell_type": "code",
   "execution_count": 49,
   "id": "1f216956",
   "metadata": {},
   "outputs": [
    {
     "data": {
      "text/html": [
       "<div>\n",
       "<style scoped>\n",
       "    .dataframe tbody tr th:only-of-type {\n",
       "        vertical-align: middle;\n",
       "    }\n",
       "\n",
       "    .dataframe tbody tr th {\n",
       "        vertical-align: top;\n",
       "    }\n",
       "\n",
       "    .dataframe thead th {\n",
       "        text-align: right;\n",
       "    }\n",
       "</style>\n",
       "<table border=\"1\" class=\"dataframe\">\n",
       "  <thead>\n",
       "    <tr style=\"text-align: right;\">\n",
       "      <th></th>\n",
       "      <th>state</th>\n",
       "      <th>area (sq. mi)</th>\n",
       "    </tr>\n",
       "  </thead>\n",
       "  <tbody>\n",
       "    <tr>\n",
       "      <th>0</th>\n",
       "      <td>Alabama</td>\n",
       "      <td>52423</td>\n",
       "    </tr>\n",
       "    <tr>\n",
       "      <th>1</th>\n",
       "      <td>Alaska</td>\n",
       "      <td>656425</td>\n",
       "    </tr>\n",
       "    <tr>\n",
       "      <th>2</th>\n",
       "      <td>Arizona</td>\n",
       "      <td>114006</td>\n",
       "    </tr>\n",
       "    <tr>\n",
       "      <th>3</th>\n",
       "      <td>Arkansas</td>\n",
       "      <td>53182</td>\n",
       "    </tr>\n",
       "    <tr>\n",
       "      <th>4</th>\n",
       "      <td>California</td>\n",
       "      <td>163707</td>\n",
       "    </tr>\n",
       "  </tbody>\n",
       "</table>\n",
       "</div>"
      ],
      "text/plain": [
       "        state  area (sq. mi)\n",
       "0     Alabama          52423\n",
       "1      Alaska         656425\n",
       "2     Arizona         114006\n",
       "3    Arkansas          53182\n",
       "4  California         163707"
      ]
     },
     "execution_count": 49,
     "metadata": {},
     "output_type": "execute_result"
    }
   ],
   "source": [
    "df_areas = pd.read_csv('state-areas.csv')\n",
    "df_areas.head()"
   ]
  },
  {
   "cell_type": "code",
   "execution_count": null,
   "id": "c74b0559",
   "metadata": {},
   "outputs": [],
   "source": [
    "df_pop = pd.read_csv('state-population.csv')\n",
    "df_pop.head()"
   ]
  }
 ],
 "metadata": {
  "kernelspec": {
   "display_name": "aip_39",
   "language": "python",
   "name": "python3"
  },
  "language_info": {
   "codemirror_mode": {
    "name": "ipython",
    "version": 3
   },
   "file_extension": ".py",
   "mimetype": "text/x-python",
   "name": "python",
   "nbconvert_exporter": "python",
   "pygments_lexer": "ipython3",
   "version": "3.9.23"
  }
 },
 "nbformat": 4,
 "nbformat_minor": 5
}
