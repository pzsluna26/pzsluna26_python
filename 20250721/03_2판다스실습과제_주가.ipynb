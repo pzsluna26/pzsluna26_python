{
 "cells": [
  {
   "cell_type": "code",
   "execution_count": 1,
   "metadata": {},
   "outputs": [
    {
     "name": "stdout",
     "output_type": "stream",
     "text": [
      "Requirement already satisfied: yfinance in c:\\users\\user\\miniconda3\\envs\\aip_39\\lib\\site-packages (0.2.65)\n",
      "Requirement already satisfied: pandas in c:\\users\\user\\miniconda3\\envs\\aip_39\\lib\\site-packages (2.3.1)\n",
      "Requirement already satisfied: matplotlib in c:\\users\\user\\miniconda3\\envs\\aip_39\\lib\\site-packages (3.9.4)\n",
      "Requirement already satisfied: numpy>=1.16.5 in c:\\users\\user\\miniconda3\\envs\\aip_39\\lib\\site-packages (from yfinance) (2.0.2)\n",
      "Requirement already satisfied: requests>=2.31 in c:\\users\\user\\miniconda3\\envs\\aip_39\\lib\\site-packages (from yfinance) (2.32.4)\n",
      "Requirement already satisfied: multitasking>=0.0.7 in c:\\users\\user\\miniconda3\\envs\\aip_39\\lib\\site-packages (from yfinance) (0.0.12)\n",
      "Requirement already satisfied: platformdirs>=2.0.0 in c:\\users\\user\\appdata\\roaming\\python\\python39\\site-packages (from yfinance) (4.3.8)\n",
      "Requirement already satisfied: pytz>=2022.5 in c:\\users\\user\\miniconda3\\envs\\aip_39\\lib\\site-packages (from yfinance) (2025.2)\n",
      "Requirement already satisfied: frozendict>=2.3.4 in c:\\users\\user\\miniconda3\\envs\\aip_39\\lib\\site-packages (from yfinance) (2.4.6)\n",
      "Requirement already satisfied: peewee>=3.16.2 in c:\\users\\user\\miniconda3\\envs\\aip_39\\lib\\site-packages (from yfinance) (3.18.2)\n",
      "Requirement already satisfied: beautifulsoup4>=4.11.1 in c:\\users\\user\\miniconda3\\envs\\aip_39\\lib\\site-packages (from yfinance) (4.13.4)\n",
      "Requirement already satisfied: curl_cffi>=0.7 in c:\\users\\user\\miniconda3\\envs\\aip_39\\lib\\site-packages (from yfinance) (0.12.0)\n",
      "Requirement already satisfied: protobuf>=3.19.0 in c:\\users\\user\\miniconda3\\envs\\aip_39\\lib\\site-packages (from yfinance) (6.31.1)\n",
      "Requirement already satisfied: websockets>=13.0 in c:\\users\\user\\miniconda3\\envs\\aip_39\\lib\\site-packages (from yfinance) (15.0.1)\n",
      "Requirement already satisfied: python-dateutil>=2.8.2 in c:\\users\\user\\appdata\\roaming\\python\\python39\\site-packages (from pandas) (2.9.0.post0)\n",
      "Requirement already satisfied: tzdata>=2022.7 in c:\\users\\user\\miniconda3\\envs\\aip_39\\lib\\site-packages (from pandas) (2025.2)\n",
      "Requirement already satisfied: contourpy>=1.0.1 in c:\\users\\user\\miniconda3\\envs\\aip_39\\lib\\site-packages (from matplotlib) (1.3.0)\n",
      "Requirement already satisfied: cycler>=0.10 in c:\\users\\user\\miniconda3\\envs\\aip_39\\lib\\site-packages (from matplotlib) (0.12.1)\n",
      "Requirement already satisfied: fonttools>=4.22.0 in c:\\users\\user\\miniconda3\\envs\\aip_39\\lib\\site-packages (from matplotlib) (4.58.5)\n",
      "Requirement already satisfied: kiwisolver>=1.3.1 in c:\\users\\user\\miniconda3\\envs\\aip_39\\lib\\site-packages (from matplotlib) (1.4.7)\n",
      "Requirement already satisfied: packaging>=20.0 in c:\\users\\user\\appdata\\roaming\\python\\python39\\site-packages (from matplotlib) (25.0)\n",
      "Requirement already satisfied: pillow>=8 in c:\\users\\user\\miniconda3\\envs\\aip_39\\lib\\site-packages (from matplotlib) (11.3.0)\n",
      "Requirement already satisfied: pyparsing>=2.3.1 in c:\\users\\user\\miniconda3\\envs\\aip_39\\lib\\site-packages (from matplotlib) (3.2.3)\n",
      "Requirement already satisfied: importlib-resources>=3.2.0 in c:\\users\\user\\miniconda3\\envs\\aip_39\\lib\\site-packages (from matplotlib) (6.5.2)\n",
      "Requirement already satisfied: soupsieve>1.2 in c:\\users\\user\\miniconda3\\envs\\aip_39\\lib\\site-packages (from beautifulsoup4>=4.11.1->yfinance) (2.7)\n",
      "Requirement already satisfied: typing-extensions>=4.0.0 in c:\\users\\user\\appdata\\roaming\\python\\python39\\site-packages (from beautifulsoup4>=4.11.1->yfinance) (4.14.0)\n",
      "Requirement already satisfied: cffi>=1.12.0 in c:\\users\\user\\miniconda3\\envs\\aip_39\\lib\\site-packages (from curl_cffi>=0.7->yfinance) (1.17.1)\n",
      "Requirement already satisfied: certifi>=2024.2.2 in c:\\users\\user\\miniconda3\\envs\\aip_39\\lib\\site-packages (from curl_cffi>=0.7->yfinance) (2025.7.14)\n",
      "Requirement already satisfied: pycparser in c:\\users\\user\\miniconda3\\envs\\aip_39\\lib\\site-packages (from cffi>=1.12.0->curl_cffi>=0.7->yfinance) (2.22)\n",
      "Requirement already satisfied: zipp>=3.1.0 in c:\\users\\user\\appdata\\roaming\\python\\python39\\site-packages (from importlib-resources>=3.2.0->matplotlib) (3.23.0)\n",
      "Requirement already satisfied: six>=1.5 in c:\\users\\user\\appdata\\roaming\\python\\python39\\site-packages (from python-dateutil>=2.8.2->pandas) (1.17.0)\n",
      "Requirement already satisfied: charset_normalizer<4,>=2 in c:\\users\\user\\miniconda3\\envs\\aip_39\\lib\\site-packages (from requests>=2.31->yfinance) (3.4.2)\n",
      "Requirement already satisfied: idna<4,>=2.5 in c:\\users\\user\\miniconda3\\envs\\aip_39\\lib\\site-packages (from requests>=2.31->yfinance) (3.10)\n",
      "Requirement already satisfied: urllib3<3,>=1.21.1 in c:\\users\\user\\miniconda3\\envs\\aip_39\\lib\\site-packages (from requests>=2.31->yfinance) (2.5.0)\n",
      "Note: you may need to restart the kernel to use updated packages.\n"
     ]
    }
   ],
   "source": [
    "pip install yfinance pandas matplotlib"
   ]
  },
  {
   "cell_type": "code",
   "execution_count": null,
   "metadata": {},
   "outputs": [
    {
     "name": "stderr",
     "output_type": "stream",
     "text": [
      "C:\\Users\\user\\AppData\\Local\\Temp\\ipykernel_9660\\3393216204.py:7: FutureWarning: YF.download() has changed argument auto_adjust default to True\n",
      "  tiktok_data = yf.download(ticker, start=\"2020-01-01\", end=\"2023-12-31\")\n",
      "[*********************100%***********************]  1 of 1 completed"
     ]
    },
    {
     "name": "stdout",
     "output_type": "stream",
     "text": [
      "TikTok 주가 데이터 샘플:\n",
      " Price        Close    High     Low    Open Volume\n",
      "Ticker        TTOO    TTOO    TTOO    TTOO   TTOO\n",
      "Date                                             \n",
      "2020-01-02  5800.0  6500.0  5650.0  5950.0     72\n",
      "2020-01-03  6150.0  6350.0  5650.0  5700.0     70\n",
      "2020-01-06  5950.0  6200.0  5500.0  6150.0     84\n",
      "2020-01-07  5950.0  6150.0  5800.0  6150.0     45\n",
      "2020-01-08  5750.0  6000.0  5650.0  6000.0     44\n"
     ]
    },
    {
     "name": "stderr",
     "output_type": "stream",
     "text": [
      "\n"
     ]
    },
    {
     "ename": "NameError",
     "evalue": "name 'specific_date_data' is not defined",
     "output_type": "error",
     "traceback": [
      "\u001b[1;31m---------------------------------------------------------------------------\u001b[0m",
      "\u001b[1;31mNameError\u001b[0m                                 Traceback (most recent call last)",
      "Cell \u001b[1;32mIn[4], line 15\u001b[0m\n\u001b[0;32m     10\u001b[0m \u001b[38;5;28mprint\u001b[39m(\u001b[38;5;124m\"\u001b[39m\u001b[38;5;124mTikTok 주가 데이터 샘플:\u001b[39m\u001b[38;5;130;01m\\n\u001b[39;00m\u001b[38;5;124m\"\u001b[39m, tiktok_data\u001b[38;5;241m.\u001b[39mhead())\n\u001b[0;32m     12\u001b[0m \u001b[38;5;66;03m# 2. 연습 문제 예제 생성\u001b[39;00m\n\u001b[0;32m     13\u001b[0m \u001b[38;5;66;03m# 문제 1: 특정 날짜의 주가 정보 가져오기\u001b[39;00m\n\u001b[1;32m---> 15\u001b[0m \u001b[38;5;28mprint\u001b[39m(\u001b[38;5;124m\"\u001b[39m\u001b[38;5;130;01m\\n\u001b[39;00m\u001b[38;5;124m2022-01-03의 데이터:\u001b[39m\u001b[38;5;130;01m\\n\u001b[39;00m\u001b[38;5;124m\"\u001b[39m, \u001b[43mspecific_date_data\u001b[49m)\n\u001b[0;32m     17\u001b[0m \u001b[38;5;66;03m# 문제 2: 특정 기간(1년)의 데이터 가져오기\u001b[39;00m\n\u001b[0;32m     19\u001b[0m \u001b[38;5;28mprint\u001b[39m(\u001b[38;5;124m\"\u001b[39m\u001b[38;5;130;01m\\n\u001b[39;00m\u001b[38;5;124m2021년 TikTok 데이터:\u001b[39m\u001b[38;5;130;01m\\n\u001b[39;00m\u001b[38;5;124m\"\u001b[39m, one_year_data\u001b[38;5;241m.\u001b[39mhead())\n",
      "\u001b[1;31mNameError\u001b[0m: name 'specific_date_data' is not defined"
     ]
    }
   ],
   "source": [
    "import pandas as pd\n",
    "import yfinance as yf\n",
    "import matplotlib.pyplot as plt\n",
    "\n",
    "# 1. TikTok 주가 데이터 다운로드\n",
    "ticker = \"TTOO\"  # TikTok (티커 코드 예시)\n",
    "tiktok_data = yf.download(ticker, start=\"2020-01-01\", end=\"2023-12-31\")\n",
    "\n",
    "# 데이터 확인\n",
    "print(\"TikTok 주가 데이터 샘플:\\n\", tiktok_data.head())\n",
    "\n",
    "# 2. 연습 문제 예제 생성\n",
    "# 문제 1: 특정 날짜의 주가 정보 가져오기\n",
    "specific_date = \"2022-01-03\"\n",
    "specific_date_data = tiktok_data.loc[specific_date]\n",
    "\n",
    "print(\"\\n2022-01-03의 데이터:\\n\", specific_date_data)\n",
    "\n",
    "# 문제 2: 특정 기간(1년)의 데이터 가져오기\n",
    "one_year_data = tictok_data.loc[\"2021-01-01\":\"2021-12-31\"]\n",
    "print(\"\\n2021년 TikTok 데이터:\\n\", one_year_data.head())\n",
    "\n",
    "# 문제 3: 종가(Close)가 5달러 이상인 날의 데이터 필터링\n",
    "high_price_data = tictok.data[tictok.data[\"close\"]>=5.0]\n",
    "print(\"\\n종가가 5달러 이상인 데이터:\\n\", high_price_data.head())\n",
    "\n",
    "# 문제 4: 거래량(Volume)이 1,000,000 이상인 날의 데이터 필터링\n",
    "\n",
    "print(\"\\n거래량이 1,000,000 이상인 데이터:\\n\", high_volume_data.head())\n",
    "\n",
    "# 문제 5: 특정 기간의 종가 데이터를 시각화\n",
    "plt.figure(figsize=(12, 6))\n",
    "plt.plot(one_year_data.index, one_year_data[\"Close\"], label=\"TikTok Close Price (2021)\", color=\"purple\")\n",
    "plt.title(\"TikTok Close Prices in 2021\")\n",
    "plt.xlabel(\"Date\")\n",
    "plt.ylabel(\"Close Price\")\n",
    "plt.legend()\n",
    "plt.grid()\n",
    "plt.show()\n"
   ]
  },
  {
   "cell_type": "code",
   "execution_count": 41,
   "metadata": {},
   "outputs": [
    {
     "name": "stderr",
     "output_type": "stream",
     "text": [
      "C:\\Users\\user\\AppData\\Local\\Temp\\ipykernel_9660\\2465750525.py:3: FutureWarning: YF.download() has changed argument auto_adjust default to True\n",
      "  tiktok_data = yf.download(ticker, start=\"2020-01-01\", end=\"2023-12-31\")\n",
      "[*********************100%***********************]  1 of 1 completed\n"
     ]
    }
   ],
   "source": [
    "# 1. TikTok 주가 데이터 다운로드\n",
    "ticker = \"TTOO\"  # TikTok (티커 코드 예시)\n",
    "tiktok_data = yf.download(ticker, start=\"2020-01-01\", end=\"2023-12-31\")"
   ]
  },
  {
   "cell_type": "code",
   "execution_count": 43,
   "metadata": {},
   "outputs": [
    {
     "name": "stdout",
     "output_type": "stream",
     "text": [
      "TikTok 주가 데이터 샘플:\n",
      " Price        Close    High     Low    Open Volume\n",
      "Ticker        TTOO    TTOO    TTOO    TTOO   TTOO\n",
      "Date                                             \n",
      "2020-01-02  5800.0  6500.0  5650.0  5950.0     72\n",
      "2020-01-03  6150.0  6350.0  5650.0  5700.0     70\n",
      "2020-01-06  5950.0  6200.0  5500.0  6150.0     84\n",
      "2020-01-07  5950.0  6150.0  5800.0  6150.0     45\n",
      "2020-01-08  5750.0  6000.0  5650.0  6000.0     44\n"
     ]
    }
   ],
   "source": [
    "# 데이터 확인\n",
    "print(\"TikTok 주가 데이터 샘플:\\n\", tiktok_data.head())"
   ]
  },
  {
   "cell_type": "code",
   "execution_count": 9,
   "metadata": {},
   "outputs": [
    {
     "name": "stdout",
     "output_type": "stream",
     "text": [
      "\n",
      "2022-01-03의 데이터:\n",
      " Price   Ticker\n",
      "Close   TTOO      2830.0\n",
      "High    TTOO      2875.0\n",
      "Low     TTOO      2565.0\n",
      "Open    TTOO      2565.0\n",
      "Volume  TTOO       334.0\n",
      "Name: 2022-01-03 00:00:00, dtype: float64\n"
     ]
    }
   ],
   "source": [
    "# 2. 연습 문제 예제 생성\n",
    "# 문제 1: 특정 날짜의 주가 정보 가져오기\n",
    "specific_date = \"2022-01-03\"\n",
    "specific_date_data = tiktok_data.loc[specific_date]\n",
    "print(f\"\\n{specific_date}의 데이터:\\n\", specific_date_data)\n"
   ]
  },
  {
   "cell_type": "code",
   "execution_count": 11,
   "metadata": {},
   "outputs": [
    {
     "name": "stdout",
     "output_type": "stream",
     "text": [
      "\n",
      "2021년 TikTok 데이터:\n",
      " Price        Close    High     Low    Open Volume\n",
      "Ticker        TTOO    TTOO    TTOO    TTOO   TTOO\n",
      "Date                                             \n",
      "2021-01-04  6650.0  6650.0  5950.0  6050.0   1065\n",
      "2021-01-05  7050.0  7100.0  6550.0  6965.0   1204\n",
      "2021-01-06  6600.0  7100.0  6550.0  6950.0   1142\n",
      "2021-01-07  7200.0  7250.0  6750.0  6850.0   1065\n",
      "2021-01-08  7250.0  7600.0  7000.0  7200.0   1242\n"
     ]
    }
   ],
   "source": [
    "# 문제 2: 특정 기간(1년)의 데이터 가져오기\n",
    "one_year_data = tiktok_data.loc[\"2021-01-01\":\"2021-12-31\"]\n",
    "print(\"\\n2021년 TikTok 데이터:\\n\", one_year_data.head())"
   ]
  },
  {
   "cell_type": "code",
   "execution_count": 18,
   "metadata": {},
   "outputs": [
    {
     "name": "stdout",
     "output_type": "stream",
     "text": [
      "\n",
      "종가가 5달러 이상인 데이터:\n",
      " Price        Close    High     Low    Open Volume\n",
      "Ticker        TTOO    TTOO    TTOO    TTOO   TTOO\n",
      "Date                                             \n",
      "2020-01-02  5800.0  6500.0  5650.0  5950.0   72.0\n",
      "2020-01-03  6150.0  6350.0  5650.0  5700.0   70.0\n",
      "2020-01-06  5950.0  6200.0  5500.0  6150.0   84.0\n",
      "2020-01-07  5950.0  6150.0  5800.0  6150.0   45.0\n",
      "2020-01-08  5750.0  6000.0  5650.0  6000.0   44.0\n"
     ]
    }
   ],
   "source": [
    "# 문제 3: 종가(Close)가 5달러 이상인 날의 데이터 필터링\n",
    "high_price_data = tiktok_data[tiktok_data[\"Close\"] >= 5.0]\n",
    "print(\"\\n종가가 5달러 이상인 데이터:\\n\", high_price_data.head())"
   ]
  },
  {
   "cell_type": "code",
   "execution_count": 49,
   "metadata": {},
   "outputs": [
    {
     "name": "stdout",
     "output_type": "stream",
     "text": [
      "\n",
      "거래량이 1,000,000 이상인 데이터:\n",
      " Price           Close       High        Low       Open     Volume\n",
      "Ticker           TTOO       TTOO       TTOO       TTOO       TTOO\n",
      "Date                                                             \n",
      "2023-05-30  13.500000  22.600000  11.500000  12.500000  2337608.0\n",
      "2023-06-01  10.600000  13.200000   8.900000  12.500000  1140790.0\n",
      "2023-06-05   7.000000  14.700000   6.900000  13.900000  1436940.0\n",
      "2023-06-06   7.900000   9.200000   7.000000   8.200000  1520514.0\n",
      "2023-06-14   7.500000   7.600000   6.500000   6.800000  1211675.0\n",
      "2023-06-15   8.900000   9.300000   7.800000   8.200000  1241082.0\n",
      "2023-06-22   7.400000   8.900000   7.000000   8.600000  1203771.0\n",
      "2023-07-06   8.300000  10.300000   7.400000   7.500000  1687940.0\n",
      "2023-07-07  11.500000  13.400000   9.000000  10.000000  2843985.0\n",
      "2023-07-10  15.800000  16.500000  13.500000  14.200000  2481317.0\n",
      "2023-07-11  15.000000  18.400000  14.000000  17.000000  1361405.0\n",
      "2023-07-20  10.000000  14.300000   9.700000  14.000000  2456683.0\n",
      "2023-08-02  24.299999  27.700001  14.800000  16.000000  3086084.0\n",
      "2023-08-03  35.000000  45.000000  31.799999  35.799999  4786449.0\n",
      "2023-08-04  25.000000  33.900002  24.299999  31.299999  2014203.0\n",
      "2023-08-07  24.500000  32.400002  24.000000  31.500000  1950334.0\n",
      "2023-08-08  31.000000  31.299999  22.299999  25.500000  2077887.0\n",
      "2023-08-09  34.299999  37.000000  28.100000  28.400000  2271203.0\n",
      "2023-08-10  32.700001  39.400002  31.200001  38.000000  1373105.0\n",
      "2023-08-14  39.000000  39.400002  34.000000  35.000000  1070627.0\n",
      "2023-08-15  59.099998  61.000000  41.200001  45.000000  3760622.0\n",
      "2023-08-16  56.900002  70.000000  40.900002  65.000000  3358508.0\n",
      "2023-08-17  45.299999  52.400002  44.000000  44.500000  1327152.0\n",
      "2023-08-18  56.000000  56.400002  39.000000  40.000000  1820894.0\n",
      "2023-08-21  52.599998  63.500000  51.500000  59.500000  1499057.0\n",
      "2023-08-22  48.000000  52.000000  42.500000  49.500000  1011568.0\n",
      "2023-08-24  35.200001  43.500000  33.799999  42.000000  1097179.0\n",
      "2023-08-30  32.400002  35.000000  24.200001  25.500000  1433429.0\n",
      "2023-09-18  45.900002  46.900002  33.700001  38.200001  4242164.0\n",
      "2023-09-19  33.900002  40.000000  32.099998  40.000000  1354157.0\n",
      "2023-09-28  17.799999  18.299999  14.900000  17.200001  1012565.0\n",
      "2023-09-29  22.100000  24.000000  19.900000  19.900000  1102171.0\n",
      "2023-10-06  26.299999  26.500000  21.799999  22.400000  1365974.0\n",
      "2023-10-09  28.000000  33.200001  27.100000  28.500000  1198826.0\n",
      "2023-10-12  17.400000  23.000000  16.500000  18.500000  2454621.0\n",
      "2023-10-13   8.200000  10.460000   6.810000  10.320000  2453900.0\n",
      "2023-10-16   7.250000   8.300000   6.640000   8.230000  1343700.0\n",
      "2023-10-17   7.550000   8.650000   7.000000   7.060000  2107800.0\n",
      "2023-10-19   5.665000   6.610000   5.640000   6.610000  1054800.0\n",
      "2023-10-20   5.450000   6.440000   5.395000   5.690000  1250000.0\n",
      "2023-12-20   5.300000   5.800000   4.700000   5.140000  1330200.0\n",
      "2023-12-28   7.450000   8.380000   5.100000   5.100000  3595200.0\n"
     ]
    }
   ],
   "source": [
    "# 문제 4: 거래량(Volume)이 1,000,000 이상인 날의 데이터 필터링\n",
    "high_volume_data = tiktok_data[tiktok_data[\"Volume\"] >= 1_000_000]\n",
    "print(\"\\n거래량이 1,000,000 이상인 데이터:\\n\", high_volume_data.dropna())"
   ]
  },
  {
   "cell_type": "code",
   "execution_count": 23,
   "metadata": {},
   "outputs": [
    {
     "data": {
      "image/png": "[encoded data removed]",
      "text/plain": [
       "<Figure size 1200x600 with 1 Axes>"
      ]
     },
     "metadata": {},
     "output_type": "display_data"
    }
   ],
   "source": [
    "\n",
    "# 문제 5: 특정 기간의 종가 데이터를 시각화\n",
    "plt.figure(figsize=(12, 6))\n",
    "plt.plot(one_year_data.index, one_year_data[\"Close\"], label=\"TikTok Close Price (2021)\", color=\"purple\")\n",
    "plt.title(\"TikTok Close Prices in 2021\")\n",
    "plt.xlabel(\"Date\")\n",
    "plt.ylabel(\"Close Price\")\n",
    "plt.legend()\n",
    "plt.grid()\n",
    "plt.show()\n"
   ]
  },
  {
   "cell_type": "markdown",
   "metadata": {},
   "source": [
    "연습 문제 제안\n",
    "문제 1: 특정 날짜의 데이터 가져오기\n",
    "python\n",
    "코드 복사\n",
    "# 질문: 2023년 5월 15일의 데이터를 가져오세요.\n",
    "\n",
    "문제 2: 특정 기간의 데이터 가져오기\n",
    "python\n",
    "코드 복사\n",
    "# 질문: 2022년 전체 데이터만 추출하세요.\n",
    "\n",
    "문제 3: 조건에 맞는 데이터 필터링\n",
    "python\n",
    "코드 복사\n",
    "# 질문: 종가가 2달러 이하인 날의 데이터를 추출하세요.\n",
    "\n",
    "문제 4: 거래량이 많은 날 분석\n",
    "python\n",
    "코드 복사\n",
    "# 질문: 거래량이 2백만 이상인 데이터를 추출하고, 해당 데이터의 평균 종가를 계산하세요.\n",
    "\n",
    "\n",
    "\n"
   ]
  },
  {
   "cell_type": "code",
   "execution_count": 50,
   "metadata": {},
   "outputs": [
    {
     "name": "stdout",
     "output_type": "stream",
     "text": [
      "\n",
      "2023-05-15의 데이터:\n",
      " Price   Ticker\n",
      "Close   TTOO         27.500000\n",
      "High    TTOO         28.799999\n",
      "Low     TTOO         26.400000\n",
      "Open    TTOO         28.799999\n",
      "Volume  TTOO      13172.000000\n",
      "Name: 2023-05-15 00:00:00, dtype: float64\n"
     ]
    }
   ],
   "source": [
    "# 질문1: 2023년 5월 15일의 데이터를 가져오세요.\n",
    "specific_date = \"2023-05-15\"\n",
    "specific_date_data = tiktok_data.loc[specific_date]\n",
    "print(f\"\\n{specific_date}의 데이터:\\n\", specific_date_data.head())"
   ]
  },
  {
   "cell_type": "code",
   "execution_count": 51,
   "metadata": {},
   "outputs": [
    {
     "name": "stdout",
     "output_type": "stream",
     "text": [
      "\n",
      "Price        Close         High     Low    Open Volume\n",
      "Ticker        TTOO         TTOO    TTOO    TTOO   TTOO\n",
      "Date                                                  \n",
      "2022-01-03  2830.0  2875.000000  2565.0  2565.0    334\n",
      "2022-01-04  2650.0  2830.000000  2565.0  2805.0    327\n",
      "2022-01-05  2500.0  2725.000000  2465.0  2650.0    253\n",
      "2022-01-06  2400.0  2640.000000  2325.0  2450.0    291\n",
      "2022-01-07  2340.0  2450.000000  2330.0  2330.0    186\n",
      "...            ...          ...     ...     ...    ...\n",
      "2022-12-23   114.0   117.400002   113.0   115.0    687\n",
      "2022-12-27   106.0   113.000000   105.0   110.0   1096\n",
      "2022-12-28   114.0   127.000000   108.0   115.0   8219\n",
      "2022-12-29   143.0   144.000000   115.0   116.0   5616\n",
      "2022-12-30   142.0   143.000000   127.0   133.0   2432\n",
      "\n",
      "[251 rows x 5 columns]의 데이터:\n",
      " Price        Close    High     Low    Open Volume\n",
      "Ticker        TTOO    TTOO    TTOO    TTOO   TTOO\n",
      "Date                                             \n",
      "2022-01-03  2830.0  2875.0  2565.0  2565.0    334\n",
      "2022-01-04  2650.0  2830.0  2565.0  2805.0    327\n",
      "2022-01-05  2500.0  2725.0  2465.0  2650.0    253\n",
      "2022-01-06  2400.0  2640.0  2325.0  2450.0    291\n",
      "2022-01-07  2340.0  2450.0  2330.0  2330.0    186\n"
     ]
    }
   ],
   "source": [
    "# 질문: 2022년 전체 데이터만 추출하세요.\n",
    "one_year_data = tiktok_data.loc[\"2022-01-01\":\"2022-12-31\"]\n",
    "print(f\"\\n{one_year_data}의 데이터:\\n\", one_year_data.head())"
   ]
  },
  {
   "cell_type": "code",
   "execution_count": 52,
   "metadata": {},
   "outputs": [
    {
     "name": "stdout",
     "output_type": "stream",
     "text": [
      "\n",
      "종가가 2달러 이하인 데이터:\n",
      " Empty DataFrame\n",
      "Columns: [(Close, TTOO), (High, TTOO), (Low, TTOO), (Open, TTOO), (Volume, TTOO)]\n",
      "Index: []\n"
     ]
    }
   ],
   "source": [
    "# 질문3: 종가가 2달러 이하인 날의 데이터를 추출하세요.\n",
    "# mask = df.loc[]\n",
    "row_price_data = tiktok_data[tiktok_data[\"Close\"] <= 2.0]\n",
    "print(\"\\n종가가 2달러 이하인 데이터:\\n\", row_price_data.dropna())"
   ]
  },
  {
   "cell_type": "code",
   "execution_count": null,
   "metadata": {},
   "outputs": [],
   "source": [
    "# 질문4: 거래량이 2백만 이상인 데이터를 추출하고, 해당 데이터의 평균 종가를 계산하세요."
   ]
  },
  {
   "cell_type": "markdown",
   "metadata": {},
   "source": [
    "문제 5: 시각화\n",
    "\n",
    "# 질문: 2021년 데이터를 사용하여 종가(Close)와 거래량(Volume)의 트렌드를 시각화하세요."
   ]
  },
  {
   "cell_type": "code",
   "execution_count": null,
   "metadata": {},
   "outputs": [],
   "source": [
    "\n",
    "plt.figure(figsize=(12, 6))\n",
    "plt.plot(one_year_data.index, one_year_data[\"Close\"], label=\"Close Price\", color=\"blue\")\n",
    "plt.bar(one_year_data.index, one_year_data[\"Volume\"], label=\"Volume\", color=\"orange\", alpha=0.5)\n",
    "plt.title(\"TikTok Stock Close Price and Volume in 2021\")\n",
    "plt.xlabel(\"Date\")\n",
    "plt.ylabel(\"Value\")\n",
    "plt.legend()\n",
    "plt.show()\n"
   ]
  }
 ],
 "metadata": {
  "kernelspec": {
   "display_name": "aip_39",
   "language": "python",
   "name": "python3"
  },
  "language_info": {
   "codemirror_mode": {
    "name": "ipython",
    "version": 3
   },
   "file_extension": ".py",
   "mimetype": "text/x-python",
   "name": "python",
   "nbconvert_exporter": "python",
   "pygments_lexer": "ipython3",
   "version": "3.9.23"
  }
 },
 "nbformat": 4,
 "nbformat_minor": 2
}
