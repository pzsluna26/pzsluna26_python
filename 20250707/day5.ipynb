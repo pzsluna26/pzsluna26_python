{
 "cells": [
  {
   "cell_type": "markdown",
   "id": "5f9ca738",
   "metadata": {},
   "source": [
    "json "
   ]
  },
  {
   "cell_type": "code",
   "execution_count": 25,
   "id": "b1e4d94e",
   "metadata": {},
   "outputs": [
    {
     "data": {
      "text/plain": [
       "'112'"
      ]
     },
     "execution_count": 25,
     "metadata": {},
     "output_type": "execute_result"
    }
   ],
   "source": [
    "f = open('Numbers.txt', 'r', encoding ='utf8')\n",
    "# f.read(5)\n",
    "\n",
    "# 파일에서 한 줄을 읽고, 그 줄 끝의 개행 문자(\\n)를 제거하는 동작\n",
    "f.readline().rstrip()\n",
    "# f.close()\n"
   ]
  },
  {
   "cell_type": "code",
   "execution_count": 18,
   "id": "c2ca8445",
   "metadata": {},
   "outputs": [
    {
     "name": "stdout",
     "output_type": "stream",
     "text": [
      "112\n",
      "2\n",
      "3\n",
      "4\n",
      "5\n"
     ]
    }
   ],
   "source": [
    "# 'Numbers.txt'라는 이름의 파일을 **읽기 모드('r')**로 엽니다.\n",
    "# with 구문을 사용하면, 블록이 끝날 때 자동으로 f.close()가 호출됩니다. (파일 닫기 안전 처리)\n",
    "\n",
    "with open('Numbers.txt', 'r') as f:\n",
    "    # print(f.readlines(),' ')\n",
    "    for line in f:\n",
    "        print(line.rstrip())"
   ]
  },
  {
   "cell_type": "code",
   "execution_count": null,
   "id": "12ac2a1a",
   "metadata": {},
   "outputs": [
    {
     "name": "stdout",
     "output_type": "stream",
     "text": [
      "112\n",
      "\n"
     ]
    }
   ],
   "source": [
    "with open('Numbers.txt', 'r') as f :\n",
    "    contents = f.readline()\n",
    "print(contents)"
   ]
  },
  {
   "cell_type": "code",
   "execution_count": 50,
   "id": "03579f8e",
   "metadata": {},
   "outputs": [
    {
     "name": "stdout",
     "output_type": "stream",
     "text": [
      "파일 저장 완료\n"
     ]
    }
   ],
   "source": [
    "file = open('Numbers2.txt', 'w') \n",
    "file.write('1\\n')\n",
    "file.write('2\\n')\n",
    "file.close()\n",
    "\n",
    "print(\"파일 저장 완료\")"
   ]
  },
  {
   "cell_type": "code",
   "execution_count": 46,
   "id": "5c4efa0a",
   "metadata": {},
   "outputs": [],
   "source": [
    "with open('Numbers2.txt', 'w') as file:\n",
    "    answer = ['2','1','3']\n",
    "    contents= '\\n'.join(answer)\n",
    "    file.write(contents)\n",
    "    # file.close()"
   ]
  },
  {
   "cell_type": "code",
   "execution_count": 31,
   "id": "6ae2b0c5",
   "metadata": {},
   "outputs": [],
   "source": [
    "with open('Numbers211', 'w', encoding='utf8') as f:\n",
    "    f.writelines(['1','2','3'])"
   ]
  },
  {
   "cell_type": "code",
   "execution_count": 43,
   "id": "c6650e32",
   "metadata": {},
   "outputs": [
    {
     "data": {
      "text/plain": [
       "'112\\n2\\n3\\n4\\n5'"
      ]
     },
     "execution_count": 43,
     "metadata": {},
     "output_type": "execute_result"
    }
   ],
   "source": [
    "from pathlib import Path\n",
    "p = Path('data/Numbers.txt')\n",
    "p.read_text()"
   ]
  },
  {
   "cell_type": "markdown",
   "id": "68063690",
   "metadata": {},
   "source": [
    "222"
   ]
  },
  {
   "cell_type": "code",
   "execution_count": 45,
   "id": "d1b4b835",
   "metadata": {},
   "outputs": [
    {
     "ename": "UnsupportedOperation",
     "evalue": "not readable",
     "output_type": "error",
     "traceback": [
      "\u001b[1;31m---------------------------------------------------------------------------\u001b[0m",
      "\u001b[1;31mUnsupportedOperation\u001b[0m                      Traceback (most recent call last)",
      "Cell \u001b[1;32mIn[45], line 3\u001b[0m\n\u001b[0;32m      1\u001b[0m \u001b[38;5;28;01mwith\u001b[39;00m \u001b[38;5;28mopen\u001b[39m(\u001b[38;5;124m'\u001b[39m\u001b[38;5;124mNumber5.txt\u001b[39m\u001b[38;5;124m'\u001b[39m,\u001b[38;5;124m'\u001b[39m\u001b[38;5;124mw\u001b[39m\u001b[38;5;124m'\u001b[39m) \u001b[38;5;28;01mas\u001b[39;00m f:\n\u001b[0;32m      2\u001b[0m     f\u001b[38;5;241m.\u001b[39mwrite(\u001b[38;5;124m'\u001b[39m\u001b[38;5;124ma\u001b[39m\u001b[38;5;124m'\u001b[39m)\n\u001b[1;32m----> 3\u001b[0m     \u001b[43mf\u001b[49m\u001b[38;5;241;43m.\u001b[39;49m\u001b[43mread\u001b[49m\u001b[43m(\u001b[49m\u001b[43m)\u001b[49m\n",
      "\u001b[1;31mUnsupportedOperation\u001b[0m: not readable"
     ]
    }
   ],
   "source": [
    "with open('Number5.txt','w') as f:\n",
    "    f.write('a')\n",
    "    f.read()"
   ]
  },
  {
   "cell_type": "code",
   "execution_count": 48,
   "id": "cdfa5211",
   "metadata": {},
   "outputs": [],
   "source": [
    "def add(a,b):\n",
    "     raise FileNotFoundError('hello')\n",
    "\n",
    "def main():\n",
    "    add(1,2)\n",
    "    \n",
    "    try:\n",
    "        # with open('Number5.txt','r') as f:\n",
    "        # f.read()\n",
    "        main()\n",
    "    except FileNotFoundError as e:\n",
    "        print(e)\n",
    "        print('err')\n",
    "    except Exception as e:\n",
    "        print('Unknown Error')"
   ]
  },
  {
   "cell_type": "markdown",
   "id": "bceb5b44",
   "metadata": {},
   "source": [
    "csv\n"
   ]
  },
  {
   "cell_type": "code",
   "execution_count": 56,
   "id": "25cec78a",
   "metadata": {},
   "outputs": [
    {
     "name": "stdout",
     "output_type": "stream",
     "text": [
      "['name', ' java', ' python']\n",
      "['kim', '90', ' 80']\n",
      "['Lee', ' 70', ' 80']\n",
      "['park', ' 50', ' 80']\n"
     ]
    }
   ],
   "source": [
    "import csv\n",
    "\n",
    "with open('grade.csv','r') as f:\n",
    "    file = csv.reader(f)\n",
    "    for line in file:\n",
    "        print(line)"
   ]
  },
  {
   "cell_type": "markdown",
   "id": "10898fb0",
   "metadata": {},
   "source": [
    "학생별 평균\n",
    "과목별 평균"
   ]
  },
  {
   "cell_type": "code",
   "execution_count": null,
   "id": "49fd4f2e",
   "metadata": {},
   "outputs": [],
   "source": [
    "for k,v in subjects.items():\n",
    "    print(k,v)"
   ]
  },
  {
   "cell_type": "code",
   "execution_count": 61,
   "id": "976c2c40",
   "metadata": {},
   "outputs": [
    {
     "name": "stdout",
     "output_type": "stream",
     "text": [
      "Requirement already satisfied: pandas in c:\\users\\user\\appdata\\local\\programs\\python\\python39\\lib\\site-packages (2.3.0)\n",
      "Requirement already satisfied: python-dateutil>=2.8.2 in c:\\users\\user\\appdata\\roaming\\python\\python39\\site-packages (from pandas) (2.9.0.post0)\n",
      "Requirement already satisfied: tzdata>=2022.7 in c:\\users\\user\\appdata\\local\\programs\\python\\python39\\lib\\site-packages (from pandas) (2025.2)\n",
      "Requirement already satisfied: numpy>=1.22.4 in c:\\users\\user\\appdata\\local\\programs\\python\\python39\\lib\\site-packages (from pandas) (2.0.2)\n",
      "Requirement already satisfied: pytz>=2020.1 in c:\\users\\user\\appdata\\local\\programs\\python\\python39\\lib\\site-packages (from pandas) (2025.2)\n",
      "Requirement already satisfied: six>=1.5 in c:\\users\\user\\appdata\\roaming\\python\\python39\\site-packages (from python-dateutil>=2.8.2->pandas) (1.17.0)\n"
     ]
    },
    {
     "name": "stderr",
     "output_type": "stream",
     "text": [
      "WARNING: You are using pip version 22.0.4; however, version 25.1.1 is available.\n",
      "You should consider upgrading via the 'C:\\Users\\user\\AppData\\Local\\Programs\\Python\\Python39\\python.exe -m pip install --upgrade pip' command.\n"
     ]
    }
   ],
   "source": [
    "!pip install pandas"
   ]
  },
  {
   "cell_type": "code",
   "execution_count": 63,
   "id": "b878429d",
   "metadata": {},
   "outputs": [
    {
     "data": {
      "text/html": [
       "<div>\n",
       "<style scoped>\n",
       "    .dataframe tbody tr th:only-of-type {\n",
       "        vertical-align: middle;\n",
       "    }\n",
       "\n",
       "    .dataframe tbody tr th {\n",
       "        vertical-align: top;\n",
       "    }\n",
       "\n",
       "    .dataframe thead th {\n",
       "        text-align: right;\n",
       "    }\n",
       "</style>\n",
       "<table border=\"1\" class=\"dataframe\">\n",
       "  <thead>\n",
       "    <tr style=\"text-align: right;\">\n",
       "      <th></th>\n",
       "      <th>name</th>\n",
       "      <th>java</th>\n",
       "      <th>python</th>\n",
       "    </tr>\n",
       "  </thead>\n",
       "  <tbody>\n",
       "    <tr>\n",
       "      <th>0</th>\n",
       "      <td>kim</td>\n",
       "      <td>90</td>\n",
       "      <td>80</td>\n",
       "    </tr>\n",
       "    <tr>\n",
       "      <th>1</th>\n",
       "      <td>Lee</td>\n",
       "      <td>70</td>\n",
       "      <td>80</td>\n",
       "    </tr>\n",
       "    <tr>\n",
       "      <th>2</th>\n",
       "      <td>park</td>\n",
       "      <td>50</td>\n",
       "      <td>80</td>\n",
       "    </tr>\n",
       "  </tbody>\n",
       "</table>\n",
       "</div>"
      ],
      "text/plain": [
       "   name   java   python\n",
       "0   kim     90       80\n",
       "1   Lee     70       80\n",
       "2  park     50       80"
      ]
     },
     "execution_count": 63,
     "metadata": {},
     "output_type": "execute_result"
    }
   ],
   "source": [
    "import pandas as pd\n",
    "\n",
    "df = pd.read_csv('grade.csv')\n",
    "df.head()\n"
   ]
  },
  {
   "cell_type": "code",
   "execution_count": 90,
   "id": "d192050e",
   "metadata": {},
   "outputs": [
    {
     "name": "stdout",
     "output_type": "stream",
     "text": [
      "Index(['name', ' java', ' python'], dtype='object')\n"
     ]
    }
   ],
   "source": [
    "print(df.columns)  # 컬럼 이름 출력해서 확인\n",
    "\n",
    "# 열 단위로 연산 (axis=0)\n",
    "df.sum(axis=0)\n",
    "\n",
    "# 행 단위로 연산 (axis=1)\n",
    "df.columns = df.columns.str.strip()  # 컬럼명 양쪽 공백 제거\n",
    "df['total'] = df[['java', 'python']].sum(axis=1)\n"
   ]
  },
  {
   "cell_type": "code",
   "execution_count": 60,
   "id": "2be31b9f",
   "metadata": {},
   "outputs": [
    {
     "data": {
      "text/plain": [
       "({'kim': 85.0, 'Lee': 75.0, 'park': 65.0}, {'java': 210, 'python': 240})"
      ]
     },
     "execution_count": 60,
     "metadata": {},
     "output_type": "execute_result"
    }
   ],
   "source": [
    "import csv\n",
    "with open('grade.csv','r') as f:\n",
    "    file = csv.reader(f)\n",
    "\n",
    "    students = {}\n",
    "    subjects = {}\n",
    "    headers = next(file)\n",
    "\n",
    "    for line in file:\n",
    "        name, java, python = line[0], int(line[1]), int(line[2])\n",
    "        students[name] = (java + python) / 2\n",
    "        subjects['java'] = subjects.get('java', 0) + java\n",
    "        subjects['python'] = subjects.get('python', 0) + python\n",
    "students, subjects"
   ]
  },
  {
   "cell_type": "code",
   "execution_count": null,
   "id": "566b7be6",
   "metadata": {},
   "outputs": [
    {
     "name": "stdout",
     "output_type": "stream",
     "text": [
      "[1, 2, 3]\n"
     ]
    }
   ],
   "source": [
    "import json\n",
    "\n",
    "# Python 리스트를 JSON 문자열로 변환하는 작업\n",
    "lst = [1,2,3]\n",
    "contents = json.dumps(lst)\n",
    "print(contents) "
   ]
  },
  {
   "cell_type": "code",
   "execution_count": null,
   "id": "8689557d",
   "metadata": {},
   "outputs": [
    {
     "data": {
      "text/plain": [
       "(list, [1, 2, 3])"
      ]
     },
     "execution_count": 73,
     "metadata": {},
     "output_type": "execute_result"
    }
   ],
   "source": [
    "# JSON 문자열을 다시 Python 객체로 변환\n",
    "request = json.loads(contents)\n",
    "type(request), request\n"
   ]
  },
  {
   "cell_type": "code",
   "execution_count": null,
   "id": "ca6c0958",
   "metadata": {},
   "outputs": [
    {
     "ename": "AttributeError",
     "evalue": "'dict' object has no attribute 'json'",
     "output_type": "error",
     "traceback": [
      "\u001b[1;31m---------------------------------------------------------------------------\u001b[0m",
      "\u001b[1;31mAttributeError\u001b[0m                            Traceback (most recent call last)",
      "Cell \u001b[1;32mIn[83], line 13\u001b[0m\n\u001b[0;32m      1\u001b[0m data \u001b[38;5;241m=\u001b[39m {\n\u001b[0;32m      2\u001b[0m     \u001b[38;5;124m'\u001b[39m\u001b[38;5;124mkim\u001b[39m\u001b[38;5;124m'\u001b[39m : [\u001b[38;5;241m90\u001b[39m,\u001b[38;5;241m80\u001b[39m],\n\u001b[0;32m      3\u001b[0m     \u001b[38;5;124m'\u001b[39m\u001b[38;5;124mLee\u001b[39m\u001b[38;5;124m'\u001b[39m : [\u001b[38;5;241m77\u001b[39m,\u001b[38;5;241m88\u001b[39m],\n\u001b[0;32m      4\u001b[0m     \u001b[38;5;124m'\u001b[39m\u001b[38;5;124mpark\u001b[39m\u001b[38;5;124m'\u001b[39m : [\u001b[38;5;241m90\u001b[39m,\u001b[38;5;241m80\u001b[39m]\n\u001b[0;32m      5\u001b[0m }\n\u001b[0;32m      7\u001b[0m data \u001b[38;5;241m=\u001b[39m {\n\u001b[0;32m      8\u001b[0m     \u001b[38;5;124m'\u001b[39m\u001b[38;5;124mname\u001b[39m\u001b[38;5;124m'\u001b[39m : [\u001b[38;5;124m'\u001b[39m\u001b[38;5;124mkim\u001b[39m\u001b[38;5;124m'\u001b[39m,\u001b[38;5;124m'\u001b[39m\u001b[38;5;124mLee\u001b[39m\u001b[38;5;124m'\u001b[39m,\u001b[38;5;124m'\u001b[39m\u001b[38;5;124mPark\u001b[39m\u001b[38;5;124m'\u001b[39m],\n\u001b[0;32m      9\u001b[0m     \u001b[38;5;124m'\u001b[39m\u001b[38;5;124mjava\u001b[39m\u001b[38;5;124m'\u001b[39m : [\u001b[38;5;241m90\u001b[39m,\u001b[38;5;241m77\u001b[39m,\u001b[38;5;241m90\u001b[39m],\n\u001b[0;32m     10\u001b[0m     \u001b[38;5;124m'\u001b[39m\u001b[38;5;124mpython\u001b[39m\u001b[38;5;124m'\u001b[39m : [\u001b[38;5;241m80\u001b[39m,\u001b[38;5;241m88\u001b[39m,\u001b[38;5;241m80\u001b[39m],\n\u001b[0;32m     11\u001b[0m }\n\u001b[1;32m---> 13\u001b[0m response \u001b[38;5;241m=\u001b[39m json\u001b[38;5;241m.\u001b[39mdumps(\u001b[43mdata\u001b[49m\u001b[38;5;241;43m.\u001b[39;49m\u001b[43mjson\u001b[49m)\n\u001b[0;32m     14\u001b[0m \u001b[38;5;28mtype\u001b[39m(response)\n",
      "\u001b[1;31mAttributeError\u001b[0m: 'dict' object has no attribute 'json'"
     ]
    }
   ],
   "source": [
    "data = {\n",
    "    'kim' : [90,80],\n",
    "    'Lee' : [77,88],\n",
    "    'park' : [90,80]\n",
    "}\n",
    "\n",
    "data = {\n",
    "    'name' : ['kim','Lee','Park'],\n",
    "    'java' : [90,77,90],\n",
    "    'python' : [80,88,80],\n",
    "}\n",
    "\n",
    "response = json.dumps(data)\n",
    "type(response)"
   ]
  },
  {
   "cell_type": "code",
   "execution_count": 77,
   "id": "d76d4230",
   "metadata": {},
   "outputs": [
    {
     "data": {
      "text/plain": [
       "dict"
      ]
     },
     "execution_count": 77,
     "metadata": {},
     "output_type": "execute_result"
    }
   ],
   "source": [
    "request = json.loads(response)\n",
    "type(request)"
   ]
  },
  {
   "cell_type": "code",
   "execution_count": null,
   "id": "dbac77ca",
   "metadata": {},
   "outputs": [],
   "source": [
    "# pickle은 리스트, 딕셔너리, 클래스 인스턴스 등을 그대로 파일로 저장할 수 있게 해줘요.\n",
    "# 'wb'는 꼭 기억하세요. pickle 은 반드시 바이너리 모드로 저장해야 합니다.\n",
    "import pickle\n",
    "with open('data.bin','wb') as f:\n",
    "    pickle.dump(data, f)"
   ]
  },
  {
   "cell_type": "code",
   "execution_count": 82,
   "id": "df247211",
   "metadata": {},
   "outputs": [
    {
     "data": {
      "text/plain": [
       "{'name': ['kim', 'Lee', 'Park'], 'java': [90, 77, 90], 'python': [80, 88, 80]}"
      ]
     },
     "execution_count": 82,
     "metadata": {},
     "output_type": "execute_result"
    }
   ],
   "source": [
    "with open('data.bin','rb') as f:\n",
    "    data2 = pickle.load(f)\n",
    "data2"
   ]
  },
  {
   "cell_type": "code",
   "execution_count": 88,
   "id": "99dbd314",
   "metadata": {},
   "outputs": [
    {
     "name": "stdout",
     "output_type": "stream",
     "text": [
      "kim\n"
     ]
    },
    {
     "ename": "KeyError",
     "evalue": "'java'",
     "output_type": "error",
     "traceback": [
      "\u001b[1;31m---------------------------------------------------------------------------\u001b[0m",
      "\u001b[1;31mKeyError\u001b[0m                                  Traceback (most recent call last)",
      "Cell \u001b[1;32mIn[88], line 6\u001b[0m\n\u001b[0;32m      4\u001b[0m \u001b[38;5;28;01mfor\u001b[39;00m line \u001b[38;5;129;01min\u001b[39;00m reader:\n\u001b[0;32m      5\u001b[0m     \u001b[38;5;28mprint\u001b[39m(line[\u001b[38;5;124m'\u001b[39m\u001b[38;5;124mname\u001b[39m\u001b[38;5;124m'\u001b[39m])\n\u001b[1;32m----> 6\u001b[0m     \u001b[38;5;28mprint\u001b[39m(\u001b[43mline\u001b[49m\u001b[43m[\u001b[49m\u001b[38;5;124;43m'\u001b[39;49m\u001b[38;5;124;43mjava\u001b[39;49m\u001b[38;5;124;43m'\u001b[39;49m\u001b[43m]\u001b[49m)\n\u001b[0;32m      7\u001b[0m     \u001b[38;5;28mprint\u001b[39m(line[\u001b[38;5;124m'\u001b[39m\u001b[38;5;124mpython\u001b[39m\u001b[38;5;124m'\u001b[39m])\n",
      "\u001b[1;31mKeyError\u001b[0m: 'java'"
     ]
    }
   ],
   "source": [
    "import csv\n",
    "with open('grade.csv', 'r') as f:\n",
    "    reader = csv.DictReader(f)\n",
    "    for line in reader:\n",
    "        print(line['name'])\n",
    "        print(line['java'])\n",
    "        print(line['python'])"
   ]
  }
 ],
 "metadata": {
  "kernelspec": {
   "display_name": "Python 3",
   "language": "python",
   "name": "python3"
  },
  "language_info": {
   "codemirror_mode": {
    "name": "ipython",
    "version": 3
   },
   "file_extension": ".py",
   "mimetype": "text/x-python",
   "name": "python",
   "nbconvert_exporter": "python",
   "pygments_lexer": "ipython3",
   "version": "3.9.13"
  }
 },
 "nbformat": 4,
 "nbformat_minor": 5
}
