{
 "cells": [
  {
   "cell_type": "markdown",
   "metadata": {},
   "source": [
    "파이썬 함수가 중요한 이유:\n",
    "1. scikit-learn은 모두 함수 호출.\n",
    "\n",
    "2. 함수의 actual arguments, keyword arguments, default parameters를 익혀야 한다 "
   ]
  },
  {
   "cell_type": "markdown",
   "metadata": {},
   "source": [
    "8장 함수 "
   ]
  },
  {
   "cell_type": "code",
   "execution_count": 1,
   "metadata": {},
   "outputs": [
    {
     "name": "stdout",
     "output_type": "stream",
     "text": [
      "난수 목록: [59, 8, 5, 39, 10, 36, 76, 89, 80, 51]\n",
      "합계: 453, 최대: 89, 최소: 5, 평균: 45.30\n",
      "Help on function analyze_random_numbers in module __main__:\n",
      "\n",
      "analyze_random_numbers(numbers)\n",
      "    난수 10개 생성 후 합계, 최대값, 최소값, 평균을 계산해 반환\n",
      "\n"
     ]
    }
   ],
   "source": [
    "import random\n",
    "\n",
    "def analyze_random_numbers(numbers):\n",
    "    # doc string \n",
    "    \"\"\"난수 10개 생성 후 합계, 최대값, 최소값, 평균을 계산해 반환\"\"\"\n",
    "\n",
    "    \n",
    "    total = sum(numbers)\n",
    "    maximum = max(numbers)\n",
    "    minimum = min(numbers)\n",
    "    average = total / len(numbers)\n",
    "\n",
    "    return numbers, total, maximum, minimum, average\n",
    "\n",
    "numbers = [random.randint(1, 100) for _ in range(10)]\n",
    "# 테스트\n",
    "nums, total, max_val, min_val, avg = analyze_random_numbers(numbers)\n",
    "print(f\"난수 목록: {nums}\")\n",
    "print(f\"합계: {total}, 최대: {max_val}, 최소: {min_val}, 평균: {avg:.2f}\")\n",
    "help(analyze_random_numbers)"
   ]
  },
  {
   "cell_type": "code",
   "execution_count": 2,
   "metadata": {},
   "outputs": [
    {
     "name": "stdout",
     "output_type": "stream",
     "text": [
      "동물타입 = 늑대\n",
      "동물이름 = gogo\n"
     ]
    }
   ],
   "source": [
    "def describe_pet(animal_type, animal_name = 'umme'):#non-default argument follows default argument \n",
    "    '''동물 타입과 이름 함수'''\n",
    "    print(f\"동물타입 = {animal_type}\")\n",
    "    print(f\"동물이름 = {animal_name}\")\n",
    "    \n",
    "describe_pet(\"늑대\",\"gogo\")##keyword arguments를 많이 사용한다 "
   ]
  },
  {
   "cell_type": "markdown",
   "metadata": {},
   "source": [
    "8.2.2 키워드 인수\n",
    "\n",
    "함수 반환 값\n",
    "- 튜플의 반환, 호출시에 keyword parameter 전달 "
   ]
  },
  {
   "cell_type": "code",
   "execution_count": null,
   "metadata": {},
   "outputs": [
    {
     "name": "stdout",
     "output_type": "stream",
     "text": [
      "(11, 'nice', [1, 2, 3, 4])\n",
      "11\n",
      "good\n",
      "['a', 'b', 'c']\n",
      "a = 11\n",
      "b = nice\n",
      "c = [1, 2, 3, 4]\n"
     ]
    }
   ],
   "source": [
    "def show_integer_string_list(lst, str='good', num = 11):\n",
    "    integer_value = num\n",
    "    string_value = str\n",
    "    list_value = lst\n",
    "    return integer_value, string_value, list_value\n",
    "\n",
    "result = show_integer_string_list([1,2,3,4], 'nice')\n",
    "print(result)  # 출력: (10, 'Hello', [1, 2, 3])\n",
    "\n",
    "# 각 요소를 개별적으로 접근\n",
    "int_val, str_val, list_val = show_integer_string_list(['a','b','c'])\n",
    "print(int_val)  # 출력: 11\n",
    "print(str_val)  # 출력: Hello\n",
    "print(list_val) # 출력: [1, 2, 3]\n",
    "\n",
    "a,b,c = result # 튜플의 unpacking이라 한다.\n",
    "print(f\"a = {a}\")\n",
    "print(f\"b = {b}\")\n",
    "print(f\"c = {c}\")"
   ]
  },
  {
   "cell_type": "markdown",
   "metadata": {},
   "source": [
    "8.3.3 dictionary 반환하기 "
   ]
  },
  {
   "cell_type": "code",
   "execution_count": 4,
   "metadata": {},
   "outputs": [
    {
     "name": "stdout",
     "output_type": "stream",
     "text": [
      "d_a = {'name': 'Alice', 'age': 25, 'city': 'New York'}\n",
      "Name: Alice, Age: 25, City: New York\n",
      "Name: Bob, Age: 30, City: Los Angeles\n",
      "Name: Charlie, Age: 22, City: Chicago\n"
     ]
    }
   ],
   "source": [
    "def create_list_of_dictionaries():\n",
    "    return [\n",
    "        {'name': 'Alice', 'age': 25, 'city': 'New York'},\n",
    "        {'name': 'Bob', 'age': 30, 'city': 'Los Angeles'},\n",
    "        {'name': 'Charlie', 'age': 22, 'city': 'Chicago'}\n",
    "    ]\n",
    "\n",
    "# 함수 호출\n",
    "result = create_list_of_dictionaries()\n",
    "\n",
    "d_a, d_b, d_c = result #list의 unpacking\n",
    "##튜플이든 리스트든 unpacking은 가능\n",
    "print(f\"d_a = {d_a}\")\n",
    "# 리스트의 각 딕셔너리를 언패킹\n",
    "for person in result:\n",
    "    name, age, city = person['name'], person['age'], person['city']\n",
    "    print(f\"Name: {name}, Age: {age}, City: {city}\")"
   ]
  },
  {
   "cell_type": "code",
   "execution_count": null,
   "metadata": {},
   "outputs": [
    {
     "name": "stdout",
     "output_type": "stream",
     "text": [
      "[{'name': 'Alice', 'age': 25, 'city': 'New York'}, {'name': 'Bob', 'age': 30, 'city': 'Los Angeles'}, {'name': 'Charlie', 'age': 22, 'city': 'Chicago'}]\n"
     ]
    }
   ],
   "source": [
    "print(result)"
   ]
  },
  {
   "cell_type": "code",
   "execution_count": 6,
   "metadata": {},
   "outputs": [
    {
     "name": "stdout",
     "output_type": "stream",
     "text": [
      "({'name': 'Alice', 'age': 25, 'city': 'New York'}, {'name': 'Bob', 'age': 30, 'city': 'Los Angeles'}, {'name': 'Charlie', 'age': 22, 'city': 'Chicago'})\n"
     ]
    }
   ],
   "source": [
    "\n",
    "tuple_result = tuple(result) #list를 tuple로 conversion > 이것이 파이썬의 type casting에 해당\n",
    "print(tuple_result)"
   ]
  },
  {
   "cell_type": "code",
   "execution_count": 7,
   "metadata": {},
   "outputs": [
    {
     "name": "stdout",
     "output_type": "stream",
     "text": [
      "{'name': 'Alice', 'age': 25, 'city': 'New York'}\n",
      "{'name': 'Bob', 'age': 30, 'city': 'Los Angeles'} {'name': 'Charlie', 'age': 22, 'city': 'Chicago'}\n"
     ]
    }
   ],
   "source": [
    "a, b, c = tuple_result\n",
    "print(a)\n",
    "print(b,c)"
   ]
  },
  {
   "cell_type": "code",
   "execution_count": null,
   "metadata": {},
   "outputs": [
    {
     "name": "stdout",
     "output_type": "stream",
     "text": [
      "{'name': 'Alice', 'age': 25, 'city': 'New York'}\n",
      "[{'name': 'Bob', 'age': 30, 'city': 'Los Angeles'}, {'name': 'Charlie', 'age': 22, 'city': 'Chicago'}]\n"
     ]
    }
   ],
   "source": [
    "first, *rest = tuple_result # *는 가변 개수의 항목을 한 변수에 '리스트'로 수집\n",
    "#first는 첫 번째 딕셔너리, rest는 나머지를 리스트\n",
    "print(first)\n",
    "print(rest)"
   ]
  },
  {
   "cell_type": "code",
   "execution_count": 6,
   "metadata": {},
   "outputs": [
    {
     "name": "stdout",
     "output_type": "stream",
     "text": [
      "1\n",
      "2\n",
      "[3, 4, 5]\n"
     ]
    }
   ],
   "source": [
    "t1 = (1, 2, 3, 4, 5)\n",
    "a, b, *c = t1 # 튜플로 가능한데 결과는 리스트로 반환 \n",
    "print(a)  # 1\n",
    "print(b)  # 2\n",
    "print(c)  # [3, 4, 5] ← 나머지가 리스트로 언패킹됨\n"
   ]
  },
  {
   "cell_type": "markdown",
   "metadata": {},
   "source": [
    "*변수명은 나머지 값을 리스트로 묶어서 저장\n",
    "\n",
    "- 이는 리스트, 튜플, 문자열 등 반복 가능한 객체에서 사용 가능\n",
    "\n",
    "- 좌변 변수 수는 자유롭지만 한 군데만 *을 사용할 수 있음"
   ]
  },
  {
   "cell_type": "markdown",
   "metadata": {},
   "source": [
    "8.3.3 dictionary 반환하기 "
   ]
  },
  {
   "cell_type": "code",
   "execution_count": 15,
   "metadata": {},
   "outputs": [
    {
     "ename": "IndentationError",
     "evalue": "unexpected indent (3167209.py, line 17)",
     "output_type": "error",
     "traceback": [
      "\u001b[1;36m  Cell \u001b[1;32mIn[15], line 17\u001b[1;36m\u001b[0m\n\u001b[1;33m    modified_person = modify_dictionary(person.copy())  # 또는 dict(person)\u001b[0m\n\u001b[1;37m    ^\u001b[0m\n\u001b[1;31mIndentationError\u001b[0m\u001b[1;31m:\u001b[0m unexpected indent\n"
     ]
    }
   ],
   "source": [
    "def modify_dictionary(person_dict):#참조 변수 전달이다 \n",
    "    # 딕셔너리에 새로운 키-값 쌍 추가\n",
    "    person_dict['age'] += 1  # 나이를 1살 증가\n",
    "    person_dict['city'] = 'San Francisco'  # 도시를 'San Francisco'로 변경\n",
    "    return person_dict\n",
    "\n",
    "# 원래 딕셔너리\n",
    "person = {'name': 'Alice', 'age': 25, 'city': 'New York'}\n",
    "# p2 = person[:2] #딕셔너리는 Slicing 안됨 => 키key가 있기때문\n",
    "\n",
    "# 함수 호출\n",
    "# modified_person = modify_dictionary(person) #딕셔너리는 참조 타입이기 때문에, 함수에 전달하면 원본이 바뀔 수 있다\n",
    "# 파이썬에서 list, dict, tuple은 모두 참조형 변수로 함수에 전달, list, dict만 수정 가능\n",
    "\n",
    "# 딕셔너리의 사본을 생성하여 함수 호출\n",
    "# modified_person = modify_dictionary(person[:]) ##TypeError: unhashable type: 'slice' 라는 에러\n",
    " modified_person = modify_dictionary(person.copy())  # 또는 dict(person)\n",
    "# 결과 출력\n",
    "\n",
    "print(f\"원래 딕셔너리={person}\") # 변경됨\n",
    "print(f\"사본 딕셔너리={modified_person}\")#변경됨 "
   ]
  },
  {
   "cell_type": "code",
   "execution_count": null,
   "metadata": {},
   "outputs": [],
   "source": [
    "copy_person = person.copy() #딕셔너리 shallow copy를 함수에 전달하면 원본이 수정되나?\n"
   ]
  },
  {
   "cell_type": "code",
   "execution_count": 10,
   "metadata": {},
   "outputs": [
    {
     "name": "stdout",
     "output_type": "stream",
     "text": [
      "원래 딕셔너리 = {'name': 'Alice', 'age': 25, 'city': 'New York'}\n",
      "사본 딕셔너리 = {'name': 'Alice', 'age': 26, 'city': 'San Francisco'}\n"
     ]
    }
   ],
   "source": [
    "def modify_dictionary(person_info):\n",
    "    person_info['age'] += 1\n",
    "    person_info['city'] = 'San Francisco'\n",
    "    return person_info\n",
    "\n",
    "# 원본 딕셔너리\n",
    "person = {'name': 'Alice', 'age': 25, 'city': 'New York'}\n",
    "\n",
    "# 딕셔너리 사본을 함수에 전달 (얕은 복사)\n",
    "modified_person = modify_dictionary(person.copy())\n",
    "\n",
    "# 결과 출력\n",
    "print(f\"원래 딕셔너리 = {person}\")           # {'name': 'Alice', 'age': 25, 'city': 'New York'}\n",
    "print(f\"사본 딕셔너리 = {modified_person}\")   # {'name': 'Alice', 'age': 26, 'city': 'San Francisco'}\n"
   ]
  },
  {
   "cell_type": "markdown",
   "metadata": {},
   "source": [
    "얖은 복사는 사본을 만들었는데 원본이 변경 안되었다. 그 이유는?\n",
    "- person.copy()는 dict의 얕은 복사를 수행하여 새로운 딕셔너리 객체를 생성\n",
    "- 이 새로운 딕셔너리는 원본 person과는 별개의 객체\n",
    "- 내부 값(예: 'age': 25)이 정수, 문자열 등 불변 객체(immutable)일 경우에는 값을 복사 > 원본에 영향을 주지 않음"
   ]
  },
  {
   "cell_type": "code",
   "execution_count": null,
   "metadata": {},
   "outputs": [
    {
     "name": "stdout",
     "output_type": "stream",
     "text": [
      "2\n"
     ]
    },
    {
     "ename": "TypeError",
     "evalue": "'str' object does not support item assignment",
     "output_type": "error",
     "traceback": [
      "\u001b[1;31m---------------------------------------------------------------------------\u001b[0m",
      "\u001b[1;31mTypeError\u001b[0m                                 Traceback (most recent call last)",
      "Cell \u001b[1;32mIn[17], line 5\u001b[0m\n\u001b[0;32m      3\u001b[0m s \u001b[38;5;241m=\u001b[39m \u001b[38;5;124m'\u001b[39m\u001b[38;5;124m123\u001b[39m\u001b[38;5;124m'\u001b[39m\n\u001b[0;32m      4\u001b[0m \u001b[38;5;28mprint\u001b[39m(s[\u001b[38;5;241m1\u001b[39m])\n\u001b[1;32m----> 5\u001b[0m \u001b[43ms\u001b[49m\u001b[43m[\u001b[49m\u001b[38;5;241;43m0\u001b[39;49m\u001b[43m]\u001b[49m \u001b[38;5;241m=\u001b[39m \u001b[38;5;124m'\u001b[39m\u001b[38;5;124ma\u001b[39m\u001b[38;5;124m'\u001b[39m\n",
      "\u001b[1;31mTypeError\u001b[0m: 'str' object does not support item assignment"
     ]
    }
   ],
   "source": [
    "num = 10\n",
    "num = num + 5 #변경으로 생각 > 10 자체를 변경하는 것이 아님\n",
    "s = '123' #str객체 > 불변 객체\n",
    "print(s[1])\n",
    "s[0] = 'a'\n",
    "\n"
   ]
  },
  {
   "cell_type": "code",
   "execution_count": null,
   "metadata": {},
   "outputs": [],
   "source": [
    "import copy\n",
    "copy_person = copy.copy(person) #딕셔너리 shallow copy\n"
   ]
  },
  {
   "cell_type": "markdown",
   "metadata": {},
   "source": [
    "- 파이썬에서 리스트를 포함한 dict를 **shallow copy (얕은 복사)**하여 함수에 전달시\n",
    "- 함수 내부에서 딕셔너리 안의 mutable 객체(리스트)를 수정하면, 원본도 함께 변경"
   ]
  },
  {
   "cell_type": "code",
   "execution_count": null,
   "metadata": {},
   "outputs": [
    {
     "name": "stdout",
     "output_type": "stream",
     "text": [
      "원본: {'name': 'Alice', 'skills': ['C', 'Java', 'Python']}\n",
      "복사본: {'name': 'Alice', 'skills': ['C', 'Java', 'Python']}\n"
     ]
    }
   ],
   "source": [
    "def modify_skills(info):\n",
    "    info['skills'].append('Python')  # 리스트에 직접 변경 > 원본의 key 필드를 복사한 것\n",
    "\n",
    "person = {'name': 'Alice', 'skills': ['C', 'Java']}\n",
    "copy_person = person.copy()  # shallow copy\n",
    "\n",
    "modify_skills(copy_person)\n",
    "\n",
    "print(\"원본:\", person)\n",
    "print(\"복사본:\", copy_person)\n"
   ]
  },
  {
   "cell_type": "code",
   "execution_count": null,
   "metadata": {},
   "outputs": [
    {
     "name": "stdout",
     "output_type": "stream",
     "text": [
      "원본: {'name': 'Alice', 'skills': ['C', 'Java']}\n",
      "복사본: {'name': 'Alice', 'skills': ['Python']}\n"
     ]
    }
   ],
   "source": [
    "def replace_skills(info):\n",
    "    info['skills'] = ['Python']  # 리스트를 새 객체로 할당 > 원본이 변경되지 않는다 : 이유는 key 필드를 재할당으로 해석\n",
    "\n",
    "person = {'name': 'Alice', 'skills': ['C', 'Java']}\n",
    "copy_person = person.copy()\n",
    "\n",
    "replace_skills(copy_person)\n",
    "\n",
    "print(\"원본:\", person)\n",
    "print(\"복사본:\", copy_person)\n"
   ]
  },
  {
   "cell_type": "code",
   "execution_count": null,
   "metadata": {},
   "outputs": [],
   "source": [
    "import copy\n",
    "deep_copy_person = copy.deepcopy(person) # 딕셔너리 깊은 복사 \n"
   ]
  },
  {
   "cell_type": "markdown",
   "metadata": {},
   "source": [
    "list() 함수는 파이썬에서 사용되는 내장 함수로, 주어진 반복 가능한(iterable) 객체를 리스트로 변환"
   ]
  },
  {
   "cell_type": "code",
   "execution_count": 14,
   "metadata": {},
   "outputs": [
    {
     "name": "stdout",
     "output_type": "stream",
     "text": [
      "[1, 2, 3]\n",
      "['h', 'e', 'l', 'l', 'o']\n",
      "[1, 2, 3]\n",
      "[0, 1, 2, 3, 4]\n"
     ]
    }
   ],
   "source": [
    "my_tuple = (1, 2, 3)\n",
    "my_list = list(my_tuple)\n",
    "print(my_list) \n",
    "\n",
    "my_string = \"hello\"\n",
    "my_list = list(my_string)\n",
    "print(my_list) \n",
    "\n",
    "my_set = {1, 2, 3}\n",
    "my_list = list(my_set)\n",
    "print(my_list) \n",
    "\n",
    "my_range = range(5)\n",
    "my_list = list(my_range)\n",
    "print(my_list) "
   ]
  },
  {
   "cell_type": "code",
   "execution_count": 20,
   "metadata": {},
   "outputs": [
    {
     "name": "stdout",
     "output_type": "stream",
     "text": [
      "원래 리스트: ['홍길동', 25, '부산']\n",
      "수정된 사본 리스트: ['홍길동', 26, '제주']\n"
     ]
    }
   ],
   "source": [
    "def modify_list(person_info):\n",
    "    # 리스트에 새로운 요소 추가\n",
    "    person_info[1] += 1  # 나이를 1살 증가 (인덱스 1에 해당)\n",
    "    person_info[2] = '제주'  # 도시를 변경 (인덱스 2에 해당)\n",
    "    return person_info\n",
    "\n",
    "# 원래 리스트\n",
    "person = ['홍길동', 25, '부산']\n",
    "\n",
    "# 리스트의 사본을 생성하여 함수 호출\n",
    "# modified_person = modify_list(person.copy())  #얕은복사\n",
    "# modified_person = modify_list(person[:])### 자주 사용되므로 기억해야 한다 \n",
    "# modified_person = modify_list(person) #참조변수 전달이므로 원본 변경\n",
    "modified_person = modify_list(list(person)) ##person 리스트의 요소를 복사하여 새로운 리스트 객체를 생성\n",
    "# 결과 출력\n",
    "print(f\"원래 리스트: {person}\")\n",
    "print(f\"수정된 사본 리스트: {modified_person}\")"
   ]
  },
  {
   "cell_type": "code",
   "execution_count": 25,
   "metadata": {},
   "outputs": [
    {
     "ename": "ValueError",
     "evalue": "dictionary update sequence element #0 has length 3; 2 is required",
     "output_type": "error",
     "traceback": [
      "\u001b[1;31m---------------------------------------------------------------------------\u001b[0m",
      "\u001b[1;31mValueError\u001b[0m                                Traceback (most recent call last)",
      "Cell \u001b[1;32mIn[25], line 1\u001b[0m\n\u001b[1;32m----> 1\u001b[0m copy_person \u001b[38;5;241m=\u001b[39m \u001b[38;5;28;43mdict\u001b[39;49m\u001b[43m(\u001b[49m\u001b[43mperson\u001b[49m\u001b[43m)\u001b[49m \u001b[38;5;66;03m# 얕은 복사\u001b[39;00m\n",
      "\u001b[1;31mValueError\u001b[0m: dictionary update sequence element #0 has length 3; 2 is required"
     ]
    }
   ],
   "source": [
    "copy_person = dict(person) # 얕은 복사\n"
   ]
  },
  {
   "cell_type": "markdown",
   "metadata": {},
   "source": [
    "파이썬 자료구조"
   ]
  },
  {
   "cell_type": "markdown",
   "metadata": {},
   "source": [
    "array 모듈은 파이썬 내장 모듈로, **같은 타입의 값들만 저장하는 배열(array)**\n",
    "\n",
    "'i'는 **signed int (4바이트 정수)**."
   ]
  },
  {
   "cell_type": "code",
   "execution_count": 26,
   "metadata": {},
   "outputs": [],
   "source": [
    "import array\n",
    "my_array = array.array('i', [1, 2, 3])  # 'i'는 정수형"
   ]
  },
  {
   "cell_type": "code",
   "execution_count": 27,
   "metadata": {},
   "outputs": [
    {
     "name": "stdout",
     "output_type": "stream",
     "text": [
      "array('i', [99, 3, 4])\n",
      "99\n",
      "3\n",
      "4\n",
      "5\n"
     ]
    }
   ],
   "source": [
    "my_array.append(4)          # 마지막에 추가\n",
    "my_array.extend([5, 6])     # 여러 개 추가\n",
    "my_array.insert(1, 99)      # index 1에 값 99 삽입\n",
    "\n",
    "my_array.remove(2)     # 값 2 삭제 (첫 번째 것만)\n",
    "my_array.pop()         # 마지막 요소 제거\n",
    "my_array.pop(0)        # index 0의 요소 제거\n",
    "\n",
    "print(my_array[0:3])   # 부분 배열\n",
    "for item in my_array:\n",
    "    print(item)        # 반복 출력\n",
    "\n",
    "import copy\n",
    "new_array = copy.copy(my_array)       # 얕은 복사\n",
    "deep_array = copy.deepcopy(my_array)  # 깊은 복사\n"
   ]
  },
  {
   "cell_type": "code",
   "execution_count": null,
   "metadata": {},
   "outputs": [
    {
     "name": "stdout",
     "output_type": "stream",
     "text": [
      "deque([0, 1, 2, 3, 4])\n"
     ]
    }
   ],
   "source": [
    "from collections import deque\n",
    "my_deque = deque([1, 2, 3]) # 클래스 생성자 호출\n",
    "\n",
    "my_deque.append(4)         # 오른쪽 끝에 추가 → [1, 2, 3, 4]\n",
    "my_deque.appendleft(0)     # 왼쪽 끝에 추가 → [0, 1, 2, 3, 4]\n",
    "\n",
    "#my_deque.pop()             # 오른쪽 끝 제거 → [0, 1, 2, 3]\n",
    "#my_deque.popleft()         # 왼쪽 끝 제거 → [1, 2, 3]\n",
    "print(my_deque)"
   ]
  },
  {
   "cell_type": "markdown",
   "metadata": {},
   "source": [
    "스택/큐로 활용\n",
    "스택처럼 사용 → append() / pop()\n",
    "\n",
    "큐처럼 사용 → append() / popleft()"
   ]
  },
  {
   "cell_type": "code",
   "execution_count": null,
   "metadata": {},
   "outputs": [
    {
     "name": "stdout",
     "output_type": "stream",
     "text": [
      "Pop: C\n",
      "Pop: B\n",
      "Pop: A\n"
     ]
    }
   ],
   "source": [
    "#1. deque를 스택처럼 사용 (LIFO: 후입선출)\n",
    "from collections import deque\n",
    "\n",
    "# 스택처럼 사용할 deque 생성\n",
    "stack = deque()\n",
    "\n",
    "# 삽입 (push)\n",
    "stack.append('A')\n",
    "stack.append('B')\n",
    "stack.append('C')\n",
    "\n",
    "# 삭제 (pop: 마지막 요소부터 꺼냄)\n",
    "print(\"Pop:\", stack.pop())   # C\n",
    "print(\"Pop:\", stack.pop())   # B\n",
    "print(\"Pop:\", stack.pop())   # A\n"
   ]
  },
  {
   "cell_type": "markdown",
   "metadata": {},
   "source": [
    "- deque는 collections 모듈에 정의된 클래스\n",
    "\n",
    "- deque()는 그 클래스의 생성자(Constructor) 를 호출하는 구문\n",
    "\n",
    "- deque()는 새로운 deque 객체(이중 연결 리스트 기반의 자료구조) 를 생성하는 코드"
   ]
  },
  {
   "cell_type": "code",
   "execution_count": 14,
   "metadata": {},
   "outputs": [
    {
     "name": "stdout",
     "output_type": "stream",
     "text": [
      "Dequeue: A\n",
      "Dequeue: B\n",
      "Dequeue: C\n"
     ]
    }
   ],
   "source": [
    "#2. deque를 큐처럼 사용 (FIFO: 선입선출)\n",
    "from collections import deque\n",
    "\n",
    "# 큐처럼 사용할 deque 생성\n",
    "queue = deque()\n",
    "\n",
    "# 삽입 (enqueue)\n",
    "queue.append('A')\n",
    "queue.append('B')\n",
    "queue.append('C')\n",
    "\n",
    "# 삭제 (dequeue: 앞에서 꺼냄)\n",
    "print(\"Dequeue:\", queue.popleft())  # A\n",
    "print(\"Dequeue:\", queue.popleft())  # B\n",
    "print(\"Dequeue:\", queue.popleft())  # C\n"
   ]
  },
  {
   "cell_type": "code",
   "execution_count": 28,
   "metadata": {},
   "outputs": [
    {
     "name": "stdout",
     "output_type": "stream",
     "text": [
      "Priority: 0, Value: high priority\n",
      "Priority: 1, Value: another low priority\n",
      "Priority: 1, Value: low priority\n",
      "Priority: 2, Value: medium priority\n",
      "Priority: 3, Value: very low priority\n"
     ]
    }
   ],
   "source": [
    "from queue import PriorityQueue\n",
    "\n",
    "# 우선순위 큐 생성\n",
    "pq = PriorityQueue() #클래스 생성자 > 객체생성\n",
    "\n",
    "# 5개 삽입 (우선순위가 낮을수록 먼저 나옴)\n",
    "pq.put((2, 'medium priority')) # 2번째 인수는 주석용 \n",
    "pq.put((1, 'low priority'))\n",
    "pq.put((0, 'high priority'))\n",
    "pq.put((3, 'very low priority'))\n",
    "pq.put((1, 'another low priority'))\n",
    "\n",
    "# 5개 삭제 (우선순위 순으로 출력됨) => 우선순위 : 숫자가 낮은 것\n",
    "for _ in range(5):\n",
    "    priority, value = pq.get()\n",
    "    print(f\"Priority: {priority}, Value: {value}\")\n"
   ]
  },
  {
   "cell_type": "markdown",
   "metadata": {},
   "source": [
    "클래스를 사용한 트리 구현"
   ]
  },
  {
   "cell_type": "code",
   "execution_count": null,
   "metadata": {},
   "outputs": [
    {
     "name": "stdout",
     "output_type": "stream",
     "text": [
      "In-order Traversal:\n",
      "2 3 5 7 "
     ]
    }
   ],
   "source": [
    "\n",
    "# node 클래스의 생성자\n",
    "class Node:                          # 자바식 표현\n",
    "    def __init__(self, value):    \n",
    "        self.value = value           # this.value\n",
    "        self.left = None             # this.left\n",
    "        self.right = None            # this.right\n",
    "\n",
    "# binary tree 클래스의 생성자\n",
    "class BinaryTree:\n",
    "    def __init__(self):              # 자동으로 호출\n",
    "        self.root = None\n",
    "\n",
    "    def insert(self, value):\n",
    "        if self.root is None:\n",
    "            self.root = Node(value)\n",
    "        else:\n",
    "            self._insert_recursively(self.root, value)\n",
    "\n",
    "    def _insert_recursively(self, node, value):\n",
    "        if value < node.value:\n",
    "            if node.left is None:\n",
    "                node.left = Node(value)\n",
    "            else:\n",
    "                self._insert_recursively(node.left, value)\n",
    "        else:\n",
    "            if node.right is None:\n",
    "                node.right = Node(value)\n",
    "            else:\n",
    "                self._insert_recursively(node.right, value)\n",
    "\n",
    "    def inorder_traversal(self, node):\n",
    "        if node:\n",
    "            self.inorder_traversal(node.left)\n",
    "            print(node.value, end=' ')\n",
    "            self.inorder_traversal(node.right)\n",
    "\n",
    "# 사용 예\n",
    "tree = BinaryTree()\n",
    "tree.insert(5)\n",
    "tree.insert(3)\n",
    "tree.insert(7)\n",
    "tree.insert(2)\n",
    "\n",
    "print(\"In-order Traversal:\")\n",
    "tree.inorder_traversal(tree.root) "
   ]
  },
  {
   "cell_type": "markdown",
   "metadata": {},
   "source": [
    "## 이진 탐색 트리 구현:\n",
    "- insert()를 non-recursive 함수로 구현\n",
    "- delete()를 non-recursive 함수로 구현"
   ]
  },
  {
   "cell_type": "markdown",
   "metadata": {},
   "source": [
    "## 그래프 구현\n",
    "- 파이썬에서 그래프(Graph)를 구현하는 일반적인 방법: 인접 리스트 (Adjacency List) \n",
    "- 딕셔너리와 리스트를 조합하여 각 노드가 연결된 다른 노드들을 저장"
   ]
  },
  {
   "cell_type": "code",
   "execution_count": null,
   "metadata": {},
   "outputs": [
    {
     "name": "stdout",
     "output_type": "stream",
     "text": [
      "A: ['B', 'C']\n",
      "B: ['A', 'D']\n",
      "C: ['A']\n",
      "D: ['B']\n"
     ]
    }
   ],
   "source": [
    "class Graph:\n",
    "    def __init__(self):\n",
    "        # 딕셔너리를 사용하여 그래프를 구현\n",
    "        self.graph = {} #필드 : 데이터타입 딕셔너리\n",
    "\n",
    "    def add_node(self, node):\n",
    "        # 그래프에 노드를 추가\n",
    "        if node not in self.graph:\n",
    "            self.graph[node] = []  # 딕셔너리[key]\n",
    "\n",
    "    def add_edge(self, node1, node2):\n",
    "        # 양방향(무방향 그래프)의 간선 추가\n",
    "        if node1 in self.graph and node2 in self.graph:\n",
    "            self.graph[node1].append(node2)\n",
    "            self.graph[node2].append(node1)\n",
    "        else:\n",
    "            print(\"노드를 먼저 추가하세요.\")\n",
    "\n",
    "    def display_graph(self):\n",
    "        # 그래프를 출력\n",
    "        for node in self.graph:\n",
    "            print(f\"{node}: {self.graph[node]}\")\n",
    "\n",
    "# 그래프 생성\n",
    "g = Graph()\n",
    "\n",
    "# 노드 추가\n",
    "g.add_node('A')\n",
    "g.add_node('B')\n",
    "g.add_node('C')\n",
    "g.add_node('D')\n",
    "\n",
    "# 간선 추가\n",
    "g.add_edge('A', 'B')\n",
    "g.add_edge('A', 'C')\n",
    "g.add_edge('B', 'D')\n",
    "\n",
    "# 그래프 출력\n",
    "g.display_graph()"
   ]
  },
  {
   "cell_type": "markdown",
   "metadata": {},
   "source": [
    "함수에서 변경 가능한 객체: list, dictionary, set"
   ]
  },
  {
   "cell_type": "code",
   "execution_count": 31,
   "metadata": {},
   "outputs": [
    {
     "ename": "TypeError",
     "evalue": "'str' object does not support item assignment",
     "output_type": "error",
     "traceback": [
      "\u001b[1;31m---------------------------------------------------------------------------\u001b[0m",
      "\u001b[1;31mTypeError\u001b[0m                                 Traceback (most recent call last)",
      "Cell \u001b[1;32mIn[31], line 9\u001b[0m\n\u001b[0;32m      6\u001b[0m     \u001b[38;5;28;01mreturn\u001b[39;00m s\n\u001b[0;32m      8\u001b[0m st \u001b[38;5;241m=\u001b[39m \u001b[38;5;124m\"\u001b[39m\u001b[38;5;124mhello\u001b[39m\u001b[38;5;124m\"\u001b[39m\n\u001b[1;32m----> 9\u001b[0m st_new \u001b[38;5;241m=\u001b[39m \u001b[43mmodify_string\u001b[49m\u001b[43m(\u001b[49m\u001b[43mst\u001b[49m\u001b[43m)\u001b[49m\n\u001b[0;32m     10\u001b[0m \u001b[38;5;28mprint\u001b[39m(st)\n\u001b[0;32m     11\u001b[0m \u001b[38;5;28mprint\u001b[39m(st_new)\n",
      "Cell \u001b[1;32mIn[31], line 5\u001b[0m, in \u001b[0;36mmodify_string\u001b[1;34m(s)\u001b[0m\n\u001b[0;32m      2\u001b[0m \u001b[38;5;28;01mdef\u001b[39;00m\u001b[38;5;250m \u001b[39m\u001b[38;5;21mmodify_string\u001b[39m(s): \u001b[38;5;66;03m#s는 복사한 것이 아니라 참조한 것\u001b[39;00m\n\u001b[0;32m      3\u001b[0m     \u001b[38;5;66;03m#s = 'no'  → 새로운 문자열을 생성하여 s에 할당 (원본과 무관)\u001b[39;00m\n\u001b[0;32m      4\u001b[0m     \u001b[38;5;66;03m#s = s + 'world'  # s가 가리키는 기존 문자열 변경 없음 + 스트링 추가 가능\u001b[39;00m\n\u001b[1;32m----> 5\u001b[0m     \u001b[43ms\u001b[49m\u001b[43m[\u001b[49m\u001b[38;5;241;43m0\u001b[39;49m\u001b[43m]\u001b[49m \u001b[38;5;241m=\u001b[39m \u001b[38;5;124m'\u001b[39m\u001b[38;5;124ma\u001b[39m\u001b[38;5;124m'\u001b[39m       \u001b[38;5;66;03m# ❌ 오류 발생: 문자열은 수정 불가\u001b[39;00m\n\u001b[0;32m      6\u001b[0m     \u001b[38;5;28;01mreturn\u001b[39;00m s\n",
      "\u001b[1;31mTypeError\u001b[0m: 'str' object does not support item assignment"
     ]
    }
   ],
   "source": [
    "# 파이썬에서 문자열(String)이 불변(immutable) 이라는 특징과, 함수 인자 전달 방식을 이해\n",
    "def modify_string(s): #s는 복사한 것이 아니라 참조한 것\n",
    "    #s = 'no'  → 새로운 문자열을 생성하여 s에 할당 (원본과 무관)\n",
    "    #s = s + 'world'  # s가 가리키는 기존 문자열 변경 없음 + 스트링 추가 가능\n",
    "    s[0] = 'a'       # ❌ 오류 발생: 문자열은 수정 불가\n",
    "    return s\n",
    "\n",
    "st = \"hello\"\n",
    "st_new = modify_string(st)\n",
    "print(st)\n",
    "print(st_new)\n"
   ]
  },
  {
   "cell_type": "markdown",
   "metadata": {},
   "source": [
    " 인수를 여러개로 임의 전달하기 \n",
    " 파이썬에서 *args는 함수 내에서 **튜플(tuple)**로 처리"
   ]
  },
  {
   "cell_type": "markdown",
   "metadata": {},
   "source": [
    "## 8.5 인수를 임의의 개수로 전달하기 \n",
    "- *args\t위치 인자를 여러 개 받을 때 사용 (튜플로 처리)\n",
    "- **kwargs\t키워드 인자를 여러 개 받을 때 사용 (딕셔너리로 처리)"
   ]
  },
  {
   "cell_type": "code",
   "execution_count": null,
   "metadata": {},
   "outputs": [
    {
     "name": "stdout",
     "output_type": "stream",
     "text": [
      "('Alice', 'Bob', 'Charlie')\n",
      "Hello, Alice!\n",
      "Hello, Bob!\n",
      "Hello, Charlie!\n",
      "(1, 2, 3)\n"
     ]
    }
   ],
   "source": [
    "def greet_all(*names):\n",
    "    # *names는 임의 개수의 인자를 받을 수 있으며, 이는 내부적으로 튜플로 전달\n",
    "    print(names) #여러개의 parameter를 tuple로 받는다\n",
    "    for name in names:\n",
    "        print(f\"Hello, {name}!\")\n",
    "    return 1,2,3 # tuple로 반환\n",
    "\n",
    "# 함수 호출\n",
    "t=greet_all(\"Alice\", \"Bob\", \"Charlie\")\n",
    "print(t)"
   ]
  },
  {
   "cell_type": "code",
   "execution_count": null,
   "metadata": {},
   "outputs": [
    {
     "name": "stdout",
     "output_type": "stream",
     "text": [
      "심볼 = test\n",
      "args의 타입: <class 'tuple'>\n",
      "args의 내용: (1, 2, 3, 'hello', [4, 5])\n",
      "일반 인수: 1\n",
      "일반 인수: 2\n",
      "일반 인수: 3\n",
      "일반 인수: hello\n",
      "리스트: [4, 5]\n"
     ]
    }
   ],
   "source": [
    "def example_function(smbl, *args): #튜플로 받는다\n",
    "    print(f\"심볼 = {smbl}\")\n",
    "    print(f\"args의 타입: {type(args)}\")\n",
    "    print(f\"args의 내용: {args}\")\n",
    "    for arg in args:\n",
    "        if isinstance(arg, list):\n",
    "            print(f\"리스트: {arg}\")\n",
    "        else:\n",
    "            print(f\"일반 인수: {arg}\")\n",
    "\n",
    "# 여러 인수를 전달하여 호출\n",
    "example_function(\"test\", 1, 2, 3, 'hello', [4, 5])"
   ]
  },
  {
   "cell_type": "markdown",
   "metadata": {},
   "source": [
    "## 8.5.2 임의의 키워드 인수 사용하기\n",
    "\n",
    "파이썬에서 여러개 키워드 인수를 처리하려면 **kwargs를 사용\n",
    "- 여러개의 키워드 인수를 함수에 전달\n",
    "- 함수 내에서 이를 딕셔너리로 처리"
   ]
  },
  {
   "cell_type": "code",
   "execution_count": 32,
   "metadata": {},
   "outputs": [
    {
     "name": "stdout",
     "output_type": "stream",
     "text": [
      "name: Alice\n",
      "age: 25\n",
      "city: New York\n"
     ]
    }
   ],
   "source": [
    "def process_kwargs(**kwargs):##딕셔너리로 처리한다는 것을 기억해야 \n",
    "    for key, value in kwargs.items():\n",
    "        print(f\"{key}: {value}\")\n",
    "\n",
    "# 함수 호출 (여러 키워드 인수 전달)\n",
    "process_kwargs(name=\"Alice\", age=25, city=\"New York\")"
   ]
  },
  {
   "cell_type": "markdown",
   "metadata": {},
   "source": [
    " 구분 기준: = 기호 유무로 키워드 인수를 구분\n",
    "\n",
    "- *args는 위치 인수 (값만 나열된 인수) → 1, 2, 3\n",
    "\n",
    "- **kwargs는 키워드 인수 (key=value 형태) → name=\"Alice\" 등\n",
    "\n"
   ]
  },
  {
   "cell_type": "code",
   "execution_count": 15,
   "metadata": {},
   "outputs": [
    {
     "name": "stdout",
     "output_type": "stream",
     "text": [
      "위치 인수(args):\n",
      "1\n",
      "2\n",
      "3\n",
      "\n",
      "키워드 인수(kwargs):\n",
      "name: Alice\n",
      "age: 25\n",
      "city: New York\n"
     ]
    }
   ],
   "source": [
    "def process_args_kwargs(*args, **kwargs):\n",
    "    print(\"위치 인수(args):\")\n",
    "    for arg in args:\n",
    "        print(arg)\n",
    "\n",
    "    print(\"\\n키워드 인수(kwargs):\")\n",
    "    for key, value in kwargs.items():\n",
    "        print(f\"{key}: {value}\")\n",
    "\n",
    "# 함수 호출\n",
    "process_args_kwargs(1, 2, 3, name=\"Alice\", age=25, city=\"New York\")"
   ]
  },
  {
   "cell_type": "markdown",
   "metadata": {},
   "source": [
    "## 데이터 사이언스 코딩에서 함수 사용"
   ]
  },
  {
   "cell_type": "code",
   "execution_count": 34,
   "metadata": {},
   "outputs": [
    {
     "name": "stdout",
     "output_type": "stream",
     "text": [
      "[0, 1, 3, 2, 6, 7, 5, 4, 12, 13]\n",
      "[0, 1, 3, 2, 6, 7, 5, 4, 12, 13]\n",
      "[0, 1, 3, 2, 6, 7, 5, 4, 12, 13]\n",
      "[0, 1, 3, 2, 6, 7, 5, 4, 12, 13]\n",
      "[0, 1, 3, 2, 6, 7, 5, 4, 12, 13]\n",
      "265\n"
     ]
    }
   ],
   "source": [
    "### p34, 파이썬 데이터 사이언스 핸드북``\n",
    "def sum_of_lists(N):\n",
    "    total = 0\n",
    "    for i in range(5):\n",
    "        L = [j ^ (j>>1) for j in range(N)] # ^는 XOR  연산자, >>는 bit shift 연산자 우측으로 \n",
    "                                           # ^ xor >> bit shift 연산자??? 오른쪽 /2 왼쪽 *2  \n",
    "        print(L)\n",
    "        total += sum(L)\n",
    "    return total\n",
    "\n",
    "print (sum_of_lists(10))"
   ]
  },
  {
   "cell_type": "code",
   "execution_count": 3,
   "metadata": {},
   "outputs": [
    {
     "name": "stdout",
     "output_type": "stream",
     "text": [
      "values = [3 5 7 6 4]\n",
      "[0.33333333 0.2        0.14285714 0.16666667 0.25      ]\n"
     ]
    }
   ],
   "source": [
    "#### p57, 파이썬 데이터 사이언스 핸드북\n",
    "import numpy as np\n",
    "def compute_reciprocals(values):\n",
    "    output = np.empty(len(values)) # numpy 배열을 생성하며, 길이는 values의 길이와 동일. empty는 배열을 초기화하지 않고 빈 메모리만 할당\n",
    "    for i in range(len(values)):\n",
    "        output[i] = 1.0/values[i]\n",
    "    return output\n",
    "\n",
    "values = np.random.randint(1,10,size=5)\n",
    "print(f\"values = {values}\")\n",
    "print(compute_reciprocals(values))\n"
   ]
  },
  {
   "cell_type": "code",
   "execution_count": null,
   "metadata": {},
   "outputs": [
    {
     "name": "stdout",
     "output_type": "stream",
     "text": [
      "data = {'A': ['A0', 'A1', 'A2'], 'B': ['B0', 'B1', 'B2'], 'C': ['C0', 'C1', 'C2']}\n",
      "    A   B   C\n",
      "0  A0  B0  C0\n",
      "1  A1  B1  C1\n",
      "2  A2  B2  C2\n"
     ]
    }
   ],
   "source": [
    "#### p161, 파이썬 데이터 사이언스 핸드북\n",
    "import pandas as pd\n",
    "def make_df(cols, ind):\n",
    "    \"\"\"빠르게 DataFrame 생성\"\"\"\n",
    "    data ={c:[str(c) + str(i) for i in ind] for c in cols}\n",
    "    print(f\"data = {data}\")\n",
    "    return pd.DataFrame(data,ind) \n",
    "# 딕셔너리를 사용하여 DataFrame을 생성, 딕셔너리, \n",
    "# 각 키는 열 이름, 값은 해당 열의 값들,\n",
    "# ind: DataFrame의 인덱스를 설정\n",
    "\n",
    "print(make_df('ABC',range(3)))"
   ]
  },
  {
   "cell_type": "code",
   "execution_count": null,
   "metadata": {},
   "outputs": [
    {
     "name": "stdout",
     "output_type": "stream",
     "text": [
      "(70, 80, 90)\n",
      "(40, 50, 60)\n",
      "(25, 35, 45)\n"
     ]
    }
   ],
   "source": [
    "# 예시 2차원 행렬\n",
    "matrix = [\n",
    "    [10, 20, 30],\n",
    "    [40, 50, 60],\n",
    "    [70, 80, 90],\n",
    "    [25, 35, 45],\n",
    "    [5, 15, 25]\n",
    "]\n",
    "\n",
    "# 각 열별로 최대값 3개를 뽑는 함수\n",
    "def get_top_3_per_column(matrix):\n",
    "    # 열 수를 구함\n",
    "    num_cols = len(matrix[0])\n",
    "    \n",
    "    # 결과 행렬을 저장할 리스트\n",
    "    result = []\n",
    "    \n",
    "    # 각 열별로 처리\n",
    "    for col_idx in range(num_cols):\n",
    "        # 해당 열의 값들을 모아서 리스트로 만듦\n",
    "        column_values = [row[0] for row in matrix] #첫번째 컬럼 값\n",
    "        \n",
    "        # 내림차순으로 정렬\n",
    "        sorted_column = sorted(column_values, reverse=True)\n",
    "        \n",
    "        # 상위 3개 값 선택\n",
    "        top_3 = sorted_column[:3]\n",
    "        \n",
    "        # 결과에 추가 (열이 아닌 행으로 저장하기 위해 zip 사용)\n",
    "        result.append(top_3)\n",
    "    \n",
    "    # 열을 행으로 변환\n",
    "    return list(zip(*result))\n",
    "\n",
    "# 함수 호출\n",
    "result_matrix = get_top_3_per_column(matrix)\n",
    "\n",
    "# 결과 출력\n",
    "for row in result_matrix:\n",
    "    print(row)"
   ]
  },
  {
   "cell_type": "markdown",
   "metadata": {},
   "source": [
    "## 8.6 함수를 모듈에 저장하기"
   ]
  },
  {
   "cell_type": "code",
   "execution_count": 41,
   "metadata": {},
   "outputs": [],
   "source": [
    "# list_utils.py\n",
    "def merge_lists(list1, list2):\n",
    "    \"\"\"두 개의 리스트를 병합하여 하나의 리스트로 반환합니다.\"\"\"\n",
    "    return list1 + list2\n",
    "\n",
    "def minus_lists(list1, list2):\n",
    "    \"\"\"list1에서 list2와 공통 요소를 제거한 리스트를 반환\"\"\"\n",
    "    return [item for item in list1 if item not in list2]\n"
   ]
  },
  {
   "cell_type": "code",
   "execution_count": 45,
   "metadata": {},
   "outputs": [
    {
     "name": "stdout",
     "output_type": "stream",
     "text": [
      "c:\\work\\pzsluna26_python\\pcc_3e-main\\chapter_08\n"
     ]
    }
   ],
   "source": [
    "import os\n",
    "print(os.getcwd())"
   ]
  },
  {
   "cell_type": "code",
   "execution_count": 50,
   "metadata": {},
   "outputs": [
    {
     "ename": "AttributeError",
     "evalue": "module 'list_utils' has no attribute 'merge_lists'",
     "output_type": "error",
     "traceback": [
      "\u001b[1;31m---------------------------------------------------------------------------\u001b[0m",
      "\u001b[1;31mAttributeError\u001b[0m                            Traceback (most recent call last)",
      "Cell \u001b[1;32mIn[50], line 10\u001b[0m\n\u001b[0;32m      7\u001b[0m list2 \u001b[38;5;241m=\u001b[39m [\u001b[38;5;241m4\u001b[39m, \u001b[38;5;241m5\u001b[39m, \u001b[38;5;241m6\u001b[39m]\n\u001b[0;32m      9\u001b[0m \u001b[38;5;66;03m# 병합된 리스트 출력\u001b[39;00m\n\u001b[1;32m---> 10\u001b[0m merged_list \u001b[38;5;241m=\u001b[39m \u001b[43mlist_utils\u001b[49m\u001b[38;5;241;43m.\u001b[39;49m\u001b[43mmerge_lists\u001b[49m(list1, list2) \u001b[38;5;66;03m# import한 모듈에서 함수 호출 방식\u001b[39;00m\n\u001b[0;32m     11\u001b[0m \u001b[38;5;28mprint\u001b[39m(merged_list)\n",
      "\u001b[1;31mAttributeError\u001b[0m: module 'list_utils' has no attribute 'merge_lists'"
     ]
    }
   ],
   "source": [
    "# 8.6.1 전체 모듈 import하기 \n",
    "### ipynb 파일은 Restart 실행후 \n",
    "import list_utils # 파일 이름\n",
    "\n",
    "# 두 개의 리스트\n",
    "list1 = [1, 2, 3]\n",
    "list2 = [4, 5, 6]\n",
    "\n",
    "# 병합된 리스트 출력\n",
    "merged_list = list_utils.merge_lists(list1, list2) # import한 모듈에서 함수 호출 방식\n",
    "print(merged_list)"
   ]
  },
  {
   "cell_type": "code",
   "execution_count": 46,
   "metadata": {},
   "outputs": [
    {
     "ename": "AttributeError",
     "evalue": "module 'list_utils' has no attribute 'merge_lists'",
     "output_type": "error",
     "traceback": [
      "\u001b[1;31m---------------------------------------------------------------------------\u001b[0m",
      "\u001b[1;31mAttributeError\u001b[0m                            Traceback (most recent call last)",
      "Cell \u001b[1;32mIn[46], line 9\u001b[0m\n\u001b[0;32m      6\u001b[0m list2 \u001b[38;5;241m=\u001b[39m [\u001b[38;5;241m4\u001b[39m, \u001b[38;5;241m5\u001b[39m, \u001b[38;5;241m6\u001b[39m]\n\u001b[0;32m      8\u001b[0m \u001b[38;5;66;03m# 병합된 리스트 출력\u001b[39;00m\n\u001b[1;32m----> 9\u001b[0m merged_list \u001b[38;5;241m=\u001b[39m \u001b[43mlu\u001b[49m\u001b[38;5;241;43m.\u001b[39;49m\u001b[43mmerge_lists\u001b[49m(list1, list2)\n\u001b[0;32m     10\u001b[0m \u001b[38;5;28mprint\u001b[39m(merged_list)\n",
      "\u001b[1;31mAttributeError\u001b[0m: module 'list_utils' has no attribute 'merge_lists'"
     ]
    }
   ],
   "source": [
    "### ipynb 파일은 Restart 실행후 \n",
    "import list_utils as lu # 파일 이름\n",
    "\n",
    "# 두 개의 리스트\n",
    "list1 = [1, 2, 3]\n",
    "list2 = [4, 5, 6]\n",
    "\n",
    "# 병합된 리스트 출력\n",
    "merged_list = lu.merge_lists(list1, list2)\n",
    "print(merged_list)"
   ]
  },
  {
   "cell_type": "code",
   "execution_count": 42,
   "metadata": {},
   "outputs": [
    {
     "ename": "ImportError",
     "evalue": "cannot import name 'merge_lists' from 'list_utils' (c:\\work\\pzsluna26_python\\pcc_3e-main\\chapter_08\\list_utils.py)",
     "output_type": "error",
     "traceback": [
      "\u001b[1;31m---------------------------------------------------------------------------\u001b[0m",
      "\u001b[1;31mImportError\u001b[0m                               Traceback (most recent call last)",
      "Cell \u001b[1;32mIn[42], line 3\u001b[0m\n\u001b[0;32m      1\u001b[0m \u001b[38;5;66;03m# 8.6.2 특정 함수 import하기 \u001b[39;00m\n\u001b[0;32m      2\u001b[0m \u001b[38;5;66;03m### ipynb 파일은 Restart 실행후 \u001b[39;00m\n\u001b[1;32m----> 3\u001b[0m \u001b[38;5;28;01mfrom\u001b[39;00m\u001b[38;5;250m \u001b[39m\u001b[38;5;21;01mlist_utils\u001b[39;00m\u001b[38;5;250m \u001b[39m\u001b[38;5;28;01mimport\u001b[39;00m merge_lists \u001b[38;5;66;03m#import 함수명을 명시하므로 점 표기법 불필요\u001b[39;00m\n\u001b[0;32m      5\u001b[0m \u001b[38;5;66;03m# 두 개의 리스트\u001b[39;00m\n\u001b[0;32m      6\u001b[0m list1 \u001b[38;5;241m=\u001b[39m [\u001b[38;5;241m1\u001b[39m, \u001b[38;5;241m2\u001b[39m, \u001b[38;5;241m3\u001b[39m]\n",
      "\u001b[1;31mImportError\u001b[0m: cannot import name 'merge_lists' from 'list_utils' (c:\\work\\pzsluna26_python\\pcc_3e-main\\chapter_08\\list_utils.py)"
     ]
    }
   ],
   "source": [
    "# 8.6.2 특정 함수 import하기 \n",
    "### ipynb 파일은 Restart 실행후 \n",
    "from list_utils import merge_lists #import 함수명을 명시하므로 점 표기법 불필요\n",
    "\n",
    "# 두 개의 리스트\n",
    "list1 = [1, 2, 3]\n",
    "list2 = [4, 5, 6]\n",
    "\n",
    "# 병합된 리스트 출력\n",
    "merged_list = merge_lists(list1, list2)\n",
    "print(merged_list)"
   ]
  },
  {
   "cell_type": "code",
   "execution_count": 1,
   "metadata": {},
   "outputs": [
    {
     "name": "stdout",
     "output_type": "stream",
     "text": [
      "[3]\n"
     ]
    }
   ],
   "source": [
    "### ipynb 파일은 Restart 실행후 \n",
    "from list_utils import minus_lists\n",
    "\n",
    "# 두 개의 리스트\n",
    "list1 = [1, 2, 3]\n",
    "list2 = [1,2, 5, 6]\n",
    "\n",
    "# 병합된 리스트 출력\n",
    "merged_list = minus_lists(list1, list2)\n",
    "print(merged_list)"
   ]
  },
  {
   "cell_type": "code",
   "execution_count": null,
   "metadata": {},
   "outputs": [
    {
     "name": "stdout",
     "output_type": "stream",
     "text": [
      "[3]\n"
     ]
    }
   ],
   "source": [
    "### ipynb 파일은 Restart 실행후 \n",
    "from list_utils import minus_lists as ml # as로 함수에 별칭 부여하기 \n",
    "\n",
    "# 두 개의 리스트\n",
    "list1 = [1, 2, 3]\n",
    "list2 = [1,2, 5, 6]\n",
    "\n",
    "# 병합된 리스트 출력\n",
    "merged_list = ml(list1, list2)\n",
    "print(merged_list)"
   ]
  },
  {
   "cell_type": "code",
   "execution_count": 49,
   "metadata": {},
   "outputs": [
    {
     "ename": "ModuleNotFoundError",
     "evalue": "No module named 'pandas'",
     "output_type": "error",
     "traceback": [
      "\u001b[1;31m---------------------------------------------------------------------------\u001b[0m",
      "\u001b[1;31mModuleNotFoundError\u001b[0m                       Traceback (most recent call last)",
      "Cell \u001b[1;32mIn[49], line 2\u001b[0m\n\u001b[0;32m      1\u001b[0m \u001b[38;5;28;01mimport\u001b[39;00m\u001b[38;5;250m \u001b[39m\u001b[38;5;21;01mnumpy\u001b[39;00m\u001b[38;5;250m \u001b[39m\u001b[38;5;28;01mas\u001b[39;00m\u001b[38;5;250m \u001b[39m\u001b[38;5;21;01mnp\u001b[39;00m \u001b[38;5;66;03m# 모듈 numpy를 별칭 np로 사용 \u001b[39;00m\n\u001b[1;32m----> 2\u001b[0m \u001b[38;5;28;01mimport\u001b[39;00m\u001b[38;5;250m \u001b[39m\u001b[38;5;21;01mpandas\u001b[39;00m\u001b[38;5;250m \u001b[39m\u001b[38;5;28;01mas\u001b[39;00m\u001b[38;5;250m \u001b[39m\u001b[38;5;21;01mpd\u001b[39;00m\n\u001b[0;32m      3\u001b[0m arr \u001b[38;5;241m=\u001b[39m np\u001b[38;5;241m.\u001b[39marray([\u001b[38;5;241m1\u001b[39m, \u001b[38;5;241m2\u001b[39m, \u001b[38;5;241m3\u001b[39m])  \u001b[38;5;66;03m# numpy.array() 대신 np.array() 사용\u001b[39;00m\n\u001b[0;32m      4\u001b[0m \u001b[38;5;28mprint\u001b[39m(np\u001b[38;5;241m.\u001b[39mmean(arr))        \u001b[38;5;66;03m# 평균 계산\u001b[39;00m\n",
      "\u001b[1;31mModuleNotFoundError\u001b[0m: No module named 'pandas'"
     ]
    }
   ],
   "source": [
    "import numpy as np # 모듈 numpy를 별칭 np로 사용 \n",
    "import pandas as pd\n",
    "arr = np.array([1, 2, 3])  # numpy.array() 대신 np.array() 사용\n",
    "print(np.mean(arr))        # 평균 계산\n"
   ]
  }
 ],
 "metadata": {
  "kernelspec": {
   "display_name": "Python 3",
   "language": "python",
   "name": "python3"
  },
  "language_info": {
   "codemirror_mode": {
    "name": "ipython",
    "version": 3
   },
   "file_extension": ".py",
   "mimetype": "text/x-python",
   "name": "python",
   "nbconvert_exporter": "python",
   "pygments_lexer": "ipython3",
   "version": "3.9.13"
  }
 },
 "nbformat": 4,
 "nbformat_minor": 2
}
