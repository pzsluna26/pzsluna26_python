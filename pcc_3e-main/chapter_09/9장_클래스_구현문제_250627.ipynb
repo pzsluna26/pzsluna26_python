{
 "cells": [
  {
   "cell_type": "markdown",
   "id": "7a629796",
   "metadata": {},
   "source": [
    "### 파이썬 클래스 기반 머신러닝 실습 과제 시리즈\n",
    "-  머신러닝/딥러닝을 위한 파이썬 클래스 기반 실습 과제 시리즈로, 초급부터 고급까지 단계적으로 연결되며 반복 확장되도록 구성\n",
    "- 각 단계는 이전 과제의 개념을 기반으로 발전하고, 점점 더 실제 ML 구조와 유사해지는 방향으로 설계\n",
    "\n",
    "🔄 실습 흐름도\n",
    "\n",
    "[Student/Score] → [Dataset] → [BaseModel 서브클래스] → [Evaluator]  \n",
    "→ [Preprocessor] → [Pipeline] → [MLExperiment]"
   ]
  },
  {
   "cell_type": "markdown",
   "id": "24aa10f1",
   "metadata": {},
   "source": [
    " [Step 1] 초급: 객체지향 기초 훈련 – 학생 데이터 모델링\n",
    " 🎯 과제 목표:\n",
    "클래스 정의, 생성자 작성\n",
    "\n",
    "메서드 호출 활용\n",
    "\n",
    "📝 과제 요구:\n",
    "Student 클래스를 정의하라\n",
    "\n",
    "속성: 이름, 나이, 점수\n",
    "\n",
    "메서드:\n",
    "\n",
    "average() → 평균 점수 반환\n",
    "\n",
    "show() → 평균 점수 출력\n",
    "\n",
    "__str__() 메서드를 오버라이딩하라\n",
    "\n",
    "여러 명의 학생 객체를 리스트에 저장하고 반복 출력하라\n",
    "\n",
    "🎯 확장 아이디어: 과락 기준(평균 60 미만)을 기준으로 is_passed() 메서드를 추가 구현하라"
   ]
  },
  {
   "cell_type": "code",
   "execution_count": null,
   "id": "bd472e42",
   "metadata": {
    "vscode": {
     "languageId": "plaintext"
    }
   },
   "outputs": [],
   "source": [
    "class Student:\n",
    "    def __init__(self, name, age, scores):\n",
    "\n",
    "\n",
    "    def average(self):\n",
    "\n",
    "\n",
    "    def show(self):\n",
    "    \n",
    "\n",
    "    def is_passed(self):\n",
    "\n",
    "\n",
    "    def __str__(self):\n",
    "\n"
   ]
  },
  {
   "cell_type": "code",
   "execution_count": null,
   "id": "b5608000",
   "metadata": {
    "vscode": {
     "languageId": "plaintext"
    }
   },
   "outputs": [],
   "source": [
    "if __name__ == \"__main__\":\n",
    "    students = [\n",
    "        Student(\"홍길동\", 18, [80, 75, 90]),\n",
    "        Student(\"김유신\", 17, [55, 60, 58]),\n",
    "        Student(\"유관순\", 18, [95, 88, 92]),\n",
    "        Student(\"강감찬\", 19, [40, 50, 45])\n",
    "    ]\n",
    "\n",
    "    for s in students:\n",
    "        print(s)\n",
    "        s.show()\n",
    "        print()\n"
   ]
  },
  {
   "cell_type": "markdown",
   "id": "7767a2da",
   "metadata": {},
   "source": [
    "출력 예시::\n",
    "\n",
    "홍길동 (나이: 18) - 평균: 81.7점, 결과: 합격\n",
    "홍길동의 평균 점수는 81.7점입니다.\n",
    "\n",
    "김유신 (나이: 17) - 평균: 57.7점, 결과: 불합격\n",
    "김유신의 평균 점수는 57.7점입니다.\n",
    "\n",
    "유관순 (나이: 18) - 평균: 91.7점, 결과: 합격\n",
    "유관순의 평균 점수는 91.7점입니다.\n",
    "\n",
    "강감찬 (나이: 19) - 평균: 45.0점, 결과: 불합격\n",
    "강감찬의 평균 점수는 45.0점입니다.\n"
   ]
  },
  {
   "cell_type": "markdown",
   "id": "454f341b",
   "metadata": {},
   "source": [
    "🟨 [Step 2] 중급: 데이터셋 클래스 설계 – 샘플 수집 및 분석\n",
    "🎯 과제 목표:\n",
    "클래스 멤버로 리스트 저장 및 관리\n",
    "\n",
    "조건 분기와 통계 구현\n",
    "\n",
    "📝 과제 요구:\n",
    "Dataset 클래스를 정의하라\n",
    "\n",
    "속성: (입력, 레이블) 튜플들의 리스트\n",
    "\n",
    "메서드:\n",
    "\n",
    "add(x, y) → 샘플 추가\n",
    "\n",
    "summary() → 전체 개수 및 클래스별 샘플 수 출력\n",
    "\n",
    "split(ratio=0.8) → 학습/테스트 데이터 분할 (셔플 포함)\n",
    "\n",
    "🎯 확장 아이디어: 레이블이 숫자인 경우 평균 및 분산도 요약 출력하라"
   ]
  },
  {
   "cell_type": "code",
   "execution_count": null,
   "id": "5a77d0e1",
   "metadata": {
    "vscode": {
     "languageId": "plaintext"
    }
   },
   "outputs": [],
   "source": [
    "import random\n",
    "import statistics\n",
    "\n",
    "class Dataset:\n",
    "    def __init__(self):\n",
    "       # (x, y) 튜플 저장\n",
    "\n",
    "    def add(self, x, y):\n",
    "       \n",
    "\n",
    "    def summary(self):\n",
    "        print(f\"총 샘플 수: {len(self.data)}개\")\n",
    "\n",
    "        label_count = {}\n",
    "        numeric_labels = []\n",
    "\n",
    "        for _, y in self.data:\n",
    "        \n",
    "\n",
    "        print(\"클래스별 샘플 분포:\")\n",
    "        for label, count in label_count.items():\n",
    "          \n",
    "\n",
    "        # 🎯 확장: 숫자 레이블인 경우 평균, 분산 출력\n",
    "        if numeric_labels:\n",
    "     \n",
    "\n",
    "    def split(self, ratio=0.8):\n",
    "\n"
   ]
  },
  {
   "cell_type": "code",
   "execution_count": null,
   "id": "610baafc",
   "metadata": {
    "vscode": {
     "languageId": "plaintext"
    }
   },
   "outputs": [],
   "source": [
    "if __name__ == \"__main__\":\n",
    "    ds = Dataset()\n",
    "    ds.add([1, 2], 0)\n",
    "    ds.add([3, 4], 1)\n",
    "    ds.add([5, 6], 1)\n",
    "    ds.add([7, 8], 0)\n",
    "    ds.add([9, 10], 1)\n",
    "    ds.add([11, 12], 2)\n",
    "\n",
    "    ds.summary()\n",
    "\n",
    "    train, test = ds.split(ratio=0.67)\n",
    "    print(\"\\n[학습 데이터]\")\n",
    "    for x, y in train:\n",
    "        print(f\"X: {x}, y: {y}\")\n",
    "\n",
    "    print(\"\\n[테스트 데이터]\")\n",
    "    for x, y in test:\n",
    "        print(f\"X: {x}, y: {y}\")\n"
   ]
  },
  {
   "cell_type": "markdown",
   "id": "36e64709",
   "metadata": {},
   "source": [
    "출력예시::\n",
    "\n",
    "총 샘플 수: 6개\n",
    "클래스별 샘플 분포:\n",
    " - 0: 2개\n",
    " - 1: 3개\n",
    " - 2: 1개\n",
    "숫자 레이블 평균: 0.83\n",
    "숫자 레이블 표준편차: 0.75\n",
    "\n",
    "[학습 데이터]\n",
    "X: [3, 4], y: 1\n",
    "X: [7, 8], y: 0\n",
    "X: [5, 6], y: 1\n",
    "X: [9, 10], y: 1\n",
    "\n",
    "[테스트 데이터]\n",
    "X: [11, 12], y: 2\n",
    "X: [1, 2], y: 0\n"
   ]
  },
  {
   "cell_type": "markdown",
   "id": "b1f0e3a9",
   "metadata": {},
   "source": [
    "🟧 [Step 3] 고급: 추상 모델 클래스 설계 및 구현 훈련\n",
    "🎯 과제 목표:\n",
    "추상화 개념 이해\n",
    "\n",
    "상속 및 메서드 오버라이딩 구현\n",
    "\n",
    "📝 과제 요구:\n",
    "BaseModel 추상 클래스를 정의하라\n",
    "\n",
    "train(X, y) 및 predict(X)는 raise NotImplementedError로 정의\n",
    "\n",
    "ConstantModel 클래스를 상속하여 구현하라\n",
    "\n",
    "항상 고정된 하나의 값을 예측하는 모델 (self.constant)\n",
    "\n",
    "train()은 빈 구현\n",
    "\n",
    "predict()는 [self.constant] * len(X) 형태로 예측\n",
    "\n",
    "🎯 확장 아이디어: 문자열도 예측할 수 있도록 ConstantModel을 확장해보라"
   ]
  },
  {
   "cell_type": "code",
   "execution_count": null,
   "id": "1adb7c0a",
   "metadata": {
    "vscode": {
     "languageId": "plaintext"
    }
   },
   "outputs": [],
   "source": [
    "class BaseModel:\n",
    "    def train(self, X, y):\n",
    "        raise NotImplementedError(\"train() must be implemented in subclass\")\n",
    "\n",
    "    def predict(self, X):\n",
    "        raise NotImplementedError(\"predict() must be implemented in subclass\")\n"
   ]
  },
  {
   "cell_type": "code",
   "execution_count": null,
   "id": "5ec7d49d",
   "metadata": {
    "vscode": {
     "languageId": "plaintext"
    }
   },
   "outputs": [],
   "source": [
    "class ConstantModel(BaseModel):\n",
    "    def __init__(self, constant):\n",
    "\n",
    "\n",
    "    def train(self, X, y):\n",
    "        pass  # 학습 불필요\n",
    "\n",
    "    def predict(self, X):\n",
    "\n"
   ]
  },
  {
   "cell_type": "code",
   "execution_count": null,
   "id": "8e9367b3",
   "metadata": {
    "vscode": {
     "languageId": "plaintext"
    }
   },
   "outputs": [],
   "source": [
    "if __name__ == \"__main__\":\n",
    "    # 숫자 예측 예시\n",
    "    model1 = ConstantModel(1)\n",
    "    X_test = [[1], [2], [3]]\n",
    "    print(\"숫자 예측:\", model1.predict(X_test))  # [1, 1, 1]\n",
    "\n",
    "    # 문자열 예측 예시\n",
    "    model2 = ConstantModel(\"spam\")\n",
    "    print(\"문자열 예측:\", model2.predict(X_test))  # ['spam', 'spam', 'spam']\n"
   ]
  },
  {
   "cell_type": "markdown",
   "id": "c5d154c0",
   "metadata": {},
   "source": [
    "출력예시::\n",
    "\n",
    "숫자 예측: [1, 1, 1]\n",
    "문자열 예측: ['spam', 'spam', 'spam']\n"
   ]
  },
  {
   "cell_type": "markdown",
   "id": "0e406e8a",
   "metadata": {},
   "source": [
    "🟥 [Step 4] 평가자 클래스 설계 – 모델 평가 자동화\n",
    "🎯 과제 목표:\n",
    "클래스 간 협업 구조 이해\n",
    "\n",
    "정확도 측정 구현\n",
    "\n",
    "📝 과제 요구:\n",
    "AccuracyEvaluator 클래스를 정의하라\n",
    "\n",
    "메서드: evaluate(model, X_test, y_test)\n",
    "\n",
    "model.predict(X_test)를 실행하고\n",
    "\n",
    "정확도(accuracy = 맞춘 개수 / 전체)를 반환\n",
    "\n",
    "Dataset 클래스에서 split() 후 평가자와 함께 평가하라\n",
    "\n",
    "🎯 확장 아이디어: F1Evaluator, RMSEEvaluator 등 다양한 평가 클래스로 확장하라"
   ]
  },
  {
   "cell_type": "code",
   "execution_count": null,
   "id": "14c5685a",
   "metadata": {
    "vscode": {
     "languageId": "plaintext"
    }
   },
   "outputs": [],
   "source": [
    "class AccuracyEvaluator:\n",
    "    def evaluate(self, model, X_test, y_test):\n",
    "\n",
    "        return accuracy\n"
   ]
  },
  {
   "cell_type": "code",
   "execution_count": null,
   "id": "7b8a92f3",
   "metadata": {
    "vscode": {
     "languageId": "plaintext"
    }
   },
   "outputs": [],
   "source": [
    "class F1Evaluator:\n",
    "    def evaluate(self, model, X_test, y_test):\n",
    "        y_pred = model.predict(X_test)\n",
    "        tp = sum(1 for p, t in zip(y_pred, y_test) if p == t == 1)\n",
    "        fp = sum(1 for p, t in zip(y_pred, y_test) if p == 1 and t == 0)\n",
    "        fn = sum(1 for p, t in zip(y_pred, y_test) if p == 0 and t == 1)\n",
    "        if tp + fp == 0 or tp + fn == 0:\n",
    "            return 0.0\n",
    "        precision = tp / (tp + fp)\n",
    "        recall = tp / (tp + fn)\n",
    "        f1 = 2 * precision * recall / (precision + recall)\n",
    "        return f1\n",
    "\n",
    "import math\n",
    "class RMSEEvaluator:\n",
    "    def evaluate(self, model, X_test, y_test):\n",
    "        y_pred = model.predict(X_test)\n",
    "        mse = sum((p - t) ** 2 for p, t in zip(y_pred, y_test)) / len(y_test)\n",
    "        return math.sqrt(mse)\n"
   ]
  },
  {
   "cell_type": "code",
   "execution_count": null,
   "id": "24952d23",
   "metadata": {
    "vscode": {
     "languageId": "plaintext"
    }
   },
   "outputs": [],
   "source": [
    "if __name__ == \"__main__\":\n",
    "    # 예시용 Dataset 클래스 간단 버전\n",
    "    class Dataset:\n",
    "        def __init__(self):\n",
    "            self.data = []\n",
    "\n",
    "        def add(self, x, y):\n",
    "            self.data.append((x, y))\n",
    "\n",
    "        def split(self, ratio=0.8):\n",
    "            import random\n",
    "            random.shuffle(self.data)\n",
    "            n = int(len(self.data) * ratio)\n",
    "            train = self.data[:n]\n",
    "            test = self.data[n:]\n",
    "            X_train = [x for x, _ in train]\n",
    "            y_train = [y for _, y in train]\n",
    "            X_test = [x for x, _ in test]\n",
    "            y_test = [y for _, y in test]\n",
    "            return X_train, y_train, X_test, y_test\n",
    "\n",
    "    # 샘플 데이터셋\n",
    "    ds = Dataset()\n",
    "    for i in range(10):\n",
    "        ds.add([i], 1 if i >= 5 else 0)\n",
    "\n",
    "    X_train, y_train, X_test, y_test = ds.split()\n",
    "\n",
    "    # 모델 정의: 항상 1만 예측하는 모델\n",
    "    class ConstantModel:\n",
    "        def __init__(self, constant):\n",
    "            self.constant = constant\n",
    "\n",
    "        def train(self, X, y):\n",
    "            pass\n",
    "\n",
    "        def predict(self, X):\n",
    "            return [self.constant] * len(X)\n",
    "\n",
    "    model = ConstantModel(1)\n",
    "    model.train(X_train, y_train)\n",
    "\n",
    "    # 평가자 사용\n",
    "    acc_eval = AccuracyEvaluator()\n",
    "    f1_eval = F1Evaluator()\n",
    "    rmse_eval = RMSEEvaluator()\n",
    "\n",
    "    print(\"정확도:\", acc_eval.evaluate(model, X_test, y_test))\n",
    "    print(\"F1 점수:\", f1_eval.evaluate(model, X_test, y_test))\n",
    "    print(\"RMSE:\", rmse_eval.evaluate(model, X_test, y_test))\n"
   ]
  },
  {
   "cell_type": "markdown",
   "id": "cfb9a2bb",
   "metadata": {},
   "source": [
    "출력예시:\n",
    "\n",
    "정확도: 0.6\n",
    "F1 점수: 0.75\n",
    "RMSE: 0.49\n"
   ]
  },
  {
   "cell_type": "markdown",
   "id": "fa77f890",
   "metadata": {},
   "source": [
    "🟦 [Step 5] 보너스 실습: 전처리 클래스 + 파이프라인 구조\n",
    "🎯 과제 목표:\n",
    "전처리 도구 구성\n",
    "\n",
    "클래스 연결 순차 호출 구조\n",
    "\n",
    "📝 과제 요구:\n",
    "Preprocessor 클래스 정의\n",
    "\n",
    "normalize(data) → 0~1 정규화\n",
    "\n",
    "standardize(data) → z-score 정규화\n",
    "\n",
    "\n",
    "Pipeline 클래스를 정의하라\n",
    "\n",
    "속성: preprocessor, model\n",
    "\n",
    "fit(X, y) → 전처리 후 모델 학습\n",
    "\n",
    "predict(X) → 전처리 후 예측\n",
    "\n",
    "\n",
    "class Pipeline:\n",
    "    def __init__(self, preprocessor, model):\n",
    "        self.pre = preprocessor\n",
    "        self.model = model\n",
    "\n",
    "    def fit(self, X, y):\n",
    "        X_new = self.pre.normalize(X)\n",
    "        self.model.train(X_new, y)\n",
    "\n",
    "    def predict(self, X):\n",
    "        X_new = self.pre.normalize(X)\n",
    "        return self.model.predict(X_new)"
   ]
  },
  {
   "cell_type": "code",
   "execution_count": null,
   "id": "c799406e",
   "metadata": {
    "vscode": {
     "languageId": "plaintext"
    }
   },
   "outputs": [],
   "source": [
    "class Preprocessor:\n",
    "    def normalize(self, data):\n",
    "        # 1차원 리스트의 각 값을 0~1 범위로 정규화\n",
    "        flat = [x[0] for x in data]  # [[1], [2]] → [1, 2]\n",
    "\n",
    "\n",
    "    def standardize(self, data):\n",
    "        import statistics\n",
    "\n"
   ]
  },
  {
   "cell_type": "code",
   "execution_count": null,
   "id": "47de4475",
   "metadata": {
    "vscode": {
     "languageId": "plaintext"
    }
   },
   "outputs": [],
   "source": [
    "class Pipeline:\n",
    "    def __init__(self, preprocessor, model):\n",
    "\n",
    "\n",
    "    def fit(self, X, y):\n",
    "        X_new = self.pre.normalize(X)  # 또는 standardize\n",
    "        self.model.train(X_new, y)\n",
    "\n",
    "    def predict(self, X):\n",
    "        X_new = self.pre.normalize(X)  # 또는 standardize\n",
    "        return self.model.predict(X_new)\n"
   ]
  },
  {
   "cell_type": "code",
   "execution_count": null,
   "id": "94e90ed6",
   "metadata": {
    "vscode": {
     "languageId": "plaintext"
    }
   },
   "outputs": [],
   "source": [
    "class ConstantModel:\n",
    "    def __init__(self, constant):\n",
    "        self.constant = constant\n",
    "\n",
    "    def train(self, X, y):\n",
    "        pass  # 학습 없음\n",
    "\n",
    "    def predict(self, X):\n",
    "        return [self.constant] * len(X)\n"
   ]
  },
  {
   "cell_type": "code",
   "execution_count": null,
   "id": "ecee08ba",
   "metadata": {
    "vscode": {
     "languageId": "plaintext"
    }
   },
   "outputs": [],
   "source": [
    "if __name__ == \"__main__\":\n",
    "    # 샘플 데이터\n",
    "    X = [[1], [2], [3], [4], [5]]\n",
    "    y = [0, 0, 1, 1, 1]\n",
    "\n",
    "    # 구성요소 생성\n",
    "    pre = Preprocessor()\n",
    "    model = ConstantModel(1)\n",
    "    pipe = Pipeline(pre, model)\n",
    "\n",
    "    # 학습 및 예측\n",
    "    pipe.fit(X, y)\n",
    "    preds = pipe.predict([[2], [3], [5]])\n",
    "\n",
    "    # 출력\n",
    "    print(\"예측 결과:\", preds)\n"
   ]
  },
  {
   "cell_type": "markdown",
   "id": "6e7b168f",
   "metadata": {},
   "source": [
    "실행결과::\n",
    "\n",
    "예측 결과: [1, 1, 1]\n"
   ]
  },
  {
   "cell_type": "markdown",
   "id": "9099d3a1",
   "metadata": {},
   "source": [
    "🟪 [Step 6] 최종 프로젝트 과제: MLExperiment 클래스 구현\n",
    "🎯 과제 목표:\n",
    "실험 자동화 및 클래스 통합\n",
    "\n",
    "재사용 가능한 학습 평가 구조 설계\n",
    "\n",
    "📝 과제 요구:\n",
    "MLExperiment 클래스를 정의하라\n",
    "\n",
    "속성: dataset, model, evaluator, preprocessor\n",
    "\n",
    "메서드:\n",
    "\n",
    "run() → 전체 실험 흐름 수행\n",
    "\n",
    "데이터 분할 → 전처리 → 학습 → 예측 → 평가 출력\n",
    "\n",
    "run() 실행 결과를 텍스트로 출력하라\n"
   ]
  },
  {
   "cell_type": "code",
   "execution_count": null,
   "id": "a463ed25",
   "metadata": {
    "vscode": {
     "languageId": "plaintext"
    }
   },
   "outputs": [],
   "source": [
    "class MLExperiment:\n",
    "    def __init__(self, dataset, model, evaluator, preprocessor):\n",
    "        self.dataset = dataset\n",
    "        self.model = model\n",
    "        self.evaluator = evaluator\n",
    "        self.preprocessor = preprocessor\n",
    "\n",
    "    def run(self, ratio=0.8):\n",
    "        # 1. 데이터 분할\n",
    "        X_train, y_train, X_test, y_test = self.dataset.split(ratio)\n",
    "\n",
    "        # 2. 전처리\n",
    "        X_train_proc = self.preprocessor.normalize(X_train)\n",
    "        X_test_proc = self.preprocessor.normalize(X_test)\n",
    "\n",
    "        # 3. 학습\n",
    "        self.model.train(X_train_proc, y_train)\n",
    "\n",
    "        # 4. 예측\n",
    "        y_pred = self.model.predict(X_test_proc)\n",
    "\n",
    "        # 5. 평가\n",
    "        score = self.evaluator.evaluate(self.model, X_test_proc, y_test)\n",
    "\n",
    "        # 6. 출력\n",
    "        print(\"🔍 [실험 결과]\")\n",
    "        print(\"Test 입력:\", X_test)\n",
    "        print(\"Test 실제값:\", y_test)\n",
    "        print(\"Test 예측값:\", y_pred)\n",
    "        print(\"정확도 (Accuracy):\", round(score, 2))\n"
   ]
  },
  {
   "cell_type": "code",
   "execution_count": null,
   "id": "3b630598",
   "metadata": {
    "vscode": {
     "languageId": "plaintext"
    }
   },
   "outputs": [],
   "source": [
    "import random\n",
    "import statistics\n",
    "\n",
    "class Dataset:\n",
    "    def __init__(self):\n",
    "        self.data = []\n",
    "\n",
    "    def add(self, x, y):\n",
    "        self.data.append((x, y))\n",
    "\n",
    "    def split(self, ratio=0.8):\n",
    "        random.shuffle(self.data)\n",
    "        n = int(len(self.data) * ratio)\n",
    "        train = self.data[:n]\n",
    "        test = self.data[n:]\n",
    "        X_train = [x for x, _ in train]\n",
    "        y_train = [y for _, y in train]\n",
    "        X_test = [x for x, _ in test]\n",
    "        y_test = [y for _, y in test]\n",
    "        return X_train, y_train, X_test, y_test\n",
    "\n",
    "class ConstantModel:\n",
    "    def __init__(self, constant):\n",
    "        self.constant = constant\n",
    "\n",
    "    def train(self, X, y):\n",
    "        pass\n",
    "\n",
    "    def predict(self, X):\n",
    "        return [self.constant] * len(X)\n",
    "\n",
    "class AccuracyEvaluator:\n",
    "    def evaluate(self, model, X_test, y_test):\n",
    "        y_pred = model.predict(X_test)\n",
    "        correct = sum(p == t for p, t in zip(y_pred, y_test))\n",
    "        return correct / len(y_test)\n",
    "\n",
    "class Preprocessor:\n",
    "    def normalize(self, data):\n",
    "        flat = [x[0] for x in data]\n",
    "        min_val = min(flat)\n",
    "        max_val = max(flat)\n",
    "        return [[(x - min_val) / (max_val - min_val)] for x in flat]\n"
   ]
  },
  {
   "cell_type": "code",
   "execution_count": null,
   "id": "f714c4b1",
   "metadata": {
    "vscode": {
     "languageId": "plaintext"
    }
   },
   "outputs": [],
   "source": [
    "if __name__ == \"__main__\":\n",
    "    # 데이터 준비\n",
    "    ds = Dataset()\n",
    "    for i in range(10):\n",
    "        ds.add([i], 1 if i >= 5 else 0)\n",
    "\n",
    "    # 구성 요소 생성\n",
    "    model = ConstantModel(1)\n",
    "    evaluator = AccuracyEvaluator()\n",
    "    preprocessor = Preprocessor()\n",
    "\n",
    "    # 실험 객체 생성 및 실행\n",
    "    experiment = MLExperiment(ds, model, evaluator, preprocessor)\n",
    "    experiment.run()\n"
   ]
  },
  {
   "cell_type": "markdown",
   "id": "d7c9d7e2",
   "metadata": {},
   "source": [
    "실행결과::\n",
    "🔍 [실험 결과]\n",
    "Test 입력: [[4], [1]]\n",
    "Test 실제값: [0, 0]\n",
    "Test 예측값: [1, 1]\n",
    "정확도 (Accuracy): 0.0\n"
   ]
  }
 ],
 "metadata": {
  "language_info": {
   "name": "python"
  }
 },
 "nbformat": 4,
 "nbformat_minor": 5
}
