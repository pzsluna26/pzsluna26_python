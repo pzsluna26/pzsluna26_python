{
 "cells": [
  {
   "cell_type": "code",
   "execution_count": 1,
   "id": "a9265ea8",
   "metadata": {},
   "outputs": [],
   "source": [
    "l = [1, 3.14, True, 'hello', sum, range]"
   ]
  },
  {
   "cell_type": "code",
   "execution_count": 2,
   "id": "66a79f35",
   "metadata": {},
   "outputs": [
    {
     "name": "stdout",
     "output_type": "stream",
     "text": [
      "<class 'int'> 1\n",
      "<class 'float'> 3.14\n",
      "<class 'bool'> True\n",
      "<class 'str'> hello\n",
      "<class 'builtin_function_or_method'> <built-in function sum>\n",
      "<class 'type'> <class 'range'>\n"
     ]
    }
   ],
   "source": [
    "for i in l:\n",
    "    print(type(i), i)"
   ]
  },
  {
   "cell_type": "code",
   "execution_count": 4,
   "id": "5900f138",
   "metadata": {},
   "outputs": [
    {
     "data": {
      "text/plain": [
       "(128, 3, 800, 600)"
      ]
     },
     "execution_count": 4,
     "metadata": {},
     "output_type": "execute_result"
    }
   ],
   "source": [
    "import numpy as np\n",
    "image = np.random.randn(128,3,800,600)\n",
    "image.shape"
   ]
  },
  {
   "cell_type": "code",
   "execution_count": 6,
   "id": "553afacd",
   "metadata": {},
   "outputs": [
    {
     "data": {
      "text/plain": [
       "np.int64(55)"
      ]
     },
     "execution_count": 6,
     "metadata": {},
     "output_type": "execute_result"
    }
   ],
   "source": [
    "data = np.arange(1,11)\n",
    "np.sum(data)"
   ]
  },
  {
   "cell_type": "code",
   "execution_count": 16,
   "id": "902d5a7f",
   "metadata": {},
   "outputs": [
    {
     "name": "stdout",
     "output_type": "stream",
     "text": [
      "Collecting matplotlib\n",
      "  Downloading matplotlib-3.9.4-cp39-cp39-win_amd64.whl.metadata (11 kB)\n",
      "Collecting contourpy>=1.0.1 (from matplotlib)\n",
      "  Downloading contourpy-1.3.0-cp39-cp39-win_amd64.whl.metadata (5.4 kB)\n",
      "Collecting cycler>=0.10 (from matplotlib)\n",
      "  Downloading cycler-0.12.1-py3-none-any.whl.metadata (3.8 kB)\n",
      "Collecting fonttools>=4.22.0 (from matplotlib)\n",
      "  Downloading fonttools-4.58.5-cp39-cp39-win_amd64.whl.metadata (109 kB)\n",
      "Collecting kiwisolver>=1.3.1 (from matplotlib)\n",
      "  Downloading kiwisolver-1.4.7-cp39-cp39-win_amd64.whl.metadata (6.4 kB)\n",
      "Requirement already satisfied: numpy>=1.23 in c:\\users\\user\\miniconda3\\envs\\aip_39\\lib\\site-packages (from matplotlib) (2.0.2)\n",
      "Requirement already satisfied: packaging>=20.0 in c:\\users\\user\\appdata\\roaming\\python\\python39\\site-packages (from matplotlib) (25.0)\n",
      "Collecting pillow>=8 (from matplotlib)\n",
      "  Downloading pillow-11.3.0-cp39-cp39-win_amd64.whl.metadata (9.2 kB)\n",
      "Collecting pyparsing>=2.3.1 (from matplotlib)\n",
      "  Downloading pyparsing-3.2.3-py3-none-any.whl.metadata (5.0 kB)\n",
      "Requirement already satisfied: python-dateutil>=2.7 in c:\\users\\user\\appdata\\roaming\\python\\python39\\site-packages (from matplotlib) (2.9.0.post0)\n",
      "Collecting importlib-resources>=3.2.0 (from matplotlib)\n",
      "  Downloading importlib_resources-6.5.2-py3-none-any.whl.metadata (3.9 kB)\n",
      "Requirement already satisfied: zipp>=3.1.0 in c:\\users\\user\\appdata\\roaming\\python\\python39\\site-packages (from importlib-resources>=3.2.0->matplotlib) (3.23.0)\n",
      "Requirement already satisfied: six>=1.5 in c:\\users\\user\\appdata\\roaming\\python\\python39\\site-packages (from python-dateutil>=2.7->matplotlib) (1.17.0)\n",
      "Downloading matplotlib-3.9.4-cp39-cp39-win_amd64.whl (7.8 MB)\n",
      "   ---------------------------------------- 0.0/7.8 MB ? eta -:--:--\n",
      "   ---------------------------------------- 7.8/7.8 MB 44.0 MB/s eta 0:00:00\n",
      "Downloading contourpy-1.3.0-cp39-cp39-win_amd64.whl (211 kB)\n",
      "Downloading cycler-0.12.1-py3-none-any.whl (8.3 kB)\n",
      "Downloading fonttools-4.58.5-cp39-cp39-win_amd64.whl (1.5 MB)\n",
      "   ---------------------------------------- 0.0/1.5 MB ? eta -:--:--\n",
      "   ---------------------------------------- 1.5/1.5 MB 83.7 MB/s eta 0:00:00\n",
      "Downloading importlib_resources-6.5.2-py3-none-any.whl (37 kB)\n",
      "Downloading kiwisolver-1.4.7-cp39-cp39-win_amd64.whl (55 kB)\n",
      "Downloading pillow-11.3.0-cp39-cp39-win_amd64.whl (7.0 MB)\n",
      "   ---------------------------------------- 0.0/7.0 MB ? eta -:--:--\n",
      "   ---------------------------------------  6.8/7.0 MB 52.4 MB/s eta 0:00:01\n",
      "   ---------------------------------------- 7.0/7.0 MB 33.1 MB/s eta 0:00:00\n",
      "Downloading pyparsing-3.2.3-py3-none-any.whl (111 kB)\n",
      "Installing collected packages: pyparsing, pillow, kiwisolver, importlib-resources, fonttools, cycler, contourpy, matplotlib\n",
      "\n",
      "   ----- ---------------------------------- 1/8 [pillow]\n",
      "   ----- ---------------------------------- 1/8 [pillow]\n",
      "   --------------- ------------------------ 3/8 [importlib-resources]\n",
      "   -------------------- ------------------- 4/8 [fonttools]\n",
      "   -------------------- ------------------- 4/8 [fonttools]\n",
      "   -------------------- ------------------- 4/8 [fonttools]\n",
      "   -------------------- ------------------- 4/8 [fonttools]\n",
      "   -------------------- ------------------- 4/8 [fonttools]\n",
      "   -------------------- ------------------- 4/8 [fonttools]\n",
      "   ----------------------------------- ---- 7/8 [matplotlib]\n",
      "   ----------------------------------- ---- 7/8 [matplotlib]\n",
      "   ----------------------------------- ---- 7/8 [matplotlib]\n",
      "   ----------------------------------- ---- 7/8 [matplotlib]\n",
      "   ----------------------------------- ---- 7/8 [matplotlib]\n",
      "   ----------------------------------- ---- 7/8 [matplotlib]\n",
      "   ----------------------------------- ---- 7/8 [matplotlib]\n",
      "   ----------------------------------- ---- 7/8 [matplotlib]\n",
      "   ----------------------------------- ---- 7/8 [matplotlib]\n",
      "   ----------------------------------- ---- 7/8 [matplotlib]\n",
      "   ---------------------------------------- 8/8 [matplotlib]\n",
      "\n",
      "Successfully installed contourpy-1.3.0 cycler-0.12.1 fonttools-4.58.5 importlib-resources-6.5.2 kiwisolver-1.4.7 matplotlib-3.9.4 pillow-11.3.0 pyparsing-3.2.3\n"
     ]
    },
    {
     "name": "stderr",
     "output_type": "stream",
     "text": [
      "  WARNING: The scripts fonttools.exe, pyftmerge.exe, pyftsubset.exe and ttx.exe are installed in 'c:\\Users\\user\\miniconda3\\envs\\aip_39\\Scripts' which is not on PATH.\n",
      "  Consider adding this directory to PATH or, if you prefer to suppress this warning, use --no-warn-script-location.\n"
     ]
    }
   ],
   "source": [
    "import sys\n",
    "!{sys.executable} -m pip install matplotlib\n"
   ]
  },
  {
   "cell_type": "code",
   "execution_count": 17,
   "id": "0084ed17",
   "metadata": {},
   "outputs": [
    {
     "data": {
      "image/png": "[encoded data removed]",
      "text/plain": [
       "<Figure size 640x480 with 1 Axes>"
      ]
     },
     "metadata": {},
     "output_type": "display_data"
    }
   ],
   "source": [
    "import matplotlib.pyplot as plt\n",
    "\n",
    "x = np.linspace(-5, 5, 101)\n",
    "y = x**2\n",
    "\n",
    "plt.plot(x, y)\n",
    "plt.show()\n"
   ]
  },
  {
   "cell_type": "code",
   "execution_count": 18,
   "id": "04cded32",
   "metadata": {},
   "outputs": [
    {
     "data": {
      "text/plain": [
       "(100,)"
      ]
     },
     "execution_count": 18,
     "metadata": {},
     "output_type": "execute_result"
    }
   ],
   "source": [
    "np.zeros(100).shape"
   ]
  },
  {
   "cell_type": "code",
   "execution_count": 23,
   "id": "9825c149",
   "metadata": {},
   "outputs": [
    {
     "data": {
      "text/plain": [
       "(3, 3)"
      ]
     },
     "execution_count": 23,
     "metadata": {},
     "output_type": "execute_result"
    }
   ],
   "source": [
    "np.zeros((3,3)).shape"
   ]
  },
  {
   "cell_type": "code",
   "execution_count": 25,
   "id": "0325ca25",
   "metadata": {},
   "outputs": [
    {
     "data": {
      "text/plain": [
       "(4, 3)"
      ]
     },
     "execution_count": 25,
     "metadata": {},
     "output_type": "execute_result"
    }
   ],
   "source": [
    "np.ones((4,3)).shape"
   ]
  },
  {
   "cell_type": "code",
   "execution_count": 29,
   "id": "17d6c596",
   "metadata": {},
   "outputs": [
    {
     "data": {
      "text/plain": [
       "array([0.1, 0.1, 0.1])"
      ]
     },
     "execution_count": 29,
     "metadata": {},
     "output_type": "execute_result"
    }
   ],
   "source": [
    "np.full((3),0.1)"
   ]
  },
  {
   "cell_type": "code",
   "execution_count": 36,
   "id": "e71c9d51",
   "metadata": {},
   "outputs": [
    {
     "data": {
      "text/plain": [
       "((4, 3), (3,))"
      ]
     },
     "execution_count": 36,
     "metadata": {},
     "output_type": "execute_result"
    }
   ],
   "source": [
    "input_data = np.random.randn(150, 4)\n",
    "W = np.ones((4,3))\n",
    "b = np.full((3),0.1)\n",
    "\n",
    "W.shape, b.shape"
   ]
  },
  {
   "cell_type": "code",
   "execution_count": 37,
   "id": "ac973cf1",
   "metadata": {},
   "outputs": [
    {
     "data": {
      "text/plain": [
       "(150, 3)"
      ]
     },
     "execution_count": 37,
     "metadata": {},
     "output_type": "execute_result"
    }
   ],
   "source": [
    "output = input_data.dot(W) + b\n",
    "output.shape"
   ]
  },
  {
   "cell_type": "code",
   "execution_count": 38,
   "id": "fd44b249",
   "metadata": {},
   "outputs": [
    {
     "data": {
      "text/plain": [
       "(1000,)"
      ]
     },
     "execution_count": 38,
     "metadata": {},
     "output_type": "execute_result"
    }
   ],
   "source": [
    "data = np.random.random(1000)\n",
    "data.shape"
   ]
  },
  {
   "cell_type": "code",
   "execution_count": 41,
   "id": "bfb557f3",
   "metadata": {},
   "outputs": [
    {
     "data": {
      "text/plain": [
       "(array([ 94., 115., 101., 110.,  94.,  91.,  99., 104., 100.,  92.]),\n",
       " array([4.63890444e-04, 1.00298249e-01, 2.00132608e-01, 2.99966967e-01,\n",
       "        3.99801326e-01, 4.99635685e-01, 5.99470044e-01, 6.99304403e-01,\n",
       "        7.99138762e-01, 8.98973121e-01, 9.98807480e-01]),\n",
       " <BarContainer object of 10 artists>)"
      ]
     },
     "execution_count": 41,
     "metadata": {},
     "output_type": "execute_result"
    },
    {
     "data": {
      "image/png": "[encoded data removed]",
      "text/plain": [
       "<Figure size 640x480 with 1 Axes>"
      ]
     },
     "metadata": {},
     "output_type": "display_data"
    }
   ],
   "source": [
    "import matplotlib.pyplot as plt\n",
    "\n",
    "plt.hist(data)"
   ]
  },
  {
   "cell_type": "code",
   "execution_count": 61,
   "id": "18017299",
   "metadata": {},
   "outputs": [
    {
     "data": {
      "image/png": "[encoded data removed]",
      "text/plain": [
       "<Figure size 640x480 with 1 Axes>"
      ]
     },
     "metadata": {},
     "output_type": "display_data"
    }
   ],
   "source": [
    "import matplotlib.pyplot as plt\n",
    "\n",
    "x = np.linspace(-5, 5, 101)\n",
    "y = x**2\n",
    "\n",
    "plt.plot(x, y)\n",
    "plt.show()"
   ]
  },
  {
   "cell_type": "code",
   "execution_count": 42,
   "id": "34615194",
   "metadata": {},
   "outputs": [
    {
     "data": {
      "text/plain": [
       "(1000,)"
      ]
     },
     "execution_count": 42,
     "metadata": {},
     "output_type": "execute_result"
    }
   ],
   "source": [
    "data = np.random.uniform(-1,1, 1000)\n",
    "data.shape"
   ]
  },
  {
   "cell_type": "code",
   "execution_count": null,
   "id": "37c5e067",
   "metadata": {},
   "outputs": [
    {
     "data": {
      "text/plain": [
       "array([ 3,  6,  5,  2,  4, 10,  8,  1,  9,  7])"
      ]
     },
     "execution_count": 57,
     "metadata": {},
     "output_type": "execute_result"
    }
   ],
   "source": [
    "# replace=False => 중복안나옴\n",
    "data = np.arange(1,11)\n",
    "np.random.choice(data, 10, replace=False)\n"
   ]
  },
  {
   "cell_type": "code",
   "execution_count": null,
   "id": "4a4d64f2",
   "metadata": {},
   "outputs": [
    {
     "data": {
      "text/plain": [
       "array([ 3,  1,  4,  4,  5,  5,  8,  4,  3, 10])"
      ]
     },
     "execution_count": 59,
     "metadata": {},
     "output_type": "execute_result"
    }
   ],
   "source": [
    "# replace=True => 중복나옴\n",
    "data = np.arange(1,11)\n",
    "np.random.choice(data, 10, replace=True)"
   ]
  },
  {
   "cell_type": "code",
   "execution_count": 60,
   "id": "aa7ba7cf",
   "metadata": {},
   "outputs": [],
   "source": [
    "data = np.arange(1,11)\n",
    "np.random.shuffle(data)"
   ]
  },
  {
   "cell_type": "code",
   "execution_count": 66,
   "id": "b9ec0165",
   "metadata": {},
   "outputs": [
    {
     "data": {
      "text/plain": [
       "array([1, 1, 2, 1, 3, 2, 1, 1, 1, 1])"
      ]
     },
     "execution_count": 66,
     "metadata": {},
     "output_type": "execute_result"
    }
   ],
   "source": [
    "data = np.arange(1,4)\n",
    "np.random.choice(data, 10, p = [0.8, 0.1, 0.1])"
   ]
  },
  {
   "cell_type": "code",
   "execution_count": 68,
   "id": "92b74bfb",
   "metadata": {},
   "outputs": [
    {
     "data": {
      "text/plain": [
       "(1000,)"
      ]
     },
     "execution_count": 68,
     "metadata": {},
     "output_type": "execute_result"
    }
   ],
   "source": [
    "data = np.random.normal(0, 1, 1000)\n",
    "data.shape"
   ]
  },
  {
   "cell_type": "code",
   "execution_count": 69,
   "id": "f3a8f96d",
   "metadata": {},
   "outputs": [
    {
     "data": {
      "text/plain": [
       "(array([  6.,  22.,  69., 136., 207., 215., 196.,  99.,  36.,  14.]),\n",
       " array([-3.11875136, -2.52312353, -1.9274957 , -1.33186787, -0.73624005,\n",
       "        -0.14061222,  0.45501561,  1.05064344,  1.64627127,  2.24189909,\n",
       "         2.83752692]),\n",
       " <BarContainer object of 10 artists>)"
      ]
     },
     "execution_count": 69,
     "metadata": {},
     "output_type": "execute_result"
    },
    {
     "data": {
      "image/png": "[encoded data removed]",
      "text/plain": [
       "<Figure size 640x480 with 1 Axes>"
      ]
     },
     "metadata": {},
     "output_type": "display_data"
    }
   ],
   "source": [
    "plt.hist(data)"
   ]
  },
  {
   "cell_type": "code",
   "execution_count": 71,
   "id": "9e10c5d6",
   "metadata": {},
   "outputs": [
    {
     "data": {
      "text/plain": [
       "(array([  2.,   8.,  40., 123., 269., 294., 183.,  64.,  15.,   2.]),\n",
       " array([-3.93514506, -3.17333262, -2.41152017, -1.64970773, -0.88789528,\n",
       "        -0.12608284,  0.63572961,  1.39754206,  2.1593545 ,  2.92116695,\n",
       "         3.68297939]),\n",
       " <BarContainer object of 10 artists>)"
      ]
     },
     "execution_count": 71,
     "metadata": {},
     "output_type": "execute_result"
    },
    {
     "data": {
      "image/png": "[encoded data removed]",
      "text/plain": [
       "<Figure size 640x480 with 1 Axes>"
      ]
     },
     "metadata": {},
     "output_type": "display_data"
    }
   ],
   "source": [
    "data = np.random.randn(1000)\n",
    "plt.hist(data)"
   ]
  },
  {
   "cell_type": "code",
   "execution_count": 72,
   "id": "6eda190c",
   "metadata": {},
   "outputs": [
    {
     "data": {
      "text/plain": [
       "(100,)"
      ]
     },
     "execution_count": 72,
     "metadata": {},
     "output_type": "execute_result"
    }
   ],
   "source": [
    "data = np.random.randint(1, 7, 100)\n",
    "data.shape"
   ]
  },
  {
   "cell_type": "code",
   "execution_count": 73,
   "id": "4ee0aee7",
   "metadata": {},
   "outputs": [
    {
     "data": {
      "text/plain": [
       "(array([19.,  0., 13.,  0., 22.,  0., 13.,  0., 19., 14.]),\n",
       " array([1. , 1.5, 2. , 2.5, 3. , 3.5, 4. , 4.5, 5. , 5.5, 6. ]),\n",
       " <BarContainer object of 10 artists>)"
      ]
     },
     "execution_count": 73,
     "metadata": {},
     "output_type": "execute_result"
    },
    {
     "data": {
      "image/png": "[encoded data removed]",
      "text/plain": [
       "<Figure size 640x480 with 1 Axes>"
      ]
     },
     "metadata": {},
     "output_type": "display_data"
    }
   ],
   "source": [
    "plt.hist(data)"
   ]
  },
  {
   "cell_type": "code",
   "execution_count": 74,
   "id": "70cb1302",
   "metadata": {},
   "outputs": [
    {
     "data": {
      "text/plain": [
       "array([[1., 0., 0.],\n",
       "       [0., 1., 0.],\n",
       "       [0., 0., 1.]])"
      ]
     },
     "execution_count": 74,
     "metadata": {},
     "output_type": "execute_result"
    }
   ],
   "source": [
    "np.eye(3)"
   ]
  },
  {
   "cell_type": "code",
   "execution_count": 76,
   "id": "0c92a4fb",
   "metadata": {},
   "outputs": [
    {
     "data": {
      "text/plain": [
       "array([[ 39.22222222, 119.22222222],\n",
       "       [199.22222222, 279.22222222],\n",
       "       [359.22222222, 403.32222222]])"
      ]
     },
     "execution_count": 76,
     "metadata": {},
     "output_type": "execute_result"
    }
   ],
   "source": [
    "v1 = np.empty((3,2))\n",
    "v1"
   ]
  },
  {
   "cell_type": "code",
   "execution_count": 82,
   "id": "594d2baa",
   "metadata": {},
   "outputs": [
    {
     "data": {
      "text/plain": [
       "array([359.22222222, 403.32222222])"
      ]
     },
     "execution_count": 82,
     "metadata": {},
     "output_type": "execute_result"
    }
   ],
   "source": [
    "v1[2]"
   ]
  },
  {
   "cell_type": "code",
   "execution_count": 80,
   "id": "d9abcc80",
   "metadata": {},
   "outputs": [
    {
     "data": {
      "text/plain": [
       "array([[0., 0.],\n",
       "       [0., 0.],\n",
       "       [0., 0.]])"
      ]
     },
     "execution_count": 80,
     "metadata": {},
     "output_type": "execute_result"
    }
   ],
   "source": [
    "np.zeros((3,2))"
   ]
  },
  {
   "cell_type": "code",
   "execution_count": 81,
   "id": "070d6abb",
   "metadata": {},
   "outputs": [
    {
     "data": {
      "text/plain": [
       "array([[1., 1.],\n",
       "       [1., 1.],\n",
       "       [1., 1.]])"
      ]
     },
     "execution_count": 81,
     "metadata": {},
     "output_type": "execute_result"
    }
   ],
   "source": [
    "np.ones((3,2))"
   ]
  },
  {
   "cell_type": "code",
   "execution_count": 84,
   "id": "7309b36e",
   "metadata": {},
   "outputs": [],
   "source": [
    "data = np.zeros((3,2))"
   ]
  },
  {
   "cell_type": "code",
   "execution_count": 86,
   "id": "706eb21e",
   "metadata": {},
   "outputs": [
    {
     "data": {
      "text/plain": [
       "((3, 2), dtype('float64'))"
      ]
     },
     "execution_count": 86,
     "metadata": {},
     "output_type": "execute_result"
    }
   ],
   "source": [
    "data.shape, data.dtype"
   ]
  },
  {
   "cell_type": "code",
   "execution_count": null,
   "id": "660a2570",
   "metadata": {},
   "outputs": [],
   "source": [
    "data =np.zeros((3,2), dtype = 'float')\n"
   ]
  },
  {
   "cell_type": "code",
   "execution_count": 88,
   "id": "00f050f5",
   "metadata": {},
   "outputs": [
    {
     "data": {
      "text/plain": [
       "array([[6, 7, 8, 9],\n",
       "       [5, 2, 3, 4],\n",
       "       [8, 1, 2, 7]], dtype=int32)"
      ]
     },
     "execution_count": 88,
     "metadata": {},
     "output_type": "execute_result"
    }
   ],
   "source": [
    "np.random.randint(1,10, (3,4))"
   ]
  },
  {
   "cell_type": "code",
   "execution_count": 90,
   "id": "a6d35f9e",
   "metadata": {},
   "outputs": [
    {
     "data": {
      "text/plain": [
       "array([[ 0.12775736, -0.32329626, -0.74224334, -1.04616821],\n",
       "       [-0.55985236, -1.00391077,  1.16865352,  0.32032284],\n",
       "       [-0.1029413 ,  0.82382699,  0.71106885, -0.13672953]])"
      ]
     },
     "execution_count": 90,
     "metadata": {},
     "output_type": "execute_result"
    }
   ],
   "source": [
    "np.random.normal(0,1, (3,4))"
   ]
  },
  {
   "cell_type": "code",
   "execution_count": null,
   "id": "9c42544e",
   "metadata": {},
   "outputs": [
    {
     "data": {
      "text/plain": [
       "((3, 2), dtype('float64'), 2, 6)"
      ]
     },
     "execution_count": 92,
     "metadata": {},
     "output_type": "execute_result"
    }
   ],
   "source": [
    "data.shape, data.dtype, data.ndim, data.size\n",
    "# .ndim = 몇 차원인지\n"
   ]
  },
  {
   "cell_type": "code",
   "execution_count": 93,
   "id": "00f557c5",
   "metadata": {},
   "outputs": [
    {
     "data": {
      "text/plain": [
       "(3, 2)"
      ]
     },
     "execution_count": 93,
     "metadata": {},
     "output_type": "execute_result"
    }
   ],
   "source": [
    "data.shape"
   ]
  },
  {
   "cell_type": "code",
   "execution_count": 97,
   "id": "11b86c0b",
   "metadata": {},
   "outputs": [
    {
     "data": {
      "text/plain": [
       "array([[7, 4, 8, 5],\n",
       "       [7, 3, 7, 8],\n",
       "       [5, 4, 8, 8]], dtype=int32)"
      ]
     },
     "execution_count": 97,
     "metadata": {},
     "output_type": "execute_result"
    }
   ],
   "source": [
    "np.random.seed(42)\n",
    "data= np.random.randint(1,10, (3,4))\n",
    "data"
   ]
  },
  {
   "cell_type": "code",
   "execution_count": null,
   "id": "19594a62",
   "metadata": {},
   "outputs": [
    {
     "data": {
      "text/plain": [
       "array([7, 4, 8, 5], dtype=int32)"
      ]
     },
     "execution_count": 98,
     "metadata": {},
     "output_type": "execute_result"
    }
   ],
   "source": [
    "# row\n",
    "data[0]\n"
   ]
  },
  {
   "cell_type": "code",
   "execution_count": null,
   "id": "fdd9fdba",
   "metadata": {},
   "outputs": [
    {
     "data": {
      "text/plain": [
       "array([7, 7, 5], dtype=int32)"
      ]
     },
     "execution_count": 99,
     "metadata": {},
     "output_type": "execute_result"
    }
   ],
   "source": [
    "# column \n",
    "# : -> 모든행\n",
    "# 0 -> 0번째 열\n",
    "data[:, 0]"
   ]
  },
  {
   "cell_type": "code",
   "execution_count": 100,
   "id": "b5950ec7",
   "metadata": {},
   "outputs": [
    {
     "data": {
      "text/plain": [
       "array([3, 7], dtype=int32)"
      ]
     },
     "execution_count": 100,
     "metadata": {},
     "output_type": "execute_result"
    }
   ],
   "source": [
    "data[1, 1:3]"
   ]
  },
  {
   "cell_type": "code",
   "execution_count": 101,
   "id": "b392bb6b",
   "metadata": {},
   "outputs": [
    {
     "data": {
      "text/plain": [
       "array([[4, 8],\n",
       "       [3, 7]], dtype=int32)"
      ]
     },
     "execution_count": 101,
     "metadata": {},
     "output_type": "execute_result"
    }
   ],
   "source": [
    "data[0:2, 1:3]"
   ]
  },
  {
   "cell_type": "code",
   "execution_count": 104,
   "id": "9be2885a",
   "metadata": {},
   "outputs": [],
   "source": [
    "np.random.seed(42)\n",
    "data = np.random.randint(1,10,(5,5))"
   ]
  },
  {
   "cell_type": "code",
   "execution_count": 105,
   "id": "04f76762",
   "metadata": {},
   "outputs": [
    {
     "data": {
      "text/plain": [
       "array([[7, 4, 8, 5, 7],\n",
       "       [3, 7, 8, 5, 4],\n",
       "       [8, 8, 3, 6, 5],\n",
       "       [2, 8, 6, 2, 5],\n",
       "       [1, 6, 9, 1, 3]], dtype=int32)"
      ]
     },
     "execution_count": 105,
     "metadata": {},
     "output_type": "execute_result"
    }
   ],
   "source": [
    "data"
   ]
  },
  {
   "cell_type": "code",
   "execution_count": 103,
   "id": "5bf8dfac",
   "metadata": {},
   "outputs": [
    {
     "data": {
      "text/plain": [
       "array([8, 3, 6], dtype=int32)"
      ]
     },
     "execution_count": 103,
     "metadata": {},
     "output_type": "execute_result"
    }
   ],
   "source": [
    "data[2, 1:4]"
   ]
  },
  {
   "cell_type": "code",
   "execution_count": 108,
   "id": "68dfc105",
   "metadata": {},
   "outputs": [
    {
     "data": {
      "text/plain": [
       "array([[8, 3, 6],\n",
       "       [8, 6, 2]], dtype=int32)"
      ]
     },
     "execution_count": 108,
     "metadata": {},
     "output_type": "execute_result"
    }
   ],
   "source": [
    "data[2:4, 1:4]"
   ]
  },
  {
   "cell_type": "code",
   "execution_count": 120,
   "id": "ed78f6cc",
   "metadata": {},
   "outputs": [
    {
     "data": {
      "text/plain": [
       "30"
      ]
     },
     "execution_count": 120,
     "metadata": {},
     "output_type": "execute_result"
    }
   ],
   "source": [
    "# 짝수만 더하기\n",
    "def my_sum(x):\n",
    "    result = []\n",
    "    for i in x:\n",
    "        if i % 2 == 0:\n",
    "            result.append(i)\n",
    "    return sum(result)\n",
    "\n",
    "x= list(range(1,11))\n",
    "my_sum(x)"
   ]
  },
  {
   "cell_type": "code",
   "execution_count": 121,
   "id": "837de5b4",
   "metadata": {},
   "outputs": [
    {
     "data": {
      "text/plain": [
       "np.int64(55)"
      ]
     },
     "execution_count": 121,
     "metadata": {},
     "output_type": "execute_result"
    }
   ],
   "source": [
    "def get_even(x):\n",
    "    for i in x :\n",
    "        if i % 2 != 0:\n",
    "            np.delete(x,i)\n",
    "\n",
    "x= np.array(range(1,11))\n",
    "get_even(x.copy())\n",
    "sum(x)"
   ]
  },
  {
   "cell_type": "code",
   "execution_count": 122,
   "id": "3fe4618e",
   "metadata": {},
   "outputs": [],
   "source": [
    "np.random.seed(42)\n",
    "data = np.random.randint(1,10,(2,3))"
   ]
  },
  {
   "cell_type": "code",
   "execution_count": 123,
   "id": "331c7b3c",
   "metadata": {},
   "outputs": [
    {
     "data": {
      "text/plain": [
       "array([[7, 4, 8],\n",
       "       [5, 7, 3]], dtype=int32)"
      ]
     },
     "execution_count": 123,
     "metadata": {},
     "output_type": "execute_result"
    }
   ],
   "source": [
    "data"
   ]
  },
  {
   "cell_type": "code",
   "execution_count": 125,
   "id": "093fbfde",
   "metadata": {},
   "outputs": [
    {
     "data": {
      "text/plain": [
       "array([[7, 4, 8, 5, 7, 3]], dtype=int32)"
      ]
     },
     "execution_count": 125,
     "metadata": {},
     "output_type": "execute_result"
    }
   ],
   "source": [
    "data.reshape(1,6)"
   ]
  },
  {
   "cell_type": "code",
   "execution_count": 126,
   "id": "1e4ad21d",
   "metadata": {},
   "outputs": [
    {
     "data": {
      "text/plain": [
       "array([[7, 4],\n",
       "       [8, 5],\n",
       "       [7, 3]], dtype=int32)"
      ]
     },
     "execution_count": 126,
     "metadata": {},
     "output_type": "execute_result"
    }
   ],
   "source": [
    "data.reshape(3,2)"
   ]
  },
  {
   "cell_type": "code",
   "execution_count": 127,
   "id": "2812cd85",
   "metadata": {},
   "outputs": [
    {
     "data": {
      "text/plain": [
       "array([[7],\n",
       "       [4],\n",
       "       [8],\n",
       "       [5],\n",
       "       [7],\n",
       "       [3]], dtype=int32)"
      ]
     },
     "execution_count": 127,
     "metadata": {},
     "output_type": "execute_result"
    }
   ],
   "source": [
    "data.reshape(6,1)"
   ]
  },
  {
   "cell_type": "code",
   "execution_count": 129,
   "id": "38a37506",
   "metadata": {},
   "outputs": [
    {
     "data": {
      "text/plain": [
       "array([-0.41218848, -0.4826188 ,  0.16416482])"
      ]
     },
     "execution_count": 129,
     "metadata": {},
     "output_type": "execute_result"
    }
   ],
   "source": [
    "data = np.random.normal(0, 1, (3))\n",
    "data"
   ]
  },
  {
   "cell_type": "code",
   "execution_count": 132,
   "id": "6b144ae0",
   "metadata": {},
   "outputs": [
    {
     "data": {
      "text/plain": [
       "array([[-0.41218848],\n",
       "       [-0.4826188 ],\n",
       "       [ 0.16416482]])"
      ]
     },
     "execution_count": 132,
     "metadata": {},
     "output_type": "execute_result"
    }
   ],
   "source": [
    "data.reshape(3,1)"
   ]
  },
  {
   "cell_type": "code",
   "execution_count": null,
   "id": "2f175e03",
   "metadata": {},
   "outputs": [
    {
     "data": {
      "text/plain": [
       "(1, 3)"
      ]
     },
     "execution_count": 133,
     "metadata": {},
     "output_type": "execute_result"
    }
   ],
   "source": [
    "# NumPy에서 차원을 추가할 때 사용하는 표현\n",
    "data[np.newaxis, :].shape"
   ]
  },
  {
   "cell_type": "code",
   "execution_count": 134,
   "id": "54d0f26d",
   "metadata": {},
   "outputs": [
    {
     "data": {
      "text/plain": [
       "(3, 1, 1)"
      ]
     },
     "execution_count": 134,
     "metadata": {},
     "output_type": "execute_result"
    }
   ],
   "source": [
    "data[:, np.newaxis, np.newaxis].shape"
   ]
  },
  {
   "cell_type": "code",
   "execution_count": 135,
   "id": "63b95ec3",
   "metadata": {},
   "outputs": [
    {
     "data": {
      "text/plain": [
       "(1, 3)"
      ]
     },
     "execution_count": 135,
     "metadata": {},
     "output_type": "execute_result"
    }
   ],
   "source": [
    "data[None, :].shape"
   ]
  },
  {
   "cell_type": "code",
   "execution_count": 140,
   "id": "c0b7dbe3",
   "metadata": {},
   "outputs": [],
   "source": [
    "np.random.seed(42)\n",
    "d1 = np.random.randint(1,10,(2,3))"
   ]
  },
  {
   "cell_type": "code",
   "execution_count": 141,
   "id": "89f17394",
   "metadata": {},
   "outputs": [
    {
     "data": {
      "text/plain": [
       "(2, 3)"
      ]
     },
     "execution_count": 141,
     "metadata": {},
     "output_type": "execute_result"
    }
   ],
   "source": [
    "d1.shape"
   ]
  },
  {
   "cell_type": "code",
   "execution_count": 145,
   "id": "b444f85f",
   "metadata": {},
   "outputs": [],
   "source": [
    "d2 = np.random.randint(1,10,(2,3))"
   ]
  },
  {
   "cell_type": "code",
   "execution_count": 146,
   "id": "ac60667d",
   "metadata": {},
   "outputs": [
    {
     "data": {
      "text/plain": [
       "(2, 3)"
      ]
     },
     "execution_count": 146,
     "metadata": {},
     "output_type": "execute_result"
    }
   ],
   "source": [
    "d2.shape"
   ]
  },
  {
   "cell_type": "code",
   "execution_count": 147,
   "id": "34e4fd41",
   "metadata": {},
   "outputs": [
    {
     "data": {
      "text/plain": [
       "(2, 6)"
      ]
     },
     "execution_count": 147,
     "metadata": {},
     "output_type": "execute_result"
    }
   ],
   "source": [
    "np.concatenate([d1,d2], axis=1).shape"
   ]
  },
  {
   "cell_type": "code",
   "execution_count": 148,
   "id": "1aa660ca",
   "metadata": {},
   "outputs": [],
   "source": [
    "np.random.seed(42)\n",
    "d1 = np.random.randint(1,10,(2,3))"
   ]
  },
  {
   "cell_type": "code",
   "execution_count": null,
   "id": "f4cd0ee6",
   "metadata": {},
   "outputs": [],
   "source": [
    "# c를 d1 에 붙이기\n",
    "c=np.array([5,3])"
   ]
  },
  {
   "cell_type": "code",
   "execution_count": 154,
   "id": "7c95fbec",
   "metadata": {},
   "outputs": [
    {
     "data": {
      "text/plain": [
       "array([[7, 4, 8, 5],\n",
       "       [5, 7, 3, 3]])"
      ]
     },
     "execution_count": 154,
     "metadata": {},
     "output_type": "execute_result"
    }
   ],
   "source": [
    "np.concatenate([d1,c[:, None]], axis=1)"
   ]
  },
  {
   "cell_type": "code",
   "execution_count": 158,
   "id": "c6f02c58",
   "metadata": {},
   "outputs": [
    {
     "data": {
      "text/plain": [
       "(100,)"
      ]
     },
     "execution_count": 158,
     "metadata": {},
     "output_type": "execute_result"
    }
   ],
   "source": [
    "index = np.arange(100)\n",
    "index.shape"
   ]
  },
  {
   "cell_type": "code",
   "execution_count": null,
   "id": "1eb4927c",
   "metadata": {},
   "outputs": [],
   "source": [
    "# 20번째 위치에서 배열을 나누시오!\n",
    "# a1에는 index[0:20] → 0부터 19까지 요소가 들어가고,\n",
    "# a2에는 index[20:] → 20부터 끝까지 요소가 들어가요.\n",
    "a1, a2 = np.split(index, [20])"
   ]
  },
  {
   "cell_type": "code",
   "execution_count": 163,
   "id": "b234de62",
   "metadata": {},
   "outputs": [
    {
     "data": {
      "text/plain": [
       "((20,), (80,))"
      ]
     },
     "execution_count": 163,
     "metadata": {},
     "output_type": "execute_result"
    }
   ],
   "source": [
    "a1.shape, a2.shape"
   ]
  }
 ],
 "metadata": {
  "kernelspec": {
   "display_name": "aip_39",
   "language": "python",
   "name": "python3"
  },
  "language_info": {
   "codemirror_mode": {
    "name": "ipython",
    "version": 3
   },
   "file_extension": ".py",
   "mimetype": "text/x-python",
   "name": "python",
   "nbconvert_exporter": "python",
   "pygments_lexer": "ipython3",
   "version": "3.9.23"
  }
 },
 "nbformat": 4,
 "nbformat_minor": 5
}
