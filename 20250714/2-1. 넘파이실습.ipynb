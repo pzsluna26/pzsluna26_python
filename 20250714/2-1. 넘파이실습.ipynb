{
 "cells": [
  {
   "cell_type": "code",
   "execution_count": 4,
   "metadata": {},
   "outputs": [],
   "source": [
    "import numpy as np"
   ]
  },
  {
   "cell_type": "markdown",
   "metadata": {},
   "source": [
    "\n",
    "# 실습 과제1: NumPy를 활용한 행렬 변형 실습\n",
    "\n",
    "## 문제 1: 난수 행렬 생성\n",
    "N = 6과 M = 5로 설정하고, 0과 1 사이의 난수를 사용하여 (N, M) 형태의 행렬 A를 생성하세요.\n",
    "힌트: np.random.rand() 함수를 사용하세요.\n"
   ]
  },
  {
   "cell_type": "code",
   "execution_count": 45,
   "metadata": {},
   "outputs": [
    {
     "name": "stdout",
     "output_type": "stream",
     "text": [
      "(6, 5)\n"
     ]
    }
   ],
   "source": [
    "N = 6\n",
    "M = 5\n",
    "A = np.random.randn(N, M)  \n",
    "print(A.shape)\n",
    "\n"
   ]
  },
  {
   "cell_type": "markdown",
   "metadata": {},
   "source": [
    "## 문제 2: 새로운 축 추가\n",
    "\n",
    "행렬 A에 np.newaxis를 사용하여 새로운 축을 추가하고, 결과를 B에 저장하세요. B의 형태는 (N, 1, M)이 되어야 합니다."
   ]
  },
  {
   "cell_type": "code",
   "execution_count": 46,
   "metadata": {},
   "outputs": [
    {
     "name": "stdout",
     "output_type": "stream",
     "text": [
      "[[[-0.28707643 -0.48467731 -1.10813596  1.24143534 -1.29047474]]\n",
      "\n",
      " [[-0.02037033  2.13348208 -0.43852167 -0.94090112 -1.70726216]]\n",
      "\n",
      " [[ 0.71162663  1.76180288 -0.9499854   0.50600477  1.51962849]]\n",
      "\n",
      " [[ 0.59695962  1.43965979 -1.02175053  0.0400135   0.02699811]]\n",
      "\n",
      " [[ 0.99380854 -1.07905662  0.40856017 -0.08053328 -0.2090343 ]]\n",
      "\n",
      " [[ 0.4381733   0.83242013 -0.4830147   0.41111627 -1.85477394]]]\n"
     ]
    }
   ],
   "source": [
    "B = A[:, np.newaxis, :]\n",
    "print(B)"
   ]
  },
  {
   "cell_type": "markdown",
   "metadata": {},
   "source": [
    "문제 3: 슬라이싱을 이용한 특정 요소 변경\n",
    "행렬 B에서 세 번째 행의 모든 열을 슬라이싱하여 값을 0.3으로 변경하세요."
   ]
  },
  {
   "cell_type": "code",
   "execution_count": 47,
   "metadata": {},
   "outputs": [
    {
     "data": {
      "text/plain": [
       "array([[0.3, 0.3, 0.3, 0.3, 0.3]])"
      ]
     },
     "execution_count": 47,
     "metadata": {},
     "output_type": "execute_result"
    }
   ],
   "source": [
    "B[2,0:4] = 0.3\n",
    "B[2,0:4]"
   ]
  },
  {
   "cell_type": "markdown",
   "metadata": {},
   "source": [
    "\n",
    "문제 4: 축 위치를 다르게 설정하여 새로운 행렬 생성\n",
    "np.newaxis를 사용하여 A의 형태를 (1, N, M)로 변형한 결과를 C에 저장하고, (N, M, 1)로 변형한 결과를 D에 저장하세요. 각 행렬의 형태를 출력하여 확인하세요."
   ]
  },
  {
   "cell_type": "code",
   "execution_count": 48,
   "metadata": {},
   "outputs": [
    {
     "data": {
      "text/plain": [
       "(1, 6, 5)"
      ]
     },
     "execution_count": 48,
     "metadata": {},
     "output_type": "execute_result"
    }
   ],
   "source": [
    "C = A[np.newaxis, :, :]\n",
    "C.shape"
   ]
  },
  {
   "cell_type": "code",
   "execution_count": 49,
   "metadata": {},
   "outputs": [
    {
     "name": "stdout",
     "output_type": "stream",
     "text": [
      "[[[-0.28707643]\n",
      "  [-0.48467731]\n",
      "  [-1.10813596]\n",
      "  [ 1.24143534]\n",
      "  [-1.29047474]]\n",
      "\n",
      " [[-0.02037033]\n",
      "  [ 2.13348208]\n",
      "  [-0.43852167]\n",
      "  [-0.94090112]\n",
      "  [-1.70726216]]\n",
      "\n",
      " [[ 0.3       ]\n",
      "  [ 0.3       ]\n",
      "  [ 0.3       ]\n",
      "  [ 0.3       ]\n",
      "  [ 0.3       ]]\n",
      "\n",
      " [[ 0.59695962]\n",
      "  [ 1.43965979]\n",
      "  [-1.02175053]\n",
      "  [ 0.0400135 ]\n",
      "  [ 0.02699811]]\n",
      "\n",
      " [[ 0.99380854]\n",
      "  [-1.07905662]\n",
      "  [ 0.40856017]\n",
      "  [-0.08053328]\n",
      "  [-0.2090343 ]]\n",
      "\n",
      " [[ 0.4381733 ]\n",
      "  [ 0.83242013]\n",
      "  [-0.4830147 ]\n",
      "  [ 0.41111627]\n",
      "  [-1.85477394]]]\n"
     ]
    }
   ],
   "source": [
    "D = A[:,:,np.newaxis]\n",
    "D.shape\n",
    "print(D)"
   ]
  },
  {
   "cell_type": "markdown",
   "metadata": {},
   "source": [
    "\n",
    "문제 5: 슬라이싱을 통해 부분 행렬 변경\n",
    "행렬 D에서 마지막 세 행의 모든 요소를 0.8로 변경하세요."
   ]
  }
 ],
 "metadata": {
  "kernelspec": {
   "display_name": "aip_39",
   "language": "python",
   "name": "python3"
  },
  "language_info": {
   "codemirror_mode": {
    "name": "ipython",
    "version": 3
   },
   "file_extension": ".py",
   "mimetype": "text/x-python",
   "name": "python",
   "nbconvert_exporter": "python",
   "pygments_lexer": "ipython3",
   "version": "3.9.23"
  }
 },
 "nbformat": 4,
 "nbformat_minor": 2
}
