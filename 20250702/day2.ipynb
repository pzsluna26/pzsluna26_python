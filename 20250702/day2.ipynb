{
 "cells": [
  {
   "cell_type": "code",
   "execution_count": null,
   "id": "64e17e68",
   "metadata": {},
   "outputs": [
    {
     "data": {
      "text/plain": [
       "3"
      ]
     },
     "execution_count": 1,
     "metadata": {},
     "output_type": "execute_result"
    }
   ],
   "source": [
    "1+2"
   ]
  },
  {
   "cell_type": "code",
   "execution_count": 2,
   "id": "86d92e17",
   "metadata": {},
   "outputs": [],
   "source": [
    "a=[]\n",
    "a= type(a)"
   ]
  },
  {
   "cell_type": "code",
   "execution_count": 8,
   "id": "a88d5c84",
   "metadata": {},
   "outputs": [],
   "source": [
    "a = [1,3.14, 'hello', True, sum, [1,2,3], (5,6)]\n",
    "# for i in a:\n",
    "#     # print(i, type(i),i.title())\n",
    "#     a.append()"
   ]
  },
  {
   "cell_type": "code",
   "execution_count": 10,
   "id": "3a9a0754",
   "metadata": {},
   "outputs": [
    {
     "data": {
      "text/plain": [
       "True"
      ]
     },
     "execution_count": 10,
     "metadata": {},
     "output_type": "execute_result"
    }
   ],
   "source": [
    "\n",
    "a = range(100_000_000)\n",
    "# a = [1,2,3,4,5,6,7]\n",
    "\n",
    "def find(lst, value) -> bool:\n",
    "    for l in lst:\n",
    "        if l == value: return True\n",
    "    return False\n",
    "# find(a,5), find(a,8)\n",
    "find(a, 57_000_000)\n"
   ]
  },
  {
   "cell_type": "code",
   "execution_count": 11,
   "id": "abc047a0",
   "metadata": {},
   "outputs": [
    {
     "ename": "TypeError",
     "evalue": "'range' object does not support item assignment",
     "output_type": "error",
     "traceback": [
      "\u001b[1;31m---------------------------------------------------------------------------\u001b[0m",
      "\u001b[1;31mTypeError\u001b[0m                                 Traceback (most recent call last)",
      "Cell \u001b[1;32mIn[11], line 1\u001b[0m\n\u001b[1;32m----> 1\u001b[0m \u001b[43ma\u001b[49m\u001b[43m[\u001b[49m\u001b[38;5;241;43m57_000_000\u001b[39;49m\u001b[43m]\u001b[49m \u001b[38;5;241m=\u001b[39m \u001b[38;5;241m100\u001b[39m\n\u001b[0;32m      2\u001b[0m a[\u001b[38;5;124m'\u001b[39m\u001b[38;5;124mi\u001b[39m\u001b[38;5;124m'\u001b[39m] \n",
      "\u001b[1;31mTypeError\u001b[0m: 'range' object does not support item assignment"
     ]
    }
   ],
   "source": [
    "a[57_000_000] = 100\n",
    "a['i'] "
   ]
  },
  {
   "cell_type": "code",
   "execution_count": 12,
   "id": "13790515",
   "metadata": {},
   "outputs": [
    {
     "data": {
      "text/plain": [
       "True"
      ]
     },
     "execution_count": 12,
     "metadata": {},
     "output_type": "execute_result"
    }
   ],
   "source": [
    "a = {}\n",
    "for i in range(100_000_000):\n",
    "    a[i] = True\n",
    "a[57_000_000]"
   ]
  },
  {
   "cell_type": "code",
   "execution_count": 13,
   "id": "b3afa0a6",
   "metadata": {},
   "outputs": [
    {
     "name": "stdout",
     "output_type": "stream",
     "text": [
      "a 5\n",
      "b 15\n",
      "c 30\n"
     ]
    }
   ],
   "source": [
    "d = {\n",
    "    \"a\" :5, \n",
    "    \"b\" :15,\n",
    "    \"c\":30\n",
    "}\n",
    "\n",
    "for k,v in d.items():\n",
    "    print(k,v)"
   ]
  },
  {
   "cell_type": "code",
   "execution_count": null,
   "id": "229bed6d",
   "metadata": {},
   "outputs": [
    {
     "data": {
      "text/plain": [
       "[('d', 1), ('e', 1), ('h', 1), ('l', 3), ('o', 2), ('r', 1), ('w', 1)]"
      ]
     },
     "execution_count": 20,
     "metadata": {},
     "output_type": "execute_result"
    }
   ],
   "source": [
    "# 문자열에서 영문자만 세고, 알파벳 순으로 정렬된 결과 반환하는 함수\n",
    "\n",
    "from string import ascii_letters\n",
    "\n",
    "# 대상입력\n",
    "s = 'hello, world!' \n",
    "\n",
    "def count_alpha(s)->dict:\n",
    "    result = {}\n",
    "    for i in s:\n",
    "        if i in ascii_letters:\n",
    "            # 딕셔너리에 i가 없으면 0을 반환\n",
    "            # 이미 있으면 그 값에 +1 해서 갱신 (알파벳 카운팅)\n",
    "            result[i] = result.get(i,0) + 1\n",
    "    return sorted(result.items(),key=lambda x : x[0])\n",
    "    # result.items()는 (문자, 개수) 쌍의 튜플 목록\n",
    "    # 알파벳 기준으로 정렬: key=lambda x: x[0] → 문자 기준으로 오름차순 정렬\n",
    "count_alpha(s)"
   ]
  },
  {
   "cell_type": "code",
   "execution_count": null,
   "id": "6dc93a8d",
   "metadata": {},
   "outputs": [
    {
     "data": {
      "text/plain": [
       "-3550055125485641917"
      ]
     },
     "execution_count": 29,
     "metadata": {},
     "output_type": "execute_result"
    }
   ],
   "source": [
    "d = {}\n",
    "\n",
    "d[1] = True\n",
    "d['h'] = True\n",
    "d[3.14] = True\n",
    "d[False] = True\n",
    "# d[[1,2]] = True\n",
    "d[(1,2)] = True\n",
    "\n",
    "key = (1,2)\n",
    "# d[key] = True\n",
    "# key.append(3)\n",
    "hash(key)"
   ]
  },
  {
   "cell_type": "markdown",
   "id": "613c7aa0",
   "metadata": {},
   "source": [
    "function\n",
    "f(x) = 2x + 1"
   ]
  },
  {
   "cell_type": "code",
   "execution_count": 30,
   "id": "6af9c4c1",
   "metadata": {},
   "outputs": [
    {
     "data": {
      "text/plain": [
       "[1, 2, 3, 4, 5, 6, 7, 8, 9, 10]"
      ]
     },
     "execution_count": 30,
     "metadata": {},
     "output_type": "execute_result"
    }
   ],
   "source": [
    "x = list(range(1,11))\n",
    "x"
   ]
  },
  {
   "cell_type": "code",
   "execution_count": null,
   "id": "808bf363",
   "metadata": {},
   "outputs": [],
   "source": [
    "def f(x):\n",
    "    return 2*x + 1\n",
    "\n",
    "f(x)"
   ]
  },
  {
   "cell_type": "code",
   "execution_count": 31,
   "id": "9127a8e9",
   "metadata": {},
   "outputs": [
    {
     "data": {
      "text/plain": [
       "[3, 5, 7, 9, 11, 13, 15, 17, 19, 21]"
      ]
     },
     "execution_count": 31,
     "metadata": {},
     "output_type": "execute_result"
    }
   ],
   "source": [
    "def f(x):\n",
    "    y=[]\n",
    "    for i in x:\n",
    "        y.append(2*i+1)\n",
    "    return y\n",
    "y=f(x)\n",
    "y"
   ]
  },
  {
   "cell_type": "code",
   "execution_count": 33,
   "id": "9c6ad73f",
   "metadata": {},
   "outputs": [
    {
     "data": {
      "text/plain": [
       "[3, 5, 7, 9, 11, 13, 15, 17, 19, 21]"
      ]
     },
     "execution_count": 33,
     "metadata": {},
     "output_type": "execute_result"
    }
   ],
   "source": [
    "y=[2*i+1 for i in x ]\n",
    "y"
   ]
  },
  {
   "cell_type": "code",
   "execution_count": 34,
   "id": "65e3c21b",
   "metadata": {},
   "outputs": [
    {
     "data": {
      "text/plain": [
       "3"
      ]
     },
     "execution_count": 34,
     "metadata": {},
     "output_type": "execute_result"
    }
   ],
   "source": [
    "def add(a,b):\n",
    "    return a+b\n",
    "add(1,2)\n"
   ]
  },
  {
   "cell_type": "code",
   "execution_count": null,
   "id": "d9e60c41",
   "metadata": {},
   "outputs": [
    {
     "data": {
      "text/plain": [
       "76"
      ]
     },
     "execution_count": 36,
     "metadata": {},
     "output_type": "execute_result"
    }
   ],
   "source": [
    "def add_5(a, b=5):\n",
    "    return a+b\n",
    "\n",
    "add_5(1)"
   ]
  },
  {
   "cell_type": "code",
   "execution_count": null,
   "id": "e579d105",
   "metadata": {},
   "outputs": [
    {
     "data": {
      "text/plain": [
       "(11, 30)"
      ]
     },
     "execution_count": 38,
     "metadata": {},
     "output_type": "execute_result"
    }
   ],
   "source": [
    "import typing\n",
    "\n",
    "def sum_product(a: int,b: int)-> int:\n",
    "    if not isinstance(a,int) or not isinstance(b, int):\n",
    "        raise TypeError(\"Both arguments must be integers.\")\n",
    "    return a+b, a*b\n",
    "\n",
    "sum_product(5,6) #11,30"
   ]
  },
  {
   "cell_type": "code",
   "execution_count": 40,
   "id": "dbe2ddcf",
   "metadata": {},
   "outputs": [
    {
     "data": {
      "text/plain": [
       "3"
      ]
     },
     "execution_count": 40,
     "metadata": {},
     "output_type": "execute_result"
    }
   ],
   "source": [
    "def max_elements(a,b,c):\n",
    "    return max(a,b,c)\n",
    "max_elements(1,2,3)\n"
   ]
  },
  {
   "cell_type": "code",
   "execution_count": null,
   "id": "cbaf4b85",
   "metadata": {},
   "outputs": [
    {
     "data": {
      "text/plain": [
       "3"
      ]
     },
     "execution_count": 41,
     "metadata": {},
     "output_type": "execute_result"
    }
   ],
   "source": [
    "data = [1,2,3]\n",
    "data = (1,2,3)\n",
    "max_elements(*data)\n",
    "\n",
    "# '*' -> 언패킹해서 튜플만들어줌\n"
   ]
  },
  {
   "cell_type": "code",
   "execution_count": null,
   "id": "f22b7368",
   "metadata": {},
   "outputs": [
    {
     "data": {
      "text/plain": [
       "3"
      ]
     },
     "execution_count": 42,
     "metadata": {},
     "output_type": "execute_result"
    }
   ],
   "source": [
    "params = {'a':1,\n",
    "          'b':2,\n",
    "          'c':3}\n",
    "max_elements(**params)\n",
    "# '**' -> 딕셔너리를 함수에 넘길때 키,벨류 넘겨줌"
   ]
  },
  {
   "cell_type": "code",
   "execution_count": null,
   "id": "b65232cb",
   "metadata": {},
   "outputs": [
    {
     "name": "stdout",
     "output_type": "stream",
     "text": [
      "<class 'tuple'> 3 4 5\n"
     ]
    },
    {
     "data": {
      "text/plain": [
       "5"
      ]
     },
     "execution_count": 49,
     "metadata": {},
     "output_type": "execute_result"
    }
   ],
   "source": [
    "def max_elements2(a,b,*args):\n",
    "    print(type(args),*args)\n",
    "    return max(a,b,*args)\n",
    "max_elements2(1,2,3,4,5)\n",
    "# args 여러개의 인자를 튜플로 받아 처리"
   ]
  },
  {
   "cell_type": "code",
   "execution_count": 50,
   "id": "19487624",
   "metadata": {},
   "outputs": [],
   "source": [
    "def max_elements3(a,b, *kargs):\n",
    "    return max(a,b, **kargs)"
   ]
  },
  {
   "cell_type": "code",
   "execution_count": null,
   "id": "a45b6f06",
   "metadata": {},
   "outputs": [],
   "source": [
    "params = {\n",
    "        'c':3,\n",
    "        'd':4,\n",
    "        'e':5\n",
    "}\n",
    "max_elements3(1,2,**params)"
   ]
  },
  {
   "cell_type": "code",
   "execution_count": null,
   "id": "a41b97a9",
   "metadata": {},
   "outputs": [
    {
     "data": {
      "text/plain": [
       "(2, 1)"
      ]
     },
     "execution_count": 52,
     "metadata": {},
     "output_type": "execute_result"
    }
   ],
   "source": [
    "a,b =1,2\n",
    "a,b\n",
    "a,b = b,a\n",
    "a,b"
   ]
  },
  {
   "cell_type": "code",
   "execution_count": null,
   "id": "4e719f66",
   "metadata": {},
   "outputs": [
    {
     "ename": "NameError",
     "evalue": "name 'swap2' is not defined",
     "output_type": "error",
     "traceback": [
      "\u001b[1;31m---------------------------------------------------------------------------\u001b[0m",
      "\u001b[1;31mNameError\u001b[0m                                 Traceback (most recent call last)",
      "Cell \u001b[1;32mIn[55], line 2\u001b[0m\n\u001b[0;32m      1\u001b[0m a,b \u001b[38;5;241m=\u001b[39m[\u001b[38;5;241m1\u001b[39m],[\u001b[38;5;241m2\u001b[39m]\n\u001b[1;32m----> 2\u001b[0m \u001b[43mswap2\u001b[49m(a, b)\n\u001b[0;32m      3\u001b[0m \u001b[38;5;28mprint\u001b[39m(a,b)\n",
      "\u001b[1;31mNameError\u001b[0m: name 'swap2' is not defined"
     ]
    }
   ],
   "source": [
    "a,b =[1],[2]\n",
    "swap(a,b)\n",
    "print(a,b)"
   ]
  },
  {
   "cell_type": "code",
   "execution_count": 56,
   "id": "c971f76b",
   "metadata": {},
   "outputs": [
    {
     "name": "stdout",
     "output_type": "stream",
     "text": [
      "[2] [1]\n"
     ]
    }
   ],
   "source": [
    "def swap(x,y):\n",
    "    x[0], y[0] = y[0], x[0]\n",
    "\n",
    "a,b = [1],[2]\n",
    "swap(a,b)\n",
    "print(a,b)"
   ]
  },
  {
   "cell_type": "code",
   "execution_count": 57,
   "id": "141ca441",
   "metadata": {},
   "outputs": [
    {
     "data": {
      "text/plain": [
       "1.6094379124341003"
      ]
     },
     "execution_count": 57,
     "metadata": {},
     "output_type": "execute_result"
    }
   ],
   "source": [
    "import math\n",
    "math.log(5)"
   ]
  },
  {
   "cell_type": "code",
   "execution_count": 59,
   "id": "ce59958c",
   "metadata": {},
   "outputs": [
    {
     "data": {
      "text/plain": [
       "1.6094379124341003"
      ]
     },
     "execution_count": 59,
     "metadata": {},
     "output_type": "execute_result"
    }
   ],
   "source": [
    "from math import log\n",
    "log(5)"
   ]
  },
  {
   "cell_type": "code",
   "execution_count": 60,
   "id": "67689eb6",
   "metadata": {},
   "outputs": [
    {
     "data": {
      "text/plain": [
       "1.6094379124341003"
      ]
     },
     "execution_count": 60,
     "metadata": {},
     "output_type": "execute_result"
    }
   ],
   "source": [
    "import math as m\n",
    "m.log(5)"
   ]
  },
  {
   "cell_type": "markdown",
   "id": "6fc54261",
   "metadata": {},
   "source": [
    "class"
   ]
  },
  {
   "cell_type": "code",
   "execution_count": null,
   "id": "7fdb2f7c",
   "metadata": {},
   "outputs": [
    {
     "data": {
      "text/plain": [
       "3"
      ]
     },
     "execution_count": 63,
     "metadata": {},
     "output_type": "execute_result"
    }
   ],
   "source": [
    "class Adder:\n",
    "    def __init__(self, a, b):\n",
    "        self.a=a\n",
    "        self.b=b\n",
    "    def sum(self):\n",
    "        return self.a + self.b\n",
    "    def __call__(self, *args, **kwds):\n",
    "        return self.a + self.b\n",
    "    def __str__(self):\n",
    "        return str(self.a + self.b)\n",
    "    \n",
    "add = Adder(1,2)\n",
    "add.sum()"
   ]
  },
  {
   "cell_type": "code",
   "execution_count": null,
   "id": "a54e3ce1",
   "metadata": {},
   "outputs": [
    {
     "data": {
      "text/plain": [
       "'3'"
      ]
     },
     "execution_count": 65,
     "metadata": {},
     "output_type": "execute_result"
    }
   ],
   "source": [
    "add = Adder(1,2)\n",
    "add()\n",
    "str(add())"
   ]
  },
  {
   "cell_type": "code",
   "execution_count": 69,
   "id": "ff2b90a1",
   "metadata": {},
   "outputs": [
    {
     "data": {
      "text/plain": [
       "6"
      ]
     },
     "execution_count": 69,
     "metadata": {},
     "output_type": "execute_result"
    }
   ],
   "source": [
    "class MySum:\n",
    "    def __init__(self,a: list):\n",
    "        self.data = a\n",
    "    def __call__(self, *args, **kwds):\n",
    "        return sum(self.data)\n",
    "    def __getitem__(self,idx):\n",
    "        return self.data[idx]\n",
    "\n",
    "s = MySum([1,2,3,4])\n",
    "s[3] + s[1]"
   ]
  },
  {
   "cell_type": "code",
   "execution_count": 76,
   "id": "16c7d4a0",
   "metadata": {},
   "outputs": [
    {
     "name": "stdout",
     "output_type": "stream",
     "text": [
      "1\n",
      "2\n",
      "3\n",
      "4\n",
      "5\n"
     ]
    }
   ],
   "source": [
    "class Range:\n",
    "    def __init__(self, n):\n",
    "        self.n = n\n",
    "        self.current = 0\n",
    "    def __iter__(self):\n",
    "        return self\n",
    "    def __next__(self):\n",
    "        if self.current < self.n:\n",
    "            next_val = self.current + 1\n",
    "            self.current += 1\n",
    "            return next_val\n",
    "        else:\n",
    "            raise StopIteration()\n",
    "\n",
    "for i in Range(5):\n",
    "    print(i)"
   ]
  },
  {
   "cell_type": "code",
   "execution_count": 87,
   "id": "e1e9cb12",
   "metadata": {},
   "outputs": [
    {
     "name": "stdout",
     "output_type": "stream",
     "text": [
      "1\n",
      "2\n",
      "3\n",
      "4\n",
      "5\n"
     ]
    },
    {
     "ename": "StopIteration",
     "evalue": "",
     "output_type": "error",
     "traceback": [
      "\u001b[1;31m---------------------------------------------------------------------------\u001b[0m",
      "\u001b[1;31mStopIteration\u001b[0m                             Traceback (most recent call last)",
      "Cell \u001b[1;32mIn[87], line 8\u001b[0m\n\u001b[0;32m      6\u001b[0m \u001b[38;5;28mprint\u001b[39m(\u001b[38;5;28mnext\u001b[39m(r_iter))\n\u001b[0;32m      7\u001b[0m \u001b[38;5;28mprint\u001b[39m(\u001b[38;5;28mnext\u001b[39m(r_iter))\n\u001b[1;32m----> 8\u001b[0m \u001b[38;5;28mprint\u001b[39m(\u001b[38;5;28;43mnext\u001b[39;49m\u001b[43m(\u001b[49m\u001b[43mr_iter\u001b[49m\u001b[43m)\u001b[49m)\n\u001b[0;32m      9\u001b[0m \u001b[38;5;28mprint\u001b[39m(\u001b[38;5;28mnext\u001b[39m(r_iter))\n\u001b[0;32m     10\u001b[0m \u001b[38;5;28mprint\u001b[39m(\u001b[38;5;28mnext\u001b[39m(r_iter))\n",
      "Cell \u001b[1;32mIn[76], line 13\u001b[0m, in \u001b[0;36mRange.__next__\u001b[1;34m(self)\u001b[0m\n\u001b[0;32m     11\u001b[0m     \u001b[38;5;28;01mreturn\u001b[39;00m next_val\n\u001b[0;32m     12\u001b[0m \u001b[38;5;28;01melse\u001b[39;00m:\n\u001b[1;32m---> 13\u001b[0m     \u001b[38;5;28;01mraise\u001b[39;00m \u001b[38;5;167;01mStopIteration\u001b[39;00m()\n",
      "\u001b[1;31mStopIteration\u001b[0m: "
     ]
    }
   ],
   "source": [
    "r = Range(5)\n",
    "r_iter = iter(r)\n",
    "print(next(r_iter))\n",
    "print(next(r_iter))\n",
    "print(next(r_iter))\n",
    "print(next(r_iter))\n",
    "print(next(r_iter))\n",
    "print(next(r_iter))\n",
    "print(next(r_iter))\n",
    "print(next(r_iter))\n",
    "print(next(r_iter))"
   ]
  },
  {
   "cell_type": "code",
   "execution_count": null,
   "id": "8acf2d6c",
   "metadata": {},
   "outputs": [
    {
     "name": "stdout",
     "output_type": "stream",
     "text": [
      "[5, 4, 1, 2, 3] 10 Failed: N=27, numbers=[1, 2, 3, 4, 5, 6, 7, 8, 9, 10], expected=10, got=[5, 4, 1, 2, 3]\n",
      "[5, 4, 1, 2, 3] 6 Failed: N=36, numbers=[42, 84, 126, 168, 210, 252, 294, 336, 378, 420], expected=6, got=[5, 4, 1, 2, 3]\n",
      "[5, 4, 1, 2, 3] 6 Failed: N=7, numbers=[39, 40, 41, 42, 43, 44, 82, 83, 84, 85], expected=6, got=[5, 4, 1, 2, 3]\n",
      "[5, 4, 1, 2, 3] 10 Failed: N=33, numbers=[10, 20, 30, 40, 50, 60, 70, 80, 90, 100], expected=10, got=[5, 4, 1, 2, 3]\n",
      "[5, 4, 1, 2, 3] 1 Failed: N=1, numbers=[1, 2, 3, 4, 5, 6, 7, 8, 9, 10], expected=1, got=[5, 4, 1, 2, 3]\n"
     ]
    }
   ],
   "source": [
    "def count_distinct_remainders(N: int, numbers: list) -> int:\n",
    "    N = 27\n",
    "    numbers = [1,2,3,4,5,6,7,8,9,10]\n",
    "    result = {}\n",
    "    for i in numbers:\n",
    "        result.append(i%N)\n",
    "    set(result)\n",
    "\n",
    "\n",
    "\n",
    "\n",
    "\n",
    "    # # 1. 각 숫자를 N으로 나눈 나머지를 구한다.\n",
    "    # remainders = [num % N for num in numbers]\n",
    "\n",
    "    # # 2. 나머지 중 중복되지 않은 값만 남긴다. (set 사용)\n",
    "    # unique_remainders = set(remainders)\n",
    "\n",
    "    # # 3. 서로 다른 나머지 값의 개수를 반환한다.\n",
    "    # return len(unique_remainders)\n",
    "\n",
    "input_data_remainders = [\n",
    "    (27, [1, 2, 3, 4, 5, 6, 7, 8, 9, 10]),\n",
    "    (36, [42, 84, 126, 168, 210, 252, 294, 336, 378, 420]),\n",
    "    (7, [39, 40, 41, 42, 43, 44, 82, 83, 84, 85]),\n",
    "    (33, [10, 20, 30, 40, 50, 60, 70, 80, 90, 100]),\n",
    "    (1, [1, 2, 3, 4, 5, 6, 7, 8, 9, 10]),\n",
    "]\n",
    "\n",
    "output_data_remainders = [\n",
    "    10, 6, 6, 10, 1,\n",
    "]\n",
    "\n",
    "for (N, numbers), expected_output in zip(input_data_remainders, output_data_remainders):\n",
    "    # result = count_distinct_remainders(N, numbers)\n",
    "    print(result, expected_output, f\"Failed: N={N}, numbers={numbers}, expected={expected_output}, got={result}\")"
   ]
  },
  {
   "cell_type": "code",
   "execution_count": 73,
   "id": "f57821e4",
   "metadata": {},
   "outputs": [
    {
     "ename": "NameError",
     "evalue": "name 'result' is not defined",
     "output_type": "error",
     "traceback": [
      "\u001b[1;31m---------------------------------------------------------------------------\u001b[0m",
      "\u001b[1;31mNameError\u001b[0m                                 Traceback (most recent call last)",
      "Cell \u001b[1;32mIn[73], line 36\u001b[0m\n\u001b[0;32m     30\u001b[0m output_data_remainders \u001b[38;5;241m=\u001b[39m [\n\u001b[0;32m     31\u001b[0m     \u001b[38;5;241m10\u001b[39m, \u001b[38;5;241m6\u001b[39m, \u001b[38;5;241m6\u001b[39m, \u001b[38;5;241m10\u001b[39m, \u001b[38;5;241m1\u001b[39m,\n\u001b[0;32m     32\u001b[0m ]\n\u001b[0;32m     34\u001b[0m \u001b[38;5;28;01mfor\u001b[39;00m (N, numbers), expected_output \u001b[38;5;129;01min\u001b[39;00m \u001b[38;5;28mzip\u001b[39m(input_data_remainders, output_data_remainders):\n\u001b[0;32m     35\u001b[0m     \u001b[38;5;66;03m# result = count_distinct_remainders(N, numbers)\u001b[39;00m\n\u001b[1;32m---> 36\u001b[0m     \u001b[38;5;28mprint\u001b[39m(\u001b[43mresult\u001b[49m, expected_output, \u001b[38;5;124mf\u001b[39m\u001b[38;5;124m\"\u001b[39m\u001b[38;5;124mFailed: N=\u001b[39m\u001b[38;5;132;01m{\u001b[39;00mN\u001b[38;5;132;01m}\u001b[39;00m\u001b[38;5;124m, numbers=\u001b[39m\u001b[38;5;132;01m{\u001b[39;00mnumbers\u001b[38;5;132;01m}\u001b[39;00m\u001b[38;5;124m, expected=\u001b[39m\u001b[38;5;132;01m{\u001b[39;00mexpected_output\u001b[38;5;132;01m}\u001b[39;00m\u001b[38;5;124m, got=\u001b[39m\u001b[38;5;132;01m{\u001b[39;00mresult\u001b[38;5;132;01m}\u001b[39;00m\u001b[38;5;124m\"\u001b[39m)\n",
      "\u001b[1;31mNameError\u001b[0m: name 'result' is not defined"
     ]
    }
   ],
   "source": [
    "def count_distinct_remainders(N: int, numbers: list) -> int:\n",
    "    N = 27\n",
    "    numbers = [1,2,3,4,5,6,7,8,9,10]\n",
    "    result = {}\n",
    "    for i in numbers:\n",
    "        result.append(i%N)\n",
    "    set(result)\n",
    "\n",
    "\n",
    "\n",
    "\n",
    "\n",
    "    # # 1. 각 숫자를 N으로 나눈 나머지를 구한다.\n",
    "    # remainders = [num % N for num in numbers]\n",
    "\n",
    "    # # 2. 나머지 중 중복되지 않은 값만 남긴다. (set 사용)\n",
    "    # unique_remainders = set(remainders)\n",
    "\n",
    "    # # 3. 서로 다른 나머지 값의 개수를 반환한다.\n",
    "    # return len(unique_remainders)\n",
    "\n",
    "input_data_remainders = [\n",
    "    (27, [1, 2, 3, 4, 5, 6, 7, 8, 9, 10]),\n",
    "    (36, [42, 84, 126, 168, 210, 252, 294, 336, 378, 420]),\n",
    "    (7, [39, 40, 41, 42, 43, 44, 82, 83, 84, 85]),\n",
    "    (33, [10, 20, 30, 40, 50, 60, 70, 80, 90, 100]),\n",
    "    (1, [1, 2, 3, 4, 5, 6, 7, 8, 9, 10]),\n",
    "]\n",
    "\n",
    "output_data_remainders = [\n",
    "    10, 6, 6, 10, 1,\n",
    "]\n",
    "\n",
    "for (N, numbers), expected_output in zip(input_data_remainders, output_data_remainders):\n",
    "    # result = count_distinct_remainders(N, numbers)\n",
    "    print(result, expected_output, f\"Failed: N={N}, numbers={numbers}, expected={expected_output}, got={result}\")"
   ]
  }
 ],
 "metadata": {
  "kernelspec": {
   "display_name": "Python 3",
   "language": "python",
   "name": "python3"
  },
  "language_info": {
   "codemirror_mode": {
    "name": "ipython",
    "version": 3
   },
   "file_extension": ".py",
   "mimetype": "text/x-python",
   "name": "python",
   "nbconvert_exporter": "python",
   "pygments_lexer": "ipython3",
   "version": "3.9.13"
  }
 },
 "nbformat": 4,
 "nbformat_minor": 5
}
