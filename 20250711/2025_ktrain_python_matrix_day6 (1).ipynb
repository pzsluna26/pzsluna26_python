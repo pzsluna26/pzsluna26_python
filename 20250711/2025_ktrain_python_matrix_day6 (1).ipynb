{
  "cells": [
    {
      "cell_type": "markdown",
      "metadata": {
        "id": "FeV7_lWJxfqH"
      },
      "source": [
        "## 실습 문제: 벡터 내적(Dot Product) 구현하기\n",
        "\n",
        "**설명**: 벡터 내적(หรือ ส칼라 곱)은 두 벡터의 각 성분을 곱한 뒤 그 총합을 구하는 연산입니다. 이 연산은 두 벡터가 얼마나 같은 방향을 가리키는지를 나타내는 척도로 사용되며, 결과값은 스칼라(단일 숫자)가 됩니다. 이번 실습의 목표는 파이썬 리스트로 표현된 두 벡터의 내적을 계산하는 함수를 구현하는 것입니다.\n",
        "\n",
        "$$\\mathbf{a} \\cdot \\mathbf{b} = \\sum_{i=1}^{n} a_i b_i = a_1b_1 + a_2b_2 + \\cdots + a_nb_n$$\n",
        "\n",
        "**요구사항**:\n",
        "\n",
        "  - `dot_product` 함수를 완성하여 두 벡터 `v1`과 `v2`의 내적을 계산하세요.\n",
        "  - `dot_product` 함수를 완성하여 두 벡터 `v1`과 `v2`의 내적을 계산하세요.\n",
        "  - 연산에 앞서 두 벡터의 길이가 같은지 확인하고, 만약 다르면 \"벡터의 길이가 달라 내적을 계산할 수 없습니다.\" 라는 메시지와 함께 `ValueError` 예외를 발생시키세요.\n",
        "    - 길이가 같다면, 각 벡터의 동일한 인덱스에 위치한 요소들을 곱한 후 모두 더한 값 (스칼라)를 반환해야 합니다.\n",
        "  - 함수를 호출하여 결과를 출력하고, 예상 결과 `32`와 일치하는지 확인하세요.\n"
      ]
    },
    {
      "cell_type": "code",
      "execution_count": null,
      "metadata": {
        "id": "YUj0tYv-xd_H"
      },
      "outputs": [],
      "source": [
        "\n",
        "def dot_product(v1: list[float], v2: list[float]) -> float:\n",
        "   result=[]\n",
        "   for idx in range(len(v1)):\n",
        "      result.append(v1[idx] * v2[idx])\n",
        "      return sum(result)\n",
        "   \n",
        "   # return sum([a*b for a,b in zip(v1,v2)])"
      ]
    },
    {
      "cell_type": "code",
      "execution_count": null,
      "metadata": {
        "id": "8tngB-gkydBa"
      },
      "outputs": [],
      "source": [
        "\n",
        "vector1 = [1, 2, 3]\n",
        "vector2 = [4, 5, 6]\n",
        "\n",
        "\n",
        "result = dot_product(vector1, vector2)\n",
        "print(f\"벡터 내적 결과: {result}\")"
      ]
    },
    {
      "cell_type": "markdown",
      "metadata": {
        "id": "gsi3KiCcee18"
      },
      "source": [
        "## 실습 문제: 행렬 전치(Transpose) 구현하기\n",
        "\n",
        "**설명**: 행렬 전치는 행렬의 행과 열을 서로 맞바꾸는 연산입니다. 즉, 원본 행렬의 첫 번째 행은 전치 행렬의 첫 번째 열이 되고, 두 번째 행은 두 번째 열이 되는 식입니다. 이번 실습에서는 순수 파이썬을 사용하여 주어진 행렬을 전치하는 함수를 구현합니다. 📐\n",
        "\n",
        "$$(A^T)_{ij} = A_{ji}$$\n",
        "\n",
        "**요구사항**:\n",
        "\n",
        "  - `transpose` 함수를 완성하여 인자로 받은 `matrix`의 행과 열을 뒤바꾼 새로운 행렬을 반환하세요.\n",
        "  - 원본 행렬의 `i`번째 행, `j`번째 열의 요소는 새 행렬의 `j`번째 행, `i`번째 열에 위치해야 합니다.\n",
        "  - 함수를 호출하여 원본 행렬과 전치된 행렬을 모두 출력하여 결과가 올바른지 확인하세요.\n"
      ]
    },
    {
      "cell_type": "code",
      "execution_count": null,
      "metadata": {
        "id": "w93TqqJxehh2"
      },
      "outputs": [],
      "source": [
        "def transpose(matrix: list[list[int]]) -> list[list[int]]:\n",
        "    M = [[0 for _ in range(2)]for _ in range(3)]\n",
        "    for i in range(len(matrix)):\n",
        "        for j in range(len(matrix[0])):\n",
        "            M[j][i] = matrix[i][j]\n",
        "    return M"
      ]
    },
    {
      "cell_type": "code",
      "execution_count": null,
      "metadata": {},
      "outputs": [],
      "source": [
        "A = [[1, 2, 3],\n",
        "      [4, 5, 6]]\n",
        "\n",
        "list(zip(*A))"
      ]
    },
    {
      "cell_type": "code",
      "execution_count": null,
      "metadata": {
        "id": "E8qHQB2_ekMQ"
      },
      "outputs": [],
      "source": [
        "A = [[1, 2, 3],\n",
        "      [4, 5, 6]]\n",
        "\n",
        "\n",
        "A_t = transpose(A)\n",
        "print(f\"원본 행렬: {A}\")\n",
        "print(f\"전치 행렬: {A_t}\")"
      ]
    },
    {
      "cell_type": "markdown",
      "metadata": {
        "id": "slpGqRZweAt-"
      },
      "source": [
        "## 실습 문제: 행렬 곱셈 구현하기\n",
        "\n",
        "**설명**: 행렬 곱셈은 선형 대수학의 기본적인 연산으로, 한 행렬의 행과 다른 행렬의 열 사이에 점곱(dot product)을 계산하여 새로운 행렬을 만듭니다. 이번 실습의 목표는 외부 라이브러리 없이 순수 파이썬의 중첩 반복문(nested loops)만을 사용하여 두 행렬을 곱하는 함수를 직접 구현하는 것입니다.\n",
        "\n",
        "$$C_{ij} = \\sum_{k=1}^{n} A_{ik} B_{kj}$$\n",
        "\n",
        "**요구사항**:\n",
        "\n",
        "  - `mat_mul` 함수를 완성하여 두 행렬 `A`와 `B`의 곱셈 결과를 반환하도록 구현하세요.\n",
        "  - 행렬 `A`의 각 행과 행렬 `B`의 각 열을 순회하며 곱셈과 덧셈 연산을 수행해야 합니다.\n",
        "  - 함수를 호출하여 반환된 결과를 출력하고, 예상 결과 `[[58, 64], [139, 154]]`와 일치하는지 확인하세요.\n"
      ]
    },
    {
      "cell_type": "code",
      "execution_count": 2,
      "metadata": {
        "id": "O-LCF7aLd-65"
      },
      "outputs": [],
      "source": [
        "def mat_mul(A: list[list[int]], B: list[list[int]]) -> list[list[int]]:\n",
        "    result = []\n",
        "    for row in A:\n",
        "        new_row = []\n",
        "        for col in zip(*B):  # B의 열\n",
        "            new_row.append(sum(a * b for a, b in zip(row, col)))\n",
        "        result.append(new_row)\n",
        "    return result\n"
      ]
    },
    {
      "cell_type": "code",
      "execution_count": null,
      "metadata": {
        "id": "c7I7TagNeM_i"
      },
      "outputs": [],
      "source": [
        "A = [[1, 2, 3],\n",
        "      [4, 5, 6]]\n",
        "\n",
        "B = [[7, 8],\n",
        "     [9, 10],\n",
        "     [11, 12]]\n",
        "\n",
        "for a in A:\n",
        "    for b in list(zip(*B)):\n",
        "        print()\n",
        "\n",
        "result = mat_mul(A, B)\n",
        "print(f\"행렬 곱셈 결과: {result}\")"
      ]
    },
    {
      "cell_type": "markdown",
      "metadata": {
        "id": "uk_zVUfYm-OC"
      },
      "source": [
        "## 실습 문제: CSV 파일 읽고 2차원 리스트 생성하기\n",
        "\n",
        "**설명**: 데이터 분석의 첫 단계는 데이터를 프로그램으로 불러오는 것입니다. 이번 실습에서는 붓꽃(Iris) 품종 데이터가 담긴 CSV 파일을 파이썬의 내장 `csv` 모듈을 사용해 읽어 들여, 헤더(header) 행과 마지막 'variety' 열(레이블)을 제외하고, 순수한 숫자 특성 데이터만 추출하여 2차원 리스트로 저장합니다.\n",
        "\n",
        "**요구사항**:\n",
        "\n",
        "  - 아래 URL에서 `iris.csv` 파일을 다운로드하여 파이썬 스크립트와 동일한 디렉토리에 저장하세요.\n",
        "      - **URL**: `https://gist.githubusercontent.com/netj/8836201/raw/6f9306ad21398ea43cba4f7d537619d0e07d5ae3/iris.csv`\n",
        "  - `import csv`를 사용하여 `csv` 모듈을 가져옵니다.\n",
        "  - `with open(...)` 구문을 사용해 `iris.csv` 파일을 열고, `csv.reader`로 파일의 내용을 읽어오세요.\n",
        "   - `csv.reader`를 사용해 파일을 읽어온 후, `next()` 함수를 이용해 첫 번째 **헤더 행을 건너뛰세요.**\n",
        "  - 파일을 한 줄씩 읽으면서, 각 행(row)에서 마지막 레이블 열(`variety`)을 제외한 **앞의 4개 특성 데이터만 선택**하세요.\n",
        "  - 선택된 4개의 특성 데이터(문자열)를 각각 **실수형(float)으로 변환**한 후, 새로운 리스트에 추가하여 2차원 리스트를 완성하세요.\n",
        "  - 최종적으로 `iris_data` 리스트의 첫 5개 행을 출력하여 데이터가 올바르게 로드되었는지 확인합니다.\n",
        "\n"
      ]
    },
    {
      "cell_type": "code",
      "execution_count": 1,
      "metadata": {
        "id": "DBqOBujKnAU4"
      },
      "outputs": [
        {
          "ename": "FileNotFoundError",
          "evalue": "[Errno 2] No such file or directory: 'iris.csv'",
          "output_type": "error",
          "traceback": [
            "\u001b[1;31m---------------------------------------------------------------------------\u001b[0m",
            "\u001b[1;31mFileNotFoundError\u001b[0m                         Traceback (most recent call last)",
            "Cell \u001b[1;32mIn[1], line 12\u001b[0m\n\u001b[0;32m      9\u001b[0m             result\u001b[38;5;241m.\u001b[39mappend(line[:\u001b[38;5;241m-\u001b[39m\u001b[38;5;241m1\u001b[39m])\n\u001b[0;32m     10\u001b[0m     \u001b[38;5;28;01mreturn\u001b[39;00m result\n\u001b[1;32m---> 12\u001b[0m iris_data \u001b[38;5;241m=\u001b[39m \u001b[43mload_data\u001b[49m\u001b[43m(\u001b[49m\u001b[38;5;124;43m'\u001b[39;49m\u001b[38;5;124;43miris.csv\u001b[39;49m\u001b[38;5;124;43m'\u001b[39;49m\u001b[43m)\u001b[49m\n",
            "Cell \u001b[1;32mIn[1], line 4\u001b[0m, in \u001b[0;36mload_data\u001b[1;34m(file_name)\u001b[0m\n\u001b[0;32m      3\u001b[0m \u001b[38;5;28;01mdef\u001b[39;00m\u001b[38;5;250m \u001b[39m\u001b[38;5;21mload_data\u001b[39m(file_name: \u001b[38;5;28mstr\u001b[39m) \u001b[38;5;241m-\u001b[39m\u001b[38;5;241m>\u001b[39m \u001b[38;5;28mlist\u001b[39m[\u001b[38;5;28mlist\u001b[39m[\u001b[38;5;28mstr\u001b[39m]]:\n\u001b[1;32m----> 4\u001b[0m     \u001b[38;5;28;01mwith\u001b[39;00m \u001b[38;5;28;43mopen\u001b[39;49m\u001b[43m(\u001b[49m\u001b[38;5;124;43m'\u001b[39;49m\u001b[38;5;124;43miris.csv\u001b[39;49m\u001b[38;5;124;43m'\u001b[39;49m\u001b[43m,\u001b[49m\u001b[38;5;124;43m'\u001b[39;49m\u001b[38;5;124;43mr\u001b[39;49m\u001b[38;5;124;43m'\u001b[39;49m\u001b[43m)\u001b[49m \u001b[38;5;28;01mas\u001b[39;00m f:\n\u001b[0;32m      5\u001b[0m         reader \u001b[38;5;241m=\u001b[39m csv\u001b[38;5;241m.\u001b[39m reader(f)\n\u001b[0;32m      6\u001b[0m         header \u001b[38;5;241m=\u001b[39m \u001b[38;5;28mnext\u001b[39m(reader)\n",
            "File \u001b[1;32m~\\AppData\\Roaming\\Python\\Python39\\site-packages\\IPython\\core\\interactiveshell.py:310\u001b[0m, in \u001b[0;36m_modified_open\u001b[1;34m(file, *args, **kwargs)\u001b[0m\n\u001b[0;32m    303\u001b[0m \u001b[38;5;28;01mif\u001b[39;00m file \u001b[38;5;129;01min\u001b[39;00m {\u001b[38;5;241m0\u001b[39m, \u001b[38;5;241m1\u001b[39m, \u001b[38;5;241m2\u001b[39m}:\n\u001b[0;32m    304\u001b[0m     \u001b[38;5;28;01mraise\u001b[39;00m \u001b[38;5;167;01mValueError\u001b[39;00m(\n\u001b[0;32m    305\u001b[0m         \u001b[38;5;124mf\u001b[39m\u001b[38;5;124m\"\u001b[39m\u001b[38;5;124mIPython won\u001b[39m\u001b[38;5;124m'\u001b[39m\u001b[38;5;124mt let you open fd=\u001b[39m\u001b[38;5;132;01m{\u001b[39;00mfile\u001b[38;5;132;01m}\u001b[39;00m\u001b[38;5;124m by default \u001b[39m\u001b[38;5;124m\"\u001b[39m\n\u001b[0;32m    306\u001b[0m         \u001b[38;5;124m\"\u001b[39m\u001b[38;5;124mas it is likely to crash IPython. If you know what you are doing, \u001b[39m\u001b[38;5;124m\"\u001b[39m\n\u001b[0;32m    307\u001b[0m         \u001b[38;5;124m\"\u001b[39m\u001b[38;5;124myou can use builtins\u001b[39m\u001b[38;5;124m'\u001b[39m\u001b[38;5;124m open.\u001b[39m\u001b[38;5;124m\"\u001b[39m\n\u001b[0;32m    308\u001b[0m     )\n\u001b[1;32m--> 310\u001b[0m \u001b[38;5;28;01mreturn\u001b[39;00m io_open(file, \u001b[38;5;241m*\u001b[39margs, \u001b[38;5;241m*\u001b[39m\u001b[38;5;241m*\u001b[39mkwargs)\n",
            "\u001b[1;31mFileNotFoundError\u001b[0m: [Errno 2] No such file or directory: 'iris.csv'"
          ]
        }
      ],
      "source": [
        "\n",
        "import csv\n",
        "\n",
        "# csv파일 다운받기\n",
        "def load_data(file_name: str) -> list[list[str]]:\n",
        "    with open('iris.csv','r') as f:\n",
        "        reader = csv. reader(f)\n",
        "        header = next(reader)\n",
        "        result = []\n",
        "        for line in reader :\n",
        "            result.append(line[:-1])\n",
        "    return result\n",
        "\n",
        "iris_data = load_data('iris.csv')\n"
      ]
    },
    {
      "cell_type": "code",
      "execution_count": null,
      "metadata": {},
      "outputs": [],
      "source": [
        "for row in iris_data[:5]:\n",
        "    print(row)"
      ]
    },
    {
      "cell_type": "code",
      "execution_count": null,
      "metadata": {},
      "outputs": [],
      "source": [
        "output_size = \n",
        "input_size =\n",
        "[[1 for _ in range(output_size)]for _ in range(input_size)]"
      ]
    },
    {
      "cell_type": "code",
      "execution_count": null,
      "metadata": {},
      "outputs": [],
      "source": [
        "output_size = 3\n",
        "[0.1 for _ in range(output_size)]"
      ]
    },
    {
      "cell_type": "markdown",
      "metadata": {
        "id": "fUm6fdMfokc4"
      },
      "source": [
        "## 실습 문제: Dense 레이어 클래스 구현하기\n",
        "\n",
        "**설명**:\n",
        "인공 신경망의 핵심 구성 요소인 \\*\\*Dense 레이어(완전 연결 계층)\\*\\*는 입력 데이터에 대해 선형 변환(가중치 곱셈 및 편향 덧셈)을 수행합니다. 이번 실습에서는 이전에 작성한 `mat_mul`와 `transpose` 함수를 활용하여, Dense 레이어의 동작을 캡슐화하는 파이썬 클래스를 구현합니다. 이 클래스는 가중치와 편향을 내부 상태로 가지며, 순전파(forward pass) 메서드를 통해 출력을 계산합니다.\n",
        "\n",
        "$$\\text{output} = \\text{input} \\cdot W^T + \\text{bias}$$\n",
        "\n",
        "**요구사항**:\n",
        "\n",
        "  - 주어진 `mat_mul`와 `transpose` 함수를 코드에 포함하세요.\n",
        "  - `Dense` 클래스의 `__init__` 메서드를 완성하세요. 가중치 행렬 `self.weights`는 `(output_size, input_size)` 크기를 가지며 1로, 편향 `self.bias`는 `output_size` 길이를 가지며 0.1로 초기화합니다.\n",
        "  - `Dense` 클래스의 `forward` 메서드를 완성하세요.\n",
        "    1.  `transpose` 함수를 사용해 `self.weights`를 전치시킵니다.\n",
        "    2.  `mat_mul` 함수를 사용해 입력 `inputs`와 전치된 가중치 행렬을 곱합니다.\n",
        "    3.  곱셈 결과의 각 행에 편향(`self.bias`) 벡터를 더합니다.\n",
        "  - `Dense` 클래스의 인스턴스를 생성하고 `forward` 메서드를 호출하여 출력을 계산하고, 결과를 확인하세요.\n"
      ]
    },
    {
      "cell_type": "code",
      "execution_count": 3,
      "metadata": {
        "id": "HAGFNbP5osxh"
      },
      "outputs": [],
      "source": [
        "class Dense:\n",
        "    def __init__(self, input_size: int, output_size: int):\n",
        "        # 가중치 초기화 (무작위)\n",
        "        self.weights = [[random.uniform(-1, 1) for _ in range(output_size)] for _ in range(input_size)]\n",
        "        self.bias = [random.uniform(-1, 1) for _ in range(output_size)]\n",
        "\n",
        "    def forward(self, inputs: list[list[float]]) -> list[list[float]]:\n",
        "        output = mat_mul(inputs, self.weights)  # (batch_size × output_size)\n",
        "        result = []\n",
        "        for row in output:\n",
        "            # bias 더하기\n",
        "            result.append([a + b for a, b in zip(row, self.bias)])\n",
        "        return result"
      ]
    },
    {
      "cell_type": "code",
      "execution_count": null,
      "metadata": {
        "id": "3oMui6EwouX4"
      },
      "outputs": [],
      "source": [
        "import numpy as np\n",
        "\n",
        "input_data = np.random.randn(150, 4)\n",
        "dense_layer = Dense(input_size=4, output_size=3)\n",
        "output_data = dense_layer.forward(input_data)\n",
        "print(f\"Dense 레이어 출력: {np.array(output_data).shape}\")"
      ]
    },
    {
      "cell_type": "markdown",
      "metadata": {},
      "source": [
        "다음시간 예습\n"
      ]
    },
    {
      "cell_type": "code",
      "execution_count": 6,
      "metadata": {},
      "outputs": [],
      "source": [
        "import numpy as np\n",
        "\n",
        "data = np.random.randn(150,4)"
      ]
    },
    {
      "cell_type": "code",
      "execution_count": 7,
      "metadata": {},
      "outputs": [
        {
          "data": {
            "text/plain": [
              "(150, 4)"
            ]
          },
          "execution_count": 7,
          "metadata": {},
          "output_type": "execute_result"
        }
      ],
      "source": [
        "data.shape"
      ]
    },
    {
      "cell_type": "code",
      "execution_count": 15,
      "metadata": {},
      "outputs": [
        {
          "data": {
            "text/plain": [
              "(4, 5)"
            ]
          },
          "execution_count": 15,
          "metadata": {},
          "output_type": "execute_result"
        }
      ],
      "source": [
        "W = np.random.randn(4,5)\n",
        "W.shape"
      ]
    },
    {
      "cell_type": "code",
      "execution_count": 9,
      "metadata": {},
      "outputs": [],
      "source": [
        "b = np.random.randn(3)"
      ]
    },
    {
      "cell_type": "code",
      "execution_count": 13,
      "metadata": {},
      "outputs": [
        {
          "data": {
            "text/plain": [
              "(3,)"
            ]
          },
          "execution_count": 13,
          "metadata": {},
          "output_type": "execute_result"
        }
      ],
      "source": [
        "b.shape"
      ]
    },
    {
      "cell_type": "code",
      "execution_count": 16,
      "metadata": {},
      "outputs": [
        {
          "data": {
            "text/plain": [
              "(150, 5)"
            ]
          },
          "execution_count": 16,
          "metadata": {},
          "output_type": "execute_result"
        }
      ],
      "source": [
        "data.dot(W).shape"
      ]
    },
    {
      "cell_type": "code",
      "execution_count": 17,
      "metadata": {},
      "outputs": [
        {
          "data": {
            "text/plain": [
              "array([[-1.79426187,  0.90041177, -0.95398901, -0.03333846],\n",
              "       [ 1.04224217,  0.07733491,  1.44140058,  0.90885731],\n",
              "       [ 0.08937676, -0.61499802, -1.69323617, -0.37120627],\n",
              "       [ 1.0031123 , -0.38400092, -0.31627935, -0.20326559],\n",
              "       [ 0.33720952,  1.4519757 ,  0.9252724 , -0.3088597 ]])"
            ]
          },
          "execution_count": 17,
          "metadata": {},
          "output_type": "execute_result"
        }
      ],
      "source": [
        "W.T"
      ]
    },
    {
      "cell_type": "code",
      "execution_count": 18,
      "metadata": {},
      "outputs": [
        {
          "data": {
            "text/plain": [
              "(5, 4)"
            ]
          },
          "execution_count": 18,
          "metadata": {},
          "output_type": "execute_result"
        }
      ],
      "source": [
        "W.T.shape"
      ]
    }
  ],
  "metadata": {
    "colab": {
      "provenance": []
    },
    "kernelspec": {
      "display_name": "Python 3",
      "name": "python3"
    },
    "language_info": {
      "codemirror_mode": {
        "name": "ipython",
        "version": 3
      },
      "file_extension": ".py",
      "mimetype": "text/x-python",
      "name": "python",
      "nbconvert_exporter": "python",
      "pygments_lexer": "ipython3",
      "version": "3.9.13"
    }
  },
  "nbformat": 4,
  "nbformat_minor": 0
}
