{
  "cells": [
    {
      "cell_type": "markdown",
      "metadata": {
        "id": "4A0jI29W8e41"
      },
      "source": [
        "## 부산대학교 SW 융합교육원 K-train AIP 과정\n",
        "\n",
        "실습일자: 2025-07-14\n",
        "\n",
        "작성자: 김태연"
      ]
    },
    {
      "cell_type": "markdown",
      "metadata": {
        "id": "A0f2p-xKAbT4"
      },
      "source": [
        "## 실습 문제: 최소-최대 정규화 (Min-Max Normalization)\n",
        "\n",
        "**설명**: 최소-최대 정규화는 데이터의 모든 값을 0과 1 사이의 범위로 조정하는 표준화 기법입니다. 이 방법은 데이터의 최솟값을 0으로, 최댓값을 1로 변환하여 모든 데이터 포인트가 이 범위 내에 비례적으로 위치하도록 만듭니다. 이번 실습의 목표는 주어진 숫자 리스트에 최소-최대 정규화 공식을 적용하는 Python 함수를 작성하는 것입니다.\n",
        "\n",
        "$$X_{norm} = \\frac{X - X_{min}}{X_{max} - X_{min}}$$\n",
        "\n",
        "**요구사항**:\n",
        "\n",
        "  - 숫자 리스트를 인자로 받는 `min_max_normalize` 함수를 완성하세요.\n",
        "  - 함수 내에서 리스트의 최솟값(`min`)과 최댓값(`max`)을 찾으세요.\n",
        "  - 리스트의 각 숫자에 최소-최대 정규화 공식을 적용하여 새로운 리스트를 생성하고 반환하세요.\n",
        "  - 주어진 샘플 데이터로 함수를 테스트하고 결과를 출력하여 확인하세요.\n",
        "\n"
      ]
    },
    {
      "cell_type": "code",
      "execution_count": null,
      "metadata": {},
      "outputs": [],
      "source": [
        "import numpy as np\n",
        "\n",
        "def min_max_normalize(data: list[float]) -> list[float]:\n",
        "    m_max = np.max(data)\n",
        "    m_min = np.min(data)\n",
        "    return (data-m_min) / (m_max - m_min)"
      ]
    },
    {
      "cell_type": "code",
      "execution_count": 3,
      "metadata": {
        "id": "7z1gbGEcAaWH"
      },
      "outputs": [
        {
          "name": "stdout",
          "output_type": "stream",
          "text": [
            "Original Data: [[-0.83827271 -0.13704265  0.63775052 -0.21172542]\n",
            " [ 0.9702017  -0.15581118  0.93680167 -1.25950049]\n",
            " [-0.55643038  1.38886355 -0.1388162  -0.68715489]\n",
            " ...\n",
            " [ 0.7733935  -1.16170199 -1.05630222 -0.74775788]\n",
            " [-0.53747648 -1.35951505 -0.54569849  0.03424751]\n",
            " [-0.00700635 -0.94794112 -1.21860715 -0.31941898]]\n",
            "Normalized Data: [[0.3928081  0.48257996 0.5817694  0.47301903]\n",
            " [0.62432998 0.4801772  0.62005409 0.3388823 ]\n",
            " [0.42888971 0.6779273  0.48235291 0.41215429]\n",
            " ...\n",
            " [0.59913449 0.35140251 0.36489585 0.40439586]\n",
            " [0.4313162  0.32607838 0.43026362 0.50450862]\n",
            " [0.49922728 0.3787683  0.34411748 0.45923204]]\n"
          ]
        },
        {
          "data": {
            "text/plain": [
              "(array([[  3.,  21.,  77., 239., 405., 413., 248.,  76.,  15.,   3.],\n",
              "        [  1.,   9.,  79., 248., 399., 416., 253.,  79.,  15.,   1.],\n",
              "        [  1.,  19.,  76., 234., 385., 436., 260.,  79.,  10.,   0.],\n",
              "        [  1.,  14.,  69., 242., 439., 413., 232.,  73.,  16.,   1.]]),\n",
              " array([0. , 0.1, 0.2, 0.3, 0.4, 0.5, 0.6, 0.7, 0.8, 0.9, 1. ]),\n",
              " <a list of 4 BarContainer objects>)"
            ]
          },
          "execution_count": 3,
          "metadata": {},
          "output_type": "execute_result"
        },
        {
          "data": {
            "image/png": "[encoded data removed]",
            "text/plain": [
              "<Figure size 640x480 with 1 Axes>"
            ]
          },
          "metadata": {},
          "output_type": "display_data"
        }
      ],
      "source": [
        "import matplotlib.pyplot as plt\n",
        "\n",
        "# 샘플 데이터\n",
        "sample_data = np.array([10, 20, 50, 60, 80, 100])\n",
        "sample_data = np.random.randn(1500,4)\n",
        "normalized_data = min_max_normalize(sample_data)\n",
        "print(f\"Original Data: {sample_data}\")\n",
        "print(f\"Normalized Data: {normalized_data}\")\n",
        "plt.hist(normalized_data)"
      ]
    },
    {
      "cell_type": "markdown",
      "metadata": {
        "id": "X4M_e795BmAL"
      },
      "source": [
        "## 실습 문제: 표준화 (Z-score 정규화)\n",
        "\n",
        "**설명**: 표준화(Standardization), 또는 Z-score 정규화는 데이터의 분포를 평균이 0이고 표준편차가 1이 되도록 변환하는 방법입니다. 이 변환을 통해 서로 다른 단위나 스케일을 가진 데이터를 비교할 수 있게 됩니다. 이번 실습에서는 주어진 숫자 리스트를 Z-score 정규화 공식을 사용하여 표준화하는 Python 함수를 `Numpy` 라이브러리를 이용해 작성합니다.\n",
        "\n",
        "$$Z = \\frac{X - \\mu}{\\sigma}$$\n",
        "\n",
        "**요구사항**:\n",
        "\n",
        "  - `Numpy` 배열을 인자로 받는 `standardize` 함수를 완성하세요.\n",
        "  - 함수 내에서 `Numpy`를 사용하여 배열의 평균(`μ`)과 표준편차(`σ`)를 계산하세요.\n",
        "  - 배열의 각 요소에 Z-score 공식을 적용하여 새로운 배열을 생성하고 반환하세요.\n",
        "  - 주어진 샘플 데이터로 함수를 테스트하고, 변환된 데이터의 평균과 표준편차를 출력하여 결과가 0과 1에 가까운지 확인하세요.\n",
        "\n"
      ]
    },
    {
      "cell_type": "code",
      "execution_count": null,
      "metadata": {
        "id": "IvaRhAsfBqXK"
      },
      "outputs": [],
      "source": [
        "import numpy as np\n",
        "\n",
        "def standardize(data: np.ndarray) -> np.ndarray:\n",
        "    mean = np.mean(data, axis=0)\n",
        "    std = np.std(data, axis=0)\n",
        "    standardized = (data - mean) / std\n",
        "    return standardized\n",
        "\n",
        "# 예제 데이터 생성: 1500행 4열 난수 배열\n",
        "sample_data = np.random.randn(1500, 4)\n",
        "\n",
        "# 표준화 함수 적용\n",
        "standardized_data = standardize(sample_data)\n",
        "\n",
        "# 결과 출력\n",
        "print(f\"Original Data (first 5 rows):\\n{sample_data[:5]}\")\n",
        "print(f\"\\nStandardized Data (first 5 rows):\\n{standardized_data[:5]}\")\n",
        "print(f\"\\nNew Mean (axis=0): {np.mean(standardized_data, axis=0)}\")\n",
        "print(f\"New Std Dev (axis=0): {np.std(standardized_data, axis=0)}\")\n"
      ]
    },
    {
      "cell_type": "markdown",
      "metadata": {
        "id": "CQWi2o6Cx5BZ"
      },
      "source": [
        "## 실습 문제: 훈련, 검증, 테스트 데이터셋 분할\n",
        "\n",
        "**설명**:\n",
        "머신러닝 모델을 개발할 때, 전체 데이터셋을 **훈련(Training)**, **검증(Validation)**, **테스트(Test)** 세트로 나누는 것은 매우 중요합니다. 모델은 **훈련 세트**로 학습하고, **검증 세트**를 사용해 모델의 성능을 조정(튜닝)하며, 마지막으로 **테스트 세트**를 통해 학습 과정에 사용되지 않은 새로운 데이터에 대한 최종 성능을 공정하게 평가합니다. 이번 실습에서는 `Numpy`를 사용하여 주어진 데이터셋을 훈련, 검증, 테스트 세트로 분할하는 함수를 만듭니다.\n",
        "\n",
        "\n",
        "**요구사항**:\n",
        "\n",
        "  - 먼저 `np.random.shuffle()`을 사용해 전체 데이터셋의 순서를 무작위로 섞어 데이터가 편향되지 않도록 합니다.\n",
        "  - 데이터셋을 **8:1:1** 비율 (훈련 80%, 검증 10%, 테스트 10%)로 분할하세요. 전체 데이터의 개수를 기반으로 각 세트의 크기를 계산해야 합니다.\n",
        "  - 계산된 크기에 맞게 `Numpy` 배열 슬라이싱을 사용하여 `train_set`, `val_set`, `test_set`을 생성하고 반환하세요.\n",
        "  - 분할된 각 데이터셋의 크기(shape)를 출력하여 비율에 맞게 잘 나뉘었는지 확인합니다.\n",
        "\n"
      ]
    },
    {
      "cell_type": "code",
      "execution_count": 4,
      "metadata": {},
      "outputs": [
        {
          "name": "stdout",
          "output_type": "stream",
          "text": [
            "Original data shape: (150, 4)\n",
            "Training set shape: (120, 4)\n",
            "Validation set shape: (15, 4)\n",
            "Test set shape: (15, 4)\n"
          ]
        }
      ],
      "source": [
        "import numpy as np\n",
        "\n",
        "def split_dataset(data: np.ndarray) -> tuple[np.ndarray, np.ndarray, np.ndarray]:\n",
        "    # 비율 배열 선언 (훈련 80%, 검증 10%, 테스트 10%)\n",
        "    p = np.array([0.8, 0.1, 0.1])\n",
        "\n",
        "    # 1. 데이터를 무작위로 섞기\n",
        "    np.random.shuffle(data)\n",
        "\n",
        "    # 2. 각 비율에 맞는 인덱스 계산\n",
        "    p = (p * len(data)).astype(int)\n",
        "\n",
        "    # 3. np.split로 분할\n",
        "    splitted = np.split(data, np.cumsum(p)[:-1])\n",
        "\n",
        "    return tuple(splitted)\n",
        "\n",
        "\n",
        "# 테스트 코드\n",
        "X = np.random.randn(150, 4)\n",
        "train, val, test = split_dataset(X)\n",
        "\n",
        "print(f\"Original data shape: {X.shape}\")\n",
        "print(f\"Training set shape: {train.shape}\")\n",
        "print(f\"Validation set shape: {val.shape}\")\n",
        "print(f\"Test set shape: {test.shape}\")\n"
      ]
    }
  ],
  "metadata": {
    "colab": {
      "provenance": []
    },
    "kernelspec": {
      "display_name": "aip_39",
      "language": "python",
      "name": "python3"
    },
    "language_info": {
      "codemirror_mode": {
        "name": "ipython",
        "version": 3
      },
      "file_extension": ".py",
      "mimetype": "text/x-python",
      "name": "python",
      "nbconvert_exporter": "python",
      "pygments_lexer": "ipython3",
      "version": "3.9.23"
    }
  },
  "nbformat": 4,
  "nbformat_minor": 0
}
