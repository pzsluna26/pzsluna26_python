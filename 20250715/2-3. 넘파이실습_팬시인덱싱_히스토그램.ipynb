{
 "cells": [
  {
   "cell_type": "markdown",
   "metadata": {},
   "source": [
    "교과서 p.95\n",
    "# 과제3: 정규분포 난수로 히스토그램 만들기 (팬시 인덱싱과 브로드캐스팅 활용)\n",
    "목표: 난수를 생성하고, 직접 구간에 속하는 인덱스를 계산하여 히스토그램을 생성. np.searchsorted를 사용하지 않고 각 값이 어느 구간에 속하는지 확인.\n",
    "\n",
    "## 구현 순서:\n",
    "\n",
    "1. 난수 생성:\n",
    "\n",
    "평균이 0, 표준편차가 1인 정규분포에서 난수 10,000개를 생성하여 data 배열에 저장.\n",
    "\n"
   ]
  },
  {
   "cell_type": "code",
   "execution_count": 4,
   "metadata": {},
   "outputs": [],
   "source": [
    "import random\n",
    "import numpy as np\n",
    "# 평균 0, 표준편차 1인 정규분포에서 난수 10,000개 생성\n",
    "data = np.random.randn(10000)"
   ]
  },
  {
   "cell_type": "markdown",
   "metadata": {},
   "source": [
    "2. 구간 설정:\n",
    "\n",
    "-10에서 10까지 20개의 구간을 균등하게 나누어 bins 배열.\n",
    "이 구간들은 히스토그램의 각 구간 경계.\n",
    "\n"
   ]
  },
  {
   "cell_type": "code",
   "execution_count": null,
   "metadata": {},
   "outputs": [],
   "source": [
    "# 20개의 균등한 구간 생성 (21개의 경계점 필요)\n",
    "bins = np.linspace(-10,10,21)"
   ]
  },
  {
   "cell_type": "code",
   "execution_count": null,
   "metadata": {},
   "outputs": [],
   "source": [
    "3. 구간 인덱스 계산:\n",
    "\n",
    "data의 각 값이 어느 구간에 속하는지 직접 계산하여 구간 인덱스 배열 indices에 저장.\n",
    "예를 들어, data의 값이 특정 구간에 속하면 indices 배열에 그 구간 인덱스를 기록합니다.\n",
    "이 과정에서 브로드캐스팅과 팬시 인덱싱을 활용하여 효율적으로 구간 인덱스를 계산.\n",
    "\n"
   ]
  },
  {
   "cell_type": "code",
   "execution_count": null,
   "metadata": {},
   "outputs": [],
   "source": [
    "# data: (10000,) → reshape: (10000, 1)\n",
    "# bins[:-1], bins[1:]: 각각 (20,) → reshape: (1, 20)\n",
    "\n",
    "# 마스크: 각 data 값이 어떤 구간에 속하는지 → shape: (10000, 20)\n",
    "\n",
    "# 구간 인덱스: True가 있는 위치의 열 번호 (axis=1에서 가장 먼저 True인 인덱스)"
   ]
  },
  {
   "cell_type": "markdown",
   "metadata": {},
   "source": [
    "4. 누적 카운팅:\n",
    "\n",
    "구한 indices 값을 사용하여, 각 구간별로 카운트를 계산.\n",
    "팬시 인덱싱을 통해 indices에 해당하는 counts 위치에 1씩 누적.\n",
    "\n"
   ]
  },
  {
   "cell_type": "code",
   "execution_count": null,
   "metadata": {},
   "outputs": [],
   "source": []
  },
  {
   "cell_type": "markdown",
   "metadata": {},
   "source": [
    "5. 결과 시각화:\n",
    "\n",
    "구간별 빈도수를 그래프로 시각화하여 히스토그램.\n",
    "bins와 counts를 사용하여 히스토그램이 올바르게 그려졌는지 확인."
   ]
  },
  {
   "cell_type": "code",
   "execution_count": null,
   "metadata": {},
   "outputs": [],
   "source": []
  }
 ],
 "metadata": {
  "kernelspec": {
   "display_name": "aip_39",
   "language": "python",
   "name": "python3"
  },
  "language_info": {
   "codemirror_mode": {
    "name": "ipython",
    "version": 3
   },
   "file_extension": ".py",
   "mimetype": "text/x-python",
   "name": "python",
   "nbconvert_exporter": "python",
   "pygments_lexer": "ipython3",
   "version": "3.9.23"
  }
 },
 "nbformat": 4,
 "nbformat_minor": 2
}
