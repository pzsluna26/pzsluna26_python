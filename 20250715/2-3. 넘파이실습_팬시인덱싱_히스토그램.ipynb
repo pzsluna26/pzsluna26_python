{
 "cells": [
  {
   "cell_type": "markdown",
   "metadata": {},
   "source": [
    "교과서 p.95\n",
    "# 과제3: 정규분포 난수로 히스토그램 만들기 (팬시 인덱싱과 브로드캐스팅 활용)\n",
    "목표: 난수를 생성하고, 직접 구간에 속하는 인덱스를 계산하여 히스토그램을 생성. np.searchsorted를 사용하지 않고 각 값이 어느 구간에 속하는지 확인.\n",
    "\n",
    "## 구현 순서:\n",
    "\n",
    "1. 난수 생성:\n",
    "\n",
    "평균이 0, 표준편차가 1인 정규분포에서 난수 10,000개를 생성하여 data 배열에 저장.\n",
    "\n"
   ]
  },
  {
   "cell_type": "code",
   "execution_count": 3,
   "metadata": {},
   "outputs": [],
   "source": [
    "import random\n",
    "import numpy as np\n",
    "# 평균 0, 표준편차 1인 정규분포에서 난수 10,000개 생성\n",
    "data = np.random.randn(10000)"
   ]
  },
  {
   "cell_type": "markdown",
   "metadata": {},
   "source": [
    "2. 구간 설정:\n",
    "\n",
    "-10에서 10까지 20개의 구간을 균등하게 나누어 bins 배열.\n",
    "이 구간들은 히스토그램의 각 구간 경계.\n",
    "\n"
   ]
  },
  {
   "cell_type": "code",
   "execution_count": null,
   "metadata": {},
   "outputs": [],
   "source": [
    "# 20개의 균등한 구간 생성 (21개의 경계점 필요)\n",
    "bins = np.linspace(-10,10,21)\n",
    "bin_centers = (bins[:-1] + bins[1:]) "
   ]
  },
  {
   "cell_type": "code",
   "execution_count": null,
   "metadata": {},
   "outputs": [],
   "source": [
    "3. 구간 인덱스 계산:\n",
    "\n",
    "data의 각 값이 어느 구간에 속하는지 직접 계산하여 구간 인덱스 배열 indices에 저장.\n",
    "예를 들어, data의 값이 특정 구간에 속하면 indices 배열에 그 구간 인덱스를 기록합니다.\n",
    "이 과정에서 브로드캐스팅과 팬시 인덱싱을 활용하여 효율적으로 구간 인덱스를 계산.\n",
    "\n"
   ]
  },
  {
   "cell_type": "code",
   "execution_count": 6,
   "metadata": {},
   "outputs": [
    {
     "name": "stdout",
     "output_type": "stream",
     "text": [
      "data: [-9.5 -4.2  0.   3.3  9.9]\n",
      "bins: [-10.  -9.  -8.  -7.  -6.  -5.  -4.  -3.  -2.  -1.   0.   1.   2.   3.\n",
      "   4.   5.   6.   7.   8.   9.  10.]\n",
      "구간 인덱스: [ 0  5 10 13 19]\n"
     ]
    }
   ],
   "source": [
    "# 데이터 배열\n",
    "data = np.array([-9.5, -4.2, 0.0, 3.3, 9.9])\n",
    "\n",
    "# 구간 인덱스 계산\n",
    "# 각 data가 bins의 어느 구간에 속하는지 브로드캐스팅으로 비교\n",
    "# 조건: bins[i] <= x < bins[i+1]\n",
    "in_bin = (data[:, None] >= bins[:-1]) & (data[:, None] < bins[1:])\n",
    "\n",
    "# True가 있는 인덱스를 찾으면 그게 구간 번호\n",
    "indices = np.argmax(in_bin, axis=1)\n",
    "\n",
    "# 결과 출력\n",
    "print(\"data:\", data)\n",
    "print(\"bins:\", bins)\n",
    "print(\"구간 인덱스:\", indices)\n",
    "\n"
   ]
  },
  {
   "cell_type": "markdown",
   "metadata": {},
   "source": [
    "4. 누적 카운팅:\n",
    "\n",
    "구한 indices 값을 사용하여, 각 구간별로 카운트를 계산.\n",
    "팬시 인덱싱을 통해 indices에 해당하는 counts 위치에 1씩 누적.\n",
    "\n"
   ]
  },
  {
   "cell_type": "code",
   "execution_count": 7,
   "metadata": {},
   "outputs": [],
   "source": [
    "counts = np.zeros(len(bins) -1, dtype = int)\n",
    "np.add.at(counts, indices, 1)"
   ]
  },
  {
   "cell_type": "markdown",
   "metadata": {},
   "source": [
    "5. 결과 시각화:\n",
    "\n",
    "구간별 빈도수를 그래프로 시각화하여 히스토그램.\n",
    "bins와 counts를 사용하여 히스토그램이 올바르게 그려졌는지 확인."
   ]
  },
  {
   "cell_type": "code",
   "execution_count": null,
   "metadata": {},
   "outputs": [
    {
     "name": "stderr",
     "output_type": "stream",
     "text": [
      "C:\\Users\\user\\AppData\\Roaming\\Python\\Python39\\site-packages\\IPython\\core\\pylabtools.py:152: UserWarning: Glyph 48712 (\\N{HANGUL SYLLABLE BIN}) missing from font(s) DejaVu Sans.\n",
      "  fig.canvas.print_figure(bytes_io, **kw)\n",
      "C:\\Users\\user\\AppData\\Roaming\\Python\\Python39\\site-packages\\IPython\\core\\pylabtools.py:152: UserWarning: Glyph 46020 (\\N{HANGUL SYLLABLE DO}) missing from font(s) DejaVu Sans.\n",
      "  fig.canvas.print_figure(bytes_io, **kw)\n",
      "C:\\Users\\user\\AppData\\Roaming\\Python\\Python39\\site-packages\\IPython\\core\\pylabtools.py:152: UserWarning: Glyph 49688 (\\N{HANGUL SYLLABLE SU}) missing from font(s) DejaVu Sans.\n",
      "  fig.canvas.print_figure(bytes_io, **kw)\n",
      "C:\\Users\\user\\AppData\\Roaming\\Python\\Python39\\site-packages\\IPython\\core\\pylabtools.py:152: UserWarning: Glyph 55176 (\\N{HANGUL SYLLABLE HI}) missing from font(s) DejaVu Sans.\n",
      "  fig.canvas.print_figure(bytes_io, **kw)\n",
      "C:\\Users\\user\\AppData\\Roaming\\Python\\Python39\\site-packages\\IPython\\core\\pylabtools.py:152: UserWarning: Glyph 49828 (\\N{HANGUL SYLLABLE SEU}) missing from font(s) DejaVu Sans.\n",
      "  fig.canvas.print_figure(bytes_io, **kw)\n",
      "C:\\Users\\user\\AppData\\Roaming\\Python\\Python39\\site-packages\\IPython\\core\\pylabtools.py:152: UserWarning: Glyph 53664 (\\N{HANGUL SYLLABLE TO}) missing from font(s) DejaVu Sans.\n",
      "  fig.canvas.print_figure(bytes_io, **kw)\n",
      "C:\\Users\\user\\AppData\\Roaming\\Python\\Python39\\site-packages\\IPython\\core\\pylabtools.py:152: UserWarning: Glyph 44536 (\\N{HANGUL SYLLABLE GEU}) missing from font(s) DejaVu Sans.\n",
      "  fig.canvas.print_figure(bytes_io, **kw)\n",
      "C:\\Users\\user\\AppData\\Roaming\\Python\\Python39\\site-packages\\IPython\\core\\pylabtools.py:152: UserWarning: Glyph 47016 (\\N{HANGUL SYLLABLE RAEM}) missing from font(s) DejaVu Sans.\n",
      "  fig.canvas.print_figure(bytes_io, **kw)\n",
      "C:\\Users\\user\\AppData\\Roaming\\Python\\Python39\\site-packages\\IPython\\core\\pylabtools.py:152: UserWarning: Glyph 44396 (\\N{HANGUL SYLLABLE GU}) missing from font(s) DejaVu Sans.\n",
      "  fig.canvas.print_figure(bytes_io, **kw)\n",
      "C:\\Users\\user\\AppData\\Roaming\\Python\\Python39\\site-packages\\IPython\\core\\pylabtools.py:152: UserWarning: Glyph 44036 (\\N{HANGUL SYLLABLE GAN}) missing from font(s) DejaVu Sans.\n",
      "  fig.canvas.print_figure(bytes_io, **kw)\n",
      "C:\\Users\\user\\AppData\\Roaming\\Python\\Python39\\site-packages\\IPython\\core\\pylabtools.py:152: UserWarning: Glyph 48324 (\\N{HANGUL SYLLABLE BYEOL}) missing from font(s) DejaVu Sans.\n",
      "  fig.canvas.print_figure(bytes_io, **kw)\n",
      "C:\\Users\\user\\AppData\\Roaming\\Python\\Python39\\site-packages\\IPython\\core\\pylabtools.py:152: UserWarning: Glyph 45936 (\\N{HANGUL SYLLABLE DE}) missing from font(s) DejaVu Sans.\n",
      "  fig.canvas.print_figure(bytes_io, **kw)\n",
      "C:\\Users\\user\\AppData\\Roaming\\Python\\Python39\\site-packages\\IPython\\core\\pylabtools.py:152: UserWarning: Glyph 51060 (\\N{HANGUL SYLLABLE I}) missing from font(s) DejaVu Sans.\n",
      "  fig.canvas.print_figure(bytes_io, **kw)\n",
      "C:\\Users\\user\\AppData\\Roaming\\Python\\Python39\\site-packages\\IPython\\core\\pylabtools.py:152: UserWarning: Glyph 53552 (\\N{HANGUL SYLLABLE TEO}) missing from font(s) DejaVu Sans.\n",
      "  fig.canvas.print_figure(bytes_io, **kw)\n",
      "C:\\Users\\user\\AppData\\Roaming\\Python\\Python39\\site-packages\\IPython\\core\\pylabtools.py:152: UserWarning: Glyph 44060 (\\N{HANGUL SYLLABLE GAE}) missing from font(s) DejaVu Sans.\n",
      "  fig.canvas.print_figure(bytes_io, **kw)\n",
      "C:\\Users\\user\\AppData\\Roaming\\Python\\Python39\\site-packages\\IPython\\core\\pylabtools.py:152: UserWarning: Glyph 44050 (\\N{HANGUL SYLLABLE GABS}) missing from font(s) DejaVu Sans.\n",
      "  fig.canvas.print_figure(bytes_io, **kw)\n"
     ]
    },
    {
     "data": {
      "image/png": "[encoded data removed]",
      "text/plain": [
       "<Figure size 1000x500 with 1 Axes>"
      ]
     },
     "metadata": {},
     "output_type": "display_data"
    }
   ],
   "source": [
    "import matplotlib.pyplot as plt\n",
    "import numpy as np\n",
    "\n",
    "plt.figure(figsize=(10,5))\n",
    "plt.bar(bin_centers, counts, width=(bins[1] - bins[0]), align='center', edgecolor='black')\n",
    "plt.title(\"히스토그램(구간별 데이터 개수)\")\n",
    "plt.xlabel(\"값\")\n",
    "plt.ylabel(\"빈도수\")\n",
    "plt.grid(True)\n",
    "plt.show()"
   ]
  }
 ],
 "metadata": {
  "kernelspec": {
   "display_name": "aip_39",
   "language": "python",
   "name": "python3"
  },
  "language_info": {
   "codemirror_mode": {
    "name": "ipython",
    "version": 3
   },
   "file_extension": ".py",
   "mimetype": "text/x-python",
   "name": "python",
   "nbconvert_exporter": "python",
   "pygments_lexer": "ipython3",
   "version": "3.9.23"
  }
 },
 "nbformat": 4,
 "nbformat_minor": 2
}
