{
 "cells": [
  {
   "cell_type": "code",
   "execution_count": 1,
   "id": "894f0e31",
   "metadata": {},
   "outputs": [
    {
     "data": {
      "text/plain": [
       "3"
      ]
     },
     "execution_count": 1,
     "metadata": {},
     "output_type": "execute_result"
    }
   ],
   "source": [
    "1+2"
   ]
  },
  {
   "cell_type": "code",
   "execution_count": 2,
   "id": "689e2540",
   "metadata": {},
   "outputs": [
    {
     "name": "stdout",
     "output_type": "stream",
     "text": [
      "Python 3.9.23\n"
     ]
    }
   ],
   "source": [
    "!python --version"
   ]
  },
  {
   "cell_type": "code",
   "execution_count": 14,
   "id": "29785eff",
   "metadata": {},
   "outputs": [],
   "source": [
    "class Integer:\n",
    "    def __init__(self,x):\n",
    "        self.x = x\n",
    "    def __add__(self, other):\n",
    "        return self.x + other.x\n",
    "    @staticmethod\n",
    "    def add(left, right):\n",
    "        return left.x + right.x\n",
    "    \n",
    "def add(a,b):\n",
    "    return a+b"
   ]
  },
  {
   "cell_type": "code",
   "execution_count": 15,
   "id": "d0d4b9d9",
   "metadata": {},
   "outputs": [
    {
     "data": {
      "text/plain": [
       "(3, 3)"
      ]
     },
     "execution_count": 15,
     "metadata": {},
     "output_type": "execute_result"
    }
   ],
   "source": [
    "n1 = Integer(1)\n",
    "n2 = Integer(2)\n",
    "n1 + n2, Integer.add(n1, n2)"
   ]
  },
  {
   "cell_type": "code",
   "execution_count": 11,
   "id": "8d270f65",
   "metadata": {},
   "outputs": [
    {
     "data": {
      "text/plain": [
       "np.int64(3)"
      ]
     },
     "execution_count": 11,
     "metadata": {},
     "output_type": "execute_result"
    }
   ],
   "source": [
    "import numpy as np\n",
    "n1 = np.array(1)\n",
    "n2 = np.array(2)\n",
    "n1 + n2"
   ]
  },
  {
   "cell_type": "code",
   "execution_count": 12,
   "id": "45b478b6",
   "metadata": {},
   "outputs": [
    {
     "data": {
      "text/plain": [
       "np.int64(3)"
      ]
     },
     "execution_count": 12,
     "metadata": {},
     "output_type": "execute_result"
    }
   ],
   "source": [
    "np.add(1,2)"
   ]
  },
  {
   "cell_type": "code",
   "execution_count": 6,
   "id": "63c797ac",
   "metadata": {},
   "outputs": [
    {
     "data": {
      "text/plain": [
       "[<matplotlib.lines.Line2D at 0x21449424c10>]"
      ]
     },
     "execution_count": 6,
     "metadata": {},
     "output_type": "execute_result"
    },
    {
     "data": {
      "image/png": "[encoded data removed]",
      "text/plain": [
       "<Figure size 640x480 with 1 Axes>"
      ]
     },
     "metadata": {},
     "output_type": "display_data"
    }
   ],
   "source": [
    "import numpy as np\n",
    "import matplotlib.pyplot as plt\n",
    "\n",
    "def f(x):\n",
    "    return 2*x + 1\n",
    "\n",
    "x= np.arange(-5, 5)\n",
    "y= f(x)\n",
    "plt.plot(x,y)"
   ]
  },
  {
   "cell_type": "code",
   "execution_count": 16,
   "id": "4bc039b0",
   "metadata": {},
   "outputs": [
    {
     "data": {
      "text/plain": [
       "np.int64(55)"
      ]
     },
     "execution_count": 16,
     "metadata": {},
     "output_type": "execute_result"
    }
   ],
   "source": [
    "x=np.arange(1,11)\n",
    "np.sum(x)"
   ]
  },
  {
   "cell_type": "code",
   "execution_count": 18,
   "id": "0ec7b47b",
   "metadata": {},
   "outputs": [],
   "source": [
    "x=np.arange(1,11)\n",
    "out = np.cumsum(x)"
   ]
  },
  {
   "cell_type": "code",
   "execution_count": 19,
   "id": "6d3b3f44",
   "metadata": {},
   "outputs": [
    {
     "data": {
      "text/plain": [
       "((10,), (10,))"
      ]
     },
     "execution_count": 19,
     "metadata": {},
     "output_type": "execute_result"
    }
   ],
   "source": [
    "x.shape , out.shape"
   ]
  },
  {
   "cell_type": "code",
   "execution_count": null,
   "id": "ab17225c",
   "metadata": {},
   "outputs": [
    {
     "data": {
      "text/plain": [
       "array([ 2,  3,  4,  5,  6,  7,  8,  9, 10, 11])"
      ]
     },
     "execution_count": 22,
     "metadata": {},
     "output_type": "execute_result"
    }
   ],
   "source": [
    "# x가 뭔지 제대로 이해하기\n",
    "(x + 1).shape\n",
    "x+1"
   ]
  },
  {
   "cell_type": "code",
   "execution_count": 24,
   "id": "ca6faa22",
   "metadata": {},
   "outputs": [
    {
     "data": {
      "text/plain": [
       "(150, 4)"
      ]
     },
     "execution_count": 24,
     "metadata": {},
     "output_type": "execute_result"
    }
   ],
   "source": [
    "x = np.random.random((150,4))\n",
    "x.shape"
   ]
  },
  {
   "cell_type": "code",
   "execution_count": null,
   "id": "46c9aa10",
   "metadata": {},
   "outputs": [
    {
     "data": {
      "text/plain": [
       "(4,)"
      ]
     },
     "execution_count": 28,
     "metadata": {},
     "output_type": "execute_result"
    }
   ],
   "source": [
    "# axis=0 열방향 덧셈\n",
    "np.sum(x, axis=0) \n",
    "np.sum(x, axis=0).shape"
   ]
  },
  {
   "cell_type": "code",
   "execution_count": null,
   "id": "215bf9a8",
   "metadata": {},
   "outputs": [
    {
     "data": {
      "text/plain": [
       "(150,)"
      ]
     },
     "execution_count": 29,
     "metadata": {},
     "output_type": "execute_result"
    }
   ],
   "source": [
    "# axis=1 행방향 덧셈\n",
    "np.sum(x, axis=1)\n",
    "np.sum(x, axis=1).shape"
   ]
  },
  {
   "cell_type": "markdown",
   "id": "e5338303",
   "metadata": {},
   "source": [
    "아이리스 꽃 종류\n",
    "setosa virginica versicolor"
   ]
  },
  {
   "cell_type": "code",
   "execution_count": null,
   "id": "fe9d73b8",
   "metadata": {},
   "outputs": [
    {
     "data": {
      "text/plain": [
       "array([0.7, 0.2, 0.1])"
      ]
     },
     "execution_count": 30,
     "metadata": {},
     "output_type": "execute_result"
    }
   ],
   "source": [
    "# 아이리스 꽃 종류 중 argmax, grgmin 확률 가져오기?\n",
    "p = np.array([0.7, 0.2, 0.1])\n",
    "p"
   ]
  },
  {
   "cell_type": "code",
   "execution_count": 33,
   "id": "36ae63de",
   "metadata": {},
   "outputs": [
    {
     "data": {
      "text/plain": [
       "np.int64(0)"
      ]
     },
     "execution_count": 33,
     "metadata": {},
     "output_type": "execute_result"
    }
   ],
   "source": [
    "np.argmax(p)"
   ]
  },
  {
   "cell_type": "code",
   "execution_count": 34,
   "id": "75c725cc",
   "metadata": {},
   "outputs": [],
   "source": [
    "labels =['setosa','virginica','versicolor']"
   ]
  },
  {
   "cell_type": "code",
   "execution_count": 35,
   "id": "38556887",
   "metadata": {},
   "outputs": [
    {
     "data": {
      "text/plain": [
       "'setosa'"
      ]
     },
     "execution_count": 35,
     "metadata": {},
     "output_type": "execute_result"
    }
   ],
   "source": [
    "labels[np.argmax(p)]"
   ]
  },
  {
   "cell_type": "code",
   "execution_count": null,
   "id": "94c786d3",
   "metadata": {},
   "outputs": [
    {
     "data": {
      "text/plain": [
       "array([ True,  True, False, False, False, False, False, False, False,\n",
       "       False])"
      ]
     },
     "execution_count": 39,
     "metadata": {},
     "output_type": "execute_result"
    }
   ],
   "source": [
    "# 50번째 백분위수 (50th percentile) 를 구하라는 의미입니다.\n",
    "# 통계에서 50th percentile은 중앙값(median) 과 같습니다.\n",
    "# 즉, 데이터 정렬 후 가운데 위치한 값을 반환합니다.\n",
    "\n",
    "\n",
    "x = np.arange(1, 11)\n",
    "# 중앙값\n",
    "np.percentile(x, 50)\n",
    "# 30번째 백분위수\n",
    "np.percentile(x, 30)\n",
    "# x의 값이 20번째 백분위수 보다 작은지\n",
    "x < np.percentile(x,20)"
   ]
  },
  {
   "cell_type": "code",
   "execution_count": null,
   "id": "876224e1",
   "metadata": {},
   "outputs": [
    {
     "data": {
      "text/plain": [
       "np.float64(5.5)"
      ]
     },
     "execution_count": 37,
     "metadata": {},
     "output_type": "execute_result"
    }
   ],
   "source": [
    "# 간단히 중앙값 구할 수 있음(but 나머지값은 못구함)\n",
    "np.median(x)"
   ]
  },
  {
   "cell_type": "code",
   "execution_count": 8,
   "id": "0394e31f",
   "metadata": {},
   "outputs": [
    {
     "data": {
      "text/plain": [
       "(15, 4)"
      ]
     },
     "execution_count": 8,
     "metadata": {},
     "output_type": "execute_result"
    }
   ],
   "source": [
    "x = np.random.rand(15,4)\n",
    "y = np.array([1])\n",
    "(x+y).shape"
   ]
  },
  {
   "cell_type": "code",
   "execution_count": 11,
   "id": "024eb3d9",
   "metadata": {},
   "outputs": [],
   "source": [
    "new_y = y.reshape(1,1)"
   ]
  },
  {
   "cell_type": "code",
   "execution_count": 9,
   "id": "37592aed",
   "metadata": {},
   "outputs": [
    {
     "data": {
      "text/plain": [
       "((1, 1), (1, 1))"
      ]
     },
     "execution_count": 9,
     "metadata": {},
     "output_type": "execute_result"
    }
   ],
   "source": [
    "y.reshape(1,1).shape, y[None, :].shape"
   ]
  },
  {
   "cell_type": "code",
   "execution_count": 12,
   "id": "5edaeafe",
   "metadata": {},
   "outputs": [
    {
     "data": {
      "text/plain": [
       "(2, 1, (1, 1))"
      ]
     },
     "execution_count": 12,
     "metadata": {},
     "output_type": "execute_result"
    }
   ],
   "source": [
    "x.ndim, y.ndim, new_y.shape"
   ]
  },
  {
   "cell_type": "code",
   "execution_count": null,
   "id": "fd086c50",
   "metadata": {},
   "outputs": [],
   "source": [
    "np.full((15,4))"
   ]
  },
  {
   "cell_type": "code",
   "execution_count": null,
   "id": "21b6529c",
   "metadata": {},
   "outputs": [],
   "source": [
    "M = np.ones((2,3))\n",
    "a = np.arange(3)"
   ]
  },
  {
   "cell_type": "code",
   "execution_count": 14,
   "id": "a3704b7d",
   "metadata": {},
   "outputs": [
    {
     "data": {
      "text/plain": [
       "array([[1., 2., 3.],\n",
       "       [1., 2., 3.]])"
      ]
     },
     "execution_count": 14,
     "metadata": {},
     "output_type": "execute_result"
    }
   ],
   "source": [
    "M+a"
   ]
  },
  {
   "cell_type": "code",
   "execution_count": 18,
   "id": "620e4aa0",
   "metadata": {},
   "outputs": [],
   "source": [
    "a = np.arange(3).reshape((3,1))\n",
    "b = np.arange(3)"
   ]
  },
  {
   "cell_type": "code",
   "execution_count": 19,
   "id": "39ad6fb1",
   "metadata": {},
   "outputs": [
    {
     "data": {
      "text/plain": [
       "array([[0, 1, 2],\n",
       "       [1, 2, 3],\n",
       "       [2, 3, 4]])"
      ]
     },
     "execution_count": 19,
     "metadata": {},
     "output_type": "execute_result"
    }
   ],
   "source": [
    "a+b"
   ]
  },
  {
   "cell_type": "code",
   "execution_count": 20,
   "id": "bcfb794b",
   "metadata": {},
   "outputs": [],
   "source": [
    "M = np.ones((3,2))\n",
    "a = np.arange(3)"
   ]
  },
  {
   "cell_type": "code",
   "execution_count": 21,
   "id": "f2e3a2cf",
   "metadata": {},
   "outputs": [
    {
     "ename": "ValueError",
     "evalue": "operands could not be broadcast together with shapes (3,2) (3,) ",
     "output_type": "error",
     "traceback": [
      "\u001b[1;31m---------------------------------------------------------------------------\u001b[0m",
      "\u001b[1;31mValueError\u001b[0m                                Traceback (most recent call last)",
      "Cell \u001b[1;32mIn[21], line 1\u001b[0m\n\u001b[1;32m----> 1\u001b[0m \u001b[43mM\u001b[49m\u001b[43m \u001b[49m\u001b[38;5;241;43m+\u001b[39;49m\u001b[43m \u001b[49m\u001b[43ma\u001b[49m\n",
      "\u001b[1;31mValueError\u001b[0m: operands could not be broadcast together with shapes (3,2) (3,) "
     ]
    }
   ],
   "source": [
    "M + a"
   ]
  },
  {
   "cell_type": "code",
   "execution_count": null,
   "id": "8b258a9a",
   "metadata": {},
   "outputs": [
    {
     "data": {
      "text/plain": [
       "((15, 4), (3,))"
      ]
     },
     "execution_count": 22,
     "metadata": {},
     "output_type": "execute_result"
    }
   ],
   "source": [
    "# shape: (3,)\n",
    "y = np.ones(3)\n",
    "x.shape, y.shape"
   ]
  },
  {
   "cell_type": "code",
   "execution_count": null,
   "id": "b37316ab",
   "metadata": {},
   "outputs": [
    {
     "data": {
      "text/plain": [
       "(10, 3)"
      ]
     },
     "execution_count": 23,
     "metadata": {},
     "output_type": "execute_result"
    }
   ],
   "source": [
    "# 10행 3열의 랜덤값 배열\n",
    "x= np.random.random((10, 3))\n",
    "\n",
    "x.shape"
   ]
  },
  {
   "cell_type": "code",
   "execution_count": null,
   "id": "7ec1b4a9",
   "metadata": {},
   "outputs": [
    {
     "data": {
      "text/plain": [
       "array([0.49430931, 0.39592104, 0.57498979])"
      ]
     },
     "execution_count": 24,
     "metadata": {},
     "output_type": "execute_result"
    }
   ],
   "source": [
    "# 각 열(column)의 평균 → shape: (3,)\n",
    "np.mean(x, axis=0)"
   ]
  },
  {
   "cell_type": "code",
   "execution_count": null,
   "id": "caf68aab",
   "metadata": {},
   "outputs": [
    {
     "data": {
      "text/plain": [
       "array([[ 0.0340253 ,  0.19047452, -0.14007741],\n",
       "       [-0.19890803,  0.14820381,  0.26634083],\n",
       "       [-0.24546822, -0.02226353, -0.05233078],\n",
       "       [-0.23671753, -0.25176818, -0.26402304],\n",
       "       [-0.10751596, -0.15358364, -0.03492796],\n",
       "       [ 0.18703894, -0.28062777,  0.30812175],\n",
       "       [-0.22020016,  0.13461015, -0.36347343],\n",
       "       [ 0.34779458, -0.21100221,  0.33616446],\n",
       "       [ 0.32026614,  0.28334355,  0.05453056],\n",
       "       [ 0.11968494,  0.1626133 , -0.11032498]])"
      ]
     },
     "execution_count": 25,
     "metadata": {},
     "output_type": "execute_result"
    }
   ],
   "source": [
    "# 각 열에 대해 평균을 뺌 (브로드캐스팅 적용)\n",
    "x - np.mean(x, axis=0)"
   ]
  },
  {
   "cell_type": "code",
   "execution_count": 42,
   "id": "0e62bf1d",
   "metadata": {},
   "outputs": [
    {
     "data": {
      "text/plain": [
       "((50,), (50,))"
      ]
     },
     "execution_count": 42,
     "metadata": {},
     "output_type": "execute_result"
    }
   ],
   "source": [
    "x = np.linspace(0, 5, 50)\n",
    "y = np.linspace(0, 5, 50)\n",
    "x.shape, y.shape"
   ]
  },
  {
   "cell_type": "code",
   "execution_count": 51,
   "id": "739f4204",
   "metadata": {},
   "outputs": [
    {
     "name": "stdout",
     "output_type": "stream",
     "text": [
      "(50, 50)\n"
     ]
    }
   ],
   "source": [
    "x = np.linspace(0, 5, 50)       # shape: (50,)\n",
    "y = np.linspace(0, 5, 50)       # shape: (50,)\n",
    "\n",
    "X = x[None, :]   # shape: (1, 50) → 행 방향\n",
    "Y = y[:, None]   # shape: (50, 1) → 열 방향\n",
    "\n",
    "result = 10 + (Y * X)  # shape: (50, 50)\n",
    "print(result.shape)    # ✅ (50, 50)"
   ]
  },
  {
   "cell_type": "code",
   "execution_count": 44,
   "id": "346c1bb2",
   "metadata": {},
   "outputs": [
    {
     "data": {
      "text/plain": [
       "(50, 1)"
      ]
     },
     "execution_count": 44,
     "metadata": {},
     "output_type": "execute_result"
    }
   ],
   "source": [
    "new_y = y[:, None]\n",
    "new_y.shape"
   ]
  },
  {
   "cell_type": "code",
   "execution_count": 55,
   "id": "bb7cee30",
   "metadata": {},
   "outputs": [
    {
     "data": {
      "text/plain": [
       "(50,)"
      ]
     },
     "execution_count": 55,
     "metadata": {},
     "output_type": "execute_result"
    }
   ],
   "source": [
    "np.sin(x).shape"
   ]
  },
  {
   "cell_type": "code",
   "execution_count": 56,
   "id": "8894087d",
   "metadata": {},
   "outputs": [
    {
     "data": {
      "text/plain": [
       "(50,)"
      ]
     },
     "execution_count": 56,
     "metadata": {},
     "output_type": "execute_result"
    }
   ],
   "source": [
    "(np.sin(x)**10).shape"
   ]
  },
  {
   "cell_type": "code",
   "execution_count": 57,
   "id": "f082f359",
   "metadata": {},
   "outputs": [
    {
     "data": {
      "text/plain": [
       "(50,)"
      ]
     },
     "execution_count": 57,
     "metadata": {},
     "output_type": "execute_result"
    }
   ],
   "source": [
    "(10+(y*x)).shape"
   ]
  },
  {
   "cell_type": "code",
   "execution_count": 54,
   "id": "0213a40e",
   "metadata": {},
   "outputs": [
    {
     "data": {
      "text/plain": [
       "(50,)"
      ]
     },
     "execution_count": 54,
     "metadata": {},
     "output_type": "execute_result"
    }
   ],
   "source": [
    "np.cos(10+y*x).shape"
   ]
  },
  {
   "cell_type": "code",
   "execution_count": 53,
   "id": "8cf036b1",
   "metadata": {},
   "outputs": [
    {
     "name": "stdout",
     "output_type": "stream",
     "text": [
      "(50,)\n"
     ]
    }
   ],
   "source": [
    "# 브로드캐스팅을 통해 (50, 50) 연산\n",
    "z = np.sin(x)**10 + np.cos(10 + y*x) * np.cos(x)\n",
    "print(z.shape)  # ✅ (50, 50)"
   ]
  },
  {
   "cell_type": "markdown",
   "id": "8bf1e4e0",
   "metadata": {},
   "source": [
    "마스크"
   ]
  },
  {
   "cell_type": "code",
   "execution_count": null,
   "id": "d05d2548",
   "metadata": {},
   "outputs": [
    {
     "data": {
      "text/plain": [
       "array([ 1,  2,  3,  4,  5,  6,  7,  8,  9, 10])"
      ]
     },
     "execution_count": 59,
     "metadata": {},
     "output_type": "execute_result"
    }
   ],
   "source": [
    "x = np.arange(1,11)\n",
    "x"
   ]
  },
  {
   "cell_type": "code",
   "execution_count": 60,
   "id": "493f3d5b",
   "metadata": {},
   "outputs": [
    {
     "data": {
      "text/plain": [
       "array([ True,  True,  True,  True,  True, False, False, False, False,\n",
       "       False])"
      ]
     },
     "execution_count": 60,
     "metadata": {},
     "output_type": "execute_result"
    }
   ],
   "source": [
    "x < 6"
   ]
  },
  {
   "cell_type": "code",
   "execution_count": 61,
   "id": "3b48a4d9",
   "metadata": {},
   "outputs": [
    {
     "data": {
      "text/plain": [
       "array([1, 2, 3, 4, 5])"
      ]
     },
     "execution_count": 61,
     "metadata": {},
     "output_type": "execute_result"
    }
   ],
   "source": [
    "mask = x < 6\n",
    "x[mask]"
   ]
  },
  {
   "cell_type": "code",
   "execution_count": null,
   "id": "3d85e022",
   "metadata": {},
   "outputs": [
    {
     "data": {
      "text/plain": [
       "np.int64(5)"
      ]
     },
     "execution_count": 62,
     "metadata": {},
     "output_type": "execute_result"
    }
   ],
   "source": [
    "# True=1\n",
    "np.sum(mask)"
   ]
  },
  {
   "cell_type": "code",
   "execution_count": null,
   "id": "170e49fe",
   "metadata": {},
   "outputs": [
    {
     "data": {
      "text/plain": [
       "np.int64(5)"
      ]
     },
     "execution_count": 63,
     "metadata": {},
     "output_type": "execute_result"
    }
   ],
   "source": [
    "# True가 5개\n",
    "x = np.arange(1,20)\n",
    "x\n",
    "mask = x < 6\n",
    "x[mask]\n",
    "np.sum(mask)"
   ]
  },
  {
   "cell_type": "markdown",
   "id": "5b171b62",
   "metadata": {},
   "source": [
    "두가지조건\n",
    "where절 생각하면 쉬움"
   ]
  },
  {
   "cell_type": "code",
   "execution_count": 73,
   "id": "4d636506",
   "metadata": {},
   "outputs": [
    {
     "data": {
      "text/plain": [
       "array([[ 1,  2,  3,  4,  5],\n",
       "       [ 6,  7,  8,  9, 10]])"
      ]
     },
     "execution_count": 73,
     "metadata": {},
     "output_type": "execute_result"
    }
   ],
   "source": [
    "x = np.arange(1,11).reshape(2,5)\n",
    "x"
   ]
  },
  {
   "cell_type": "code",
   "execution_count": 74,
   "id": "52689cc8",
   "metadata": {},
   "outputs": [
    {
     "data": {
      "text/plain": [
       "array([7, 8, 9])"
      ]
     },
     "execution_count": 74,
     "metadata": {},
     "output_type": "execute_result"
    }
   ],
   "source": [
    "mask = (6 < x ) & (x < 10)\n",
    "x[mask]"
   ]
  },
  {
   "cell_type": "code",
   "execution_count": 75,
   "id": "5f29ce5d",
   "metadata": {},
   "outputs": [
    {
     "data": {
      "text/plain": [
       "array([[False, False, False, False, False],\n",
       "       [False,  True,  True,  True, False]])"
      ]
     },
     "execution_count": 75,
     "metadata": {},
     "output_type": "execute_result"
    }
   ],
   "source": [
    "mask"
   ]
  },
  {
   "cell_type": "code",
   "execution_count": 76,
   "id": "38ec484e",
   "metadata": {},
   "outputs": [
    {
     "data": {
      "text/plain": [
       "np.int64(3)"
      ]
     },
     "execution_count": 76,
     "metadata": {},
     "output_type": "execute_result"
    }
   ],
   "source": [
    "np.sum(mask)"
   ]
  },
  {
   "cell_type": "markdown",
   "id": "25925a5b",
   "metadata": {},
   "source": [
    "팬시인덱싱"
   ]
  },
  {
   "cell_type": "code",
   "execution_count": 77,
   "id": "9992dcbd",
   "metadata": {},
   "outputs": [
    {
     "data": {
      "text/plain": [
       "array([ 1,  2,  3,  4,  5,  6,  7,  8,  9, 10])"
      ]
     },
     "execution_count": 77,
     "metadata": {},
     "output_type": "execute_result"
    }
   ],
   "source": [
    "x = np.arange(1,11)\n",
    "x"
   ]
  },
  {
   "cell_type": "code",
   "execution_count": null,
   "id": "4571b978",
   "metadata": {},
   "outputs": [
    {
     "data": {
      "text/plain": [
       "array([3, 6, 8])"
      ]
     },
     "execution_count": 79,
     "metadata": {},
     "output_type": "execute_result"
    }
   ],
   "source": [
    "# 우리가 뽑고 싶은 위치(index) 들을 리스트로 저장한 것.\n",
    "# 배열 x에서 2번, 5번, 7번 위치의 값들만 뽑겠다는 뜻.\n",
    "index = [2, 5, 7]\n",
    "x[index]"
   ]
  },
  {
   "cell_type": "code",
   "execution_count": null,
   "id": "105c50f3",
   "metadata": {},
   "outputs": [],
   "source": [
    "x= np.arange(1,11)\n",
    "idx = np.arange()\n",
    "x[idx] = 99"
   ]
  },
  {
   "cell_type": "markdown",
   "id": "33355862",
   "metadata": {},
   "source": [
    "p.91"
   ]
  },
  {
   "cell_type": "code",
   "execution_count": null,
   "id": "e8c930fe",
   "metadata": {},
   "outputs": [],
   "source": [
    "mean = [0,0]\n",
    "cov = [[1,2],\n",
    "       [2,5],]\n"
   ]
  },
  {
   "cell_type": "code",
   "execution_count": null,
   "id": "6449c2ba",
   "metadata": {},
   "outputs": [
    {
     "data": {
      "image/png": "[encoded data removed]",
      "text/plain": [
       "<Figure size 640x480 with 1 Axes>"
      ]
     },
     "metadata": {},
     "output_type": "display_data"
    }
   ],
   "source": [
    "import matplotlib.pyplot as plt\n",
    "def f(x, noise=0):\n",
    "    return 2*x + 1 + noise\n",
    "x = np.linspace(0, 10, 101)\n",
    "noise = np.random.normal(0,3,len(x))\n",
    "y = f(x, noise)\n",
    "plt.scatter(x, y)\n",
    "\n",
    "plt.grid()"
   ]
  },
  {
   "cell_type": "code",
   "execution_count": 99,
   "id": "f5db8ecc",
   "metadata": {},
   "outputs": [
    {
     "data": {
      "text/plain": [
       "array([  0,   5,  14,  16,  19,  29,  37,  38,  41,  42,  45,  47,  52,\n",
       "        53,  55,  73,  77,  78,  94, 100], dtype=int32)"
      ]
     },
     "execution_count": 99,
     "metadata": {},
     "output_type": "execute_result"
    }
   ],
   "source": [
    "idx = np.sort(np.random.choice(101, 20, replace=False))\n",
    "idx"
   ]
  },
  {
   "cell_type": "code",
   "execution_count": 102,
   "id": "91b68cf5",
   "metadata": {},
   "outputs": [],
   "source": [
    "s = x[idx]"
   ]
  },
  {
   "cell_type": "code",
   "execution_count": null,
   "id": "66a0b268",
   "metadata": {},
   "outputs": [
    {
     "data": {
      "text/plain": [
       "<matplotlib.collections.PathCollection at 0x21f4869fa00>"
      ]
     },
     "execution_count": 104,
     "metadata": {},
     "output_type": "execute_result"
    },
    {
     "data": {
      "image/png": "[encoded data removed]",
      "text/plain": [
       "<Figure size 640x480 with 1 Axes>"
      ]
     },
     "metadata": {},
     "output_type": "display_data"
    }
   ],
   "source": [
    "import matplotlib.pyplot as plt\n",
    "def f(x, noise=0):\n",
    "    return 2*x + 1 + noise\n",
    "x = np.linspace(0, 10, 101)\n",
    "noise = np.random.normal(0,3,len(x))\n",
    "y = f(x, noise)\n",
    "idx = np.sort(np.random.choice(101, 20, replace=False))\n",
    "s = y[idx]\n",
    "plt.scatter(x, y)\n",
    "plt.scatter(idx, s, facecolor = 'none', s=200)"
   ]
  },
  {
   "cell_type": "markdown",
   "id": "1d50bd37",
   "metadata": {},
   "source": [
    "팬시인덱싱으로 값바꾸기"
   ]
  },
  {
   "cell_type": "code",
   "execution_count": 105,
   "id": "b0d400c5",
   "metadata": {},
   "outputs": [
    {
     "data": {
      "text/plain": [
       "array([ 1,  2,  3,  4,  5,  6,  7,  8,  9, 10])"
      ]
     },
     "execution_count": 105,
     "metadata": {},
     "output_type": "execute_result"
    }
   ],
   "source": [
    "x = np.arange(1,11)\n",
    "x"
   ]
  },
  {
   "cell_type": "code",
   "execution_count": 106,
   "id": "b29c7297",
   "metadata": {},
   "outputs": [
    {
     "data": {
      "text/plain": [
       "[2, 1, 8, 4]"
      ]
     },
     "execution_count": 106,
     "metadata": {},
     "output_type": "execute_result"
    }
   ],
   "source": [
    "i=[2,1,8,4]\n",
    "i"
   ]
  },
  {
   "cell_type": "code",
   "execution_count": 108,
   "id": "fbc03b49",
   "metadata": {},
   "outputs": [],
   "source": [
    "x[i] =99"
   ]
  },
  {
   "cell_type": "code",
   "execution_count": 109,
   "id": "e1b47865",
   "metadata": {},
   "outputs": [
    {
     "data": {
      "text/plain": [
       "array([ 1, 99, 99,  4, 99,  6,  7,  8, 99, 10])"
      ]
     },
     "execution_count": 109,
     "metadata": {},
     "output_type": "execute_result"
    }
   ],
   "source": [
    "x"
   ]
  },
  {
   "cell_type": "code",
   "execution_count": 127,
   "id": "4b9e9527",
   "metadata": {},
   "outputs": [
    {
     "data": {
      "text/plain": [
       "array([0., 0., 0., 0., 0., 0., 0., 0., 0., 0.])"
      ]
     },
     "execution_count": 127,
     "metadata": {},
     "output_type": "execute_result"
    }
   ],
   "source": [
    "x = np.zeros(10)\n",
    "x"
   ]
  },
  {
   "cell_type": "code",
   "execution_count": 114,
   "id": "a9c1aee7",
   "metadata": {},
   "outputs": [],
   "source": [
    "x[[0,0]] = [1,2]"
   ]
  },
  {
   "cell_type": "code",
   "execution_count": 115,
   "id": "9e90faf4",
   "metadata": {},
   "outputs": [
    {
     "data": {
      "text/plain": [
       "array([2., 0., 0., 0., 0., 0., 0., 0., 0., 0.])"
      ]
     },
     "execution_count": 115,
     "metadata": {},
     "output_type": "execute_result"
    }
   ],
   "source": [
    "x"
   ]
  },
  {
   "cell_type": "code",
   "execution_count": null,
   "id": "f652173b",
   "metadata": {},
   "outputs": [
    {
     "data": {
      "text/plain": [
       "6"
      ]
     },
     "execution_count": 118,
     "metadata": {},
     "output_type": "execute_result"
    }
   ],
   "source": [
    "a = 5\n",
    "a += 1 #a = a + 1\n",
    "a"
   ]
  },
  {
   "cell_type": "code",
   "execution_count": null,
   "id": "2f956e99",
   "metadata": {},
   "outputs": [],
   "source": [
    "x[i] += [1] #x[i] = x[i] + 1"
   ]
  },
  {
   "cell_type": "code",
   "execution_count": 119,
   "id": "1535427f",
   "metadata": {},
   "outputs": [
    {
     "data": {
      "text/plain": [
       "array([2., 1., 1., 0., 1., 0., 0., 0., 1., 0.])"
      ]
     },
     "execution_count": 119,
     "metadata": {},
     "output_type": "execute_result"
    }
   ],
   "source": [
    "x"
   ]
  },
  {
   "cell_type": "code",
   "execution_count": 121,
   "id": "a76c3773",
   "metadata": {},
   "outputs": [
    {
     "data": {
      "text/plain": [
       "array([2., 3., 3., 0., 3., 0., 0., 0., 3., 0.])"
      ]
     },
     "execution_count": 121,
     "metadata": {},
     "output_type": "execute_result"
    }
   ],
   "source": [
    "x[i] += [1]\n",
    "x"
   ]
  },
  {
   "cell_type": "code",
   "execution_count": null,
   "id": "ec30a05e",
   "metadata": {},
   "outputs": [
    {
     "data": {
      "text/plain": [
       "array([0., 0., 0., 0., 0., 0., 1., 0., 0., 0.])"
      ]
     },
     "execution_count": 128,
     "metadata": {},
     "output_type": "execute_result"
    }
   ],
   "source": [
    "x[[6,6,6,6,6,6]] += 1\n",
    "x\n",
    "# 안됨 6번 더하기"
   ]
  },
  {
   "cell_type": "code",
   "execution_count": null,
   "id": "94b473c0",
   "metadata": {},
   "outputs": [
    {
     "data": {
      "text/plain": [
       "array([ 0.,  0.,  0.,  0.,  0.,  0., 13.,  0.,  0.,  0.])"
      ]
     },
     "execution_count": 130,
     "metadata": {},
     "output_type": "execute_result"
    }
   ],
   "source": [
    "# 해결방법 => add.at\n",
    "np.add.at(x,[6,6,6,6,6,6], 1)\n",
    "x"
   ]
  },
  {
   "cell_type": "code",
   "execution_count": 14,
   "id": "973d4182",
   "metadata": {},
   "outputs": [
    {
     "name": "stdout",
     "output_type": "stream",
     "text": [
      "[51 92 14 71 60 20 82 86 74 74]\n"
     ]
    }
   ],
   "source": [
    "import numpy as np\n",
    "rand = np.random.RandomState(42)\n",
    "x = rand.randint(100, size=10)\n",
    "print(x)"
   ]
  },
  {
   "cell_type": "code",
   "execution_count": 8,
   "id": "e452e6f5",
   "metadata": {},
   "outputs": [
    {
     "data": {
      "text/plain": [
       "array([[4, 4, 6, 2, 1, 4],\n",
       "       [1, 8, 7, 9, 5, 9],\n",
       "       [8, 6, 2, 5, 5, 2],\n",
       "       [3, 1, 6, 2, 7, 1]], dtype=int32)"
      ]
     },
     "execution_count": 8,
     "metadata": {},
     "output_type": "execute_result"
    }
   ],
   "source": [
    "import numpy as np\n",
    "\n",
    "data = np.random.randint(0, 10, (4, 6))\n",
    "data\n",
    "# data.shape\n"
   ]
  },
  {
   "cell_type": "code",
   "execution_count": 9,
   "id": "afd921b6",
   "metadata": {},
   "outputs": [
    {
     "data": {
      "text/plain": [
       "array([[1, 1, 2, 2, 1, 1],\n",
       "       [3, 4, 6, 2, 5, 2],\n",
       "       [4, 6, 6, 5, 5, 4],\n",
       "       [8, 8, 7, 9, 7, 9]], dtype=int32)"
      ]
     },
     "execution_count": 9,
     "metadata": {},
     "output_type": "execute_result"
    }
   ],
   "source": [
    "np.sort(data, axis=0)"
   ]
  },
  {
   "cell_type": "code",
   "execution_count": 10,
   "id": "bd089fe0",
   "metadata": {},
   "outputs": [
    {
     "data": {
      "text/plain": [
       "array([[1, 2, 4, 4, 4, 6],\n",
       "       [1, 5, 7, 8, 9, 9],\n",
       "       [2, 2, 5, 5, 6, 8],\n",
       "       [1, 1, 2, 3, 6, 7]], dtype=int32)"
      ]
     },
     "execution_count": 10,
     "metadata": {},
     "output_type": "execute_result"
    }
   ],
   "source": [
    "np.sort(data, axis=1)"
   ]
  }
 ],
 "metadata": {
  "kernelspec": {
   "display_name": "aip_39",
   "language": "python",
   "name": "python3"
  },
  "language_info": {
   "codemirror_mode": {
    "name": "ipython",
    "version": 3
   },
   "file_extension": ".py",
   "mimetype": "text/x-python",
   "name": "python",
   "nbconvert_exporter": "python",
   "pygments_lexer": "ipython3",
   "version": "3.9.23"
  }
 },
 "nbformat": 4,
 "nbformat_minor": 5
}
